{
  "nbformat": 4,
  "nbformat_minor": 0,
  "metadata": {
    "colab": {
      "provenance": [],
      "authorship_tag": "ABX9TyOyb9dhmDp5A6NW/Ah/idSG",
      "include_colab_link": true
    },
    "kernelspec": {
      "name": "python3",
      "display_name": "Python 3"
    },
    "language_info": {
      "name": "python"
    },
    "widgets": {
      "application/vnd.jupyter.widget-state+json": {
        "82804f55eb4f4292b82a8206ca746b4d": {
          "model_module": "@jupyter-widgets/controls",
          "model_name": "HBoxModel",
          "model_module_version": "1.5.0",
          "state": {
            "_dom_classes": [],
            "_model_module": "@jupyter-widgets/controls",
            "_model_module_version": "1.5.0",
            "_model_name": "HBoxModel",
            "_view_count": null,
            "_view_module": "@jupyter-widgets/controls",
            "_view_module_version": "1.5.0",
            "_view_name": "HBoxView",
            "box_style": "",
            "children": [
              "IPY_MODEL_7bc4aba318f1481da44f219af85ef71b",
              "IPY_MODEL_d796aa69b0804dd681b40bce1c80aeeb",
              "IPY_MODEL_35d9b5b007b6485abe54f62226e097bd"
            ],
            "layout": "IPY_MODEL_e40e4e889f74404b81da3ebc13e70c7c"
          }
        },
        "7bc4aba318f1481da44f219af85ef71b": {
          "model_module": "@jupyter-widgets/controls",
          "model_name": "HTMLModel",
          "model_module_version": "1.5.0",
          "state": {
            "_dom_classes": [],
            "_model_module": "@jupyter-widgets/controls",
            "_model_module_version": "1.5.0",
            "_model_name": "HTMLModel",
            "_view_count": null,
            "_view_module": "@jupyter-widgets/controls",
            "_view_module_version": "1.5.0",
            "_view_name": "HTMLView",
            "description": "",
            "description_tooltip": null,
            "layout": "IPY_MODEL_2479f3085cc9447f83509cb6247e52c5",
            "placeholder": "​",
            "style": "IPY_MODEL_1aa4f80f60794e358ff7396464daae7b",
            "value": "Downloading: 100%"
          }
        },
        "d796aa69b0804dd681b40bce1c80aeeb": {
          "model_module": "@jupyter-widgets/controls",
          "model_name": "FloatProgressModel",
          "model_module_version": "1.5.0",
          "state": {
            "_dom_classes": [],
            "_model_module": "@jupyter-widgets/controls",
            "_model_module_version": "1.5.0",
            "_model_name": "FloatProgressModel",
            "_view_count": null,
            "_view_module": "@jupyter-widgets/controls",
            "_view_module_version": "1.5.0",
            "_view_name": "ProgressView",
            "bar_style": "success",
            "description": "",
            "description_tooltip": null,
            "layout": "IPY_MODEL_fafc52db586b44568eb8e5963bfedace",
            "max": 231508,
            "min": 0,
            "orientation": "horizontal",
            "style": "IPY_MODEL_50f38de9a71a43e3b3b57cc0fc522e4b",
            "value": 231508
          }
        },
        "35d9b5b007b6485abe54f62226e097bd": {
          "model_module": "@jupyter-widgets/controls",
          "model_name": "HTMLModel",
          "model_module_version": "1.5.0",
          "state": {
            "_dom_classes": [],
            "_model_module": "@jupyter-widgets/controls",
            "_model_module_version": "1.5.0",
            "_model_name": "HTMLModel",
            "_view_count": null,
            "_view_module": "@jupyter-widgets/controls",
            "_view_module_version": "1.5.0",
            "_view_name": "HTMLView",
            "description": "",
            "description_tooltip": null,
            "layout": "IPY_MODEL_d250f6c97629437bb6316120273d837c",
            "placeholder": "​",
            "style": "IPY_MODEL_d55a9193fcb7434d95997b5f5bd3bdd2",
            "value": " 232k/232k [00:00&lt;00:00, 5.71MB/s]"
          }
        },
        "e40e4e889f74404b81da3ebc13e70c7c": {
          "model_module": "@jupyter-widgets/base",
          "model_name": "LayoutModel",
          "model_module_version": "1.2.0",
          "state": {
            "_model_module": "@jupyter-widgets/base",
            "_model_module_version": "1.2.0",
            "_model_name": "LayoutModel",
            "_view_count": null,
            "_view_module": "@jupyter-widgets/base",
            "_view_module_version": "1.2.0",
            "_view_name": "LayoutView",
            "align_content": null,
            "align_items": null,
            "align_self": null,
            "border": null,
            "bottom": null,
            "display": null,
            "flex": null,
            "flex_flow": null,
            "grid_area": null,
            "grid_auto_columns": null,
            "grid_auto_flow": null,
            "grid_auto_rows": null,
            "grid_column": null,
            "grid_gap": null,
            "grid_row": null,
            "grid_template_areas": null,
            "grid_template_columns": null,
            "grid_template_rows": null,
            "height": null,
            "justify_content": null,
            "justify_items": null,
            "left": null,
            "margin": null,
            "max_height": null,
            "max_width": null,
            "min_height": null,
            "min_width": null,
            "object_fit": null,
            "object_position": null,
            "order": null,
            "overflow": null,
            "overflow_x": null,
            "overflow_y": null,
            "padding": null,
            "right": null,
            "top": null,
            "visibility": null,
            "width": null
          }
        },
        "2479f3085cc9447f83509cb6247e52c5": {
          "model_module": "@jupyter-widgets/base",
          "model_name": "LayoutModel",
          "model_module_version": "1.2.0",
          "state": {
            "_model_module": "@jupyter-widgets/base",
            "_model_module_version": "1.2.0",
            "_model_name": "LayoutModel",
            "_view_count": null,
            "_view_module": "@jupyter-widgets/base",
            "_view_module_version": "1.2.0",
            "_view_name": "LayoutView",
            "align_content": null,
            "align_items": null,
            "align_self": null,
            "border": null,
            "bottom": null,
            "display": null,
            "flex": null,
            "flex_flow": null,
            "grid_area": null,
            "grid_auto_columns": null,
            "grid_auto_flow": null,
            "grid_auto_rows": null,
            "grid_column": null,
            "grid_gap": null,
            "grid_row": null,
            "grid_template_areas": null,
            "grid_template_columns": null,
            "grid_template_rows": null,
            "height": null,
            "justify_content": null,
            "justify_items": null,
            "left": null,
            "margin": null,
            "max_height": null,
            "max_width": null,
            "min_height": null,
            "min_width": null,
            "object_fit": null,
            "object_position": null,
            "order": null,
            "overflow": null,
            "overflow_x": null,
            "overflow_y": null,
            "padding": null,
            "right": null,
            "top": null,
            "visibility": null,
            "width": null
          }
        },
        "1aa4f80f60794e358ff7396464daae7b": {
          "model_module": "@jupyter-widgets/controls",
          "model_name": "DescriptionStyleModel",
          "model_module_version": "1.5.0",
          "state": {
            "_model_module": "@jupyter-widgets/controls",
            "_model_module_version": "1.5.0",
            "_model_name": "DescriptionStyleModel",
            "_view_count": null,
            "_view_module": "@jupyter-widgets/base",
            "_view_module_version": "1.2.0",
            "_view_name": "StyleView",
            "description_width": ""
          }
        },
        "fafc52db586b44568eb8e5963bfedace": {
          "model_module": "@jupyter-widgets/base",
          "model_name": "LayoutModel",
          "model_module_version": "1.2.0",
          "state": {
            "_model_module": "@jupyter-widgets/base",
            "_model_module_version": "1.2.0",
            "_model_name": "LayoutModel",
            "_view_count": null,
            "_view_module": "@jupyter-widgets/base",
            "_view_module_version": "1.2.0",
            "_view_name": "LayoutView",
            "align_content": null,
            "align_items": null,
            "align_self": null,
            "border": null,
            "bottom": null,
            "display": null,
            "flex": null,
            "flex_flow": null,
            "grid_area": null,
            "grid_auto_columns": null,
            "grid_auto_flow": null,
            "grid_auto_rows": null,
            "grid_column": null,
            "grid_gap": null,
            "grid_row": null,
            "grid_template_areas": null,
            "grid_template_columns": null,
            "grid_template_rows": null,
            "height": null,
            "justify_content": null,
            "justify_items": null,
            "left": null,
            "margin": null,
            "max_height": null,
            "max_width": null,
            "min_height": null,
            "min_width": null,
            "object_fit": null,
            "object_position": null,
            "order": null,
            "overflow": null,
            "overflow_x": null,
            "overflow_y": null,
            "padding": null,
            "right": null,
            "top": null,
            "visibility": null,
            "width": null
          }
        },
        "50f38de9a71a43e3b3b57cc0fc522e4b": {
          "model_module": "@jupyter-widgets/controls",
          "model_name": "ProgressStyleModel",
          "model_module_version": "1.5.0",
          "state": {
            "_model_module": "@jupyter-widgets/controls",
            "_model_module_version": "1.5.0",
            "_model_name": "ProgressStyleModel",
            "_view_count": null,
            "_view_module": "@jupyter-widgets/base",
            "_view_module_version": "1.2.0",
            "_view_name": "StyleView",
            "bar_color": null,
            "description_width": ""
          }
        },
        "d250f6c97629437bb6316120273d837c": {
          "model_module": "@jupyter-widgets/base",
          "model_name": "LayoutModel",
          "model_module_version": "1.2.0",
          "state": {
            "_model_module": "@jupyter-widgets/base",
            "_model_module_version": "1.2.0",
            "_model_name": "LayoutModel",
            "_view_count": null,
            "_view_module": "@jupyter-widgets/base",
            "_view_module_version": "1.2.0",
            "_view_name": "LayoutView",
            "align_content": null,
            "align_items": null,
            "align_self": null,
            "border": null,
            "bottom": null,
            "display": null,
            "flex": null,
            "flex_flow": null,
            "grid_area": null,
            "grid_auto_columns": null,
            "grid_auto_flow": null,
            "grid_auto_rows": null,
            "grid_column": null,
            "grid_gap": null,
            "grid_row": null,
            "grid_template_areas": null,
            "grid_template_columns": null,
            "grid_template_rows": null,
            "height": null,
            "justify_content": null,
            "justify_items": null,
            "left": null,
            "margin": null,
            "max_height": null,
            "max_width": null,
            "min_height": null,
            "min_width": null,
            "object_fit": null,
            "object_position": null,
            "order": null,
            "overflow": null,
            "overflow_x": null,
            "overflow_y": null,
            "padding": null,
            "right": null,
            "top": null,
            "visibility": null,
            "width": null
          }
        },
        "d55a9193fcb7434d95997b5f5bd3bdd2": {
          "model_module": "@jupyter-widgets/controls",
          "model_name": "DescriptionStyleModel",
          "model_module_version": "1.5.0",
          "state": {
            "_model_module": "@jupyter-widgets/controls",
            "_model_module_version": "1.5.0",
            "_model_name": "DescriptionStyleModel",
            "_view_count": null,
            "_view_module": "@jupyter-widgets/base",
            "_view_module_version": "1.2.0",
            "_view_name": "StyleView",
            "description_width": ""
          }
        },
        "0d4d49ef14d4434e8c02927b7868eb0b": {
          "model_module": "@jupyter-widgets/controls",
          "model_name": "HBoxModel",
          "model_module_version": "1.5.0",
          "state": {
            "_dom_classes": [],
            "_model_module": "@jupyter-widgets/controls",
            "_model_module_version": "1.5.0",
            "_model_name": "HBoxModel",
            "_view_count": null,
            "_view_module": "@jupyter-widgets/controls",
            "_view_module_version": "1.5.0",
            "_view_name": "HBoxView",
            "box_style": "",
            "children": [
              "IPY_MODEL_af53fe66c5b543199a2c12589f5521e9",
              "IPY_MODEL_c3eff27a91e042c990737b6fbdec157f",
              "IPY_MODEL_92cfe677637543b98858bcf82a211491"
            ],
            "layout": "IPY_MODEL_70643884a0f4479f81ac754b9cafa434"
          }
        },
        "af53fe66c5b543199a2c12589f5521e9": {
          "model_module": "@jupyter-widgets/controls",
          "model_name": "HTMLModel",
          "model_module_version": "1.5.0",
          "state": {
            "_dom_classes": [],
            "_model_module": "@jupyter-widgets/controls",
            "_model_module_version": "1.5.0",
            "_model_name": "HTMLModel",
            "_view_count": null,
            "_view_module": "@jupyter-widgets/controls",
            "_view_module_version": "1.5.0",
            "_view_name": "HTMLView",
            "description": "",
            "description_tooltip": null,
            "layout": "IPY_MODEL_ebefbeb4c03a4f49b87f8152a0261f79",
            "placeholder": "​",
            "style": "IPY_MODEL_0470b688d86e4fb8aac0bc8dee7e0a15",
            "value": "Downloading: 100%"
          }
        },
        "c3eff27a91e042c990737b6fbdec157f": {
          "model_module": "@jupyter-widgets/controls",
          "model_name": "FloatProgressModel",
          "model_module_version": "1.5.0",
          "state": {
            "_dom_classes": [],
            "_model_module": "@jupyter-widgets/controls",
            "_model_module_version": "1.5.0",
            "_model_name": "FloatProgressModel",
            "_view_count": null,
            "_view_module": "@jupyter-widgets/controls",
            "_view_module_version": "1.5.0",
            "_view_name": "ProgressView",
            "bar_style": "success",
            "description": "",
            "description_tooltip": null,
            "layout": "IPY_MODEL_2fcbbc9bd6164a9684a81882011804a7",
            "max": 28,
            "min": 0,
            "orientation": "horizontal",
            "style": "IPY_MODEL_ce2a8a3d1f164869b7c7b57d28e93bde",
            "value": 28
          }
        },
        "92cfe677637543b98858bcf82a211491": {
          "model_module": "@jupyter-widgets/controls",
          "model_name": "HTMLModel",
          "model_module_version": "1.5.0",
          "state": {
            "_dom_classes": [],
            "_model_module": "@jupyter-widgets/controls",
            "_model_module_version": "1.5.0",
            "_model_name": "HTMLModel",
            "_view_count": null,
            "_view_module": "@jupyter-widgets/controls",
            "_view_module_version": "1.5.0",
            "_view_name": "HTMLView",
            "description": "",
            "description_tooltip": null,
            "layout": "IPY_MODEL_4b418362e45640cd940f4623bbe3a689",
            "placeholder": "​",
            "style": "IPY_MODEL_1be8905d0ab94af89963ecf89e10fd51",
            "value": " 28.0/28.0 [00:00&lt;00:00, 1.21kB/s]"
          }
        },
        "70643884a0f4479f81ac754b9cafa434": {
          "model_module": "@jupyter-widgets/base",
          "model_name": "LayoutModel",
          "model_module_version": "1.2.0",
          "state": {
            "_model_module": "@jupyter-widgets/base",
            "_model_module_version": "1.2.0",
            "_model_name": "LayoutModel",
            "_view_count": null,
            "_view_module": "@jupyter-widgets/base",
            "_view_module_version": "1.2.0",
            "_view_name": "LayoutView",
            "align_content": null,
            "align_items": null,
            "align_self": null,
            "border": null,
            "bottom": null,
            "display": null,
            "flex": null,
            "flex_flow": null,
            "grid_area": null,
            "grid_auto_columns": null,
            "grid_auto_flow": null,
            "grid_auto_rows": null,
            "grid_column": null,
            "grid_gap": null,
            "grid_row": null,
            "grid_template_areas": null,
            "grid_template_columns": null,
            "grid_template_rows": null,
            "height": null,
            "justify_content": null,
            "justify_items": null,
            "left": null,
            "margin": null,
            "max_height": null,
            "max_width": null,
            "min_height": null,
            "min_width": null,
            "object_fit": null,
            "object_position": null,
            "order": null,
            "overflow": null,
            "overflow_x": null,
            "overflow_y": null,
            "padding": null,
            "right": null,
            "top": null,
            "visibility": null,
            "width": null
          }
        },
        "ebefbeb4c03a4f49b87f8152a0261f79": {
          "model_module": "@jupyter-widgets/base",
          "model_name": "LayoutModel",
          "model_module_version": "1.2.0",
          "state": {
            "_model_module": "@jupyter-widgets/base",
            "_model_module_version": "1.2.0",
            "_model_name": "LayoutModel",
            "_view_count": null,
            "_view_module": "@jupyter-widgets/base",
            "_view_module_version": "1.2.0",
            "_view_name": "LayoutView",
            "align_content": null,
            "align_items": null,
            "align_self": null,
            "border": null,
            "bottom": null,
            "display": null,
            "flex": null,
            "flex_flow": null,
            "grid_area": null,
            "grid_auto_columns": null,
            "grid_auto_flow": null,
            "grid_auto_rows": null,
            "grid_column": null,
            "grid_gap": null,
            "grid_row": null,
            "grid_template_areas": null,
            "grid_template_columns": null,
            "grid_template_rows": null,
            "height": null,
            "justify_content": null,
            "justify_items": null,
            "left": null,
            "margin": null,
            "max_height": null,
            "max_width": null,
            "min_height": null,
            "min_width": null,
            "object_fit": null,
            "object_position": null,
            "order": null,
            "overflow": null,
            "overflow_x": null,
            "overflow_y": null,
            "padding": null,
            "right": null,
            "top": null,
            "visibility": null,
            "width": null
          }
        },
        "0470b688d86e4fb8aac0bc8dee7e0a15": {
          "model_module": "@jupyter-widgets/controls",
          "model_name": "DescriptionStyleModel",
          "model_module_version": "1.5.0",
          "state": {
            "_model_module": "@jupyter-widgets/controls",
            "_model_module_version": "1.5.0",
            "_model_name": "DescriptionStyleModel",
            "_view_count": null,
            "_view_module": "@jupyter-widgets/base",
            "_view_module_version": "1.2.0",
            "_view_name": "StyleView",
            "description_width": ""
          }
        },
        "2fcbbc9bd6164a9684a81882011804a7": {
          "model_module": "@jupyter-widgets/base",
          "model_name": "LayoutModel",
          "model_module_version": "1.2.0",
          "state": {
            "_model_module": "@jupyter-widgets/base",
            "_model_module_version": "1.2.0",
            "_model_name": "LayoutModel",
            "_view_count": null,
            "_view_module": "@jupyter-widgets/base",
            "_view_module_version": "1.2.0",
            "_view_name": "LayoutView",
            "align_content": null,
            "align_items": null,
            "align_self": null,
            "border": null,
            "bottom": null,
            "display": null,
            "flex": null,
            "flex_flow": null,
            "grid_area": null,
            "grid_auto_columns": null,
            "grid_auto_flow": null,
            "grid_auto_rows": null,
            "grid_column": null,
            "grid_gap": null,
            "grid_row": null,
            "grid_template_areas": null,
            "grid_template_columns": null,
            "grid_template_rows": null,
            "height": null,
            "justify_content": null,
            "justify_items": null,
            "left": null,
            "margin": null,
            "max_height": null,
            "max_width": null,
            "min_height": null,
            "min_width": null,
            "object_fit": null,
            "object_position": null,
            "order": null,
            "overflow": null,
            "overflow_x": null,
            "overflow_y": null,
            "padding": null,
            "right": null,
            "top": null,
            "visibility": null,
            "width": null
          }
        },
        "ce2a8a3d1f164869b7c7b57d28e93bde": {
          "model_module": "@jupyter-widgets/controls",
          "model_name": "ProgressStyleModel",
          "model_module_version": "1.5.0",
          "state": {
            "_model_module": "@jupyter-widgets/controls",
            "_model_module_version": "1.5.0",
            "_model_name": "ProgressStyleModel",
            "_view_count": null,
            "_view_module": "@jupyter-widgets/base",
            "_view_module_version": "1.2.0",
            "_view_name": "StyleView",
            "bar_color": null,
            "description_width": ""
          }
        },
        "4b418362e45640cd940f4623bbe3a689": {
          "model_module": "@jupyter-widgets/base",
          "model_name": "LayoutModel",
          "model_module_version": "1.2.0",
          "state": {
            "_model_module": "@jupyter-widgets/base",
            "_model_module_version": "1.2.0",
            "_model_name": "LayoutModel",
            "_view_count": null,
            "_view_module": "@jupyter-widgets/base",
            "_view_module_version": "1.2.0",
            "_view_name": "LayoutView",
            "align_content": null,
            "align_items": null,
            "align_self": null,
            "border": null,
            "bottom": null,
            "display": null,
            "flex": null,
            "flex_flow": null,
            "grid_area": null,
            "grid_auto_columns": null,
            "grid_auto_flow": null,
            "grid_auto_rows": null,
            "grid_column": null,
            "grid_gap": null,
            "grid_row": null,
            "grid_template_areas": null,
            "grid_template_columns": null,
            "grid_template_rows": null,
            "height": null,
            "justify_content": null,
            "justify_items": null,
            "left": null,
            "margin": null,
            "max_height": null,
            "max_width": null,
            "min_height": null,
            "min_width": null,
            "object_fit": null,
            "object_position": null,
            "order": null,
            "overflow": null,
            "overflow_x": null,
            "overflow_y": null,
            "padding": null,
            "right": null,
            "top": null,
            "visibility": null,
            "width": null
          }
        },
        "1be8905d0ab94af89963ecf89e10fd51": {
          "model_module": "@jupyter-widgets/controls",
          "model_name": "DescriptionStyleModel",
          "model_module_version": "1.5.0",
          "state": {
            "_model_module": "@jupyter-widgets/controls",
            "_model_module_version": "1.5.0",
            "_model_name": "DescriptionStyleModel",
            "_view_count": null,
            "_view_module": "@jupyter-widgets/base",
            "_view_module_version": "1.2.0",
            "_view_name": "StyleView",
            "description_width": ""
          }
        },
        "e6366f9aa00c45debe7358efb19ae41b": {
          "model_module": "@jupyter-widgets/controls",
          "model_name": "HBoxModel",
          "model_module_version": "1.5.0",
          "state": {
            "_dom_classes": [],
            "_model_module": "@jupyter-widgets/controls",
            "_model_module_version": "1.5.0",
            "_model_name": "HBoxModel",
            "_view_count": null,
            "_view_module": "@jupyter-widgets/controls",
            "_view_module_version": "1.5.0",
            "_view_name": "HBoxView",
            "box_style": "",
            "children": [
              "IPY_MODEL_789932586444463ba4b5d96ca1859869",
              "IPY_MODEL_2e01a5092c1048ed9607cf4142a056c9",
              "IPY_MODEL_7fa315ac75d84afb9ec4dc1ed18fb662"
            ],
            "layout": "IPY_MODEL_d68899d20491499785194358f20016f4"
          }
        },
        "789932586444463ba4b5d96ca1859869": {
          "model_module": "@jupyter-widgets/controls",
          "model_name": "HTMLModel",
          "model_module_version": "1.5.0",
          "state": {
            "_dom_classes": [],
            "_model_module": "@jupyter-widgets/controls",
            "_model_module_version": "1.5.0",
            "_model_name": "HTMLModel",
            "_view_count": null,
            "_view_module": "@jupyter-widgets/controls",
            "_view_module_version": "1.5.0",
            "_view_name": "HTMLView",
            "description": "",
            "description_tooltip": null,
            "layout": "IPY_MODEL_65f1798bfa2a4d4280c87b38277c3ddb",
            "placeholder": "​",
            "style": "IPY_MODEL_329a56fb70c245b9b476b5fcce6a42f3",
            "value": "Downloading: 100%"
          }
        },
        "2e01a5092c1048ed9607cf4142a056c9": {
          "model_module": "@jupyter-widgets/controls",
          "model_name": "FloatProgressModel",
          "model_module_version": "1.5.0",
          "state": {
            "_dom_classes": [],
            "_model_module": "@jupyter-widgets/controls",
            "_model_module_version": "1.5.0",
            "_model_name": "FloatProgressModel",
            "_view_count": null,
            "_view_module": "@jupyter-widgets/controls",
            "_view_module_version": "1.5.0",
            "_view_name": "ProgressView",
            "bar_style": "success",
            "description": "",
            "description_tooltip": null,
            "layout": "IPY_MODEL_92a28d41a3dd4c6b90b3d29cf5e42d2c",
            "max": 570,
            "min": 0,
            "orientation": "horizontal",
            "style": "IPY_MODEL_27f0a6251e5040dcb559444b414c57bd",
            "value": 570
          }
        },
        "7fa315ac75d84afb9ec4dc1ed18fb662": {
          "model_module": "@jupyter-widgets/controls",
          "model_name": "HTMLModel",
          "model_module_version": "1.5.0",
          "state": {
            "_dom_classes": [],
            "_model_module": "@jupyter-widgets/controls",
            "_model_module_version": "1.5.0",
            "_model_name": "HTMLModel",
            "_view_count": null,
            "_view_module": "@jupyter-widgets/controls",
            "_view_module_version": "1.5.0",
            "_view_name": "HTMLView",
            "description": "",
            "description_tooltip": null,
            "layout": "IPY_MODEL_aea6cdd3c1d44f1f94031cea49e5e1bf",
            "placeholder": "​",
            "style": "IPY_MODEL_5b14685ed06f4192873692a78a003777",
            "value": " 570/570 [00:00&lt;00:00, 30.8kB/s]"
          }
        },
        "d68899d20491499785194358f20016f4": {
          "model_module": "@jupyter-widgets/base",
          "model_name": "LayoutModel",
          "model_module_version": "1.2.0",
          "state": {
            "_model_module": "@jupyter-widgets/base",
            "_model_module_version": "1.2.0",
            "_model_name": "LayoutModel",
            "_view_count": null,
            "_view_module": "@jupyter-widgets/base",
            "_view_module_version": "1.2.0",
            "_view_name": "LayoutView",
            "align_content": null,
            "align_items": null,
            "align_self": null,
            "border": null,
            "bottom": null,
            "display": null,
            "flex": null,
            "flex_flow": null,
            "grid_area": null,
            "grid_auto_columns": null,
            "grid_auto_flow": null,
            "grid_auto_rows": null,
            "grid_column": null,
            "grid_gap": null,
            "grid_row": null,
            "grid_template_areas": null,
            "grid_template_columns": null,
            "grid_template_rows": null,
            "height": null,
            "justify_content": null,
            "justify_items": null,
            "left": null,
            "margin": null,
            "max_height": null,
            "max_width": null,
            "min_height": null,
            "min_width": null,
            "object_fit": null,
            "object_position": null,
            "order": null,
            "overflow": null,
            "overflow_x": null,
            "overflow_y": null,
            "padding": null,
            "right": null,
            "top": null,
            "visibility": null,
            "width": null
          }
        },
        "65f1798bfa2a4d4280c87b38277c3ddb": {
          "model_module": "@jupyter-widgets/base",
          "model_name": "LayoutModel",
          "model_module_version": "1.2.0",
          "state": {
            "_model_module": "@jupyter-widgets/base",
            "_model_module_version": "1.2.0",
            "_model_name": "LayoutModel",
            "_view_count": null,
            "_view_module": "@jupyter-widgets/base",
            "_view_module_version": "1.2.0",
            "_view_name": "LayoutView",
            "align_content": null,
            "align_items": null,
            "align_self": null,
            "border": null,
            "bottom": null,
            "display": null,
            "flex": null,
            "flex_flow": null,
            "grid_area": null,
            "grid_auto_columns": null,
            "grid_auto_flow": null,
            "grid_auto_rows": null,
            "grid_column": null,
            "grid_gap": null,
            "grid_row": null,
            "grid_template_areas": null,
            "grid_template_columns": null,
            "grid_template_rows": null,
            "height": null,
            "justify_content": null,
            "justify_items": null,
            "left": null,
            "margin": null,
            "max_height": null,
            "max_width": null,
            "min_height": null,
            "min_width": null,
            "object_fit": null,
            "object_position": null,
            "order": null,
            "overflow": null,
            "overflow_x": null,
            "overflow_y": null,
            "padding": null,
            "right": null,
            "top": null,
            "visibility": null,
            "width": null
          }
        },
        "329a56fb70c245b9b476b5fcce6a42f3": {
          "model_module": "@jupyter-widgets/controls",
          "model_name": "DescriptionStyleModel",
          "model_module_version": "1.5.0",
          "state": {
            "_model_module": "@jupyter-widgets/controls",
            "_model_module_version": "1.5.0",
            "_model_name": "DescriptionStyleModel",
            "_view_count": null,
            "_view_module": "@jupyter-widgets/base",
            "_view_module_version": "1.2.0",
            "_view_name": "StyleView",
            "description_width": ""
          }
        },
        "92a28d41a3dd4c6b90b3d29cf5e42d2c": {
          "model_module": "@jupyter-widgets/base",
          "model_name": "LayoutModel",
          "model_module_version": "1.2.0",
          "state": {
            "_model_module": "@jupyter-widgets/base",
            "_model_module_version": "1.2.0",
            "_model_name": "LayoutModel",
            "_view_count": null,
            "_view_module": "@jupyter-widgets/base",
            "_view_module_version": "1.2.0",
            "_view_name": "LayoutView",
            "align_content": null,
            "align_items": null,
            "align_self": null,
            "border": null,
            "bottom": null,
            "display": null,
            "flex": null,
            "flex_flow": null,
            "grid_area": null,
            "grid_auto_columns": null,
            "grid_auto_flow": null,
            "grid_auto_rows": null,
            "grid_column": null,
            "grid_gap": null,
            "grid_row": null,
            "grid_template_areas": null,
            "grid_template_columns": null,
            "grid_template_rows": null,
            "height": null,
            "justify_content": null,
            "justify_items": null,
            "left": null,
            "margin": null,
            "max_height": null,
            "max_width": null,
            "min_height": null,
            "min_width": null,
            "object_fit": null,
            "object_position": null,
            "order": null,
            "overflow": null,
            "overflow_x": null,
            "overflow_y": null,
            "padding": null,
            "right": null,
            "top": null,
            "visibility": null,
            "width": null
          }
        },
        "27f0a6251e5040dcb559444b414c57bd": {
          "model_module": "@jupyter-widgets/controls",
          "model_name": "ProgressStyleModel",
          "model_module_version": "1.5.0",
          "state": {
            "_model_module": "@jupyter-widgets/controls",
            "_model_module_version": "1.5.0",
            "_model_name": "ProgressStyleModel",
            "_view_count": null,
            "_view_module": "@jupyter-widgets/base",
            "_view_module_version": "1.2.0",
            "_view_name": "StyleView",
            "bar_color": null,
            "description_width": ""
          }
        },
        "aea6cdd3c1d44f1f94031cea49e5e1bf": {
          "model_module": "@jupyter-widgets/base",
          "model_name": "LayoutModel",
          "model_module_version": "1.2.0",
          "state": {
            "_model_module": "@jupyter-widgets/base",
            "_model_module_version": "1.2.0",
            "_model_name": "LayoutModel",
            "_view_count": null,
            "_view_module": "@jupyter-widgets/base",
            "_view_module_version": "1.2.0",
            "_view_name": "LayoutView",
            "align_content": null,
            "align_items": null,
            "align_self": null,
            "border": null,
            "bottom": null,
            "display": null,
            "flex": null,
            "flex_flow": null,
            "grid_area": null,
            "grid_auto_columns": null,
            "grid_auto_flow": null,
            "grid_auto_rows": null,
            "grid_column": null,
            "grid_gap": null,
            "grid_row": null,
            "grid_template_areas": null,
            "grid_template_columns": null,
            "grid_template_rows": null,
            "height": null,
            "justify_content": null,
            "justify_items": null,
            "left": null,
            "margin": null,
            "max_height": null,
            "max_width": null,
            "min_height": null,
            "min_width": null,
            "object_fit": null,
            "object_position": null,
            "order": null,
            "overflow": null,
            "overflow_x": null,
            "overflow_y": null,
            "padding": null,
            "right": null,
            "top": null,
            "visibility": null,
            "width": null
          }
        },
        "5b14685ed06f4192873692a78a003777": {
          "model_module": "@jupyter-widgets/controls",
          "model_name": "DescriptionStyleModel",
          "model_module_version": "1.5.0",
          "state": {
            "_model_module": "@jupyter-widgets/controls",
            "_model_module_version": "1.5.0",
            "_model_name": "DescriptionStyleModel",
            "_view_count": null,
            "_view_module": "@jupyter-widgets/base",
            "_view_module_version": "1.2.0",
            "_view_name": "StyleView",
            "description_width": ""
          }
        },
        "d10ed3d6ce7742bf82456de8926c11ad": {
          "model_module": "@jupyter-widgets/controls",
          "model_name": "HBoxModel",
          "model_module_version": "1.5.0",
          "state": {
            "_dom_classes": [],
            "_model_module": "@jupyter-widgets/controls",
            "_model_module_version": "1.5.0",
            "_model_name": "HBoxModel",
            "_view_count": null,
            "_view_module": "@jupyter-widgets/controls",
            "_view_module_version": "1.5.0",
            "_view_name": "HBoxView",
            "box_style": "",
            "children": [
              "IPY_MODEL_000849ca839445ff95c5ad41e42841cc",
              "IPY_MODEL_116a38ee8ed04401a3b14e1d3f6a725c",
              "IPY_MODEL_6768f26935d746ed96f7e831c2c80e6a"
            ],
            "layout": "IPY_MODEL_0b3bd0edb2ea416ab732349ea26117b0"
          }
        },
        "000849ca839445ff95c5ad41e42841cc": {
          "model_module": "@jupyter-widgets/controls",
          "model_name": "HTMLModel",
          "model_module_version": "1.5.0",
          "state": {
            "_dom_classes": [],
            "_model_module": "@jupyter-widgets/controls",
            "_model_module_version": "1.5.0",
            "_model_name": "HTMLModel",
            "_view_count": null,
            "_view_module": "@jupyter-widgets/controls",
            "_view_module_version": "1.5.0",
            "_view_name": "HTMLView",
            "description": "",
            "description_tooltip": null,
            "layout": "IPY_MODEL_881cfdc2a2d344658bfdff6da337d3f1",
            "placeholder": "​",
            "style": "IPY_MODEL_3311c77410fa452b842a42e94750cdbc",
            "value": "Downloading: 100%"
          }
        },
        "116a38ee8ed04401a3b14e1d3f6a725c": {
          "model_module": "@jupyter-widgets/controls",
          "model_name": "FloatProgressModel",
          "model_module_version": "1.5.0",
          "state": {
            "_dom_classes": [],
            "_model_module": "@jupyter-widgets/controls",
            "_model_module_version": "1.5.0",
            "_model_name": "FloatProgressModel",
            "_view_count": null,
            "_view_module": "@jupyter-widgets/controls",
            "_view_module_version": "1.5.0",
            "_view_name": "ProgressView",
            "bar_style": "success",
            "description": "",
            "description_tooltip": null,
            "layout": "IPY_MODEL_d6f19fcb433c4d94bd09721f4c50a1fa",
            "max": 533,
            "min": 0,
            "orientation": "horizontal",
            "style": "IPY_MODEL_4803ca1687d4454ba5fc6eb30eb540cb",
            "value": 533
          }
        },
        "6768f26935d746ed96f7e831c2c80e6a": {
          "model_module": "@jupyter-widgets/controls",
          "model_name": "HTMLModel",
          "model_module_version": "1.5.0",
          "state": {
            "_dom_classes": [],
            "_model_module": "@jupyter-widgets/controls",
            "_model_module_version": "1.5.0",
            "_model_name": "HTMLModel",
            "_view_count": null,
            "_view_module": "@jupyter-widgets/controls",
            "_view_module_version": "1.5.0",
            "_view_name": "HTMLView",
            "description": "",
            "description_tooltip": null,
            "layout": "IPY_MODEL_13f77f2e4f674aad9029aa1a61801ccf",
            "placeholder": "​",
            "style": "IPY_MODEL_9da721d7046c4f14859f9363a7d821c5",
            "value": " 533/533 [00:00&lt;00:00, 5.95kB/s]"
          }
        },
        "0b3bd0edb2ea416ab732349ea26117b0": {
          "model_module": "@jupyter-widgets/base",
          "model_name": "LayoutModel",
          "model_module_version": "1.2.0",
          "state": {
            "_model_module": "@jupyter-widgets/base",
            "_model_module_version": "1.2.0",
            "_model_name": "LayoutModel",
            "_view_count": null,
            "_view_module": "@jupyter-widgets/base",
            "_view_module_version": "1.2.0",
            "_view_name": "LayoutView",
            "align_content": null,
            "align_items": null,
            "align_self": null,
            "border": null,
            "bottom": null,
            "display": null,
            "flex": null,
            "flex_flow": null,
            "grid_area": null,
            "grid_auto_columns": null,
            "grid_auto_flow": null,
            "grid_auto_rows": null,
            "grid_column": null,
            "grid_gap": null,
            "grid_row": null,
            "grid_template_areas": null,
            "grid_template_columns": null,
            "grid_template_rows": null,
            "height": null,
            "justify_content": null,
            "justify_items": null,
            "left": null,
            "margin": null,
            "max_height": null,
            "max_width": null,
            "min_height": null,
            "min_width": null,
            "object_fit": null,
            "object_position": null,
            "order": null,
            "overflow": null,
            "overflow_x": null,
            "overflow_y": null,
            "padding": null,
            "right": null,
            "top": null,
            "visibility": null,
            "width": null
          }
        },
        "881cfdc2a2d344658bfdff6da337d3f1": {
          "model_module": "@jupyter-widgets/base",
          "model_name": "LayoutModel",
          "model_module_version": "1.2.0",
          "state": {
            "_model_module": "@jupyter-widgets/base",
            "_model_module_version": "1.2.0",
            "_model_name": "LayoutModel",
            "_view_count": null,
            "_view_module": "@jupyter-widgets/base",
            "_view_module_version": "1.2.0",
            "_view_name": "LayoutView",
            "align_content": null,
            "align_items": null,
            "align_self": null,
            "border": null,
            "bottom": null,
            "display": null,
            "flex": null,
            "flex_flow": null,
            "grid_area": null,
            "grid_auto_columns": null,
            "grid_auto_flow": null,
            "grid_auto_rows": null,
            "grid_column": null,
            "grid_gap": null,
            "grid_row": null,
            "grid_template_areas": null,
            "grid_template_columns": null,
            "grid_template_rows": null,
            "height": null,
            "justify_content": null,
            "justify_items": null,
            "left": null,
            "margin": null,
            "max_height": null,
            "max_width": null,
            "min_height": null,
            "min_width": null,
            "object_fit": null,
            "object_position": null,
            "order": null,
            "overflow": null,
            "overflow_x": null,
            "overflow_y": null,
            "padding": null,
            "right": null,
            "top": null,
            "visibility": null,
            "width": null
          }
        },
        "3311c77410fa452b842a42e94750cdbc": {
          "model_module": "@jupyter-widgets/controls",
          "model_name": "DescriptionStyleModel",
          "model_module_version": "1.5.0",
          "state": {
            "_model_module": "@jupyter-widgets/controls",
            "_model_module_version": "1.5.0",
            "_model_name": "DescriptionStyleModel",
            "_view_count": null,
            "_view_module": "@jupyter-widgets/base",
            "_view_module_version": "1.2.0",
            "_view_name": "StyleView",
            "description_width": ""
          }
        },
        "d6f19fcb433c4d94bd09721f4c50a1fa": {
          "model_module": "@jupyter-widgets/base",
          "model_name": "LayoutModel",
          "model_module_version": "1.2.0",
          "state": {
            "_model_module": "@jupyter-widgets/base",
            "_model_module_version": "1.2.0",
            "_model_name": "LayoutModel",
            "_view_count": null,
            "_view_module": "@jupyter-widgets/base",
            "_view_module_version": "1.2.0",
            "_view_name": "LayoutView",
            "align_content": null,
            "align_items": null,
            "align_self": null,
            "border": null,
            "bottom": null,
            "display": null,
            "flex": null,
            "flex_flow": null,
            "grid_area": null,
            "grid_auto_columns": null,
            "grid_auto_flow": null,
            "grid_auto_rows": null,
            "grid_column": null,
            "grid_gap": null,
            "grid_row": null,
            "grid_template_areas": null,
            "grid_template_columns": null,
            "grid_template_rows": null,
            "height": null,
            "justify_content": null,
            "justify_items": null,
            "left": null,
            "margin": null,
            "max_height": null,
            "max_width": null,
            "min_height": null,
            "min_width": null,
            "object_fit": null,
            "object_position": null,
            "order": null,
            "overflow": null,
            "overflow_x": null,
            "overflow_y": null,
            "padding": null,
            "right": null,
            "top": null,
            "visibility": null,
            "width": null
          }
        },
        "4803ca1687d4454ba5fc6eb30eb540cb": {
          "model_module": "@jupyter-widgets/controls",
          "model_name": "ProgressStyleModel",
          "model_module_version": "1.5.0",
          "state": {
            "_model_module": "@jupyter-widgets/controls",
            "_model_module_version": "1.5.0",
            "_model_name": "ProgressStyleModel",
            "_view_count": null,
            "_view_module": "@jupyter-widgets/base",
            "_view_module_version": "1.2.0",
            "_view_name": "StyleView",
            "bar_color": null,
            "description_width": ""
          }
        },
        "13f77f2e4f674aad9029aa1a61801ccf": {
          "model_module": "@jupyter-widgets/base",
          "model_name": "LayoutModel",
          "model_module_version": "1.2.0",
          "state": {
            "_model_module": "@jupyter-widgets/base",
            "_model_module_version": "1.2.0",
            "_model_name": "LayoutModel",
            "_view_count": null,
            "_view_module": "@jupyter-widgets/base",
            "_view_module_version": "1.2.0",
            "_view_name": "LayoutView",
            "align_content": null,
            "align_items": null,
            "align_self": null,
            "border": null,
            "bottom": null,
            "display": null,
            "flex": null,
            "flex_flow": null,
            "grid_area": null,
            "grid_auto_columns": null,
            "grid_auto_flow": null,
            "grid_auto_rows": null,
            "grid_column": null,
            "grid_gap": null,
            "grid_row": null,
            "grid_template_areas": null,
            "grid_template_columns": null,
            "grid_template_rows": null,
            "height": null,
            "justify_content": null,
            "justify_items": null,
            "left": null,
            "margin": null,
            "max_height": null,
            "max_width": null,
            "min_height": null,
            "min_width": null,
            "object_fit": null,
            "object_position": null,
            "order": null,
            "overflow": null,
            "overflow_x": null,
            "overflow_y": null,
            "padding": null,
            "right": null,
            "top": null,
            "visibility": null,
            "width": null
          }
        },
        "9da721d7046c4f14859f9363a7d821c5": {
          "model_module": "@jupyter-widgets/controls",
          "model_name": "DescriptionStyleModel",
          "model_module_version": "1.5.0",
          "state": {
            "_model_module": "@jupyter-widgets/controls",
            "_model_module_version": "1.5.0",
            "_model_name": "DescriptionStyleModel",
            "_view_count": null,
            "_view_module": "@jupyter-widgets/base",
            "_view_module_version": "1.2.0",
            "_view_name": "StyleView",
            "description_width": ""
          }
        },
        "f4788130dbd2437d9d09370775c3379c": {
          "model_module": "@jupyter-widgets/controls",
          "model_name": "HBoxModel",
          "model_module_version": "1.5.0",
          "state": {
            "_dom_classes": [],
            "_model_module": "@jupyter-widgets/controls",
            "_model_module_version": "1.5.0",
            "_model_name": "HBoxModel",
            "_view_count": null,
            "_view_module": "@jupyter-widgets/controls",
            "_view_module_version": "1.5.0",
            "_view_name": "HBoxView",
            "box_style": "",
            "children": [
              "IPY_MODEL_50e4ddd6ae644e9aa5bbdf08c4650789",
              "IPY_MODEL_7b21bf1ce21a41ceb64cfbb9b50571a6",
              "IPY_MODEL_59254349cf614318ab771fd78992736f"
            ],
            "layout": "IPY_MODEL_b333b96f847f418ab8982fc1686263ce"
          }
        },
        "50e4ddd6ae644e9aa5bbdf08c4650789": {
          "model_module": "@jupyter-widgets/controls",
          "model_name": "HTMLModel",
          "model_module_version": "1.5.0",
          "state": {
            "_dom_classes": [],
            "_model_module": "@jupyter-widgets/controls",
            "_model_module_version": "1.5.0",
            "_model_name": "HTMLModel",
            "_view_count": null,
            "_view_module": "@jupyter-widgets/controls",
            "_view_module_version": "1.5.0",
            "_view_name": "HTMLView",
            "description": "",
            "description_tooltip": null,
            "layout": "IPY_MODEL_5731720fb9b744dcb916166163a07b91",
            "placeholder": "​",
            "style": "IPY_MODEL_d93197ab10044a66a7d00b7f1bf720f2",
            "value": "Downloading: 100%"
          }
        },
        "7b21bf1ce21a41ceb64cfbb9b50571a6": {
          "model_module": "@jupyter-widgets/controls",
          "model_name": "FloatProgressModel",
          "model_module_version": "1.5.0",
          "state": {
            "_dom_classes": [],
            "_model_module": "@jupyter-widgets/controls",
            "_model_module_version": "1.5.0",
            "_model_name": "FloatProgressModel",
            "_view_count": null,
            "_view_module": "@jupyter-widgets/controls",
            "_view_module_version": "1.5.0",
            "_view_name": "ProgressView",
            "bar_style": "success",
            "description": "",
            "description_tooltip": null,
            "layout": "IPY_MODEL_0f1beeef502f483fa8b4718177e5000e",
            "max": 439101405,
            "min": 0,
            "orientation": "horizontal",
            "style": "IPY_MODEL_55de8fe6f59841df87a71b9e6dcb6175",
            "value": 439101405
          }
        },
        "59254349cf614318ab771fd78992736f": {
          "model_module": "@jupyter-widgets/controls",
          "model_name": "HTMLModel",
          "model_module_version": "1.5.0",
          "state": {
            "_dom_classes": [],
            "_model_module": "@jupyter-widgets/controls",
            "_model_module_version": "1.5.0",
            "_model_name": "HTMLModel",
            "_view_count": null,
            "_view_module": "@jupyter-widgets/controls",
            "_view_module_version": "1.5.0",
            "_view_name": "HTMLView",
            "description": "",
            "description_tooltip": null,
            "layout": "IPY_MODEL_b369cfef6af449638b822acb885b1507",
            "placeholder": "​",
            "style": "IPY_MODEL_2c28950131f44959ad71c7dc6e2d19dd",
            "value": " 439M/439M [00:13&lt;00:00, 60.3MB/s]"
          }
        },
        "b333b96f847f418ab8982fc1686263ce": {
          "model_module": "@jupyter-widgets/base",
          "model_name": "LayoutModel",
          "model_module_version": "1.2.0",
          "state": {
            "_model_module": "@jupyter-widgets/base",
            "_model_module_version": "1.2.0",
            "_model_name": "LayoutModel",
            "_view_count": null,
            "_view_module": "@jupyter-widgets/base",
            "_view_module_version": "1.2.0",
            "_view_name": "LayoutView",
            "align_content": null,
            "align_items": null,
            "align_self": null,
            "border": null,
            "bottom": null,
            "display": null,
            "flex": null,
            "flex_flow": null,
            "grid_area": null,
            "grid_auto_columns": null,
            "grid_auto_flow": null,
            "grid_auto_rows": null,
            "grid_column": null,
            "grid_gap": null,
            "grid_row": null,
            "grid_template_areas": null,
            "grid_template_columns": null,
            "grid_template_rows": null,
            "height": null,
            "justify_content": null,
            "justify_items": null,
            "left": null,
            "margin": null,
            "max_height": null,
            "max_width": null,
            "min_height": null,
            "min_width": null,
            "object_fit": null,
            "object_position": null,
            "order": null,
            "overflow": null,
            "overflow_x": null,
            "overflow_y": null,
            "padding": null,
            "right": null,
            "top": null,
            "visibility": null,
            "width": null
          }
        },
        "5731720fb9b744dcb916166163a07b91": {
          "model_module": "@jupyter-widgets/base",
          "model_name": "LayoutModel",
          "model_module_version": "1.2.0",
          "state": {
            "_model_module": "@jupyter-widgets/base",
            "_model_module_version": "1.2.0",
            "_model_name": "LayoutModel",
            "_view_count": null,
            "_view_module": "@jupyter-widgets/base",
            "_view_module_version": "1.2.0",
            "_view_name": "LayoutView",
            "align_content": null,
            "align_items": null,
            "align_self": null,
            "border": null,
            "bottom": null,
            "display": null,
            "flex": null,
            "flex_flow": null,
            "grid_area": null,
            "grid_auto_columns": null,
            "grid_auto_flow": null,
            "grid_auto_rows": null,
            "grid_column": null,
            "grid_gap": null,
            "grid_row": null,
            "grid_template_areas": null,
            "grid_template_columns": null,
            "grid_template_rows": null,
            "height": null,
            "justify_content": null,
            "justify_items": null,
            "left": null,
            "margin": null,
            "max_height": null,
            "max_width": null,
            "min_height": null,
            "min_width": null,
            "object_fit": null,
            "object_position": null,
            "order": null,
            "overflow": null,
            "overflow_x": null,
            "overflow_y": null,
            "padding": null,
            "right": null,
            "top": null,
            "visibility": null,
            "width": null
          }
        },
        "d93197ab10044a66a7d00b7f1bf720f2": {
          "model_module": "@jupyter-widgets/controls",
          "model_name": "DescriptionStyleModel",
          "model_module_version": "1.5.0",
          "state": {
            "_model_module": "@jupyter-widgets/controls",
            "_model_module_version": "1.5.0",
            "_model_name": "DescriptionStyleModel",
            "_view_count": null,
            "_view_module": "@jupyter-widgets/base",
            "_view_module_version": "1.2.0",
            "_view_name": "StyleView",
            "description_width": ""
          }
        },
        "0f1beeef502f483fa8b4718177e5000e": {
          "model_module": "@jupyter-widgets/base",
          "model_name": "LayoutModel",
          "model_module_version": "1.2.0",
          "state": {
            "_model_module": "@jupyter-widgets/base",
            "_model_module_version": "1.2.0",
            "_model_name": "LayoutModel",
            "_view_count": null,
            "_view_module": "@jupyter-widgets/base",
            "_view_module_version": "1.2.0",
            "_view_name": "LayoutView",
            "align_content": null,
            "align_items": null,
            "align_self": null,
            "border": null,
            "bottom": null,
            "display": null,
            "flex": null,
            "flex_flow": null,
            "grid_area": null,
            "grid_auto_columns": null,
            "grid_auto_flow": null,
            "grid_auto_rows": null,
            "grid_column": null,
            "grid_gap": null,
            "grid_row": null,
            "grid_template_areas": null,
            "grid_template_columns": null,
            "grid_template_rows": null,
            "height": null,
            "justify_content": null,
            "justify_items": null,
            "left": null,
            "margin": null,
            "max_height": null,
            "max_width": null,
            "min_height": null,
            "min_width": null,
            "object_fit": null,
            "object_position": null,
            "order": null,
            "overflow": null,
            "overflow_x": null,
            "overflow_y": null,
            "padding": null,
            "right": null,
            "top": null,
            "visibility": null,
            "width": null
          }
        },
        "55de8fe6f59841df87a71b9e6dcb6175": {
          "model_module": "@jupyter-widgets/controls",
          "model_name": "ProgressStyleModel",
          "model_module_version": "1.5.0",
          "state": {
            "_model_module": "@jupyter-widgets/controls",
            "_model_module_version": "1.5.0",
            "_model_name": "ProgressStyleModel",
            "_view_count": null,
            "_view_module": "@jupyter-widgets/base",
            "_view_module_version": "1.2.0",
            "_view_name": "StyleView",
            "bar_color": null,
            "description_width": ""
          }
        },
        "b369cfef6af449638b822acb885b1507": {
          "model_module": "@jupyter-widgets/base",
          "model_name": "LayoutModel",
          "model_module_version": "1.2.0",
          "state": {
            "_model_module": "@jupyter-widgets/base",
            "_model_module_version": "1.2.0",
            "_model_name": "LayoutModel",
            "_view_count": null,
            "_view_module": "@jupyter-widgets/base",
            "_view_module_version": "1.2.0",
            "_view_name": "LayoutView",
            "align_content": null,
            "align_items": null,
            "align_self": null,
            "border": null,
            "bottom": null,
            "display": null,
            "flex": null,
            "flex_flow": null,
            "grid_area": null,
            "grid_auto_columns": null,
            "grid_auto_flow": null,
            "grid_auto_rows": null,
            "grid_column": null,
            "grid_gap": null,
            "grid_row": null,
            "grid_template_areas": null,
            "grid_template_columns": null,
            "grid_template_rows": null,
            "height": null,
            "justify_content": null,
            "justify_items": null,
            "left": null,
            "margin": null,
            "max_height": null,
            "max_width": null,
            "min_height": null,
            "min_width": null,
            "object_fit": null,
            "object_position": null,
            "order": null,
            "overflow": null,
            "overflow_x": null,
            "overflow_y": null,
            "padding": null,
            "right": null,
            "top": null,
            "visibility": null,
            "width": null
          }
        },
        "2c28950131f44959ad71c7dc6e2d19dd": {
          "model_module": "@jupyter-widgets/controls",
          "model_name": "DescriptionStyleModel",
          "model_module_version": "1.5.0",
          "state": {
            "_model_module": "@jupyter-widgets/controls",
            "_model_module_version": "1.5.0",
            "_model_name": "DescriptionStyleModel",
            "_view_count": null,
            "_view_module": "@jupyter-widgets/base",
            "_view_module_version": "1.2.0",
            "_view_name": "StyleView",
            "description_width": ""
          }
        },
        "44deec8717124f188fda6c2181c7ddd6": {
          "model_module": "@jupyter-widgets/controls",
          "model_name": "HBoxModel",
          "model_module_version": "1.5.0",
          "state": {
            "_dom_classes": [],
            "_model_module": "@jupyter-widgets/controls",
            "_model_module_version": "1.5.0",
            "_model_name": "HBoxModel",
            "_view_count": null,
            "_view_module": "@jupyter-widgets/controls",
            "_view_module_version": "1.5.0",
            "_view_name": "HBoxView",
            "box_style": "",
            "children": [
              "IPY_MODEL_8d3f54e1bd5846148a9d883b2cb9cd5b",
              "IPY_MODEL_3813bebad13d48b7a090e4d161e396ce",
              "IPY_MODEL_db0f325b85b841acb72363059f2382dd"
            ],
            "layout": "IPY_MODEL_27acd36564e3467f917028b56006de2b"
          }
        },
        "8d3f54e1bd5846148a9d883b2cb9cd5b": {
          "model_module": "@jupyter-widgets/controls",
          "model_name": "HTMLModel",
          "model_module_version": "1.5.0",
          "state": {
            "_dom_classes": [],
            "_model_module": "@jupyter-widgets/controls",
            "_model_module_version": "1.5.0",
            "_model_name": "HTMLModel",
            "_view_count": null,
            "_view_module": "@jupyter-widgets/controls",
            "_view_module_version": "1.5.0",
            "_view_name": "HTMLView",
            "description": "",
            "description_tooltip": null,
            "layout": "IPY_MODEL_73f7cd549756406a9ed771bd905993f1",
            "placeholder": "​",
            "style": "IPY_MODEL_b422853efbcc4cab8bad9b136b9c887e",
            "value": "Downloading: 100%"
          }
        },
        "3813bebad13d48b7a090e4d161e396ce": {
          "model_module": "@jupyter-widgets/controls",
          "model_name": "FloatProgressModel",
          "model_module_version": "1.5.0",
          "state": {
            "_dom_classes": [],
            "_model_module": "@jupyter-widgets/controls",
            "_model_module_version": "1.5.0",
            "_model_name": "FloatProgressModel",
            "_view_count": null,
            "_view_module": "@jupyter-widgets/controls",
            "_view_module_version": "1.5.0",
            "_view_name": "ProgressView",
            "bar_style": "success",
            "description": "",
            "description_tooltip": null,
            "layout": "IPY_MODEL_6f737a1a4ed04ea2a976a0fd32547f6a",
            "max": 226122,
            "min": 0,
            "orientation": "horizontal",
            "style": "IPY_MODEL_76950240354d48ce863e85ae3e78ec2f",
            "value": 226122
          }
        },
        "db0f325b85b841acb72363059f2382dd": {
          "model_module": "@jupyter-widgets/controls",
          "model_name": "HTMLModel",
          "model_module_version": "1.5.0",
          "state": {
            "_dom_classes": [],
            "_model_module": "@jupyter-widgets/controls",
            "_model_module_version": "1.5.0",
            "_model_name": "HTMLModel",
            "_view_count": null,
            "_view_module": "@jupyter-widgets/controls",
            "_view_module_version": "1.5.0",
            "_view_name": "HTMLView",
            "description": "",
            "description_tooltip": null,
            "layout": "IPY_MODEL_3cd4e37d109141bca49976b77272d1dc",
            "placeholder": "​",
            "style": "IPY_MODEL_093528a81c9645f0b5b2b2eb6e0dc6e1",
            "value": " 226k/226k [00:00&lt;00:00, 5.18MB/s]"
          }
        },
        "27acd36564e3467f917028b56006de2b": {
          "model_module": "@jupyter-widgets/base",
          "model_name": "LayoutModel",
          "model_module_version": "1.2.0",
          "state": {
            "_model_module": "@jupyter-widgets/base",
            "_model_module_version": "1.2.0",
            "_model_name": "LayoutModel",
            "_view_count": null,
            "_view_module": "@jupyter-widgets/base",
            "_view_module_version": "1.2.0",
            "_view_name": "LayoutView",
            "align_content": null,
            "align_items": null,
            "align_self": null,
            "border": null,
            "bottom": null,
            "display": null,
            "flex": null,
            "flex_flow": null,
            "grid_area": null,
            "grid_auto_columns": null,
            "grid_auto_flow": null,
            "grid_auto_rows": null,
            "grid_column": null,
            "grid_gap": null,
            "grid_row": null,
            "grid_template_areas": null,
            "grid_template_columns": null,
            "grid_template_rows": null,
            "height": null,
            "justify_content": null,
            "justify_items": null,
            "left": null,
            "margin": null,
            "max_height": null,
            "max_width": null,
            "min_height": null,
            "min_width": null,
            "object_fit": null,
            "object_position": null,
            "order": null,
            "overflow": null,
            "overflow_x": null,
            "overflow_y": null,
            "padding": null,
            "right": null,
            "top": null,
            "visibility": null,
            "width": null
          }
        },
        "73f7cd549756406a9ed771bd905993f1": {
          "model_module": "@jupyter-widgets/base",
          "model_name": "LayoutModel",
          "model_module_version": "1.2.0",
          "state": {
            "_model_module": "@jupyter-widgets/base",
            "_model_module_version": "1.2.0",
            "_model_name": "LayoutModel",
            "_view_count": null,
            "_view_module": "@jupyter-widgets/base",
            "_view_module_version": "1.2.0",
            "_view_name": "LayoutView",
            "align_content": null,
            "align_items": null,
            "align_self": null,
            "border": null,
            "bottom": null,
            "display": null,
            "flex": null,
            "flex_flow": null,
            "grid_area": null,
            "grid_auto_columns": null,
            "grid_auto_flow": null,
            "grid_auto_rows": null,
            "grid_column": null,
            "grid_gap": null,
            "grid_row": null,
            "grid_template_areas": null,
            "grid_template_columns": null,
            "grid_template_rows": null,
            "height": null,
            "justify_content": null,
            "justify_items": null,
            "left": null,
            "margin": null,
            "max_height": null,
            "max_width": null,
            "min_height": null,
            "min_width": null,
            "object_fit": null,
            "object_position": null,
            "order": null,
            "overflow": null,
            "overflow_x": null,
            "overflow_y": null,
            "padding": null,
            "right": null,
            "top": null,
            "visibility": null,
            "width": null
          }
        },
        "b422853efbcc4cab8bad9b136b9c887e": {
          "model_module": "@jupyter-widgets/controls",
          "model_name": "DescriptionStyleModel",
          "model_module_version": "1.5.0",
          "state": {
            "_model_module": "@jupyter-widgets/controls",
            "_model_module_version": "1.5.0",
            "_model_name": "DescriptionStyleModel",
            "_view_count": null,
            "_view_module": "@jupyter-widgets/base",
            "_view_module_version": "1.2.0",
            "_view_name": "StyleView",
            "description_width": ""
          }
        },
        "6f737a1a4ed04ea2a976a0fd32547f6a": {
          "model_module": "@jupyter-widgets/base",
          "model_name": "LayoutModel",
          "model_module_version": "1.2.0",
          "state": {
            "_model_module": "@jupyter-widgets/base",
            "_model_module_version": "1.2.0",
            "_model_name": "LayoutModel",
            "_view_count": null,
            "_view_module": "@jupyter-widgets/base",
            "_view_module_version": "1.2.0",
            "_view_name": "LayoutView",
            "align_content": null,
            "align_items": null,
            "align_self": null,
            "border": null,
            "bottom": null,
            "display": null,
            "flex": null,
            "flex_flow": null,
            "grid_area": null,
            "grid_auto_columns": null,
            "grid_auto_flow": null,
            "grid_auto_rows": null,
            "grid_column": null,
            "grid_gap": null,
            "grid_row": null,
            "grid_template_areas": null,
            "grid_template_columns": null,
            "grid_template_rows": null,
            "height": null,
            "justify_content": null,
            "justify_items": null,
            "left": null,
            "margin": null,
            "max_height": null,
            "max_width": null,
            "min_height": null,
            "min_width": null,
            "object_fit": null,
            "object_position": null,
            "order": null,
            "overflow": null,
            "overflow_x": null,
            "overflow_y": null,
            "padding": null,
            "right": null,
            "top": null,
            "visibility": null,
            "width": null
          }
        },
        "76950240354d48ce863e85ae3e78ec2f": {
          "model_module": "@jupyter-widgets/controls",
          "model_name": "ProgressStyleModel",
          "model_module_version": "1.5.0",
          "state": {
            "_model_module": "@jupyter-widgets/controls",
            "_model_module_version": "1.5.0",
            "_model_name": "ProgressStyleModel",
            "_view_count": null,
            "_view_module": "@jupyter-widgets/base",
            "_view_module_version": "1.2.0",
            "_view_name": "StyleView",
            "bar_color": null,
            "description_width": ""
          }
        },
        "3cd4e37d109141bca49976b77272d1dc": {
          "model_module": "@jupyter-widgets/base",
          "model_name": "LayoutModel",
          "model_module_version": "1.2.0",
          "state": {
            "_model_module": "@jupyter-widgets/base",
            "_model_module_version": "1.2.0",
            "_model_name": "LayoutModel",
            "_view_count": null,
            "_view_module": "@jupyter-widgets/base",
            "_view_module_version": "1.2.0",
            "_view_name": "LayoutView",
            "align_content": null,
            "align_items": null,
            "align_self": null,
            "border": null,
            "bottom": null,
            "display": null,
            "flex": null,
            "flex_flow": null,
            "grid_area": null,
            "grid_auto_columns": null,
            "grid_auto_flow": null,
            "grid_auto_rows": null,
            "grid_column": null,
            "grid_gap": null,
            "grid_row": null,
            "grid_template_areas": null,
            "grid_template_columns": null,
            "grid_template_rows": null,
            "height": null,
            "justify_content": null,
            "justify_items": null,
            "left": null,
            "margin": null,
            "max_height": null,
            "max_width": null,
            "min_height": null,
            "min_width": null,
            "object_fit": null,
            "object_position": null,
            "order": null,
            "overflow": null,
            "overflow_x": null,
            "overflow_y": null,
            "padding": null,
            "right": null,
            "top": null,
            "visibility": null,
            "width": null
          }
        },
        "093528a81c9645f0b5b2b2eb6e0dc6e1": {
          "model_module": "@jupyter-widgets/controls",
          "model_name": "DescriptionStyleModel",
          "model_module_version": "1.5.0",
          "state": {
            "_model_module": "@jupyter-widgets/controls",
            "_model_module_version": "1.5.0",
            "_model_name": "DescriptionStyleModel",
            "_view_count": null,
            "_view_module": "@jupyter-widgets/base",
            "_view_module_version": "1.2.0",
            "_view_name": "StyleView",
            "description_width": ""
          }
        }
      }
    }
  },
  "cells": [
    {
      "cell_type": "markdown",
      "metadata": {
        "id": "view-in-github",
        "colab_type": "text"
      },
      "source": [
        "<a href=\"https://colab.research.google.com/github/chngchngchng/FinTech-Project-2/blob/main/BERT.ipynb\" target=\"_parent\"><img src=\"https://colab.research.google.com/assets/colab-badge.svg\" alt=\"Open In Colab\"/></a>"
      ]
    },
    {
      "cell_type": "code",
      "source": [
        "!pip install transformers"
      ],
      "metadata": {
        "colab": {
          "base_uri": "https://localhost:8080/"
        },
        "id": "2c_nsqM3iF7k",
        "outputId": "f15e400e-467b-4cd6-e600-5c483469dfc0"
      },
      "execution_count": 1,
      "outputs": [
        {
          "output_type": "stream",
          "name": "stdout",
          "text": [
            "Looking in indexes: https://pypi.org/simple, https://us-python.pkg.dev/colab-wheels/public/simple/\n",
            "Collecting transformers\n",
            "  Downloading transformers-4.25.1-py3-none-any.whl (5.8 MB)\n",
            "\u001b[K     |████████████████████████████████| 5.8 MB 29.5 MB/s \n",
            "\u001b[?25hCollecting huggingface-hub<1.0,>=0.10.0\n",
            "  Downloading huggingface_hub-0.11.1-py3-none-any.whl (182 kB)\n",
            "\u001b[K     |████████████████████████████████| 182 kB 68.8 MB/s \n",
            "\u001b[?25hRequirement already satisfied: pyyaml>=5.1 in /usr/local/lib/python3.8/dist-packages (from transformers) (6.0)\n",
            "Collecting tokenizers!=0.11.3,<0.14,>=0.11.1\n",
            "  Downloading tokenizers-0.13.2-cp38-cp38-manylinux_2_17_x86_64.manylinux2014_x86_64.whl (7.6 MB)\n",
            "\u001b[K     |████████████████████████████████| 7.6 MB 57.2 MB/s \n",
            "\u001b[?25hRequirement already satisfied: numpy>=1.17 in /usr/local/lib/python3.8/dist-packages (from transformers) (1.21.6)\n",
            "Requirement already satisfied: filelock in /usr/local/lib/python3.8/dist-packages (from transformers) (3.8.2)\n",
            "Requirement already satisfied: tqdm>=4.27 in /usr/local/lib/python3.8/dist-packages (from transformers) (4.64.1)\n",
            "Requirement already satisfied: regex!=2019.12.17 in /usr/local/lib/python3.8/dist-packages (from transformers) (2022.6.2)\n",
            "Requirement already satisfied: packaging>=20.0 in /usr/local/lib/python3.8/dist-packages (from transformers) (21.3)\n",
            "Requirement already satisfied: requests in /usr/local/lib/python3.8/dist-packages (from transformers) (2.23.0)\n",
            "Requirement already satisfied: typing-extensions>=3.7.4.3 in /usr/local/lib/python3.8/dist-packages (from huggingface-hub<1.0,>=0.10.0->transformers) (4.4.0)\n",
            "Requirement already satisfied: pyparsing!=3.0.5,>=2.0.2 in /usr/local/lib/python3.8/dist-packages (from packaging>=20.0->transformers) (3.0.9)\n",
            "Requirement already satisfied: urllib3!=1.25.0,!=1.25.1,<1.26,>=1.21.1 in /usr/local/lib/python3.8/dist-packages (from requests->transformers) (1.24.3)\n",
            "Requirement already satisfied: idna<3,>=2.5 in /usr/local/lib/python3.8/dist-packages (from requests->transformers) (2.10)\n",
            "Requirement already satisfied: certifi>=2017.4.17 in /usr/local/lib/python3.8/dist-packages (from requests->transformers) (2022.12.7)\n",
            "Requirement already satisfied: chardet<4,>=3.0.2 in /usr/local/lib/python3.8/dist-packages (from requests->transformers) (3.0.4)\n",
            "Installing collected packages: tokenizers, huggingface-hub, transformers\n",
            "Successfully installed huggingface-hub-0.11.1 tokenizers-0.13.2 transformers-4.25.1\n"
          ]
        }
      ]
    },
    {
      "cell_type": "code",
      "source": [
        "!pip install pandas"
      ],
      "metadata": {
        "colab": {
          "base_uri": "https://localhost:8080/"
        },
        "id": "Jo-fLObCiGzA",
        "outputId": "db8a92bf-4913-47cb-c988-cd3dcdbe79ec"
      },
      "execution_count": 2,
      "outputs": [
        {
          "output_type": "stream",
          "name": "stdout",
          "text": [
            "Looking in indexes: https://pypi.org/simple, https://us-python.pkg.dev/colab-wheels/public/simple/\n",
            "Requirement already satisfied: pandas in /usr/local/lib/python3.8/dist-packages (1.3.5)\n",
            "Requirement already satisfied: numpy>=1.17.3 in /usr/local/lib/python3.8/dist-packages (from pandas) (1.21.6)\n",
            "Requirement already satisfied: python-dateutil>=2.7.3 in /usr/local/lib/python3.8/dist-packages (from pandas) (2.8.2)\n",
            "Requirement already satisfied: pytz>=2017.3 in /usr/local/lib/python3.8/dist-packages (from pandas) (2022.6)\n",
            "Requirement already satisfied: six>=1.5 in /usr/local/lib/python3.8/dist-packages (from python-dateutil>=2.7.3->pandas) (1.15.0)\n"
          ]
        }
      ]
    },
    {
      "cell_type": "code",
      "source": [
        "import transformers\n",
        "import pandas as pd\n",
        "import numpy"
      ],
      "metadata": {
        "id": "B47qJjb2iOnq"
      },
      "execution_count": 3,
      "outputs": []
    },
    {
      "cell_type": "code",
      "source": [
        "tokeniser = transformers.BertTokenizer.from_pretrained(\"bert-base-uncased\")\n"
      ],
      "metadata": {
        "colab": {
          "base_uri": "https://localhost:8080/",
          "height": 113,
          "referenced_widgets": [
            "82804f55eb4f4292b82a8206ca746b4d",
            "7bc4aba318f1481da44f219af85ef71b",
            "d796aa69b0804dd681b40bce1c80aeeb",
            "35d9b5b007b6485abe54f62226e097bd",
            "e40e4e889f74404b81da3ebc13e70c7c",
            "2479f3085cc9447f83509cb6247e52c5",
            "1aa4f80f60794e358ff7396464daae7b",
            "fafc52db586b44568eb8e5963bfedace",
            "50f38de9a71a43e3b3b57cc0fc522e4b",
            "d250f6c97629437bb6316120273d837c",
            "d55a9193fcb7434d95997b5f5bd3bdd2",
            "0d4d49ef14d4434e8c02927b7868eb0b",
            "af53fe66c5b543199a2c12589f5521e9",
            "c3eff27a91e042c990737b6fbdec157f",
            "92cfe677637543b98858bcf82a211491",
            "70643884a0f4479f81ac754b9cafa434",
            "ebefbeb4c03a4f49b87f8152a0261f79",
            "0470b688d86e4fb8aac0bc8dee7e0a15",
            "2fcbbc9bd6164a9684a81882011804a7",
            "ce2a8a3d1f164869b7c7b57d28e93bde",
            "4b418362e45640cd940f4623bbe3a689",
            "1be8905d0ab94af89963ecf89e10fd51",
            "e6366f9aa00c45debe7358efb19ae41b",
            "789932586444463ba4b5d96ca1859869",
            "2e01a5092c1048ed9607cf4142a056c9",
            "7fa315ac75d84afb9ec4dc1ed18fb662",
            "d68899d20491499785194358f20016f4",
            "65f1798bfa2a4d4280c87b38277c3ddb",
            "329a56fb70c245b9b476b5fcce6a42f3",
            "92a28d41a3dd4c6b90b3d29cf5e42d2c",
            "27f0a6251e5040dcb559444b414c57bd",
            "aea6cdd3c1d44f1f94031cea49e5e1bf",
            "5b14685ed06f4192873692a78a003777"
          ]
        },
        "id": "Vb_5JKBomNCV",
        "outputId": "44632b75-ecf8-468d-8ad2-6e65645465f3"
      },
      "execution_count": 4,
      "outputs": [
        {
          "output_type": "display_data",
          "data": {
            "text/plain": [
              "Downloading:   0%|          | 0.00/232k [00:00<?, ?B/s]"
            ],
            "application/vnd.jupyter.widget-view+json": {
              "version_major": 2,
              "version_minor": 0,
              "model_id": "82804f55eb4f4292b82a8206ca746b4d"
            }
          },
          "metadata": {}
        },
        {
          "output_type": "display_data",
          "data": {
            "text/plain": [
              "Downloading:   0%|          | 0.00/28.0 [00:00<?, ?B/s]"
            ],
            "application/vnd.jupyter.widget-view+json": {
              "version_major": 2,
              "version_minor": 0,
              "model_id": "0d4d49ef14d4434e8c02927b7868eb0b"
            }
          },
          "metadata": {}
        },
        {
          "output_type": "display_data",
          "data": {
            "text/plain": [
              "Downloading:   0%|          | 0.00/570 [00:00<?, ?B/s]"
            ],
            "application/vnd.jupyter.widget-view+json": {
              "version_major": 2,
              "version_minor": 0,
              "model_id": "e6366f9aa00c45debe7358efb19ae41b"
            }
          },
          "metadata": {}
        }
      ]
    },
    {
      "cell_type": "code",
      "source": [
        "sample_text = \"When was I last outside? I have been stuck at home for what feels like 10 years.\"\n",
        "tokens = tokeniser.tokenize(sample_text)\n",
        "print(tokens)"
      ],
      "metadata": {
        "colab": {
          "base_uri": "https://localhost:8080/"
        },
        "id": "VzLVy7hJmWpf",
        "outputId": "07285de9-df2f-4fb6-dda1-bc75e5252a20"
      },
      "execution_count": 5,
      "outputs": [
        {
          "output_type": "stream",
          "name": "stdout",
          "text": [
            "['when', 'was', 'i', 'last', 'outside', '?', 'i', 'have', 'been', 'stuck', 'at', 'home', 'for', 'what', 'feels', 'like', '10', 'years', '.']\n"
          ]
        }
      ]
    },
    {
      "cell_type": "code",
      "source": [
        "token_ids = tokeniser.convert_tokens_to_ids(tokens)\n",
        "print(token_ids)"
      ],
      "metadata": {
        "colab": {
          "base_uri": "https://localhost:8080/"
        },
        "id": "VogH6Vn_nurd",
        "outputId": "dded3083-08ca-4c10-e2ed-2fc4351b20a8"
      },
      "execution_count": 6,
      "outputs": [
        {
          "output_type": "stream",
          "name": "stdout",
          "text": [
            "[2043, 2001, 1045, 2197, 2648, 1029, 1045, 2031, 2042, 5881, 2012, 2188, 2005, 2054, 5683, 2066, 2184, 2086, 1012]\n"
          ]
        }
      ]
    },
    {
      "cell_type": "code",
      "source": [
        "print(f\"Sentence: {sample_text}\")\n",
        "print(f\"Tokens: {tokens}\")\n",
        "print(f\"Length of tokens: {len(tokens)}\")\n",
        "print(f\"Token IDs: {token_ids}\")\n",
        "print(f\"Length of token IDs: {len(token_ids)}\")"
      ],
      "metadata": {
        "colab": {
          "base_uri": "https://localhost:8080/"
        },
        "id": "uO79aT_GoEsK",
        "outputId": "a52d4be1-75c6-4c54-f2bf-3f54a1095b99"
      },
      "execution_count": 7,
      "outputs": [
        {
          "output_type": "stream",
          "name": "stdout",
          "text": [
            "Sentence: When was I last outside? I have been stuck at home for what feels like 10 years.\n",
            "Tokens: ['when', 'was', 'i', 'last', 'outside', '?', 'i', 'have', 'been', 'stuck', 'at', 'home', 'for', 'what', 'feels', 'like', '10', 'years', '.']\n",
            "Length of tokens: 19\n",
            "Token IDs: [2043, 2001, 1045, 2197, 2648, 1029, 1045, 2031, 2042, 5881, 2012, 2188, 2005, 2054, 5683, 2066, 2184, 2086, 1012]\n",
            "Length of token IDs: 19\n"
          ]
        }
      ]
    },
    {
      "cell_type": "markdown",
      "source": [
        "# Special Tokens\n",
        "\n",
        "`BERT` makes use of some special tokens that identify the start and end of a given sentence or a line of text.\n",
        "\n",
        "First, we have the seperation token, which seperates sentences:"
      ],
      "metadata": {
        "id": "Gy9aip7ExUZb"
      }
    },
    {
      "cell_type": "code",
      "source": [
        "tokeniser.sep_token, tokeniser.sep_token_id"
      ],
      "metadata": {
        "colab": {
          "base_uri": "https://localhost:8080/"
        },
        "id": "cG4Dz50Uodwf",
        "outputId": "ed5d1e9b-6c7a-4200-bc7d-4121cc9d9fac"
      },
      "execution_count": 8,
      "outputs": [
        {
          "output_type": "execute_result",
          "data": {
            "text/plain": [
              "('[SEP]', 102)"
            ]
          },
          "metadata": {},
          "execution_count": 8
        }
      ]
    },
    {
      "cell_type": "markdown",
      "source": [
        "Next, we have the classification token, which is used to indicate to BERT whether we are interested in a sequence classification or a text classification task:"
      ],
      "metadata": {
        "id": "8N6HUDczx6mf"
      }
    },
    {
      "cell_type": "code",
      "source": [
        "tokeniser.cls_token, tokeniser.cls_token_id"
      ],
      "metadata": {
        "colab": {
          "base_uri": "https://localhost:8080/"
        },
        "id": "SXFZs0W7xfpe",
        "outputId": "7325eaf4-a188-4a4e-f4a2-891ac30d71bb"
      },
      "execution_count": 9,
      "outputs": [
        {
          "output_type": "execute_result",
          "data": {
            "text/plain": [
              "('[CLS]', 101)"
            ]
          },
          "metadata": {},
          "execution_count": 9
        }
      ]
    },
    {
      "cell_type": "markdown",
      "source": [
        "We also have the token that is used to indicate that something is a padding token (to make similar sentence / block sizes)."
      ],
      "metadata": {
        "id": "NJZ21x0TyMb2"
      }
    },
    {
      "cell_type": "code",
      "source": [
        "tokeniser.pad_token, tokeniser.pad_token_id"
      ],
      "metadata": {
        "colab": {
          "base_uri": "https://localhost:8080/"
        },
        "id": "soNp5u4PyLDQ",
        "outputId": "3f61a216-5c19-4923-c764-7d13123290b6"
      },
      "execution_count": 10,
      "outputs": [
        {
          "output_type": "execute_result",
          "data": {
            "text/plain": [
              "('[PAD]', 0)"
            ]
          },
          "metadata": {},
          "execution_count": 10
        }
      ]
    },
    {
      "cell_type": "markdown",
      "source": [
        "There is also a token to deal with unknown characters:"
      ],
      "metadata": {
        "id": "GZeZZZIvynKB"
      }
    },
    {
      "cell_type": "code",
      "source": [
        "tokeniser.unk_token, tokeniser.unk_token_id"
      ],
      "metadata": {
        "colab": {
          "base_uri": "https://localhost:8080/"
        },
        "id": "cMSNgHA8yaf8",
        "outputId": "40814d23-7750-4313-e8b4-71d66250c768"
      },
      "execution_count": 11,
      "outputs": [
        {
          "output_type": "execute_result",
          "data": {
            "text/plain": [
              "('[UNK]', 100)"
            ]
          },
          "metadata": {},
          "execution_count": 11
        }
      ]
    },
    {
      "cell_type": "code",
      "source": [
        "encoding = tokeniser.encode_plus(\n",
        "    sample_text,\n",
        "    max_length = 32,\n",
        "    add_special_tokens = True,\n",
        "    padding = True,\n",
        "    return_attention_mask = True,\n",
        "    return_token_type_ids = False,\n",
        "    return_tensors = \"pt\"\n",
        ")\n",
        "\n",
        "encoding.keys()"
      ],
      "metadata": {
        "colab": {
          "base_uri": "https://localhost:8080/"
        },
        "id": "ppCTIcqNysy2",
        "outputId": "d40dae85-a84d-4faf-d919-00c25816fd6c"
      },
      "execution_count": 12,
      "outputs": [
        {
          "output_type": "stream",
          "name": "stderr",
          "text": [
            "/usr/local/lib/python3.8/dist-packages/transformers/tokenization_utils_base.py:2354: UserWarning: `max_length` is ignored when `padding`=`True` and there is no truncation strategy. To pad to max length, use `padding='max_length'`.\n",
            "  warnings.warn(\n"
          ]
        },
        {
          "output_type": "execute_result",
          "data": {
            "text/plain": [
              "dict_keys(['input_ids', 'attention_mask'])"
            ]
          },
          "metadata": {},
          "execution_count": 12
        }
      ]
    },
    {
      "cell_type": "code",
      "source": [
        "encoding['input_ids']"
      ],
      "metadata": {
        "colab": {
          "base_uri": "https://localhost:8080/"
        },
        "id": "fLX22ZfEzXqM",
        "outputId": "8f8e17fa-a4c1-43ff-edbd-7856e591cdfa"
      },
      "execution_count": 13,
      "outputs": [
        {
          "output_type": "execute_result",
          "data": {
            "text/plain": [
              "tensor([[ 101, 2043, 2001, 1045, 2197, 2648, 1029, 1045, 2031, 2042, 5881, 2012,\n",
              "         2188, 2005, 2054, 5683, 2066, 2184, 2086, 1012,  102]])"
            ]
          },
          "metadata": {},
          "execution_count": 13
        }
      ]
    },
    {
      "cell_type": "markdown",
      "source": [
        "### Choosing Sequence Lengths"
      ],
      "metadata": {
        "id": "4Zndy-I50XKk"
      }
    },
    {
      "cell_type": "code",
      "source": [
        "'''\n",
        "token_lens = []\n",
        "\n",
        "for txt in df.content: # assuming we have a dataframe with a content column (string datatype)\n",
        "  tokens = tokeniser.encode(txt, max_length = 512) # some default dummy length first\n",
        "  token_lens.append(len(tokens))\n",
        "\n",
        "# Get max length of tokens\n",
        "print(max(token_lens))\n",
        "\n",
        "# OR plot a graph, and then get a suitable value\n",
        "sns.distplot(token_lens);\n",
        "\n",
        "# we can get a value that might clip some of the tokens, but this will allow the model to be trained faster\n",
        "'''\n"
      ],
      "metadata": {
        "colab": {
          "base_uri": "https://localhost:8080/",
          "height": 72
        },
        "id": "aO_a_x5jzhx-",
        "outputId": "8b73a096-1378-4115-d267-f689a923b78b"
      },
      "execution_count": 14,
      "outputs": [
        {
          "output_type": "execute_result",
          "data": {
            "text/plain": [
              "'\\ntoken_lens = []\\n\\nfor txt in df.content: # assuming we have a dataframe with a content column (string datatype)\\n  tokens = tokeniser.encode(txt, max_length = 512) # some default dummy length first\\n  token_lens.append(len(tokens))\\n\\n# Get max length of tokens\\nprint(max(token_lens))\\n\\n# OR plot a graph, and then get a suitable value\\nsns.distplot(token_lens);\\n\\n# we can get a value that might clip some of the tokens, but this will allow the model to be trained faster\\n'"
            ],
            "application/vnd.google.colaboratory.intrinsic+json": {
              "type": "string"
            }
          },
          "metadata": {},
          "execution_count": 14
        }
      ]
    },
    {
      "cell_type": "code",
      "source": [
        "# Let's actually try to create the model now\n",
        "\n",
        "from google.colab import files\n",
        "uploaded = files.upload()"
      ],
      "metadata": {
        "colab": {
          "base_uri": "https://localhost:8080/",
          "height": 74
        },
        "id": "BWG_r8ln09tg",
        "outputId": "01d88650-7585-43d7-a0f4-0e246a869a7b"
      },
      "execution_count": 15,
      "outputs": [
        {
          "output_type": "display_data",
          "data": {
            "text/plain": [
              "<IPython.core.display.HTML object>"
            ],
            "text/html": [
              "\n",
              "     <input type=\"file\" id=\"files-e006d343-0efe-4ebe-93fe-a3b40812ff82\" name=\"files[]\" multiple disabled\n",
              "        style=\"border:none\" />\n",
              "     <output id=\"result-e006d343-0efe-4ebe-93fe-a3b40812ff82\">\n",
              "      Upload widget is only available when the cell has been executed in the\n",
              "      current browser session. Please rerun this cell to enable.\n",
              "      </output>\n",
              "      <script>// Copyright 2017 Google LLC\n",
              "//\n",
              "// Licensed under the Apache License, Version 2.0 (the \"License\");\n",
              "// you may not use this file except in compliance with the License.\n",
              "// You may obtain a copy of the License at\n",
              "//\n",
              "//      http://www.apache.org/licenses/LICENSE-2.0\n",
              "//\n",
              "// Unless required by applicable law or agreed to in writing, software\n",
              "// distributed under the License is distributed on an \"AS IS\" BASIS,\n",
              "// WITHOUT WARRANTIES OR CONDITIONS OF ANY KIND, either express or implied.\n",
              "// See the License for the specific language governing permissions and\n",
              "// limitations under the License.\n",
              "\n",
              "/**\n",
              " * @fileoverview Helpers for google.colab Python module.\n",
              " */\n",
              "(function(scope) {\n",
              "function span(text, styleAttributes = {}) {\n",
              "  const element = document.createElement('span');\n",
              "  element.textContent = text;\n",
              "  for (const key of Object.keys(styleAttributes)) {\n",
              "    element.style[key] = styleAttributes[key];\n",
              "  }\n",
              "  return element;\n",
              "}\n",
              "\n",
              "// Max number of bytes which will be uploaded at a time.\n",
              "const MAX_PAYLOAD_SIZE = 100 * 1024;\n",
              "\n",
              "function _uploadFiles(inputId, outputId) {\n",
              "  const steps = uploadFilesStep(inputId, outputId);\n",
              "  const outputElement = document.getElementById(outputId);\n",
              "  // Cache steps on the outputElement to make it available for the next call\n",
              "  // to uploadFilesContinue from Python.\n",
              "  outputElement.steps = steps;\n",
              "\n",
              "  return _uploadFilesContinue(outputId);\n",
              "}\n",
              "\n",
              "// This is roughly an async generator (not supported in the browser yet),\n",
              "// where there are multiple asynchronous steps and the Python side is going\n",
              "// to poll for completion of each step.\n",
              "// This uses a Promise to block the python side on completion of each step,\n",
              "// then passes the result of the previous step as the input to the next step.\n",
              "function _uploadFilesContinue(outputId) {\n",
              "  const outputElement = document.getElementById(outputId);\n",
              "  const steps = outputElement.steps;\n",
              "\n",
              "  const next = steps.next(outputElement.lastPromiseValue);\n",
              "  return Promise.resolve(next.value.promise).then((value) => {\n",
              "    // Cache the last promise value to make it available to the next\n",
              "    // step of the generator.\n",
              "    outputElement.lastPromiseValue = value;\n",
              "    return next.value.response;\n",
              "  });\n",
              "}\n",
              "\n",
              "/**\n",
              " * Generator function which is called between each async step of the upload\n",
              " * process.\n",
              " * @param {string} inputId Element ID of the input file picker element.\n",
              " * @param {string} outputId Element ID of the output display.\n",
              " * @return {!Iterable<!Object>} Iterable of next steps.\n",
              " */\n",
              "function* uploadFilesStep(inputId, outputId) {\n",
              "  const inputElement = document.getElementById(inputId);\n",
              "  inputElement.disabled = false;\n",
              "\n",
              "  const outputElement = document.getElementById(outputId);\n",
              "  outputElement.innerHTML = '';\n",
              "\n",
              "  const pickedPromise = new Promise((resolve) => {\n",
              "    inputElement.addEventListener('change', (e) => {\n",
              "      resolve(e.target.files);\n",
              "    });\n",
              "  });\n",
              "\n",
              "  const cancel = document.createElement('button');\n",
              "  inputElement.parentElement.appendChild(cancel);\n",
              "  cancel.textContent = 'Cancel upload';\n",
              "  const cancelPromise = new Promise((resolve) => {\n",
              "    cancel.onclick = () => {\n",
              "      resolve(null);\n",
              "    };\n",
              "  });\n",
              "\n",
              "  // Wait for the user to pick the files.\n",
              "  const files = yield {\n",
              "    promise: Promise.race([pickedPromise, cancelPromise]),\n",
              "    response: {\n",
              "      action: 'starting',\n",
              "    }\n",
              "  };\n",
              "\n",
              "  cancel.remove();\n",
              "\n",
              "  // Disable the input element since further picks are not allowed.\n",
              "  inputElement.disabled = true;\n",
              "\n",
              "  if (!files) {\n",
              "    return {\n",
              "      response: {\n",
              "        action: 'complete',\n",
              "      }\n",
              "    };\n",
              "  }\n",
              "\n",
              "  for (const file of files) {\n",
              "    const li = document.createElement('li');\n",
              "    li.append(span(file.name, {fontWeight: 'bold'}));\n",
              "    li.append(span(\n",
              "        `(${file.type || 'n/a'}) - ${file.size} bytes, ` +\n",
              "        `last modified: ${\n",
              "            file.lastModifiedDate ? file.lastModifiedDate.toLocaleDateString() :\n",
              "                                    'n/a'} - `));\n",
              "    const percent = span('0% done');\n",
              "    li.appendChild(percent);\n",
              "\n",
              "    outputElement.appendChild(li);\n",
              "\n",
              "    const fileDataPromise = new Promise((resolve) => {\n",
              "      const reader = new FileReader();\n",
              "      reader.onload = (e) => {\n",
              "        resolve(e.target.result);\n",
              "      };\n",
              "      reader.readAsArrayBuffer(file);\n",
              "    });\n",
              "    // Wait for the data to be ready.\n",
              "    let fileData = yield {\n",
              "      promise: fileDataPromise,\n",
              "      response: {\n",
              "        action: 'continue',\n",
              "      }\n",
              "    };\n",
              "\n",
              "    // Use a chunked sending to avoid message size limits. See b/62115660.\n",
              "    let position = 0;\n",
              "    do {\n",
              "      const length = Math.min(fileData.byteLength - position, MAX_PAYLOAD_SIZE);\n",
              "      const chunk = new Uint8Array(fileData, position, length);\n",
              "      position += length;\n",
              "\n",
              "      const base64 = btoa(String.fromCharCode.apply(null, chunk));\n",
              "      yield {\n",
              "        response: {\n",
              "          action: 'append',\n",
              "          file: file.name,\n",
              "          data: base64,\n",
              "        },\n",
              "      };\n",
              "\n",
              "      let percentDone = fileData.byteLength === 0 ?\n",
              "          100 :\n",
              "          Math.round((position / fileData.byteLength) * 100);\n",
              "      percent.textContent = `${percentDone}% done`;\n",
              "\n",
              "    } while (position < fileData.byteLength);\n",
              "  }\n",
              "\n",
              "  // All done.\n",
              "  yield {\n",
              "    response: {\n",
              "      action: 'complete',\n",
              "    }\n",
              "  };\n",
              "}\n",
              "\n",
              "scope.google = scope.google || {};\n",
              "scope.google.colab = scope.google.colab || {};\n",
              "scope.google.colab._files = {\n",
              "  _uploadFiles,\n",
              "  _uploadFilesContinue,\n",
              "};\n",
              "})(self);\n",
              "</script> "
            ]
          },
          "metadata": {}
        },
        {
          "output_type": "stream",
          "name": "stdout",
          "text": [
            "Saving stock_data.csv to stock_data.csv\n"
          ]
        }
      ]
    },
    {
      "cell_type": "code",
      "source": [
        "import io\n",
        "from transformers import BertTokenizer, BertForSequenceClassification, pipeline\n",
        "\n",
        "df = pd.read_csv(io.BytesIO(uploaded['stock_data.csv']))\n",
        "df\n",
        "\n",
        "\n",
        "#  For this project, we'll used a pretrained finbert model and its tokeniser\n",
        "PRETRAINED_MODEL_NAME = 'yiyanghkust/finbert-tone'\n",
        "finbert = BertForSequenceClassification.from_pretrained(PRETRAINED_MODEL_NAME, num_labels = 3)\n",
        "tokenizer = BertTokenizer.from_pretrained(PRETRAINED_MODEL_NAME)"
      ],
      "metadata": {
        "colab": {
          "base_uri": "https://localhost:8080/",
          "height": 113,
          "referenced_widgets": [
            "d10ed3d6ce7742bf82456de8926c11ad",
            "000849ca839445ff95c5ad41e42841cc",
            "116a38ee8ed04401a3b14e1d3f6a725c",
            "6768f26935d746ed96f7e831c2c80e6a",
            "0b3bd0edb2ea416ab732349ea26117b0",
            "881cfdc2a2d344658bfdff6da337d3f1",
            "3311c77410fa452b842a42e94750cdbc",
            "d6f19fcb433c4d94bd09721f4c50a1fa",
            "4803ca1687d4454ba5fc6eb30eb540cb",
            "13f77f2e4f674aad9029aa1a61801ccf",
            "9da721d7046c4f14859f9363a7d821c5",
            "f4788130dbd2437d9d09370775c3379c",
            "50e4ddd6ae644e9aa5bbdf08c4650789",
            "7b21bf1ce21a41ceb64cfbb9b50571a6",
            "59254349cf614318ab771fd78992736f",
            "b333b96f847f418ab8982fc1686263ce",
            "5731720fb9b744dcb916166163a07b91",
            "d93197ab10044a66a7d00b7f1bf720f2",
            "0f1beeef502f483fa8b4718177e5000e",
            "55de8fe6f59841df87a71b9e6dcb6175",
            "b369cfef6af449638b822acb885b1507",
            "2c28950131f44959ad71c7dc6e2d19dd",
            "44deec8717124f188fda6c2181c7ddd6",
            "8d3f54e1bd5846148a9d883b2cb9cd5b",
            "3813bebad13d48b7a090e4d161e396ce",
            "db0f325b85b841acb72363059f2382dd",
            "27acd36564e3467f917028b56006de2b",
            "73f7cd549756406a9ed771bd905993f1",
            "b422853efbcc4cab8bad9b136b9c887e",
            "6f737a1a4ed04ea2a976a0fd32547f6a",
            "76950240354d48ce863e85ae3e78ec2f",
            "3cd4e37d109141bca49976b77272d1dc",
            "093528a81c9645f0b5b2b2eb6e0dc6e1"
          ]
        },
        "id": "upDyCbK8J531",
        "outputId": "b3fe6377-d500-426a-8846-a0878278d428"
      },
      "execution_count": 16,
      "outputs": [
        {
          "output_type": "display_data",
          "data": {
            "text/plain": [
              "Downloading:   0%|          | 0.00/533 [00:00<?, ?B/s]"
            ],
            "application/vnd.jupyter.widget-view+json": {
              "version_major": 2,
              "version_minor": 0,
              "model_id": "d10ed3d6ce7742bf82456de8926c11ad"
            }
          },
          "metadata": {}
        },
        {
          "output_type": "display_data",
          "data": {
            "text/plain": [
              "Downloading:   0%|          | 0.00/439M [00:00<?, ?B/s]"
            ],
            "application/vnd.jupyter.widget-view+json": {
              "version_major": 2,
              "version_minor": 0,
              "model_id": "f4788130dbd2437d9d09370775c3379c"
            }
          },
          "metadata": {}
        },
        {
          "output_type": "display_data",
          "data": {
            "text/plain": [
              "Downloading:   0%|          | 0.00/226k [00:00<?, ?B/s]"
            ],
            "application/vnd.jupyter.widget-view+json": {
              "version_major": 2,
              "version_minor": 0,
              "model_id": "44deec8717124f188fda6c2181c7ddd6"
            }
          },
          "metadata": {}
        }
      ]
    },
    {
      "cell_type": "code",
      "source": [
        "# Create pipeline for sentiment analysis  \n",
        "nlp =  pipeline(\"sentiment-analysis\", model = finbert, tokenizer = tokenizer)"
      ],
      "metadata": {
        "id": "Gb7XyQJKK1o0"
      },
      "execution_count": 17,
      "outputs": []
    },
    {
      "cell_type": "code",
      "source": [
        "def generate_labels(value):\n",
        "  if value == 1:\n",
        "    return \"positive\"\n",
        "  elif value == 0:\n",
        "    return \"neutral\"\n",
        "  return \"negative\""
      ],
      "metadata": {
        "id": "nRf7JyzgOx0-"
      },
      "execution_count": 19,
      "outputs": []
    },
    {
      "cell_type": "code",
      "source": [
        "df['Labels'] = df['Sentiment'].apply(lambda x: generate_labels(x))\n",
        "df"
      ],
      "metadata": {
        "colab": {
          "base_uri": "https://localhost:8080/",
          "height": 424
        },
        "id": "9kLP_VJolTqA",
        "outputId": "5f424b3d-1eae-4029-f95e-05bdab8b5860"
      },
      "execution_count": 22,
      "outputs": [
        {
          "output_type": "execute_result",
          "data": {
            "text/plain": [
              "                                                   Text  Sentiment    Labels\n",
              "0     Kickers on my watchlist XIDE TIT SOQ PNK CPW B...          1  positive\n",
              "1     user: AAP MOVIE. 55% return for the FEA/GEED i...          1  positive\n",
              "2     user I'd be afraid to short AMZN - they are lo...          1  positive\n",
              "3                                     MNTA Over 12.00            1  positive\n",
              "4                                      OI  Over 21.37            1  positive\n",
              "...                                                 ...        ...       ...\n",
              "5786  Industry body CII said #discoms are likely to ...         -1  negative\n",
              "5787  #Gold prices slip below Rs 46,000 as #investor...         -1  negative\n",
              "5788  Workers at Bajaj Auto have agreed to a 10% wag...          1  positive\n",
              "5789  #Sharemarket LIVE: Sensex off day’s high, up 6...          1  positive\n",
              "5790  #Sensex, #Nifty climb off day's highs, still u...          1  positive\n",
              "\n",
              "[5791 rows x 3 columns]"
            ],
            "text/html": [
              "\n",
              "  <div id=\"df-582f77ab-c0cb-492f-9247-535ea3196278\">\n",
              "    <div class=\"colab-df-container\">\n",
              "      <div>\n",
              "<style scoped>\n",
              "    .dataframe tbody tr th:only-of-type {\n",
              "        vertical-align: middle;\n",
              "    }\n",
              "\n",
              "    .dataframe tbody tr th {\n",
              "        vertical-align: top;\n",
              "    }\n",
              "\n",
              "    .dataframe thead th {\n",
              "        text-align: right;\n",
              "    }\n",
              "</style>\n",
              "<table border=\"1\" class=\"dataframe\">\n",
              "  <thead>\n",
              "    <tr style=\"text-align: right;\">\n",
              "      <th></th>\n",
              "      <th>Text</th>\n",
              "      <th>Sentiment</th>\n",
              "      <th>Labels</th>\n",
              "    </tr>\n",
              "  </thead>\n",
              "  <tbody>\n",
              "    <tr>\n",
              "      <th>0</th>\n",
              "      <td>Kickers on my watchlist XIDE TIT SOQ PNK CPW B...</td>\n",
              "      <td>1</td>\n",
              "      <td>positive</td>\n",
              "    </tr>\n",
              "    <tr>\n",
              "      <th>1</th>\n",
              "      <td>user: AAP MOVIE. 55% return for the FEA/GEED i...</td>\n",
              "      <td>1</td>\n",
              "      <td>positive</td>\n",
              "    </tr>\n",
              "    <tr>\n",
              "      <th>2</th>\n",
              "      <td>user I'd be afraid to short AMZN - they are lo...</td>\n",
              "      <td>1</td>\n",
              "      <td>positive</td>\n",
              "    </tr>\n",
              "    <tr>\n",
              "      <th>3</th>\n",
              "      <td>MNTA Over 12.00</td>\n",
              "      <td>1</td>\n",
              "      <td>positive</td>\n",
              "    </tr>\n",
              "    <tr>\n",
              "      <th>4</th>\n",
              "      <td>OI  Over 21.37</td>\n",
              "      <td>1</td>\n",
              "      <td>positive</td>\n",
              "    </tr>\n",
              "    <tr>\n",
              "      <th>...</th>\n",
              "      <td>...</td>\n",
              "      <td>...</td>\n",
              "      <td>...</td>\n",
              "    </tr>\n",
              "    <tr>\n",
              "      <th>5786</th>\n",
              "      <td>Industry body CII said #discoms are likely to ...</td>\n",
              "      <td>-1</td>\n",
              "      <td>negative</td>\n",
              "    </tr>\n",
              "    <tr>\n",
              "      <th>5787</th>\n",
              "      <td>#Gold prices slip below Rs 46,000 as #investor...</td>\n",
              "      <td>-1</td>\n",
              "      <td>negative</td>\n",
              "    </tr>\n",
              "    <tr>\n",
              "      <th>5788</th>\n",
              "      <td>Workers at Bajaj Auto have agreed to a 10% wag...</td>\n",
              "      <td>1</td>\n",
              "      <td>positive</td>\n",
              "    </tr>\n",
              "    <tr>\n",
              "      <th>5789</th>\n",
              "      <td>#Sharemarket LIVE: Sensex off day’s high, up 6...</td>\n",
              "      <td>1</td>\n",
              "      <td>positive</td>\n",
              "    </tr>\n",
              "    <tr>\n",
              "      <th>5790</th>\n",
              "      <td>#Sensex, #Nifty climb off day's highs, still u...</td>\n",
              "      <td>1</td>\n",
              "      <td>positive</td>\n",
              "    </tr>\n",
              "  </tbody>\n",
              "</table>\n",
              "<p>5791 rows × 3 columns</p>\n",
              "</div>\n",
              "      <button class=\"colab-df-convert\" onclick=\"convertToInteractive('df-582f77ab-c0cb-492f-9247-535ea3196278')\"\n",
              "              title=\"Convert this dataframe to an interactive table.\"\n",
              "              style=\"display:none;\">\n",
              "        \n",
              "  <svg xmlns=\"http://www.w3.org/2000/svg\" height=\"24px\"viewBox=\"0 0 24 24\"\n",
              "       width=\"24px\">\n",
              "    <path d=\"M0 0h24v24H0V0z\" fill=\"none\"/>\n",
              "    <path d=\"M18.56 5.44l.94 2.06.94-2.06 2.06-.94-2.06-.94-.94-2.06-.94 2.06-2.06.94zm-11 1L8.5 8.5l.94-2.06 2.06-.94-2.06-.94L8.5 2.5l-.94 2.06-2.06.94zm10 10l.94 2.06.94-2.06 2.06-.94-2.06-.94-.94-2.06-.94 2.06-2.06.94z\"/><path d=\"M17.41 7.96l-1.37-1.37c-.4-.4-.92-.59-1.43-.59-.52 0-1.04.2-1.43.59L10.3 9.45l-7.72 7.72c-.78.78-.78 2.05 0 2.83L4 21.41c.39.39.9.59 1.41.59.51 0 1.02-.2 1.41-.59l7.78-7.78 2.81-2.81c.8-.78.8-2.07 0-2.86zM5.41 20L4 18.59l7.72-7.72 1.47 1.35L5.41 20z\"/>\n",
              "  </svg>\n",
              "      </button>\n",
              "      \n",
              "  <style>\n",
              "    .colab-df-container {\n",
              "      display:flex;\n",
              "      flex-wrap:wrap;\n",
              "      gap: 12px;\n",
              "    }\n",
              "\n",
              "    .colab-df-convert {\n",
              "      background-color: #E8F0FE;\n",
              "      border: none;\n",
              "      border-radius: 50%;\n",
              "      cursor: pointer;\n",
              "      display: none;\n",
              "      fill: #1967D2;\n",
              "      height: 32px;\n",
              "      padding: 0 0 0 0;\n",
              "      width: 32px;\n",
              "    }\n",
              "\n",
              "    .colab-df-convert:hover {\n",
              "      background-color: #E2EBFA;\n",
              "      box-shadow: 0px 1px 2px rgba(60, 64, 67, 0.3), 0px 1px 3px 1px rgba(60, 64, 67, 0.15);\n",
              "      fill: #174EA6;\n",
              "    }\n",
              "\n",
              "    [theme=dark] .colab-df-convert {\n",
              "      background-color: #3B4455;\n",
              "      fill: #D2E3FC;\n",
              "    }\n",
              "\n",
              "    [theme=dark] .colab-df-convert:hover {\n",
              "      background-color: #434B5C;\n",
              "      box-shadow: 0px 1px 3px 1px rgba(0, 0, 0, 0.15);\n",
              "      filter: drop-shadow(0px 1px 2px rgba(0, 0, 0, 0.3));\n",
              "      fill: #FFFFFF;\n",
              "    }\n",
              "  </style>\n",
              "\n",
              "      <script>\n",
              "        const buttonEl =\n",
              "          document.querySelector('#df-582f77ab-c0cb-492f-9247-535ea3196278 button.colab-df-convert');\n",
              "        buttonEl.style.display =\n",
              "          google.colab.kernel.accessAllowed ? 'block' : 'none';\n",
              "\n",
              "        async function convertToInteractive(key) {\n",
              "          const element = document.querySelector('#df-582f77ab-c0cb-492f-9247-535ea3196278');\n",
              "          const dataTable =\n",
              "            await google.colab.kernel.invokeFunction('convertToInteractive',\n",
              "                                                     [key], {});\n",
              "          if (!dataTable) return;\n",
              "\n",
              "          const docLinkHtml = 'Like what you see? Visit the ' +\n",
              "            '<a target=\"_blank\" href=https://colab.research.google.com/notebooks/data_table.ipynb>data table notebook</a>'\n",
              "            + ' to learn more about interactive tables.';\n",
              "          element.innerHTML = '';\n",
              "          dataTable['output_type'] = 'display_data';\n",
              "          await google.colab.output.renderOutput(dataTable, element);\n",
              "          const docLink = document.createElement('div');\n",
              "          docLink.innerHTML = docLinkHtml;\n",
              "          element.appendChild(docLink);\n",
              "        }\n",
              "      </script>\n",
              "    </div>\n",
              "  </div>\n",
              "  "
            ]
          },
          "metadata": {},
          "execution_count": 22
        }
      ]
    },
    {
      "cell_type": "code",
      "source": [
        "results = nlp(df['Text'].tolist())\n",
        "print(results)"
      ],
      "metadata": {
        "colab": {
          "base_uri": "https://localhost:8080/"
        },
        "id": "QOiqxTemlbrq",
        "outputId": "52cfcf84-b564-47c4-e073-31c7628b7e6e"
      },
      "execution_count": 28,
      "outputs": [
        {
          "output_type": "stream",
          "name": "stdout",
          "text": [
            "[{'label': 'Neutral', 'score': 0.9999955892562866}, {'label': 'Neutral', 'score': 0.9996181726455688}, {'label': 'Neutral', 'score': 0.998150110244751}, {'label': 'Neutral', 'score': 0.9243690967559814}, {'label': 'Neutral', 'score': 0.513309121131897}, {'label': 'Neutral', 'score': 0.6940017938613892}, {'label': 'Negative', 'score': 0.8330612182617188}, {'label': 'Negative', 'score': 0.99880051612854}, {'label': 'Neutral', 'score': 0.9998936653137207}, {'label': 'Neutral', 'score': 0.9999995231628418}, {'label': 'Neutral', 'score': 0.8573377728462219}, {'label': 'Negative', 'score': 0.999962568283081}, {'label': 'Positive', 'score': 0.9961819648742676}, {'label': 'Neutral', 'score': 0.8869619965553284}, {'label': 'Positive', 'score': 0.9999998807907104}, {'label': 'Neutral', 'score': 0.9999772310256958}, {'label': 'Neutral', 'score': 0.9999884366989136}, {'label': 'Neutral', 'score': 0.9360244274139404}, {'label': 'Neutral', 'score': 0.9698817133903503}, {'label': 'Neutral', 'score': 0.9999886751174927}, {'label': 'Positive', 'score': 0.9999995231628418}, {'label': 'Neutral', 'score': 0.8955685496330261}, {'label': 'Neutral', 'score': 0.8873466849327087}, {'label': 'Neutral', 'score': 0.9999973773956299}, {'label': 'Neutral', 'score': 0.9997702240943909}, {'label': 'Negative', 'score': 0.559334397315979}, {'label': 'Neutral', 'score': 0.9784594774246216}, {'label': 'Neutral', 'score': 0.9999630451202393}, {'label': 'Positive', 'score': 0.8538298606872559}, {'label': 'Neutral', 'score': 0.9999847412109375}, {'label': 'Positive', 'score': 1.0}, {'label': 'Neutral', 'score': 0.9601256251335144}, {'label': 'Negative', 'score': 0.721205472946167}, {'label': 'Neutral', 'score': 0.9999978542327881}, {'label': 'Negative', 'score': 0.9998098015785217}, {'label': 'Neutral', 'score': 0.9973324537277222}, {'label': 'Positive', 'score': 0.7967053055763245}, {'label': 'Neutral', 'score': 0.9996993541717529}, {'label': 'Neutral', 'score': 0.9867653846740723}, {'label': 'Positive', 'score': 0.5770584940910339}, {'label': 'Neutral', 'score': 0.9972878694534302}, {'label': 'Neutral', 'score': 0.9998189806938171}, {'label': 'Neutral', 'score': 0.9999444484710693}, {'label': 'Positive', 'score': 0.9999998807907104}, {'label': 'Neutral', 'score': 0.9999561309814453}, {'label': 'Positive', 'score': 1.0}, {'label': 'Negative', 'score': 0.9079777002334595}, {'label': 'Positive', 'score': 0.9994858503341675}, {'label': 'Positive', 'score': 0.9999997615814209}, {'label': 'Positive', 'score': 0.999401330947876}, {'label': 'Neutral', 'score': 0.9999788999557495}, {'label': 'Neutral', 'score': 0.9803647994995117}, {'label': 'Neutral', 'score': 0.9998658895492554}, {'label': 'Neutral', 'score': 0.9999932050704956}, {'label': 'Neutral', 'score': 0.7292022109031677}, {'label': 'Neutral', 'score': 0.9997429251670837}, {'label': 'Neutral', 'score': 0.9995286464691162}, {'label': 'Neutral', 'score': 0.869598388671875}, {'label': 'Neutral', 'score': 0.9993743300437927}, {'label': 'Negative', 'score': 0.9999850988388062}, {'label': 'Positive', 'score': 1.0}, {'label': 'Negative', 'score': 0.9895561337471008}, {'label': 'Positive', 'score': 0.9999971389770508}, {'label': 'Neutral', 'score': 0.9999896287918091}, {'label': 'Positive', 'score': 0.9959816932678223}, {'label': 'Positive', 'score': 0.9986944794654846}, {'label': 'Neutral', 'score': 0.9999876022338867}, {'label': 'Neutral', 'score': 0.9999971389770508}, {'label': 'Neutral', 'score': 0.9999821186065674}, {'label': 'Positive', 'score': 0.9999994039535522}, {'label': 'Neutral', 'score': 0.5143142938613892}, {'label': 'Neutral', 'score': 0.9997722506523132}, {'label': 'Neutral', 'score': 0.9999490976333618}, {'label': 'Positive', 'score': 0.8123265504837036}, {'label': 'Neutral', 'score': 0.9999945163726807}, {'label': 'Positive', 'score': 0.9324657320976257}, {'label': 'Neutral', 'score': 0.9999967813491821}, {'label': 'Neutral', 'score': 0.982452392578125}, {'label': 'Neutral', 'score': 0.9999452829360962}, {'label': 'Positive', 'score': 0.9945569038391113}, {'label': 'Positive', 'score': 1.0}, {'label': 'Neutral', 'score': 0.9999953508377075}, {'label': 'Neutral', 'score': 0.9999998807907104}, {'label': 'Neutral', 'score': 0.9991995692253113}, {'label': 'Neutral', 'score': 0.9999982118606567}, {'label': 'Positive', 'score': 0.9999940395355225}, {'label': 'Positive', 'score': 0.9939512014389038}, {'label': 'Neutral', 'score': 0.8754444122314453}, {'label': 'Neutral', 'score': 0.9998040795326233}, {'label': 'Neutral', 'score': 0.999834418296814}, {'label': 'Neutral', 'score': 0.9992623925209045}, {'label': 'Neutral', 'score': 0.9757802486419678}, {'label': 'Neutral', 'score': 0.9999998807907104}, {'label': 'Neutral', 'score': 0.9999948740005493}, {'label': 'Neutral', 'score': 0.5936208963394165}, {'label': 'Neutral', 'score': 0.999984860420227}, {'label': 'Neutral', 'score': 0.9999862909317017}, {'label': 'Neutral', 'score': 0.9998922348022461}, {'label': 'Neutral', 'score': 0.9998584985733032}, {'label': 'Neutral', 'score': 0.9980960488319397}, {'label': 'Neutral', 'score': 0.9999755620956421}, {'label': 'Neutral', 'score': 0.99997878074646}, {'label': 'Neutral', 'score': 0.9996989965438843}, {'label': 'Positive', 'score': 0.9999998807907104}, {'label': 'Neutral', 'score': 0.7681804895401001}, {'label': 'Positive', 'score': 0.9999998807907104}, {'label': 'Negative', 'score': 0.9023270606994629}, {'label': 'Negative', 'score': 0.9999998807907104}, {'label': 'Positive', 'score': 0.9960527420043945}, {'label': 'Neutral', 'score': 0.9909127950668335}, {'label': 'Positive', 'score': 0.9999387264251709}, {'label': 'Neutral', 'score': 0.9999573230743408}, {'label': 'Neutral', 'score': 0.9999605417251587}, {'label': 'Neutral', 'score': 0.9999476671218872}, {'label': 'Negative', 'score': 0.7573622465133667}, {'label': 'Neutral', 'score': 0.7930507063865662}, {'label': 'Neutral', 'score': 0.9992228746414185}, {'label': 'Neutral', 'score': 0.9999711513519287}, {'label': 'Neutral', 'score': 0.8397908806800842}, {'label': 'Neutral', 'score': 0.8925315737724304}, {'label': 'Neutral', 'score': 0.9985563158988953}, {'label': 'Neutral', 'score': 0.9999759197235107}, {'label': 'Negative', 'score': 0.8540394902229309}, {'label': 'Positive', 'score': 1.0}, {'label': 'Neutral', 'score': 0.9844618439674377}, {'label': 'Neutral', 'score': 0.999998927116394}, {'label': 'Neutral', 'score': 0.9992448091506958}, {'label': 'Positive', 'score': 0.8147836327552795}, {'label': 'Neutral', 'score': 0.998171329498291}, {'label': 'Neutral', 'score': 0.9201340079307556}, {'label': 'Positive', 'score': 0.9572217464447021}, {'label': 'Neutral', 'score': 0.7153639793395996}, {'label': 'Neutral', 'score': 0.9989227652549744}, {'label': 'Neutral', 'score': 0.9999278783798218}, {'label': 'Neutral', 'score': 0.9999819993972778}, {'label': 'Neutral', 'score': 0.9999884366989136}, {'label': 'Positive', 'score': 1.0}, {'label': 'Negative', 'score': 0.9992918968200684}, {'label': 'Positive', 'score': 0.9999997615814209}, {'label': 'Positive', 'score': 0.9990348815917969}, {'label': 'Neutral', 'score': 0.9999864101409912}, {'label': 'Positive', 'score': 0.9998094439506531}, {'label': 'Positive', 'score': 0.9973015189170837}, {'label': 'Neutral', 'score': 0.9793462753295898}, {'label': 'Neutral', 'score': 0.9999706745147705}, {'label': 'Positive', 'score': 0.9987154006958008}, {'label': 'Positive', 'score': 0.9999984502792358}, {'label': 'Neutral', 'score': 0.9999401569366455}, {'label': 'Neutral', 'score': 0.9942849278450012}, {'label': 'Neutral', 'score': 0.998760461807251}, {'label': 'Neutral', 'score': 0.5727797150611877}, {'label': 'Neutral', 'score': 0.9999790191650391}, {'label': 'Negative', 'score': 0.9998810291290283}, {'label': 'Neutral', 'score': 0.4661417007446289}, {'label': 'Neutral', 'score': 0.559955894947052}, {'label': 'Positive', 'score': 0.9970104694366455}, {'label': 'Neutral', 'score': 0.9999971389770508}, {'label': 'Neutral', 'score': 0.9999973773956299}, {'label': 'Neutral', 'score': 0.8687102794647217}, {'label': 'Positive', 'score': 0.9949136972427368}, {'label': 'Positive', 'score': 0.9179223775863647}, {'label': 'Neutral', 'score': 0.9998372793197632}, {'label': 'Positive', 'score': 0.9721105098724365}, {'label': 'Neutral', 'score': 0.9999983310699463}, {'label': 'Neutral', 'score': 0.9998596906661987}, {'label': 'Positive', 'score': 0.9947326183319092}, {'label': 'Neutral', 'score': 0.9999730587005615}, {'label': 'Positive', 'score': 0.9964686632156372}, {'label': 'Negative', 'score': 0.49635377526283264}, {'label': 'Positive', 'score': 0.9992294311523438}, {'label': 'Neutral', 'score': 0.999849796295166}, {'label': 'Neutral', 'score': 0.9896610975265503}, {'label': 'Positive', 'score': 0.9956111311912537}, {'label': 'Neutral', 'score': 0.9997840523719788}, {'label': 'Neutral', 'score': 0.9998791217803955}, {'label': 'Neutral', 'score': 0.9998481273651123}, {'label': 'Neutral', 'score': 0.9906454086303711}, {'label': 'Neutral', 'score': 0.9999562501907349}, {'label': 'Neutral', 'score': 0.9999977350234985}, {'label': 'Neutral', 'score': 0.9983466863632202}, {'label': 'Neutral', 'score': 0.9999618530273438}, {'label': 'Neutral', 'score': 0.999278724193573}, {'label': 'Neutral', 'score': 0.9999986886978149}, {'label': 'Positive', 'score': 0.999910831451416}, {'label': 'Neutral', 'score': 0.9999953508377075}, {'label': 'Negative', 'score': 0.9083507061004639}, {'label': 'Neutral', 'score': 0.9995834231376648}, {'label': 'Neutral', 'score': 0.8489117622375488}, {'label': 'Neutral', 'score': 0.829120397567749}, {'label': 'Positive', 'score': 0.9999854564666748}, {'label': 'Positive', 'score': 0.9998354911804199}, {'label': 'Positive', 'score': 0.9172358512878418}, {'label': 'Neutral', 'score': 0.9997779726982117}, {'label': 'Positive', 'score': 0.9998587369918823}, {'label': 'Positive', 'score': 0.9999998807907104}, {'label': 'Neutral', 'score': 0.9999721050262451}, {'label': 'Neutral', 'score': 0.9924672245979309}, {'label': 'Neutral', 'score': 0.9999954700469971}, {'label': 'Neutral', 'score': 0.9962947964668274}, {'label': 'Neutral', 'score': 0.9999922513961792}, {'label': 'Neutral', 'score': 0.9999871253967285}, {'label': 'Neutral', 'score': 0.9640931487083435}, {'label': 'Neutral', 'score': 0.9903880953788757}, {'label': 'Positive', 'score': 0.9425534605979919}, {'label': 'Neutral', 'score': 0.9999808073043823}, {'label': 'Positive', 'score': 0.9999998807907104}, {'label': 'Neutral', 'score': 0.9986704587936401}, {'label': 'Neutral', 'score': 0.9997958540916443}, {'label': 'Neutral', 'score': 0.9994251728057861}, {'label': 'Positive', 'score': 0.9999996423721313}, {'label': 'Positive', 'score': 0.998290479183197}, {'label': 'Positive', 'score': 0.9999897480010986}, {'label': 'Neutral', 'score': 0.9666730761528015}, {'label': 'Positive', 'score': 0.9522327780723572}, {'label': 'Neutral', 'score': 0.9996665716171265}, {'label': 'Neutral', 'score': 0.9999510049819946}, {'label': 'Neutral', 'score': 0.9994675517082214}, {'label': 'Positive', 'score': 0.9790303111076355}, {'label': 'Positive', 'score': 0.9979720711708069}, {'label': 'Neutral', 'score': 0.9974594712257385}, {'label': 'Neutral', 'score': 0.9999821186065674}, {'label': 'Neutral', 'score': 0.9999864101409912}, {'label': 'Neutral', 'score': 0.9997618794441223}, {'label': 'Positive', 'score': 0.9999650716781616}, {'label': 'Neutral', 'score': 0.9971261620521545}, {'label': 'Negative', 'score': 0.5207561254501343}, {'label': 'Negative', 'score': 0.9894276261329651}, {'label': 'Negative', 'score': 0.9510388970375061}, {'label': 'Neutral', 'score': 0.5155718326568604}, {'label': 'Positive', 'score': 0.9999954700469971}, {'label': 'Neutral', 'score': 0.9957326054573059}, {'label': 'Neutral', 'score': 0.9991638660430908}, {'label': 'Neutral', 'score': 0.9961974620819092}, {'label': 'Neutral', 'score': 0.9940860271453857}, {'label': 'Neutral', 'score': 0.9988897442817688}, {'label': 'Positive', 'score': 0.9999998807907104}, {'label': 'Positive', 'score': 0.999697208404541}, {'label': 'Positive', 'score': 0.9999709129333496}, {'label': 'Negative', 'score': 0.9999972581863403}, {'label': 'Neutral', 'score': 0.999962568283081}, {'label': 'Neutral', 'score': 0.9999961853027344}, {'label': 'Neutral', 'score': 0.9999990463256836}, {'label': 'Neutral', 'score': 0.9998652935028076}, {'label': 'Neutral', 'score': 0.9998865127563477}, {'label': 'Neutral', 'score': 0.9949132204055786}, {'label': 'Neutral', 'score': 0.9999940395355225}, {'label': 'Neutral', 'score': 0.9972495436668396}, {'label': 'Neutral', 'score': 0.9680395722389221}, {'label': 'Neutral', 'score': 0.999995231628418}, {'label': 'Positive', 'score': 0.9999998807907104}, {'label': 'Negative', 'score': 0.9889266490936279}, {'label': 'Neutral', 'score': 0.968761682510376}, {'label': 'Neutral', 'score': 0.9033889770507812}, {'label': 'Neutral', 'score': 0.9999593496322632}, {'label': 'Neutral', 'score': 0.9999980926513672}, {'label': 'Positive', 'score': 0.9999995231628418}, {'label': 'Positive', 'score': 0.9996083378791809}, {'label': 'Neutral', 'score': 0.9997321963310242}, {'label': 'Neutral', 'score': 0.9983847141265869}, {'label': 'Neutral', 'score': 0.9264312386512756}, {'label': 'Neutral', 'score': 0.9999915361404419}, {'label': 'Positive', 'score': 0.9997835755348206}, {'label': 'Positive', 'score': 0.9958257675170898}, {'label': 'Negative', 'score': 0.9997610449790955}, {'label': 'Positive', 'score': 0.9999996423721313}, {'label': 'Positive', 'score': 0.9999997615814209}, {'label': 'Positive', 'score': 0.9972278475761414}, {'label': 'Neutral', 'score': 0.9157983064651489}, {'label': 'Neutral', 'score': 0.9999996423721313}, {'label': 'Neutral', 'score': 0.9396443367004395}, {'label': 'Neutral', 'score': 0.9992424249649048}, {'label': 'Positive', 'score': 0.7395625114440918}, {'label': 'Positive', 'score': 0.9999995231628418}, {'label': 'Positive', 'score': 0.9996943473815918}, {'label': 'Positive', 'score': 0.9446563720703125}, {'label': 'Neutral', 'score': 0.9999960660934448}, {'label': 'Positive', 'score': 0.9985236525535583}, {'label': 'Neutral', 'score': 0.9999997615814209}, {'label': 'Neutral', 'score': 0.997539758682251}, {'label': 'Positive', 'score': 0.9999998807907104}, {'label': 'Neutral', 'score': 0.9999986886978149}, {'label': 'Neutral', 'score': 0.9999974966049194}, {'label': 'Positive', 'score': 0.7732893228530884}, {'label': 'Neutral', 'score': 0.9642871618270874}, {'label': 'Positive', 'score': 0.9998192191123962}, {'label': 'Neutral', 'score': 0.9999637603759766}, {'label': 'Neutral', 'score': 0.9999281167984009}, {'label': 'Neutral', 'score': 0.9993733763694763}, {'label': 'Neutral', 'score': 0.5663312077522278}, {'label': 'Neutral', 'score': 0.9806712865829468}, {'label': 'Negative', 'score': 0.9999966621398926}, {'label': 'Negative', 'score': 0.999984622001648}, {'label': 'Neutral', 'score': 0.9999998807907104}, {'label': 'Neutral', 'score': 0.9997534155845642}, {'label': 'Neutral', 'score': 0.9999831914901733}, {'label': 'Neutral', 'score': 0.9999996423721313}, {'label': 'Neutral', 'score': 0.8921039700508118}, {'label': 'Negative', 'score': 0.5016347169876099}, {'label': 'Positive', 'score': 0.9999997615814209}, {'label': 'Positive', 'score': 0.9113337993621826}, {'label': 'Neutral', 'score': 0.5090845227241516}, {'label': 'Neutral', 'score': 0.9999984502792358}, {'label': 'Negative', 'score': 0.9993090629577637}, {'label': 'Neutral', 'score': 0.9999183416366577}, {'label': 'Positive', 'score': 0.8849122524261475}, {'label': 'Negative', 'score': 0.8138471841812134}, {'label': 'Neutral', 'score': 0.9475924968719482}, {'label': 'Positive', 'score': 0.9273156523704529}, {'label': 'Positive', 'score': 0.9998836517333984}, {'label': 'Neutral', 'score': 0.6470571756362915}, {'label': 'Neutral', 'score': 0.9999927282333374}, {'label': 'Positive', 'score': 1.0}, {'label': 'Neutral', 'score': 0.9596148729324341}, {'label': 'Positive', 'score': 1.0}, {'label': 'Neutral', 'score': 0.985937774181366}, {'label': 'Positive', 'score': 1.0}, {'label': 'Positive', 'score': 0.49819645285606384}, {'label': 'Neutral', 'score': 0.9998760223388672}, {'label': 'Neutral', 'score': 0.9999525547027588}, {'label': 'Neutral', 'score': 0.9995111227035522}, {'label': 'Positive', 'score': 0.9705753326416016}, {'label': 'Neutral', 'score': 0.9766913056373596}, {'label': 'Neutral', 'score': 0.9995936751365662}, {'label': 'Neutral', 'score': 0.9999996423721313}, {'label': 'Positive', 'score': 0.5421422719955444}, {'label': 'Neutral', 'score': 0.9999997615814209}, {'label': 'Neutral', 'score': 0.9999467134475708}, {'label': 'Positive', 'score': 0.9916753768920898}, {'label': 'Positive', 'score': 1.0}, {'label': 'Positive', 'score': 1.0}, {'label': 'Neutral', 'score': 0.9999876022338867}, {'label': 'Positive', 'score': 1.0}, {'label': 'Neutral', 'score': 0.6150619387626648}, {'label': 'Neutral', 'score': 0.9999583959579468}, {'label': 'Neutral', 'score': 0.9724677801132202}, {'label': 'Neutral', 'score': 0.9991806149482727}, {'label': 'Neutral', 'score': 0.9999823570251465}, {'label': 'Neutral', 'score': 0.694287121295929}, {'label': 'Negative', 'score': 0.9999297857284546}, {'label': 'Negative', 'score': 0.9999992847442627}, {'label': 'Negative', 'score': 0.9999996423721313}, {'label': 'Negative', 'score': 0.9999873638153076}, {'label': 'Neutral', 'score': 0.999974250793457}, {'label': 'Positive', 'score': 0.9999651908874512}, {'label': 'Neutral', 'score': 0.9983672499656677}, {'label': 'Neutral', 'score': 0.9999716281890869}, {'label': 'Neutral', 'score': 0.9999414682388306}, {'label': 'Neutral', 'score': 0.9833803176879883}, {'label': 'Neutral', 'score': 0.9966186285018921}, {'label': 'Negative', 'score': 0.9999483823776245}, {'label': 'Neutral', 'score': 0.9998807907104492}, {'label': 'Neutral', 'score': 0.9135112762451172}, {'label': 'Neutral', 'score': 0.9999957084655762}, {'label': 'Neutral', 'score': 0.9998912811279297}, {'label': 'Neutral', 'score': 0.7917006015777588}, {'label': 'Neutral', 'score': 0.9996851682662964}, {'label': 'Neutral', 'score': 0.9870358109474182}, {'label': 'Neutral', 'score': 0.9949193596839905}, {'label': 'Neutral', 'score': 0.9993663430213928}, {'label': 'Neutral', 'score': 0.9999419450759888}, {'label': 'Neutral', 'score': 0.9999823570251465}, {'label': 'Neutral', 'score': 0.9169225692749023}, {'label': 'Neutral', 'score': 0.9936104416847229}, {'label': 'Positive', 'score': 0.9999985694885254}, {'label': 'Neutral', 'score': 0.9852054715156555}, {'label': 'Neutral', 'score': 0.999880313873291}, {'label': 'Neutral', 'score': 0.9999449253082275}, {'label': 'Negative', 'score': 0.8632508516311646}, {'label': 'Neutral', 'score': 0.999786913394928}, {'label': 'Neutral', 'score': 0.9992257356643677}, {'label': 'Neutral', 'score': 0.9999638795852661}, {'label': 'Neutral', 'score': 0.9990876913070679}, {'label': 'Positive', 'score': 0.9999904632568359}, {'label': 'Positive', 'score': 0.9999978542327881}, {'label': 'Positive', 'score': 0.9999160766601562}, {'label': 'Positive', 'score': 0.9204987287521362}, {'label': 'Neutral', 'score': 0.7655462026596069}, {'label': 'Neutral', 'score': 0.997225284576416}, {'label': 'Positive', 'score': 0.9999630451202393}, {'label': 'Neutral', 'score': 0.9989743232727051}, {'label': 'Positive', 'score': 1.0}, {'label': 'Positive', 'score': 0.9992045760154724}, {'label': 'Neutral', 'score': 0.9999901056289673}, {'label': 'Negative', 'score': 0.9999998807907104}, {'label': 'Neutral', 'score': 0.9961211085319519}, {'label': 'Negative', 'score': 0.9999997615814209}, {'label': 'Neutral', 'score': 0.7327642440795898}, {'label': 'Neutral', 'score': 0.999997615814209}, {'label': 'Neutral', 'score': 0.9999430179595947}, {'label': 'Neutral', 'score': 0.9999955892562866}, {'label': 'Neutral', 'score': 0.9999619722366333}, {'label': 'Positive', 'score': 1.0}, {'label': 'Neutral', 'score': 0.9997712969779968}, {'label': 'Neutral', 'score': 0.8346354365348816}, {'label': 'Neutral', 'score': 0.9999744892120361}, {'label': 'Neutral', 'score': 0.996891438961029}, {'label': 'Negative', 'score': 0.9997434020042419}, {'label': 'Neutral', 'score': 0.9999933242797852}, {'label': 'Neutral', 'score': 0.9671335816383362}, {'label': 'Negative', 'score': 0.8764099478721619}, {'label': 'Neutral', 'score': 0.9999949932098389}, {'label': 'Neutral', 'score': 0.9975774884223938}, {'label': 'Negative', 'score': 0.9436314702033997}, {'label': 'Neutral', 'score': 0.9963172674179077}, {'label': 'Neutral', 'score': 0.9999133348464966}, {'label': 'Positive', 'score': 0.9999949932098389}, {'label': 'Positive', 'score': 0.9999996423721313}, {'label': 'Positive', 'score': 1.0}, {'label': 'Positive', 'score': 0.9998050332069397}, {'label': 'Positive', 'score': 1.0}, {'label': 'Neutral', 'score': 0.9998072981834412}, {'label': 'Neutral', 'score': 0.9999713897705078}, {'label': 'Neutral', 'score': 0.778289258480072}, {'label': 'Neutral', 'score': 0.6279616355895996}, {'label': 'Neutral', 'score': 0.5258632302284241}, {'label': 'Positive', 'score': 1.0}, {'label': 'Neutral', 'score': 0.9952300786972046}, {'label': 'Neutral', 'score': 0.5162194967269897}, {'label': 'Neutral', 'score': 0.9975298047065735}, {'label': 'Neutral', 'score': 0.9999964237213135}, {'label': 'Neutral', 'score': 0.9972684383392334}, {'label': 'Positive', 'score': 0.9890537261962891}, {'label': 'Neutral', 'score': 0.999605119228363}, {'label': 'Neutral', 'score': 0.986189067363739}, {'label': 'Neutral', 'score': 0.8345105648040771}, {'label': 'Neutral', 'score': 0.9997460246086121}, {'label': 'Neutral', 'score': 0.9999887943267822}, {'label': 'Neutral', 'score': 0.9999995231628418}, {'label': 'Positive', 'score': 0.9573723077774048}, {'label': 'Neutral', 'score': 0.9770874977111816}, {'label': 'Neutral', 'score': 0.9999958276748657}, {'label': 'Negative', 'score': 0.9999995231628418}, {'label': 'Neutral', 'score': 0.999152660369873}, {'label': 'Neutral', 'score': 0.9981313347816467}, {'label': 'Positive', 'score': 0.9992198944091797}, {'label': 'Positive', 'score': 0.999941349029541}, {'label': 'Neutral', 'score': 0.9062920808792114}, {'label': 'Positive', 'score': 0.999767005443573}, {'label': 'Neutral', 'score': 0.9999878406524658}, {'label': 'Negative', 'score': 0.7753241658210754}, {'label': 'Positive', 'score': 0.9999997615814209}, {'label': 'Neutral', 'score': 0.8144510388374329}, {'label': 'Negative', 'score': 0.9962267875671387}, {'label': 'Neutral', 'score': 0.8091869354248047}, {'label': 'Positive', 'score': 0.9542471170425415}, {'label': 'Neutral', 'score': 0.9999995231628418}, {'label': 'Positive', 'score': 0.7004314064979553}, {'label': 'Neutral', 'score': 0.9999946355819702}, {'label': 'Neutral', 'score': 0.9999301433563232}, {'label': 'Neutral', 'score': 0.9999730587005615}, {'label': 'Neutral', 'score': 0.9999020099639893}, {'label': 'Neutral', 'score': 0.999998927116394}, {'label': 'Neutral', 'score': 0.9997122883796692}, {'label': 'Neutral', 'score': 0.9745508432388306}, {'label': 'Neutral', 'score': 0.7064455151557922}, {'label': 'Positive', 'score': 0.8601932525634766}, {'label': 'Neutral', 'score': 0.9999730587005615}, {'label': 'Neutral', 'score': 0.6630259156227112}, {'label': 'Positive', 'score': 0.9983824491500854}, {'label': 'Positive', 'score': 1.0}, {'label': 'Neutral', 'score': 0.9800179600715637}, {'label': 'Negative', 'score': 0.9999179840087891}, {'label': 'Neutral', 'score': 0.999997615814209}, {'label': 'Neutral', 'score': 0.9087560176849365}, {'label': 'Neutral', 'score': 0.9999986886978149}, {'label': 'Neutral', 'score': 0.9999951124191284}, {'label': 'Positive', 'score': 0.7566020488739014}, {'label': 'Neutral', 'score': 0.9463973641395569}, {'label': 'Neutral', 'score': 0.971583902835846}, {'label': 'Neutral', 'score': 0.9997463822364807}, {'label': 'Neutral', 'score': 0.9706573486328125}, {'label': 'Neutral', 'score': 0.9990338087081909}, {'label': 'Negative', 'score': 0.8656936883926392}, {'label': 'Neutral', 'score': 0.9999911785125732}, {'label': 'Negative', 'score': 0.9999901056289673}, {'label': 'Neutral', 'score': 0.8950168490409851}, {'label': 'Neutral', 'score': 0.9897895455360413}, {'label': 'Neutral', 'score': 0.9999994039535522}, {'label': 'Neutral', 'score': 0.9982581734657288}, {'label': 'Neutral', 'score': 0.9208955764770508}, {'label': 'Neutral', 'score': 0.9992207288742065}, {'label': 'Neutral', 'score': 0.9948247671127319}, {'label': 'Neutral', 'score': 0.7056171894073486}, {'label': 'Negative', 'score': 0.9337618947029114}, {'label': 'Neutral', 'score': 0.9999277591705322}, {'label': 'Neutral', 'score': 0.999994158744812}, {'label': 'Neutral', 'score': 0.9999738931655884}, {'label': 'Neutral', 'score': 0.9995710253715515}, {'label': 'Neutral', 'score': 0.9744476675987244}, {'label': 'Neutral', 'score': 0.9999954700469971}, {'label': 'Neutral', 'score': 0.9999984502792358}, {'label': 'Neutral', 'score': 0.9999887943267822}, {'label': 'Neutral', 'score': 0.9999994039535522}, {'label': 'Neutral', 'score': 0.9989815354347229}, {'label': 'Neutral', 'score': 0.9999384880065918}, {'label': 'Neutral', 'score': 0.9997287392616272}, {'label': 'Positive', 'score': 0.9828181266784668}, {'label': 'Negative', 'score': 0.567008376121521}, {'label': 'Positive', 'score': 0.9992978572845459}, {'label': 'Neutral', 'score': 0.9996256828308105}, {'label': 'Neutral', 'score': 0.9695013165473938}, {'label': 'Negative', 'score': 0.9963640570640564}, {'label': 'Neutral', 'score': 0.9831066131591797}, {'label': 'Neutral', 'score': 0.9679388403892517}, {'label': 'Neutral', 'score': 0.9421645402908325}, {'label': 'Neutral', 'score': 0.7009763121604919}, {'label': 'Positive', 'score': 0.9267604351043701}, {'label': 'Positive', 'score': 0.9999998807907104}, {'label': 'Neutral', 'score': 0.9969741106033325}, {'label': 'Positive', 'score': 0.9999794960021973}, {'label': 'Neutral', 'score': 0.999957799911499}, {'label': 'Neutral', 'score': 0.9665768146514893}, {'label': 'Neutral', 'score': 0.9999995231628418}, {'label': 'Neutral', 'score': 0.9693575501441956}, {'label': 'Neutral', 'score': 0.9999065399169922}, {'label': 'Neutral', 'score': 0.999945878982544}, {'label': 'Positive', 'score': 0.942215085029602}, {'label': 'Neutral', 'score': 0.9963478446006775}, {'label': 'Neutral', 'score': 0.9999563694000244}, {'label': 'Neutral', 'score': 0.9999262094497681}, {'label': 'Positive', 'score': 0.9999934434890747}, {'label': 'Positive', 'score': 0.9999980926513672}, {'label': 'Neutral', 'score': 0.9743008017539978}, {'label': 'Positive', 'score': 0.5337398052215576}, {'label': 'Neutral', 'score': 0.9999489784240723}, {'label': 'Neutral', 'score': 0.996859073638916}, {'label': 'Neutral', 'score': 0.9991361498832703}, {'label': 'Neutral', 'score': 0.999994158744812}, {'label': 'Neutral', 'score': 0.9989582300186157}, {'label': 'Neutral', 'score': 0.9871169924736023}, {'label': 'Neutral', 'score': 0.9954828023910522}, {'label': 'Positive', 'score': 0.9999994039535522}, {'label': 'Positive', 'score': 0.9986868500709534}, {'label': 'Neutral', 'score': 0.9999806880950928}, {'label': 'Neutral', 'score': 0.9990184307098389}, {'label': 'Negative', 'score': 0.5828676819801331}, {'label': 'Neutral', 'score': 0.9999630451202393}, {'label': 'Neutral', 'score': 0.9875577688217163}, {'label': 'Neutral', 'score': 0.997560977935791}, {'label': 'Neutral', 'score': 0.9949429631233215}, {'label': 'Neutral', 'score': 0.9999693632125854}, {'label': 'Positive', 'score': 0.9999995231628418}, {'label': 'Neutral', 'score': 0.9995984435081482}, {'label': 'Neutral', 'score': 0.9852728247642517}, {'label': 'Positive', 'score': 0.9999995231628418}, {'label': 'Negative', 'score': 0.47079017758369446}, {'label': 'Positive', 'score': 0.9999359846115112}, {'label': 'Neutral', 'score': 0.689790666103363}, {'label': 'Neutral', 'score': 0.9999985694885254}, {'label': 'Neutral', 'score': 0.9999960660934448}, {'label': 'Neutral', 'score': 0.9991728663444519}, {'label': 'Neutral', 'score': 0.9999927282333374}, {'label': 'Neutral', 'score': 0.9678627848625183}, {'label': 'Positive', 'score': 1.0}, {'label': 'Neutral', 'score': 0.9999260902404785}, {'label': 'Neutral', 'score': 0.8415737152099609}, {'label': 'Neutral', 'score': 0.9994588494300842}, {'label': 'Negative', 'score': 0.9680386781692505}, {'label': 'Positive', 'score': 0.9999998807907104}, {'label': 'Neutral', 'score': 0.99981290102005}, {'label': 'Positive', 'score': 1.0}, {'label': 'Neutral', 'score': 0.9999796152114868}, {'label': 'Neutral', 'score': 0.6990578770637512}, {'label': 'Neutral', 'score': 0.9996706247329712}, {'label': 'Positive', 'score': 0.8411192893981934}, {'label': 'Positive', 'score': 0.9999423027038574}, {'label': 'Positive', 'score': 0.9999873638153076}, {'label': 'Neutral', 'score': 0.9995548129081726}, {'label': 'Negative', 'score': 0.8190473318099976}, {'label': 'Neutral', 'score': 0.9999558925628662}, {'label': 'Positive', 'score': 0.9999995231628418}, {'label': 'Neutral', 'score': 0.9953505992889404}, {'label': 'Neutral', 'score': 0.9999935626983643}, {'label': 'Positive', 'score': 0.9999477863311768}, {'label': 'Positive', 'score': 0.9999781847000122}, {'label': 'Positive', 'score': 0.9633204340934753}, {'label': 'Negative', 'score': 0.9999899864196777}, {'label': 'Negative', 'score': 0.9999583959579468}, {'label': 'Neutral', 'score': 0.9999738931655884}, {'label': 'Neutral', 'score': 0.999900221824646}, {'label': 'Positive', 'score': 0.9999977350234985}, {'label': 'Neutral', 'score': 0.796160101890564}, {'label': 'Positive', 'score': 0.9999990463256836}, {'label': 'Neutral', 'score': 0.999895453453064}, {'label': 'Negative', 'score': 0.8896573185920715}, {'label': 'Negative', 'score': 0.9999885559082031}, {'label': 'Neutral', 'score': 0.955124020576477}, {'label': 'Positive', 'score': 0.9999990463256836}, {'label': 'Neutral', 'score': 0.9995915293693542}, {'label': 'Neutral', 'score': 0.8428134322166443}, {'label': 'Neutral', 'score': 0.999954104423523}, {'label': 'Neutral', 'score': 0.9939992427825928}, {'label': 'Positive', 'score': 0.9999353885650635}, {'label': 'Neutral', 'score': 0.9997933506965637}, {'label': 'Positive', 'score': 1.0}, {'label': 'Neutral', 'score': 0.9996323585510254}, {'label': 'Positive', 'score': 0.9991140961647034}, {'label': 'Neutral', 'score': 0.9928895235061646}, {'label': 'Neutral', 'score': 0.6450821757316589}, {'label': 'Neutral', 'score': 0.9999862909317017}, {'label': 'Neutral', 'score': 0.8557042479515076}, {'label': 'Neutral', 'score': 0.9974225759506226}, {'label': 'Positive', 'score': 0.9999022483825684}, {'label': 'Negative', 'score': 0.999992847442627}, {'label': 'Neutral', 'score': 0.9993770718574524}, {'label': 'Neutral', 'score': 0.999652624130249}, {'label': 'Neutral', 'score': 0.999396800994873}, {'label': 'Neutral', 'score': 0.9999904632568359}, {'label': 'Positive', 'score': 0.8980369567871094}, {'label': 'Neutral', 'score': 0.9999902248382568}, {'label': 'Neutral', 'score': 0.9999500513076782}, {'label': 'Neutral', 'score': 0.9999903440475464}, {'label': 'Positive', 'score': 0.96131831407547}, {'label': 'Neutral', 'score': 0.9999275207519531}, {'label': 'Neutral', 'score': 0.891797661781311}, {'label': 'Negative', 'score': 0.8696871399879456}, {'label': 'Neutral', 'score': 0.9998949766159058}, {'label': 'Neutral', 'score': 0.9997979998588562}, {'label': 'Neutral', 'score': 0.7264209985733032}, {'label': 'Neutral', 'score': 0.9990924596786499}, {'label': 'Neutral', 'score': 0.9987714886665344}, {'label': 'Positive', 'score': 0.9999626874923706}, {'label': 'Positive', 'score': 0.9999992847442627}, {'label': 'Neutral', 'score': 0.9981867671012878}, {'label': 'Positive', 'score': 0.9986913800239563}, {'label': 'Neutral', 'score': 0.9999994039535522}, {'label': 'Neutral', 'score': 0.9655922651290894}, {'label': 'Positive', 'score': 0.9951009154319763}, {'label': 'Neutral', 'score': 0.9989866614341736}, {'label': 'Neutral', 'score': 0.9916485548019409}, {'label': 'Positive', 'score': 0.9999991655349731}, {'label': 'Neutral', 'score': 0.9987568855285645}, {'label': 'Neutral', 'score': 0.9999066591262817}, {'label': 'Neutral', 'score': 0.9996342658996582}, {'label': 'Positive', 'score': 0.9999912977218628}, {'label': 'Neutral', 'score': 0.9985842704772949}, {'label': 'Neutral', 'score': 0.9902040958404541}, {'label': 'Neutral', 'score': 0.9999994039535522}, {'label': 'Negative', 'score': 0.8154246211051941}, {'label': 'Neutral', 'score': 0.9999853372573853}, {'label': 'Neutral', 'score': 0.9999959468841553}, {'label': 'Negative', 'score': 0.9811511635780334}, {'label': 'Neutral', 'score': 0.9998729228973389}, {'label': 'Neutral', 'score': 0.9928134083747864}, {'label': 'Neutral', 'score': 0.999010443687439}, {'label': 'Negative', 'score': 0.9996234178543091}, {'label': 'Neutral', 'score': 0.9993528723716736}, {'label': 'Neutral', 'score': 0.9998237490653992}, {'label': 'Neutral', 'score': 0.9977163076400757}, {'label': 'Negative', 'score': 0.7822754979133606}, {'label': 'Neutral', 'score': 0.9969744682312012}, {'label': 'Positive', 'score': 0.998443067073822}, {'label': 'Neutral', 'score': 0.988204836845398}, {'label': 'Negative', 'score': 0.8989732265472412}, {'label': 'Positive', 'score': 0.9989349246025085}, {'label': 'Neutral', 'score': 0.9999891519546509}, {'label': 'Neutral', 'score': 0.9988059997558594}, {'label': 'Neutral', 'score': 0.9999874830245972}, {'label': 'Neutral', 'score': 0.9980981945991516}, {'label': 'Negative', 'score': 0.839819610118866}, {'label': 'Negative', 'score': 0.9983081817626953}, {'label': 'Negative', 'score': 0.9999762773513794}, {'label': 'Neutral', 'score': 0.8893269896507263}, {'label': 'Neutral', 'score': 0.9999697208404541}, {'label': 'Neutral', 'score': 0.9998465776443481}, {'label': 'Neutral', 'score': 0.9999676942825317}, {'label': 'Neutral', 'score': 0.9999871253967285}, {'label': 'Neutral', 'score': 0.9999212026596069}, {'label': 'Negative', 'score': 0.9744365811347961}, {'label': 'Neutral', 'score': 0.9465035200119019}, {'label': 'Positive', 'score': 0.9999997615814209}, {'label': 'Positive', 'score': 0.997542142868042}, {'label': 'Positive', 'score': 0.5159956812858582}, {'label': 'Negative', 'score': 0.9977527260780334}, {'label': 'Positive', 'score': 1.0}, {'label': 'Neutral', 'score': 0.9999796152114868}, {'label': 'Neutral', 'score': 0.999249279499054}, {'label': 'Neutral', 'score': 0.99924635887146}, {'label': 'Positive', 'score': 0.9992744326591492}, {'label': 'Positive', 'score': 0.9999998807907104}, {'label': 'Neutral', 'score': 0.9909652471542358}, {'label': 'Positive', 'score': 0.9913703203201294}, {'label': 'Neutral', 'score': 0.994659960269928}, {'label': 'Neutral', 'score': 0.9997300505638123}, {'label': 'Neutral', 'score': 0.9998680353164673}, {'label': 'Neutral', 'score': 0.9999994039535522}, {'label': 'Negative', 'score': 0.970428466796875}, {'label': 'Neutral', 'score': 0.999997615814209}, {'label': 'Negative', 'score': 0.9999005794525146}, {'label': 'Neutral', 'score': 0.9999212026596069}, {'label': 'Positive', 'score': 0.9946461319923401}, {'label': 'Neutral', 'score': 0.9999842643737793}, {'label': 'Neutral', 'score': 0.9976746439933777}, {'label': 'Positive', 'score': 0.9996888637542725}, {'label': 'Positive', 'score': 1.0}, {'label': 'Negative', 'score': 0.9999363422393799}, {'label': 'Positive', 'score': 1.0}, {'label': 'Neutral', 'score': 0.9999338388442993}, {'label': 'Positive', 'score': 0.9999998807907104}, {'label': 'Neutral', 'score': 0.9989079236984253}, {'label': 'Neutral', 'score': 0.9999996423721313}, {'label': 'Positive', 'score': 0.9256396293640137}, {'label': 'Neutral', 'score': 0.9993476271629333}, {'label': 'Neutral', 'score': 0.7314422726631165}, {'label': 'Negative', 'score': 0.9999551773071289}, {'label': 'Positive', 'score': 0.9997974038124084}, {'label': 'Negative', 'score': 0.9989626407623291}, {'label': 'Positive', 'score': 0.7579854726791382}, {'label': 'Neutral', 'score': 0.9987824559211731}, {'label': 'Neutral', 'score': 0.9996439218521118}, {'label': 'Positive', 'score': 0.9985818862915039}, {'label': 'Neutral', 'score': 0.997676432132721}, {'label': 'Neutral', 'score': 0.9999474287033081}, {'label': 'Positive', 'score': 0.9927567839622498}, {'label': 'Neutral', 'score': 0.9999967813491821}, {'label': 'Neutral', 'score': 0.9999794960021973}, {'label': 'Neutral', 'score': 0.999581515789032}, {'label': 'Positive', 'score': 1.0}, {'label': 'Neutral', 'score': 0.9998601675033569}, {'label': 'Neutral', 'score': 0.9932045936584473}, {'label': 'Neutral', 'score': 0.7720910310745239}, {'label': 'Neutral', 'score': 0.9999569654464722}, {'label': 'Neutral', 'score': 0.9999834299087524}, {'label': 'Negative', 'score': 0.7584389448165894}, {'label': 'Neutral', 'score': 0.9909035563468933}, {'label': 'Neutral', 'score': 0.9964229464530945}, {'label': 'Neutral', 'score': 0.9961769580841064}, {'label': 'Neutral', 'score': 0.9999599456787109}, {'label': 'Positive', 'score': 0.9954837560653687}, {'label': 'Neutral', 'score': 0.997977077960968}, {'label': 'Neutral', 'score': 0.9975011944770813}, {'label': 'Positive', 'score': 0.9999983310699463}, {'label': 'Neutral', 'score': 0.9999439716339111}, {'label': 'Positive', 'score': 1.0}, {'label': 'Neutral', 'score': 0.6350581049919128}, {'label': 'Neutral', 'score': 0.9999779462814331}, {'label': 'Neutral', 'score': 0.9794875979423523}, {'label': 'Positive', 'score': 0.9999997615814209}, {'label': 'Neutral', 'score': 0.9999947547912598}, {'label': 'Neutral', 'score': 0.9997947812080383}, {'label': 'Neutral', 'score': 0.9999934434890747}, {'label': 'Neutral', 'score': 0.9990346431732178}, {'label': 'Neutral', 'score': 0.997687816619873}, {'label': 'Negative', 'score': 0.6648759841918945}, {'label': 'Neutral', 'score': 0.9999855756759644}, {'label': 'Positive', 'score': 0.9999998807907104}, {'label': 'Positive', 'score': 0.9988473653793335}, {'label': 'Positive', 'score': 1.0}, {'label': 'Positive', 'score': 0.9295470118522644}, {'label': 'Negative', 'score': 0.7369111776351929}, {'label': 'Positive', 'score': 0.9999912977218628}, {'label': 'Neutral', 'score': 0.9996122717857361}, {'label': 'Neutral', 'score': 0.9784225821495056}, {'label': 'Neutral', 'score': 0.9928498268127441}, {'label': 'Neutral', 'score': 0.7345055937767029}, {'label': 'Neutral', 'score': 0.818818986415863}, {'label': 'Negative', 'score': 0.9212337732315063}, {'label': 'Neutral', 'score': 0.9976413249969482}, {'label': 'Neutral', 'score': 0.8092352747917175}, {'label': 'Positive', 'score': 0.9999984502792358}, {'label': 'Positive', 'score': 0.7152627110481262}, {'label': 'Neutral', 'score': 0.9998317956924438}, {'label': 'Neutral', 'score': 0.9999611377716064}, {'label': 'Neutral', 'score': 0.9941439032554626}, {'label': 'Positive', 'score': 0.9999799728393555}, {'label': 'Positive', 'score': 0.9999932050704956}, {'label': 'Neutral', 'score': 0.9980629086494446}, {'label': 'Neutral', 'score': 0.9989168643951416}, {'label': 'Neutral', 'score': 0.8876786231994629}, {'label': 'Neutral', 'score': 0.9989946484565735}, {'label': 'Positive', 'score': 0.9648534655570984}, {'label': 'Neutral', 'score': 0.8386085629463196}, {'label': 'Positive', 'score': 0.998831570148468}, {'label': 'Neutral', 'score': 0.9951280355453491}, {'label': 'Neutral', 'score': 0.539967954158783}, {'label': 'Positive', 'score': 0.9997612833976746}, {'label': 'Neutral', 'score': 0.9995842576026917}, {'label': 'Positive', 'score': 1.0}, {'label': 'Neutral', 'score': 0.9999516010284424}, {'label': 'Neutral', 'score': 0.9931615591049194}, {'label': 'Neutral', 'score': 0.9936261177062988}, {'label': 'Neutral', 'score': 0.9999111890792847}, {'label': 'Neutral', 'score': 0.9999784231185913}, {'label': 'Positive', 'score': 0.9910082221031189}, {'label': 'Neutral', 'score': 0.9941375255584717}, {'label': 'Positive', 'score': 0.9999741315841675}, {'label': 'Neutral', 'score': 0.9849694967269897}, {'label': 'Negative', 'score': 0.9999978542327881}, {'label': 'Neutral', 'score': 0.9749932885169983}, {'label': 'Neutral', 'score': 0.9999744892120361}, {'label': 'Neutral', 'score': 0.9999521970748901}, {'label': 'Neutral', 'score': 0.9999963045120239}, {'label': 'Neutral', 'score': 0.9989927411079407}, {'label': 'Neutral', 'score': 0.5019525289535522}, {'label': 'Positive', 'score': 1.0}, {'label': 'Neutral', 'score': 0.9999901056289673}, {'label': 'Neutral', 'score': 0.9921740293502808}, {'label': 'Positive', 'score': 0.6068416237831116}, {'label': 'Neutral', 'score': 0.9999904632568359}, {'label': 'Neutral', 'score': 0.9999858140945435}, {'label': 'Neutral', 'score': 0.9994910955429077}, {'label': 'Neutral', 'score': 0.9965927004814148}, {'label': 'Neutral', 'score': 0.999745786190033}, {'label': 'Positive', 'score': 0.9762855768203735}, {'label': 'Neutral', 'score': 0.9999639987945557}, {'label': 'Positive', 'score': 0.9890711307525635}, {'label': 'Neutral', 'score': 0.990656852722168}, {'label': 'Neutral', 'score': 0.9999984502792358}, {'label': 'Neutral', 'score': 0.9999934434890747}, {'label': 'Neutral', 'score': 0.993506908416748}, {'label': 'Neutral', 'score': 0.9972954392433167}, {'label': 'Negative', 'score': 0.5049346089363098}, {'label': 'Neutral', 'score': 0.9886320233345032}, {'label': 'Positive', 'score': 1.0}, {'label': 'Negative', 'score': 0.9999611377716064}, {'label': 'Neutral', 'score': 0.9960673451423645}, {'label': 'Negative', 'score': 0.9999996423721313}, {'label': 'Neutral', 'score': 0.9999973773956299}, {'label': 'Neutral', 'score': 0.9994179010391235}, {'label': 'Neutral', 'score': 0.9999488592147827}, {'label': 'Neutral', 'score': 0.9998835325241089}, {'label': 'Negative', 'score': 0.6776562929153442}, {'label': 'Neutral', 'score': 0.9970766305923462}, {'label': 'Neutral', 'score': 0.9767109751701355}, {'label': 'Neutral', 'score': 0.9999638795852661}, {'label': 'Positive', 'score': 0.9987396597862244}, {'label': 'Neutral', 'score': 0.9968454241752625}, {'label': 'Neutral', 'score': 0.9999997615814209}, {'label': 'Neutral', 'score': 0.998467743396759}, {'label': 'Neutral', 'score': 0.9999992847442627}, {'label': 'Neutral', 'score': 0.7689257264137268}, {'label': 'Neutral', 'score': 0.9991568326950073}, {'label': 'Neutral', 'score': 0.9267176985740662}, {'label': 'Positive', 'score': 0.8448431491851807}, {'label': 'Neutral', 'score': 0.9787204265594482}, {'label': 'Positive', 'score': 1.0}, {'label': 'Neutral', 'score': 0.9338383078575134}, {'label': 'Negative', 'score': 0.9812641143798828}, {'label': 'Positive', 'score': 0.9999650716781616}, {'label': 'Positive', 'score': 1.0}, {'label': 'Neutral', 'score': 0.9999799728393555}, {'label': 'Neutral', 'score': 0.9999903440475464}, {'label': 'Neutral', 'score': 0.9999998807907104}, {'label': 'Neutral', 'score': 0.999828577041626}, {'label': 'Neutral', 'score': 0.9999947547912598}, {'label': 'Neutral', 'score': 0.999923825263977}, {'label': 'Positive', 'score': 0.7085472941398621}, {'label': 'Neutral', 'score': 0.9999576807022095}, {'label': 'Neutral', 'score': 0.9988375306129456}, {'label': 'Neutral', 'score': 0.997760534286499}, {'label': 'Neutral', 'score': 0.9999988079071045}, {'label': 'Neutral', 'score': 0.9991462230682373}, {'label': 'Neutral', 'score': 0.9999910593032837}, {'label': 'Neutral', 'score': 0.9999936819076538}, {'label': 'Neutral', 'score': 0.9924647808074951}, {'label': 'Positive', 'score': 0.9999996423721313}, {'label': 'Positive', 'score': 0.6863020062446594}, {'label': 'Neutral', 'score': 0.9999996423721313}, {'label': 'Positive', 'score': 0.9999855756759644}, {'label': 'Neutral', 'score': 0.5882510542869568}, {'label': 'Neutral', 'score': 0.9996964931488037}, {'label': 'Positive', 'score': 0.9999998807907104}, {'label': 'Neutral', 'score': 0.9999923706054688}, {'label': 'Neutral', 'score': 0.9999303817749023}, {'label': 'Positive', 'score': 0.9992971420288086}, {'label': 'Neutral', 'score': 0.9968823194503784}, {'label': 'Positive', 'score': 0.999998927116394}, {'label': 'Negative', 'score': 0.9525288343429565}, {'label': 'Positive', 'score': 0.9998038411140442}, {'label': 'Neutral', 'score': 0.7551764249801636}, {'label': 'Neutral', 'score': 0.9941551089286804}, {'label': 'Neutral', 'score': 0.999377965927124}, {'label': 'Neutral', 'score': 0.9692655801773071}, {'label': 'Neutral', 'score': 0.8856072425842285}, {'label': 'Neutral', 'score': 0.9999067783355713}, {'label': 'Neutral', 'score': 0.9999914169311523}, {'label': 'Positive', 'score': 0.9966206550598145}, {'label': 'Neutral', 'score': 0.9994818568229675}, {'label': 'Negative', 'score': 0.5222842693328857}, {'label': 'Positive', 'score': 1.0}, {'label': 'Neutral', 'score': 0.9999971389770508}, {'label': 'Neutral', 'score': 0.9572405219078064}, {'label': 'Positive', 'score': 0.9999998807907104}, {'label': 'Neutral', 'score': 0.9981825351715088}, {'label': 'Neutral', 'score': 0.9977893829345703}, {'label': 'Neutral', 'score': 0.9937394857406616}, {'label': 'Neutral', 'score': 0.9979068040847778}, {'label': 'Neutral', 'score': 0.9988590478897095}, {'label': 'Positive', 'score': 0.9999955892562866}, {'label': 'Neutral', 'score': 0.9527350068092346}, {'label': 'Negative', 'score': 0.8894044160842896}, {'label': 'Neutral', 'score': 0.9952064156532288}, {'label': 'Neutral', 'score': 0.9998502731323242}, {'label': 'Neutral', 'score': 0.9999964237213135}, {'label': 'Neutral', 'score': 0.9999736547470093}, {'label': 'Neutral', 'score': 0.9999873638153076}, {'label': 'Positive', 'score': 0.9999998807907104}, {'label': 'Neutral', 'score': 0.549218475818634}, {'label': 'Neutral', 'score': 0.8540491461753845}, {'label': 'Neutral', 'score': 0.9999923706054688}, {'label': 'Negative', 'score': 0.9818834066390991}, {'label': 'Positive', 'score': 0.9931013584136963}, {'label': 'Neutral', 'score': 0.9991304278373718}, {'label': 'Neutral', 'score': 0.9999518394470215}, {'label': 'Neutral', 'score': 0.9999963045120239}, {'label': 'Positive', 'score': 0.9988271594047546}, {'label': 'Positive', 'score': 0.9976674914360046}, {'label': 'Positive', 'score': 0.9999552965164185}, {'label': 'Negative', 'score': 0.9961948394775391}, {'label': 'Neutral', 'score': 0.5776129961013794}, {'label': 'Neutral', 'score': 0.9997512698173523}, {'label': 'Neutral', 'score': 0.9997612833976746}, {'label': 'Neutral', 'score': 0.5380074977874756}, {'label': 'Neutral', 'score': 0.9993833303451538}, {'label': 'Neutral', 'score': 0.9997995495796204}, {'label': 'Positive', 'score': 0.9545232653617859}, {'label': 'Neutral', 'score': 0.9987533092498779}, {'label': 'Neutral', 'score': 0.9699344635009766}, {'label': 'Neutral', 'score': 0.6413658261299133}, {'label': 'Neutral', 'score': 0.9995349645614624}, {'label': 'Neutral', 'score': 0.9996542930603027}, {'label': 'Negative', 'score': 0.6823618412017822}, {'label': 'Neutral', 'score': 0.9999896287918091}, {'label': 'Positive', 'score': 0.9999997615814209}, {'label': 'Negative', 'score': 0.9656957387924194}, {'label': 'Neutral', 'score': 0.9995673298835754}, {'label': 'Neutral', 'score': 0.8206284046173096}, {'label': 'Neutral', 'score': 0.9993284940719604}, {'label': 'Neutral', 'score': 0.9871783256530762}, {'label': 'Negative', 'score': 0.9999942779541016}, {'label': 'Neutral', 'score': 0.9999513626098633}, {'label': 'Neutral', 'score': 0.8427173495292664}, {'label': 'Neutral', 'score': 0.9999954700469971}, {'label': 'Positive', 'score': 0.9999016523361206}, {'label': 'Neutral', 'score': 0.9990131855010986}, {'label': 'Neutral', 'score': 0.9999680519104004}, {'label': 'Neutral', 'score': 0.9985822439193726}, {'label': 'Positive', 'score': 0.999994158744812}, {'label': 'Positive', 'score': 0.9999986886978149}, {'label': 'Positive', 'score': 0.9999994039535522}, {'label': 'Positive', 'score': 0.9988839030265808}, {'label': 'Positive', 'score': 0.6435292959213257}, {'label': 'Positive', 'score': 0.9999998807907104}, {'label': 'Positive', 'score': 0.9999953508377075}, {'label': 'Neutral', 'score': 0.9990812540054321}, {'label': 'Negative', 'score': 0.9972122311592102}, {'label': 'Negative', 'score': 0.9999994039535522}, {'label': 'Neutral', 'score': 0.9831119179725647}, {'label': 'Neutral', 'score': 0.9998612403869629}, {'label': 'Positive', 'score': 0.9834069609642029}, {'label': 'Neutral', 'score': 0.9901455044746399}, {'label': 'Neutral', 'score': 0.9981734752655029}, {'label': 'Neutral', 'score': 0.9591251015663147}, {'label': 'Positive', 'score': 0.9999523162841797}, {'label': 'Neutral', 'score': 0.993718147277832}, {'label': 'Negative', 'score': 0.6011816263198853}, {'label': 'Neutral', 'score': 0.9999991655349731}, {'label': 'Neutral', 'score': 0.9998748302459717}, {'label': 'Neutral', 'score': 0.9999665021896362}, {'label': 'Positive', 'score': 0.9999958276748657}, {'label': 'Neutral', 'score': 0.9993177652359009}, {'label': 'Neutral', 'score': 0.9998965263366699}, {'label': 'Negative', 'score': 0.9999673366546631}, {'label': 'Positive', 'score': 0.9999957084655762}, {'label': 'Negative', 'score': 0.9999935626983643}, {'label': 'Neutral', 'score': 0.9999858140945435}, {'label': 'Neutral', 'score': 0.9999996423721313}, {'label': 'Negative', 'score': 0.5813782811164856}, {'label': 'Neutral', 'score': 0.9999737739562988}, {'label': 'Negative', 'score': 0.9959169030189514}, {'label': 'Neutral', 'score': 0.9998695850372314}, {'label': 'Neutral', 'score': 0.661045253276825}, {'label': 'Positive', 'score': 0.9999998807907104}, {'label': 'Neutral', 'score': 0.9999979734420776}, {'label': 'Neutral', 'score': 0.9618051648139954}, {'label': 'Neutral', 'score': 0.9134351015090942}, {'label': 'Neutral', 'score': 0.7703823447227478}, {'label': 'Neutral', 'score': 0.9996880292892456}, {'label': 'Neutral', 'score': 0.9997773766517639}, {'label': 'Neutral', 'score': 0.9107372760772705}, {'label': 'Neutral', 'score': 0.9974027276039124}, {'label': 'Negative', 'score': 0.9994938373565674}, {'label': 'Positive', 'score': 0.9998212456703186}, {'label': 'Neutral', 'score': 0.9709553122520447}, {'label': 'Neutral', 'score': 0.9090186953544617}, {'label': 'Neutral', 'score': 0.9999809265136719}, {'label': 'Neutral', 'score': 0.9999591112136841}, {'label': 'Negative', 'score': 0.9515830278396606}, {'label': 'Negative', 'score': 0.9923589825630188}, {'label': 'Positive', 'score': 0.9999986886978149}, {'label': 'Negative', 'score': 0.9851853847503662}, {'label': 'Neutral', 'score': 0.9999939203262329}, {'label': 'Positive', 'score': 0.9999995231628418}, {'label': 'Neutral', 'score': 0.9999997615814209}, {'label': 'Neutral', 'score': 0.998508870601654}, {'label': 'Neutral', 'score': 0.9999997615814209}, {'label': 'Neutral', 'score': 0.9972116351127625}, {'label': 'Negative', 'score': 0.998350977897644}, {'label': 'Positive', 'score': 0.9998840093612671}, {'label': 'Neutral', 'score': 0.9999983310699463}, {'label': 'Positive', 'score': 0.9728305339813232}, {'label': 'Negative', 'score': 0.9999946355819702}, {'label': 'Positive', 'score': 0.9473866820335388}, {'label': 'Negative', 'score': 0.9985566735267639}, {'label': 'Neutral', 'score': 0.9999886751174927}, {'label': 'Positive', 'score': 0.9993711113929749}, {'label': 'Neutral', 'score': 0.9465819001197815}, {'label': 'Neutral', 'score': 0.9999997615814209}, {'label': 'Neutral', 'score': 0.9971025586128235}, {'label': 'Positive', 'score': 0.7759608626365662}, {'label': 'Neutral', 'score': 0.9999817609786987}, {'label': 'Positive', 'score': 0.9999997615814209}, {'label': 'Neutral', 'score': 0.9991655349731445}, {'label': 'Neutral', 'score': 0.9945188164710999}, {'label': 'Neutral', 'score': 0.9993693232536316}, {'label': 'Neutral', 'score': 0.9435481429100037}, {'label': 'Neutral', 'score': 0.999982476234436}, {'label': 'Neutral', 'score': 0.9977524876594543}, {'label': 'Neutral', 'score': 0.9999982118606567}, {'label': 'Neutral', 'score': 0.9999852180480957}, {'label': 'Positive', 'score': 1.0}, {'label': 'Positive', 'score': 1.0}, {'label': 'Positive', 'score': 1.0}, {'label': 'Positive', 'score': 1.0}, {'label': 'Positive', 'score': 1.0}, {'label': 'Negative', 'score': 0.9265648126602173}, {'label': 'Positive', 'score': 0.9999998807907104}, {'label': 'Neutral', 'score': 0.9873701333999634}, {'label': 'Neutral', 'score': 0.9935591816902161}, {'label': 'Neutral', 'score': 0.9875165224075317}, {'label': 'Negative', 'score': 0.9999685287475586}, {'label': 'Neutral', 'score': 0.9999005794525146}, {'label': 'Neutral', 'score': 0.9965401887893677}, {'label': 'Positive', 'score': 0.9999916553497314}, {'label': 'Neutral', 'score': 0.9999972581863403}, {'label': 'Neutral', 'score': 0.9999943971633911}, {'label': 'Neutral', 'score': 0.9969889521598816}, {'label': 'Neutral', 'score': 0.9996510744094849}, {'label': 'Neutral', 'score': 0.999997615814209}, {'label': 'Neutral', 'score': 0.9994439482688904}, {'label': 'Neutral', 'score': 0.9996417760848999}, {'label': 'Positive', 'score': 0.9999786615371704}, {'label': 'Positive', 'score': 0.8970933556556702}, {'label': 'Neutral', 'score': 0.9768327474594116}, {'label': 'Negative', 'score': 0.9077296257019043}, {'label': 'Neutral', 'score': 0.9992376565933228}, {'label': 'Neutral', 'score': 0.9996969699859619}, {'label': 'Neutral', 'score': 0.9999754428863525}, {'label': 'Neutral', 'score': 0.9982470273971558}, {'label': 'Positive', 'score': 0.9996153116226196}, {'label': 'Neutral', 'score': 0.9999980926513672}, {'label': 'Neutral', 'score': 0.9975666999816895}, {'label': 'Positive', 'score': 1.0}, {'label': 'Neutral', 'score': 0.9999967813491821}, {'label': 'Positive', 'score': 1.0}, {'label': 'Positive', 'score': 0.9990585446357727}, {'label': 'Positive', 'score': 0.9999274015426636}, {'label': 'Neutral', 'score': 0.9999942779541016}, {'label': 'Neutral', 'score': 0.9998375177383423}, {'label': 'Neutral', 'score': 0.9994149208068848}, {'label': 'Neutral', 'score': 0.9999097585678101}, {'label': 'Neutral', 'score': 0.9988844990730286}, {'label': 'Neutral', 'score': 0.999893307685852}, {'label': 'Positive', 'score': 0.9943686127662659}, {'label': 'Neutral', 'score': 0.9999895095825195}, {'label': 'Neutral', 'score': 0.9999033212661743}, {'label': 'Neutral', 'score': 0.9992901086807251}, {'label': 'Negative', 'score': 0.8581530451774597}, {'label': 'Neutral', 'score': 0.9854734539985657}, {'label': 'Negative', 'score': 0.694205641746521}, {'label': 'Neutral', 'score': 0.9999953508377075}, {'label': 'Positive', 'score': 0.9999970197677612}, {'label': 'Neutral', 'score': 0.9999998807907104}, {'label': 'Positive', 'score': 0.9889512658119202}, {'label': 'Neutral', 'score': 0.9999997615814209}, {'label': 'Neutral', 'score': 0.9957072734832764}, {'label': 'Neutral', 'score': 0.5701519250869751}, {'label': 'Negative', 'score': 0.9760702252388}, {'label': 'Neutral', 'score': 0.9998435974121094}, {'label': 'Neutral', 'score': 0.9999992847442627}, {'label': 'Positive', 'score': 0.8777745366096497}, {'label': 'Positive', 'score': 0.9999997615814209}, {'label': 'Neutral', 'score': 0.7843442559242249}, {'label': 'Neutral', 'score': 0.9721701145172119}, {'label': 'Negative', 'score': 0.810731828212738}, {'label': 'Neutral', 'score': 0.9999997615814209}, {'label': 'Positive', 'score': 1.0}, {'label': 'Positive', 'score': 0.9999595880508423}, {'label': 'Positive', 'score': 0.9990872144699097}, {'label': 'Neutral', 'score': 0.8430717587471008}, {'label': 'Neutral', 'score': 0.9994298815727234}, {'label': 'Neutral', 'score': 0.8398131728172302}, {'label': 'Neutral', 'score': 0.8947436213493347}, {'label': 'Neutral', 'score': 0.9999353885650635}, {'label': 'Positive', 'score': 0.9995782971382141}, {'label': 'Neutral', 'score': 0.9968036413192749}, {'label': 'Negative', 'score': 0.9989957213401794}, {'label': 'Neutral', 'score': 0.678697943687439}, {'label': 'Neutral', 'score': 0.9435745477676392}, {'label': 'Neutral', 'score': 0.999934196472168}, {'label': 'Neutral', 'score': 0.8810325860977173}, {'label': 'Neutral', 'score': 0.9999637603759766}, {'label': 'Neutral', 'score': 0.9877449870109558}, {'label': 'Neutral', 'score': 0.999748170375824}, {'label': 'Neutral', 'score': 0.7463217973709106}, {'label': 'Positive', 'score': 0.9999997615814209}, {'label': 'Neutral', 'score': 0.999931812286377}, {'label': 'Positive', 'score': 1.0}, {'label': 'Neutral', 'score': 0.994524359703064}, {'label': 'Neutral', 'score': 0.99988853931427}, {'label': 'Positive', 'score': 1.0}, {'label': 'Neutral', 'score': 0.9999959468841553}, {'label': 'Neutral', 'score': 0.7769064903259277}, {'label': 'Positive', 'score': 1.0}, {'label': 'Neutral', 'score': 0.5090541243553162}, {'label': 'Neutral', 'score': 0.6861149072647095}, {'label': 'Neutral', 'score': 0.999991774559021}, {'label': 'Neutral', 'score': 0.782538652420044}, {'label': 'Neutral', 'score': 0.9993234872817993}, {'label': 'Neutral', 'score': 0.9142343997955322}, {'label': 'Neutral', 'score': 0.9968787431716919}, {'label': 'Neutral', 'score': 0.9995896220207214}, {'label': 'Neutral', 'score': 0.995130181312561}, {'label': 'Neutral', 'score': 0.999998927116394}, {'label': 'Neutral', 'score': 0.8662471175193787}, {'label': 'Positive', 'score': 0.9999858140945435}, {'label': 'Neutral', 'score': 0.7519482970237732}, {'label': 'Positive', 'score': 1.0}, {'label': 'Neutral', 'score': 0.9999490976333618}, {'label': 'Neutral', 'score': 0.5105353593826294}, {'label': 'Neutral', 'score': 0.9997238516807556}, {'label': 'Neutral', 'score': 0.999158501625061}, {'label': 'Positive', 'score': 0.9999985694885254}, {'label': 'Neutral', 'score': 0.9999198913574219}, {'label': 'Neutral', 'score': 0.9898408055305481}, {'label': 'Neutral', 'score': 0.9986373782157898}, {'label': 'Positive', 'score': 0.9998321533203125}, {'label': 'Neutral', 'score': 0.8107373118400574}, {'label': 'Neutral', 'score': 0.9915579557418823}, {'label': 'Neutral', 'score': 0.9980771541595459}, {'label': 'Positive', 'score': 0.9997106194496155}, {'label': 'Positive', 'score': 0.9999998807907104}, {'label': 'Neutral', 'score': 0.996683657169342}, {'label': 'Neutral', 'score': 0.9992166757583618}, {'label': 'Neutral', 'score': 0.9943678975105286}, {'label': 'Neutral', 'score': 0.9999983310699463}, {'label': 'Neutral', 'score': 0.9999608993530273}, {'label': 'Neutral', 'score': 0.9999521970748901}, {'label': 'Positive', 'score': 0.9871767163276672}, {'label': 'Neutral', 'score': 0.9999996423721313}, {'label': 'Neutral', 'score': 0.9999998807907104}, {'label': 'Neutral', 'score': 0.9998005032539368}, {'label': 'Neutral', 'score': 0.9999614953994751}, {'label': 'Neutral', 'score': 0.9999998807907104}, {'label': 'Positive', 'score': 0.9998770952224731}, {'label': 'Positive', 'score': 0.6036624312400818}, {'label': 'Neutral', 'score': 0.9990664124488831}, {'label': 'Neutral', 'score': 0.9999645948410034}, {'label': 'Neutral', 'score': 0.9998248219490051}, {'label': 'Positive', 'score': 0.9998738765716553}, {'label': 'Negative', 'score': 0.9997692704200745}, {'label': 'Neutral', 'score': 0.9997159838676453}, {'label': 'Neutral', 'score': 0.984899640083313}, {'label': 'Neutral', 'score': 0.9435235261917114}, {'label': 'Neutral', 'score': 0.9995675683021545}, {'label': 'Neutral', 'score': 0.9999997615814209}, {'label': 'Neutral', 'score': 0.9999932050704956}, {'label': 'Neutral', 'score': 0.9999990463256836}, {'label': 'Neutral', 'score': 0.9999237060546875}, {'label': 'Neutral', 'score': 0.9999228715896606}, {'label': 'Neutral', 'score': 0.9999980926513672}, {'label': 'Neutral', 'score': 0.956203281879425}, {'label': 'Neutral', 'score': 0.9995632767677307}, {'label': 'Neutral', 'score': 0.9999998807907104}, {'label': 'Positive', 'score': 0.9999988079071045}, {'label': 'Positive', 'score': 0.9733076691627502}, {'label': 'Neutral', 'score': 0.999842643737793}, {'label': 'Positive', 'score': 0.9999995231628418}, {'label': 'Neutral', 'score': 0.9995976090431213}, {'label': 'Negative', 'score': 0.9975601434707642}, {'label': 'Negative', 'score': 0.990063488483429}, {'label': 'Neutral', 'score': 0.9980437755584717}, {'label': 'Neutral', 'score': 0.9998975992202759}, {'label': 'Neutral', 'score': 0.9971219897270203}, {'label': 'Neutral', 'score': 0.7036502957344055}, {'label': 'Neutral', 'score': 0.997584342956543}, {'label': 'Negative', 'score': 0.9917368292808533}, {'label': 'Negative', 'score': 0.9999828338623047}, {'label': 'Neutral', 'score': 0.887901246547699}, {'label': 'Neutral', 'score': 0.9999855756759644}, {'label': 'Negative', 'score': 0.9999409914016724}, {'label': 'Positive', 'score': 0.9989244341850281}, {'label': 'Neutral', 'score': 0.996480405330658}, {'label': 'Neutral', 'score': 0.999992847442627}, {'label': 'Neutral', 'score': 0.8295178413391113}, {'label': 'Neutral', 'score': 0.9991589784622192}, {'label': 'Neutral', 'score': 0.9933881759643555}, {'label': 'Neutral', 'score': 0.9917808175086975}, {'label': 'Negative', 'score': 0.9673014879226685}, {'label': 'Neutral', 'score': 0.9998273849487305}, {'label': 'Neutral', 'score': 0.9865280985832214}, {'label': 'Neutral', 'score': 0.9999055862426758}, {'label': 'Neutral', 'score': 0.9997565150260925}, {'label': 'Neutral', 'score': 0.9999867677688599}, {'label': 'Neutral', 'score': 0.9965278506278992}, {'label': 'Neutral', 'score': 0.9999258518218994}, {'label': 'Neutral', 'score': 0.9999828338623047}, {'label': 'Neutral', 'score': 0.9998716115951538}, {'label': 'Neutral', 'score': 0.9963275790214539}, {'label': 'Neutral', 'score': 0.9998586177825928}, {'label': 'Neutral', 'score': 0.9996931552886963}, {'label': 'Positive', 'score': 0.9862223267555237}, {'label': 'Neutral', 'score': 0.9999498128890991}, {'label': 'Neutral', 'score': 0.9999978542327881}, {'label': 'Neutral', 'score': 0.9999463558197021}, {'label': 'Positive', 'score': 0.9997647404670715}, {'label': 'Negative', 'score': 0.6844239830970764}, {'label': 'Positive', 'score': 0.9998623132705688}, {'label': 'Positive', 'score': 0.6975383162498474}, {'label': 'Neutral', 'score': 0.9093950986862183}, {'label': 'Neutral', 'score': 0.8590881824493408}, {'label': 'Positive', 'score': 0.9999946355819702}, {'label': 'Positive', 'score': 0.9999995231628418}, {'label': 'Neutral', 'score': 0.9947153925895691}, {'label': 'Neutral', 'score': 0.9998420476913452}, {'label': 'Neutral', 'score': 0.999968409538269}, {'label': 'Neutral', 'score': 0.9997013211250305}, {'label': 'Neutral', 'score': 0.9996728897094727}, {'label': 'Neutral', 'score': 0.9997053742408752}, {'label': 'Positive', 'score': 0.6821914315223694}, {'label': 'Negative', 'score': 0.9999988079071045}, {'label': 'Neutral', 'score': 0.7254135012626648}, {'label': 'Positive', 'score': 0.9965702295303345}, {'label': 'Neutral', 'score': 0.9999610185623169}, {'label': 'Neutral', 'score': 0.9994646906852722}, {'label': 'Neutral', 'score': 0.9951907396316528}, {'label': 'Neutral', 'score': 0.996381402015686}, {'label': 'Neutral', 'score': 0.9987868666648865}, {'label': 'Positive', 'score': 0.9281365871429443}, {'label': 'Neutral', 'score': 0.9999607801437378}, {'label': 'Neutral', 'score': 0.9998093247413635}, {'label': 'Neutral', 'score': 0.9999955892562866}, {'label': 'Neutral', 'score': 0.9999501705169678}, {'label': 'Neutral', 'score': 0.9103677272796631}, {'label': 'Positive', 'score': 0.9867103695869446}, {'label': 'Neutral', 'score': 0.9998201727867126}, {'label': 'Neutral', 'score': 0.9998998641967773}, {'label': 'Neutral', 'score': 0.9999117851257324}, {'label': 'Neutral', 'score': 0.9995498061180115}, {'label': 'Neutral', 'score': 0.9999518394470215}, {'label': 'Neutral', 'score': 0.9691080451011658}, {'label': 'Positive', 'score': 0.9999936819076538}, {'label': 'Positive', 'score': 0.9812523722648621}, {'label': 'Negative', 'score': 0.9999823570251465}, {'label': 'Neutral', 'score': 0.9999756813049316}, {'label': 'Neutral', 'score': 0.8464300632476807}, {'label': 'Neutral', 'score': 0.9999575614929199}, {'label': 'Neutral', 'score': 0.9996565580368042}, {'label': 'Neutral', 'score': 0.9942963719367981}, {'label': 'Neutral', 'score': 0.9994969367980957}, {'label': 'Neutral', 'score': 0.9845545887947083}, {'label': 'Neutral', 'score': 0.9979111552238464}, {'label': 'Neutral', 'score': 0.99671870470047}, {'label': 'Neutral', 'score': 0.9998643398284912}, {'label': 'Neutral', 'score': 0.9205484986305237}, {'label': 'Neutral', 'score': 0.999900221824646}, {'label': 'Neutral', 'score': 0.999998927116394}, {'label': 'Neutral', 'score': 0.9998526573181152}, {'label': 'Neutral', 'score': 0.7745602130889893}, {'label': 'Neutral', 'score': 0.9999299049377441}, {'label': 'Positive', 'score': 0.9999979734420776}, {'label': 'Neutral', 'score': 0.6633003354072571}, {'label': 'Positive', 'score': 0.9998449087142944}, {'label': 'Neutral', 'score': 0.8267682194709778}, {'label': 'Neutral', 'score': 0.9999895095825195}, {'label': 'Neutral', 'score': 0.8446295261383057}, {'label': 'Neutral', 'score': 0.9995637536048889}, {'label': 'Positive', 'score': 0.9999915361404419}, {'label': 'Neutral', 'score': 0.9999980926513672}, {'label': 'Neutral', 'score': 0.8050809502601624}, {'label': 'Neutral', 'score': 0.9999704360961914}, {'label': 'Neutral', 'score': 0.9992864727973938}, {'label': 'Neutral', 'score': 0.999998927116394}, {'label': 'Neutral', 'score': 0.9999990463256836}, {'label': 'Neutral', 'score': 0.9999887943267822}, {'label': 'Neutral', 'score': 0.9993802309036255}, {'label': 'Positive', 'score': 1.0}, {'label': 'Neutral', 'score': 0.9998704195022583}, {'label': 'Positive', 'score': 0.9999998807907104}, {'label': 'Positive', 'score': 0.9999809265136719}, {'label': 'Neutral', 'score': 0.999990701675415}, {'label': 'Neutral', 'score': 0.9973016977310181}, {'label': 'Positive', 'score': 0.999997615814209}, {'label': 'Neutral', 'score': 0.9264664649963379}, {'label': 'Neutral', 'score': 0.5034406781196594}, {'label': 'Neutral', 'score': 0.9999758005142212}, {'label': 'Negative', 'score': 0.9998995065689087}, {'label': 'Negative', 'score': 0.9879265427589417}, {'label': 'Negative', 'score': 0.9973213076591492}, {'label': 'Positive', 'score': 0.9672268033027649}, {'label': 'Positive', 'score': 1.0}, {'label': 'Negative', 'score': 0.5237840414047241}, {'label': 'Neutral', 'score': 0.9995740056037903}, {'label': 'Neutral', 'score': 0.9281193614006042}, {'label': 'Neutral', 'score': 0.9999799728393555}, {'label': 'Neutral', 'score': 0.9999442100524902}, {'label': 'Neutral', 'score': 0.9999583959579468}, {'label': 'Neutral', 'score': 0.9996856451034546}, {'label': 'Neutral', 'score': 0.5627992153167725}, {'label': 'Neutral', 'score': 0.9873616695404053}, {'label': 'Negative', 'score': 0.9999144077301025}, {'label': 'Neutral', 'score': 0.5001383423805237}, {'label': 'Negative', 'score': 0.9921626448631287}, {'label': 'Neutral', 'score': 0.9931526184082031}, {'label': 'Positive', 'score': 0.9999992847442627}, {'label': 'Neutral', 'score': 0.9999628067016602}, {'label': 'Positive', 'score': 0.9999297857284546}, {'label': 'Positive', 'score': 0.9887667298316956}, {'label': 'Neutral', 'score': 0.9999982118606567}, {'label': 'Neutral', 'score': 0.9958947896957397}, {'label': 'Neutral', 'score': 0.9993615746498108}, {'label': 'Neutral', 'score': 0.9999972581863403}, {'label': 'Positive', 'score': 0.9992768168449402}, {'label': 'Neutral', 'score': 0.831745445728302}, {'label': 'Neutral', 'score': 0.9999901056289673}, {'label': 'Neutral', 'score': 0.9574567675590515}, {'label': 'Neutral', 'score': 0.9999971389770508}, {'label': 'Neutral', 'score': 0.9999973773956299}, {'label': 'Neutral', 'score': 0.99886155128479}, {'label': 'Neutral', 'score': 0.9999966621398926}, {'label': 'Neutral', 'score': 0.9999904632568359}, {'label': 'Negative', 'score': 0.5952612161636353}, {'label': 'Neutral', 'score': 0.997308611869812}, {'label': 'Neutral', 'score': 0.9998418092727661}, {'label': 'Neutral', 'score': 0.9735972285270691}, {'label': 'Neutral', 'score': 0.9969161748886108}, {'label': 'Neutral', 'score': 0.9991577863693237}, {'label': 'Neutral', 'score': 0.9999716281890869}, {'label': 'Negative', 'score': 0.9844821691513062}, {'label': 'Positive', 'score': 0.9967182278633118}, {'label': 'Neutral', 'score': 0.9997170567512512}, {'label': 'Neutral', 'score': 0.9996873140335083}, {'label': 'Neutral', 'score': 0.9999191761016846}, {'label': 'Neutral', 'score': 0.9999990463256836}, {'label': 'Positive', 'score': 0.9969524145126343}, {'label': 'Neutral', 'score': 0.9999756813049316}, {'label': 'Neutral', 'score': 0.9999926090240479}, {'label': 'Neutral', 'score': 0.999948263168335}, {'label': 'Neutral', 'score': 0.9999849796295166}, {'label': 'Positive', 'score': 1.0}, {'label': 'Neutral', 'score': 0.9963323473930359}, {'label': 'Positive', 'score': 0.9999979734420776}, {'label': 'Neutral', 'score': 0.9999974966049194}, {'label': 'Neutral', 'score': 0.9980408549308777}, {'label': 'Neutral', 'score': 0.9988031387329102}, {'label': 'Positive', 'score': 0.8342887163162231}, {'label': 'Neutral', 'score': 0.9997531771659851}, {'label': 'Neutral', 'score': 0.9618899822235107}, {'label': 'Negative', 'score': 0.98540860414505}, {'label': 'Neutral', 'score': 0.9956362843513489}, {'label': 'Neutral', 'score': 0.9972673654556274}, {'label': 'Negative', 'score': 0.792722761631012}, {'label': 'Neutral', 'score': 0.8997276425361633}, {'label': 'Neutral', 'score': 0.9999650716781616}, {'label': 'Neutral', 'score': 0.9980996251106262}, {'label': 'Neutral', 'score': 0.9991022348403931}, {'label': 'Neutral', 'score': 0.9971210360527039}, {'label': 'Neutral', 'score': 0.9997240900993347}, {'label': 'Neutral', 'score': 0.9950999617576599}, {'label': 'Neutral', 'score': 0.9999988079071045}, {'label': 'Negative', 'score': 0.4615981876850128}, {'label': 'Neutral', 'score': 0.999595582485199}, {'label': 'Neutral', 'score': 0.7698612213134766}, {'label': 'Neutral', 'score': 0.9999223947525024}, {'label': 'Neutral', 'score': 0.9999860525131226}, {'label': 'Neutral', 'score': 0.9998432397842407}, {'label': 'Neutral', 'score': 0.9999966621398926}, {'label': 'Neutral', 'score': 0.9998735189437866}, {'label': 'Negative', 'score': 0.9997362494468689}, {'label': 'Neutral', 'score': 0.9952009916305542}, {'label': 'Neutral', 'score': 0.9999634027481079}, {'label': 'Neutral', 'score': 0.8630738258361816}, {'label': 'Neutral', 'score': 0.9999141693115234}, {'label': 'Positive', 'score': 0.9999343156814575}, {'label': 'Positive', 'score': 1.0}, {'label': 'Negative', 'score': 0.999056875705719}, {'label': 'Neutral', 'score': 0.8382245898246765}, {'label': 'Positive', 'score': 0.9999797344207764}, {'label': 'Neutral', 'score': 0.9999308586120605}, {'label': 'Neutral', 'score': 0.9954981803894043}, {'label': 'Positive', 'score': 0.9999985694885254}, {'label': 'Neutral', 'score': 0.9999990463256836}, {'label': 'Neutral', 'score': 0.9999985694885254}, {'label': 'Neutral', 'score': 0.9997871518135071}, {'label': 'Neutral', 'score': 0.9999979734420776}, {'label': 'Neutral', 'score': 0.9588667154312134}, {'label': 'Neutral', 'score': 0.993398904800415}, {'label': 'Negative', 'score': 0.995766282081604}, {'label': 'Neutral', 'score': 0.972633957862854}, {'label': 'Positive', 'score': 0.9991244673728943}, {'label': 'Positive', 'score': 1.0}, {'label': 'Neutral', 'score': 0.9924634695053101}, {'label': 'Neutral', 'score': 0.9981496334075928}, {'label': 'Neutral', 'score': 0.9815273880958557}, {'label': 'Negative', 'score': 0.9984151124954224}, {'label': 'Negative', 'score': 0.9194013476371765}, {'label': 'Neutral', 'score': 0.9999139308929443}, {'label': 'Positive', 'score': 0.9999915361404419}, {'label': 'Neutral', 'score': 0.9942341446876526}, {'label': 'Neutral', 'score': 0.999822199344635}, {'label': 'Neutral', 'score': 0.5535995364189148}, {'label': 'Positive', 'score': 0.9987930059432983}, {'label': 'Neutral', 'score': 0.9999874830245972}, {'label': 'Negative', 'score': 0.589687168598175}, {'label': 'Positive', 'score': 0.9999997615814209}, {'label': 'Positive', 'score': 0.9752277731895447}, {'label': 'Neutral', 'score': 0.9999942779541016}, {'label': 'Neutral', 'score': 0.9645359516143799}, {'label': 'Neutral', 'score': 0.999997615814209}, {'label': 'Neutral', 'score': 0.6087405681610107}, {'label': 'Neutral', 'score': 0.9161823987960815}, {'label': 'Neutral', 'score': 0.9968509078025818}, {'label': 'Positive', 'score': 0.7116977572441101}, {'label': 'Neutral', 'score': 0.9994300007820129}, {'label': 'Neutral', 'score': 0.9995661377906799}, {'label': 'Neutral', 'score': 0.9971970319747925}, {'label': 'Positive', 'score': 0.9956132173538208}, {'label': 'Positive', 'score': 0.9999932050704956}, {'label': 'Neutral', 'score': 0.9996885061264038}, {'label': 'Neutral', 'score': 0.9995443224906921}, {'label': 'Neutral', 'score': 0.9999371767044067}, {'label': 'Positive', 'score': 0.9999864101409912}, {'label': 'Positive', 'score': 0.5017018914222717}, {'label': 'Neutral', 'score': 0.9999293088912964}, {'label': 'Neutral', 'score': 0.5813673138618469}, {'label': 'Positive', 'score': 0.6876935958862305}, {'label': 'Neutral', 'score': 0.6264632940292358}, {'label': 'Neutral', 'score': 0.9999496936798096}, {'label': 'Neutral', 'score': 0.7316805720329285}, {'label': 'Positive', 'score': 0.900032103061676}, {'label': 'Neutral', 'score': 0.9999966621398926}, {'label': 'Neutral', 'score': 0.9662718772888184}, {'label': 'Neutral', 'score': 0.5916357040405273}, {'label': 'Positive', 'score': 0.933741569519043}, {'label': 'Positive', 'score': 0.9999346733093262}, {'label': 'Positive', 'score': 0.9926345944404602}, {'label': 'Neutral', 'score': 0.9997223019599915}, {'label': 'Neutral', 'score': 0.9865065813064575}, {'label': 'Positive', 'score': 0.9999773502349854}, {'label': 'Neutral', 'score': 0.8293381929397583}, {'label': 'Neutral', 'score': 0.7201255559921265}, {'label': 'Positive', 'score': 0.9896504878997803}, {'label': 'Neutral', 'score': 0.999991774559021}, {'label': 'Positive', 'score': 0.929478645324707}, {'label': 'Neutral', 'score': 0.6615715622901917}, {'label': 'Neutral', 'score': 0.9999673366546631}, {'label': 'Neutral', 'score': 0.9999511241912842}, {'label': 'Neutral', 'score': 0.9985911250114441}, {'label': 'Positive', 'score': 0.9968428611755371}, {'label': 'Neutral', 'score': 0.9999945163726807}, {'label': 'Positive', 'score': 0.9999957084655762}, {'label': 'Neutral', 'score': 0.9999830722808838}, {'label': 'Negative', 'score': 0.6497740149497986}, {'label': 'Neutral', 'score': 0.9979739785194397}, {'label': 'Neutral', 'score': 0.9998075366020203}, {'label': 'Neutral', 'score': 0.9998594522476196}, {'label': 'Neutral', 'score': 0.9524649977684021}, {'label': 'Neutral', 'score': 0.9988939166069031}, {'label': 'Positive', 'score': 0.9634268879890442}, {'label': 'Neutral', 'score': 0.9999992847442627}, {'label': 'Neutral', 'score': 0.9999794960021973}, {'label': 'Positive', 'score': 0.6467850804328918}, {'label': 'Positive', 'score': 0.9999945163726807}, {'label': 'Neutral', 'score': 0.8866826891899109}, {'label': 'Negative', 'score': 0.9966843724250793}, {'label': 'Neutral', 'score': 0.9999995231628418}, {'label': 'Neutral', 'score': 0.9999699592590332}, {'label': 'Neutral', 'score': 0.9942924976348877}, {'label': 'Neutral', 'score': 0.9999926090240479}, {'label': 'Neutral', 'score': 0.9999651908874512}, {'label': 'Positive', 'score': 0.9980656504631042}, {'label': 'Positive', 'score': 0.5859836339950562}, {'label': 'Negative', 'score': 0.8315534591674805}, {'label': 'Positive', 'score': 0.9999998807907104}, {'label': 'Neutral', 'score': 0.999666690826416}, {'label': 'Neutral', 'score': 0.9998006224632263}, {'label': 'Neutral', 'score': 0.9999570846557617}, {'label': 'Neutral', 'score': 0.9999959468841553}, {'label': 'Neutral', 'score': 0.9999955892562866}, {'label': 'Neutral', 'score': 0.9708005785942078}, {'label': 'Neutral', 'score': 0.9997201561927795}, {'label': 'Neutral', 'score': 0.974925696849823}, {'label': 'Neutral', 'score': 0.8624244928359985}, {'label': 'Negative', 'score': 0.8826403021812439}, {'label': 'Negative', 'score': 0.8168829083442688}, {'label': 'Neutral', 'score': 0.9991129040718079}, {'label': 'Neutral', 'score': 0.9940628409385681}, {'label': 'Neutral', 'score': 0.9999977350234985}, {'label': 'Neutral', 'score': 0.9904402494430542}, {'label': 'Neutral', 'score': 0.9999977350234985}, {'label': 'Neutral', 'score': 0.8270981311798096}, {'label': 'Neutral', 'score': 0.8015277981758118}, {'label': 'Neutral', 'score': 0.9856528043746948}, {'label': 'Neutral', 'score': 0.9960940480232239}, {'label': 'Positive', 'score': 0.9819008708000183}, {'label': 'Neutral', 'score': 0.9824396371841431}, {'label': 'Neutral', 'score': 0.9976007342338562}, {'label': 'Positive', 'score': 0.9976765513420105}, {'label': 'Negative', 'score': 0.6750020980834961}, {'label': 'Positive', 'score': 0.9999996423721313}, {'label': 'Neutral', 'score': 0.9609194993972778}, {'label': 'Neutral', 'score': 0.9999933242797852}, {'label': 'Neutral', 'score': 0.9937384128570557}, {'label': 'Negative', 'score': 0.9999606609344482}, {'label': 'Positive', 'score': 0.9880796074867249}, {'label': 'Neutral', 'score': 0.9999896287918091}, {'label': 'Neutral', 'score': 0.9974697828292847}, {'label': 'Neutral', 'score': 0.9983019828796387}, {'label': 'Positive', 'score': 0.9446909427642822}, {'label': 'Neutral', 'score': 0.9988601207733154}, {'label': 'Neutral', 'score': 0.9919785261154175}, {'label': 'Neutral', 'score': 0.999988317489624}, {'label': 'Neutral', 'score': 0.9992192983627319}, {'label': 'Neutral', 'score': 0.9999932050704956}, {'label': 'Neutral', 'score': 0.9999138116836548}, {'label': 'Neutral', 'score': 0.926749050617218}, {'label': 'Neutral', 'score': 0.9221648573875427}, {'label': 'Neutral', 'score': 0.9993342757225037}, {'label': 'Neutral', 'score': 0.7912298440933228}, {'label': 'Negative', 'score': 0.9985343217849731}, {'label': 'Neutral', 'score': 0.9999818801879883}, {'label': 'Neutral', 'score': 0.9999986886978149}, {'label': 'Neutral', 'score': 0.9960302710533142}, {'label': 'Neutral', 'score': 0.9999037981033325}, {'label': 'Neutral', 'score': 0.9999943971633911}, {'label': 'Neutral', 'score': 0.9698947668075562}, {'label': 'Neutral', 'score': 0.9986080527305603}, {'label': 'Neutral', 'score': 0.9999549388885498}, {'label': 'Negative', 'score': 0.9988980293273926}, {'label': 'Positive', 'score': 0.6285222768783569}, {'label': 'Neutral', 'score': 0.9999889135360718}, {'label': 'Neutral', 'score': 0.9998890161514282}, {'label': 'Positive', 'score': 0.6936406493186951}, {'label': 'Negative', 'score': 0.6660731434822083}, {'label': 'Neutral', 'score': 0.9999758005142212}, {'label': 'Neutral', 'score': 0.9999871253967285}, {'label': 'Neutral', 'score': 0.7184469103813171}, {'label': 'Neutral', 'score': 0.9999616146087646}, {'label': 'Positive', 'score': 0.6739864349365234}, {'label': 'Neutral', 'score': 0.9999306201934814}, {'label': 'Neutral', 'score': 0.8831058144569397}, {'label': 'Neutral', 'score': 0.9998593330383301}, {'label': 'Neutral', 'score': 0.9971709847450256}, {'label': 'Neutral', 'score': 0.9976750016212463}, {'label': 'Neutral', 'score': 0.9999679327011108}, {'label': 'Neutral', 'score': 0.9999978542327881}, {'label': 'Positive', 'score': 0.999997615814209}, {'label': 'Neutral', 'score': 0.9921461939811707}, {'label': 'Neutral', 'score': 0.9999957084655762}, {'label': 'Neutral', 'score': 0.9999880790710449}, {'label': 'Positive', 'score': 0.9882469773292542}, {'label': 'Positive', 'score': 0.975604236125946}, {'label': 'Positive', 'score': 0.9999243021011353}, {'label': 'Neutral', 'score': 0.999751627445221}, {'label': 'Positive', 'score': 0.9999998807907104}, {'label': 'Positive', 'score': 0.9999997615814209}, {'label': 'Positive', 'score': 0.9999898672103882}, {'label': 'Neutral', 'score': 0.9999855756759644}, {'label': 'Neutral', 'score': 0.866418719291687}, {'label': 'Positive', 'score': 0.9975554943084717}, {'label': 'Neutral', 'score': 0.9995031356811523}, {'label': 'Neutral', 'score': 0.99604332447052}, {'label': 'Neutral', 'score': 0.9996438026428223}, {'label': 'Neutral', 'score': 0.9999401569366455}, {'label': 'Neutral', 'score': 0.9999971389770508}, {'label': 'Neutral', 'score': 0.9860159754753113}, {'label': 'Neutral', 'score': 0.9995681643486023}, {'label': 'Positive', 'score': 0.9889160394668579}, {'label': 'Neutral', 'score': 0.9970178604125977}, {'label': 'Neutral', 'score': 0.9995953440666199}, {'label': 'Neutral', 'score': 0.9997982382774353}, {'label': 'Neutral', 'score': 0.9982994198799133}, {'label': 'Neutral', 'score': 0.9999563694000244}, {'label': 'Neutral', 'score': 0.9853309392929077}, {'label': 'Neutral', 'score': 0.9464146494865417}, {'label': 'Neutral', 'score': 0.9997120499610901}, {'label': 'Neutral', 'score': 0.9997292160987854}, {'label': 'Neutral', 'score': 0.9999812841415405}, {'label': 'Neutral', 'score': 0.9994398951530457}, {'label': 'Neutral', 'score': 0.9999873638153076}, {'label': 'Neutral', 'score': 0.7794036269187927}, {'label': 'Negative', 'score': 0.44785407185554504}, {'label': 'Negative', 'score': 0.8687527775764465}, {'label': 'Neutral', 'score': 0.999823272228241}, {'label': 'Neutral', 'score': 0.6547171473503113}, {'label': 'Neutral', 'score': 0.9505429267883301}, {'label': 'Neutral', 'score': 0.9999967813491821}, {'label': 'Neutral', 'score': 0.5596715807914734}, {'label': 'Neutral', 'score': 0.8492287993431091}, {'label': 'Negative', 'score': 0.9999949932098389}, {'label': 'Neutral', 'score': 0.9986255168914795}, {'label': 'Neutral', 'score': 0.9999876022338867}, {'label': 'Neutral', 'score': 0.9999823570251465}, {'label': 'Neutral', 'score': 0.9999804496765137}, {'label': 'Neutral', 'score': 0.9983932375907898}, {'label': 'Positive', 'score': 0.9999995231628418}, {'label': 'Neutral', 'score': 0.9769446849822998}, {'label': 'Neutral', 'score': 0.9632142782211304}, {'label': 'Neutral', 'score': 0.9958510398864746}, {'label': 'Neutral', 'score': 0.9926210641860962}, {'label': 'Neutral', 'score': 0.5014275312423706}, {'label': 'Neutral', 'score': 0.9999638795852661}, {'label': 'Positive', 'score': 0.9999986886978149}, {'label': 'Neutral', 'score': 0.9954389929771423}, {'label': 'Neutral', 'score': 0.9988117218017578}, {'label': 'Neutral', 'score': 0.8147923946380615}, {'label': 'Positive', 'score': 0.742127001285553}, {'label': 'Negative', 'score': 0.7603236436843872}, {'label': 'Neutral', 'score': 0.9999417066574097}, {'label': 'Neutral', 'score': 0.9994909763336182}, {'label': 'Neutral', 'score': 0.9999793767929077}, {'label': 'Neutral', 'score': 0.9997856020927429}, {'label': 'Neutral', 'score': 0.9999935626983643}, {'label': 'Neutral', 'score': 0.9928823709487915}, {'label': 'Neutral', 'score': 0.999953031539917}, {'label': 'Neutral', 'score': 0.9836962819099426}, {'label': 'Positive', 'score': 0.8040897250175476}, {'label': 'Neutral', 'score': 0.9998910427093506}, {'label': 'Neutral', 'score': 0.9997928738594055}, {'label': 'Neutral', 'score': 0.9999939203262329}, {'label': 'Neutral', 'score': 0.9927549958229065}, {'label': 'Neutral', 'score': 0.999976396560669}, {'label': 'Positive', 'score': 0.9999992847442627}, {'label': 'Neutral', 'score': 0.9999974966049194}, {'label': 'Neutral', 'score': 0.9999905824661255}, {'label': 'Neutral', 'score': 0.9999978542327881}, {'label': 'Neutral', 'score': 0.9999712705612183}, {'label': 'Neutral', 'score': 0.9874876737594604}, {'label': 'Positive', 'score': 0.679477334022522}, {'label': 'Neutral', 'score': 0.9995916485786438}, {'label': 'Neutral', 'score': 0.9998284578323364}, {'label': 'Neutral', 'score': 0.9999885559082031}, {'label': 'Neutral', 'score': 0.9999161958694458}, {'label': 'Neutral', 'score': 0.42770591378211975}, {'label': 'Negative', 'score': 0.8258479237556458}, {'label': 'Neutral', 'score': 0.9993526339530945}, {'label': 'Neutral', 'score': 0.9999988079071045}, {'label': 'Neutral', 'score': 0.9996354579925537}, {'label': 'Neutral', 'score': 0.9969099164009094}, {'label': 'Neutral', 'score': 0.997208297252655}, {'label': 'Neutral', 'score': 0.9986546039581299}, {'label': 'Positive', 'score': 0.9999991655349731}, {'label': 'Neutral', 'score': 0.9981618523597717}, {'label': 'Neutral', 'score': 0.9962354302406311}, {'label': 'Neutral', 'score': 0.9994863271713257}, {'label': 'Neutral', 'score': 0.9999998807907104}, {'label': 'Neutral', 'score': 0.6682924628257751}, {'label': 'Neutral', 'score': 0.9993789196014404}, {'label': 'Neutral', 'score': 0.999769389629364}, {'label': 'Neutral', 'score': 0.9997298121452332}, {'label': 'Neutral', 'score': 0.9880396723747253}, {'label': 'Neutral', 'score': 0.9934532642364502}, {'label': 'Neutral', 'score': 0.9822179675102234}, {'label': 'Neutral', 'score': 0.8308850526809692}, {'label': 'Positive', 'score': 0.9999996423721313}, {'label': 'Neutral', 'score': 0.9981056451797485}, {'label': 'Negative', 'score': 0.9999735355377197}, {'label': 'Positive', 'score': 0.9999986886978149}, {'label': 'Neutral', 'score': 0.901099681854248}, {'label': 'Positive', 'score': 0.999964714050293}, {'label': 'Neutral', 'score': 0.9999953508377075}, {'label': 'Neutral', 'score': 0.9920529127120972}, {'label': 'Neutral', 'score': 0.9999393224716187}, {'label': 'Neutral', 'score': 0.9989583492279053}, {'label': 'Neutral', 'score': 0.998857855796814}, {'label': 'Neutral', 'score': 0.9999881982803345}, {'label': 'Neutral', 'score': 0.999980092048645}, {'label': 'Neutral', 'score': 0.9999977350234985}, {'label': 'Positive', 'score': 0.7380491495132446}, {'label': 'Positive', 'score': 0.9999995231628418}, {'label': 'Neutral', 'score': 0.9999955892562866}, {'label': 'Neutral', 'score': 0.7946565747261047}, {'label': 'Positive', 'score': 0.9999958276748657}, {'label': 'Neutral', 'score': 0.9614595770835876}, {'label': 'Negative', 'score': 0.9998511075973511}, {'label': 'Positive', 'score': 0.9085134267807007}, {'label': 'Neutral', 'score': 0.9962717294692993}, {'label': 'Neutral', 'score': 0.9993246793746948}, {'label': 'Negative', 'score': 0.8806767463684082}, {'label': 'Neutral', 'score': 0.9988903403282166}, {'label': 'Neutral', 'score': 0.9999678134918213}, {'label': 'Neutral', 'score': 0.9747783541679382}, {'label': 'Neutral', 'score': 0.9998923540115356}, {'label': 'Neutral', 'score': 0.9999998807907104}, {'label': 'Negative', 'score': 0.5006243586540222}, {'label': 'Neutral', 'score': 0.9999569654464722}, {'label': 'Neutral', 'score': 0.9999678134918213}, {'label': 'Negative', 'score': 0.9789913892745972}, {'label': 'Positive', 'score': 0.9773748517036438}, {'label': 'Neutral', 'score': 0.9988916516304016}, {'label': 'Negative', 'score': 0.9993316531181335}, {'label': 'Neutral', 'score': 0.9999957084655762}, {'label': 'Negative', 'score': 0.999462902545929}, {'label': 'Positive', 'score': 0.9996145963668823}, {'label': 'Neutral', 'score': 0.9896373152732849}, {'label': 'Neutral', 'score': 0.9999995231628418}, {'label': 'Neutral', 'score': 0.999996542930603}, {'label': 'Positive', 'score': 0.9999587535858154}, {'label': 'Neutral', 'score': 0.9749635457992554}, {'label': 'Neutral', 'score': 0.9999021291732788}, {'label': 'Neutral', 'score': 0.9977176189422607}, {'label': 'Positive', 'score': 0.926441490650177}, {'label': 'Negative', 'score': 0.9996021389961243}, {'label': 'Positive', 'score': 1.0}, {'label': 'Neutral', 'score': 0.9999924898147583}, {'label': 'Neutral', 'score': 0.9999780654907227}, {'label': 'Neutral', 'score': 0.9991559982299805}, {'label': 'Neutral', 'score': 0.9999816417694092}, {'label': 'Neutral', 'score': 0.9941022992134094}, {'label': 'Neutral', 'score': 0.9997379183769226}, {'label': 'Neutral', 'score': 0.9999955892562866}, {'label': 'Neutral', 'score': 0.8871529698371887}, {'label': 'Neutral', 'score': 0.9999938011169434}, {'label': 'Neutral', 'score': 0.999994158744812}, {'label': 'Neutral', 'score': 0.9988834261894226}, {'label': 'Positive', 'score': 0.9999997615814209}, {'label': 'Neutral', 'score': 0.9988101720809937}, {'label': 'Neutral', 'score': 0.9753687381744385}, {'label': 'Neutral', 'score': 0.9968042373657227}, {'label': 'Neutral', 'score': 0.9947248101234436}, {'label': 'Neutral', 'score': 0.9407883286476135}, {'label': 'Neutral', 'score': 0.9999973773956299}, {'label': 'Neutral', 'score': 0.9999988079071045}, {'label': 'Neutral', 'score': 0.8772606253623962}, {'label': 'Neutral', 'score': 0.9995890259742737}, {'label': 'Neutral', 'score': 0.9998194575309753}, {'label': 'Neutral', 'score': 0.9999915361404419}, {'label': 'Neutral', 'score': 0.9999983310699463}, {'label': 'Neutral', 'score': 0.9959999322891235}, {'label': 'Neutral', 'score': 0.9893234372138977}, {'label': 'Negative', 'score': 0.7184988260269165}, {'label': 'Neutral', 'score': 0.9999979734420776}, {'label': 'Neutral', 'score': 0.9981896281242371}, {'label': 'Positive', 'score': 0.999981164932251}, {'label': 'Positive', 'score': 0.9999995231628418}, {'label': 'Neutral', 'score': 0.9998875856399536}, {'label': 'Negative', 'score': 0.930854320526123}, {'label': 'Positive', 'score': 0.9999995231628418}, {'label': 'Neutral', 'score': 0.9992033839225769}, {'label': 'Neutral', 'score': 0.9798474311828613}, {'label': 'Positive', 'score': 0.9999949932098389}, {'label': 'Neutral', 'score': 0.9999558925628662}, {'label': 'Positive', 'score': 0.8717700242996216}, {'label': 'Neutral', 'score': 0.7707539200782776}, {'label': 'Neutral', 'score': 0.9999830722808838}, {'label': 'Neutral', 'score': 0.9999886751174927}, {'label': 'Neutral', 'score': 0.9999967813491821}, {'label': 'Neutral', 'score': 0.9996246099472046}, {'label': 'Neutral', 'score': 0.9981088638305664}, {'label': 'Neutral', 'score': 0.999994158744812}, {'label': 'Positive', 'score': 0.9999819993972778}, {'label': 'Positive', 'score': 0.9999891519546509}, {'label': 'Neutral', 'score': 0.9997531771659851}, {'label': 'Neutral', 'score': 0.9999884366989136}, {'label': 'Neutral', 'score': 0.999991774559021}, {'label': 'Positive', 'score': 1.0}, {'label': 'Positive', 'score': 0.9999163150787354}, {'label': 'Positive', 'score': 0.6859050393104553}, {'label': 'Neutral', 'score': 0.9960336089134216}, {'label': 'Neutral', 'score': 0.9999934434890747}, {'label': 'Neutral', 'score': 0.9999998807907104}, {'label': 'Neutral', 'score': 0.9943301677703857}, {'label': 'Positive', 'score': 0.9999970197677612}, {'label': 'Positive', 'score': 0.9998836517333984}, {'label': 'Neutral', 'score': 0.9999978542327881}, {'label': 'Positive', 'score': 0.9862381219863892}, {'label': 'Neutral', 'score': 0.9987177848815918}, {'label': 'Positive', 'score': 0.9999960660934448}, {'label': 'Neutral', 'score': 0.9995163679122925}, {'label': 'Neutral', 'score': 0.9999605417251587}, {'label': 'Neutral', 'score': 0.9999691247940063}, {'label': 'Neutral', 'score': 0.998721182346344}, {'label': 'Neutral', 'score': 0.9999808073043823}, {'label': 'Neutral', 'score': 0.9981702566146851}, {'label': 'Neutral', 'score': 0.9996649026870728}, {'label': 'Neutral', 'score': 0.9999890327453613}, {'label': 'Neutral', 'score': 0.9969568252563477}, {'label': 'Neutral', 'score': 0.9999985694885254}, {'label': 'Neutral', 'score': 0.9999938011169434}, {'label': 'Neutral', 'score': 0.9999911785125732}, {'label': 'Neutral', 'score': 0.9999148845672607}, {'label': 'Positive', 'score': 0.9980363249778748}, {'label': 'Neutral', 'score': 0.9999992847442627}, {'label': 'Neutral', 'score': 0.9854200482368469}, {'label': 'Neutral', 'score': 0.9150822162628174}, {'label': 'Neutral', 'score': 0.987963080406189}, {'label': 'Neutral', 'score': 0.9984011054039001}, {'label': 'Neutral', 'score': 0.9880393147468567}, {'label': 'Negative', 'score': 0.9961989521980286}, {'label': 'Positive', 'score': 0.9978797435760498}, {'label': 'Positive', 'score': 1.0}, {'label': 'Positive', 'score': 1.0}, {'label': 'Positive', 'score': 0.9999992847442627}, {'label': 'Positive', 'score': 1.0}, {'label': 'Neutral', 'score': 0.9999948740005493}, {'label': 'Negative', 'score': 0.9968788623809814}, {'label': 'Neutral', 'score': 0.9994444251060486}, {'label': 'Positive', 'score': 0.9999786615371704}, {'label': 'Neutral', 'score': 0.9999929666519165}, {'label': 'Neutral', 'score': 0.9998360872268677}, {'label': 'Neutral', 'score': 0.9992327690124512}, {'label': 'Neutral', 'score': 0.9926425814628601}, {'label': 'Positive', 'score': 0.9034488797187805}, {'label': 'Neutral', 'score': 0.9999548196792603}, {'label': 'Neutral', 'score': 0.9999754428863525}, {'label': 'Positive', 'score': 1.0}, {'label': 'Neutral', 'score': 0.999627947807312}, {'label': 'Positive', 'score': 0.9930092096328735}, {'label': 'Neutral', 'score': 0.9999181032180786}, {'label': 'Neutral', 'score': 0.9999170303344727}, {'label': 'Negative', 'score': 0.9999799728393555}, {'label': 'Positive', 'score': 0.98773193359375}, {'label': 'Positive', 'score': 0.9818320274353027}, {'label': 'Positive', 'score': 0.9817262291908264}, {'label': 'Neutral', 'score': 0.9993236064910889}, {'label': 'Neutral', 'score': 0.9961380362510681}, {'label': 'Neutral', 'score': 0.9772562980651855}, {'label': 'Neutral', 'score': 0.9999663829803467}, {'label': 'Positive', 'score': 0.9999949932098389}, {'label': 'Neutral', 'score': 0.9993664622306824}, {'label': 'Neutral', 'score': 0.9779410362243652}, {'label': 'Neutral', 'score': 0.9997422099113464}, {'label': 'Neutral', 'score': 0.9999948740005493}, {'label': 'Neutral', 'score': 0.9934030175209045}, {'label': 'Neutral', 'score': 0.9997380375862122}, {'label': 'Neutral', 'score': 0.999884843826294}, {'label': 'Neutral', 'score': 0.99997878074646}, {'label': 'Neutral', 'score': 0.9997783303260803}, {'label': 'Neutral', 'score': 0.9999946355819702}, {'label': 'Negative', 'score': 0.6572758555412292}, {'label': 'Neutral', 'score': 0.6208131313323975}, {'label': 'Neutral', 'score': 0.9700534343719482}, {'label': 'Negative', 'score': 0.9985536932945251}, {'label': 'Neutral', 'score': 0.9998010993003845}, {'label': 'Neutral', 'score': 0.9999504089355469}, {'label': 'Neutral', 'score': 0.9999936819076538}, {'label': 'Negative', 'score': 0.9970548152923584}, {'label': 'Positive', 'score': 0.9876037836074829}, {'label': 'Neutral', 'score': 0.9996067881584167}, {'label': 'Neutral', 'score': 0.9999942779541016}, {'label': 'Neutral', 'score': 0.9999903440475464}, {'label': 'Neutral', 'score': 0.9919748902320862}, {'label': 'Neutral', 'score': 0.9768949747085571}, {'label': 'Neutral', 'score': 0.9999860525131226}, {'label': 'Positive', 'score': 0.9999998807907104}, {'label': 'Neutral', 'score': 0.9999897480010986}, {'label': 'Neutral', 'score': 0.9999985694885254}, {'label': 'Positive', 'score': 0.9998301267623901}, {'label': 'Neutral', 'score': 0.9405103921890259}, {'label': 'Positive', 'score': 0.777995228767395}, {'label': 'Positive', 'score': 0.9999990463256836}, {'label': 'Negative', 'score': 0.9999932050704956}, {'label': 'Negative', 'score': 0.9777960181236267}, {'label': 'Neutral', 'score': 0.9505187273025513}, {'label': 'Neutral', 'score': 0.9996008276939392}, {'label': 'Neutral', 'score': 0.9834036231040955}, {'label': 'Neutral', 'score': 0.9996606111526489}, {'label': 'Neutral', 'score': 0.9999988079071045}, {'label': 'Negative', 'score': 0.9960814118385315}, {'label': 'Positive', 'score': 1.0}, {'label': 'Neutral', 'score': 0.9999980926513672}, {'label': 'Neutral', 'score': 0.9999951124191284}, {'label': 'Positive', 'score': 0.971472978591919}, {'label': 'Neutral', 'score': 0.999349057674408}, {'label': 'Positive', 'score': 0.9999899864196777}, {'label': 'Neutral', 'score': 0.5622992515563965}, {'label': 'Positive', 'score': 0.9712489247322083}, {'label': 'Positive', 'score': 0.9999995231628418}, {'label': 'Neutral', 'score': 0.9997608065605164}, {'label': 'Neutral', 'score': 0.9917893409729004}, {'label': 'Neutral', 'score': 0.9996845722198486}, {'label': 'Neutral', 'score': 0.9999661445617676}, {'label': 'Negative', 'score': 0.8599817156791687}, {'label': 'Neutral', 'score': 0.9962526559829712}, {'label': 'Neutral', 'score': 0.9997592568397522}, {'label': 'Neutral', 'score': 0.9987537860870361}, {'label': 'Neutral', 'score': 0.9999853372573853}, {'label': 'Positive', 'score': 0.9995238780975342}, {'label': 'Neutral', 'score': 0.975684642791748}, {'label': 'Neutral', 'score': 0.9999998807907104}, {'label': 'Positive', 'score': 0.9999942779541016}, {'label': 'Neutral', 'score': 0.9992276430130005}, {'label': 'Positive', 'score': 0.9775222539901733}, {'label': 'Neutral', 'score': 0.9946098327636719}, {'label': 'Positive', 'score': 0.9999997615814209}, {'label': 'Neutral', 'score': 0.9997760653495789}, {'label': 'Positive', 'score': 1.0}, {'label': 'Neutral', 'score': 0.8547576665878296}, {'label': 'Neutral', 'score': 0.9977425336837769}, {'label': 'Neutral', 'score': 0.5150184035301208}, {'label': 'Neutral', 'score': 0.9999980926513672}, {'label': 'Positive', 'score': 0.9984265565872192}, {'label': 'Neutral', 'score': 0.9999152421951294}, {'label': 'Neutral', 'score': 0.993584930896759}, {'label': 'Neutral', 'score': 0.9803168773651123}, {'label': 'Positive', 'score': 0.9921424388885498}, {'label': 'Neutral', 'score': 0.9998674392700195}, {'label': 'Positive', 'score': 0.9933524131774902}, {'label': 'Negative', 'score': 0.9999560117721558}, {'label': 'Neutral', 'score': 0.9999138116836548}, {'label': 'Neutral', 'score': 0.9999951124191284}, {'label': 'Neutral', 'score': 0.9984174966812134}, {'label': 'Neutral', 'score': 0.9996565580368042}, {'label': 'Neutral', 'score': 0.9999525547027588}, {'label': 'Negative', 'score': 0.8184546828269958}, {'label': 'Positive', 'score': 0.6470839977264404}, {'label': 'Neutral', 'score': 0.9992790818214417}, {'label': 'Neutral', 'score': 0.9999994039535522}, {'label': 'Neutral', 'score': 0.9972264170646667}, {'label': 'Neutral', 'score': 0.5888550877571106}, {'label': 'Neutral', 'score': 0.6172363758087158}, {'label': 'Neutral', 'score': 0.9999374151229858}, {'label': 'Neutral', 'score': 0.9993114471435547}, {'label': 'Negative', 'score': 0.9998316764831543}, {'label': 'Neutral', 'score': 0.9999656677246094}, {'label': 'Neutral', 'score': 0.9999997615814209}, {'label': 'Neutral', 'score': 0.9997867941856384}, {'label': 'Positive', 'score': 0.9999344348907471}, {'label': 'Positive', 'score': 0.9922192096710205}, {'label': 'Neutral', 'score': 0.9987956285476685}, {'label': 'Negative', 'score': 0.6874145865440369}, {'label': 'Neutral', 'score': 0.9996567964553833}, {'label': 'Neutral', 'score': 0.9997909665107727}, {'label': 'Positive', 'score': 0.9282766580581665}, {'label': 'Positive', 'score': 0.9117457270622253}, {'label': 'Neutral', 'score': 0.9999427795410156}, {'label': 'Neutral', 'score': 0.9999797344207764}, {'label': 'Neutral', 'score': 0.6534353494644165}, {'label': 'Neutral', 'score': 0.9999241828918457}, {'label': 'Neutral', 'score': 0.9778558611869812}, {'label': 'Positive', 'score': 0.5036587119102478}, {'label': 'Positive', 'score': 0.9996427297592163}, {'label': 'Neutral', 'score': 0.9998966455459595}, {'label': 'Neutral', 'score': 0.9993568062782288}, {'label': 'Neutral', 'score': 0.9998248219490051}, {'label': 'Positive', 'score': 0.9807180166244507}, {'label': 'Neutral', 'score': 0.9999269247055054}, {'label': 'Neutral', 'score': 0.9999154806137085}, {'label': 'Positive', 'score': 0.907812237739563}, {'label': 'Neutral', 'score': 0.9995511174201965}, {'label': 'Positive', 'score': 0.8715594410896301}, {'label': 'Neutral', 'score': 0.9986788630485535}, {'label': 'Neutral', 'score': 0.9994136095046997}, {'label': 'Neutral', 'score': 0.9996433258056641}, {'label': 'Positive', 'score': 0.9999983310699463}, {'label': 'Positive', 'score': 0.7122257351875305}, {'label': 'Neutral', 'score': 0.9985896944999695}, {'label': 'Neutral', 'score': 0.8682131767272949}, {'label': 'Neutral', 'score': 0.9996788501739502}, {'label': 'Neutral', 'score': 0.9997628331184387}, {'label': 'Neutral', 'score': 0.9999829530715942}, {'label': 'Positive', 'score': 0.9983956217765808}, {'label': 'Neutral', 'score': 0.999338686466217}, {'label': 'Neutral', 'score': 0.9966351389884949}, {'label': 'Neutral', 'score': 0.9975270628929138}, {'label': 'Positive', 'score': 0.9999440908432007}, {'label': 'Neutral', 'score': 0.8708664774894714}, {'label': 'Neutral', 'score': 0.9999957084655762}, {'label': 'Neutral', 'score': 0.9856820702552795}, {'label': 'Neutral', 'score': 0.9795323014259338}, {'label': 'Positive', 'score': 0.9999947547912598}, {'label': 'Neutral', 'score': 0.9994106292724609}, {'label': 'Positive', 'score': 0.999705970287323}, {'label': 'Neutral', 'score': 0.9964535236358643}, {'label': 'Neutral', 'score': 0.9995436072349548}, {'label': 'Positive', 'score': 0.9999994039535522}, {'label': 'Neutral', 'score': 0.9144970178604126}, {'label': 'Neutral', 'score': 0.999882698059082}, {'label': 'Neutral', 'score': 0.9998944997787476}, {'label': 'Neutral', 'score': 0.9573660492897034}, {'label': 'Neutral', 'score': 0.9999772310256958}, {'label': 'Neutral', 'score': 0.9997350573539734}, {'label': 'Neutral', 'score': 0.9999947547912598}, {'label': 'Negative', 'score': 0.7586634159088135}, {'label': 'Neutral', 'score': 0.9930999279022217}, {'label': 'Neutral', 'score': 0.96698397397995}, {'label': 'Neutral', 'score': 0.999964714050293}, {'label': 'Positive', 'score': 0.9481768608093262}, {'label': 'Neutral', 'score': 0.9999979734420776}, {'label': 'Neutral', 'score': 0.9999940395355225}, {'label': 'Positive', 'score': 0.9999979734420776}, {'label': 'Neutral', 'score': 0.9717888832092285}, {'label': 'Neutral', 'score': 0.9999747276306152}, {'label': 'Positive', 'score': 0.766269326210022}, {'label': 'Negative', 'score': 0.9999986886978149}, {'label': 'Neutral', 'score': 0.9973940849304199}, {'label': 'Neutral', 'score': 0.9918065071105957}, {'label': 'Neutral', 'score': 0.9999662637710571}, {'label': 'Neutral', 'score': 0.692449688911438}, {'label': 'Positive', 'score': 0.99872225522995}, {'label': 'Negative', 'score': 0.9994569420814514}, {'label': 'Neutral', 'score': 0.9592233896255493}, {'label': 'Positive', 'score': 0.9999991655349731}, {'label': 'Negative', 'score': 0.9998829364776611}, {'label': 'Neutral', 'score': 0.9984808564186096}, {'label': 'Neutral', 'score': 0.9998724460601807}, {'label': 'Neutral', 'score': 0.9996932744979858}, {'label': 'Negative', 'score': 0.8119891285896301}, {'label': 'Positive', 'score': 0.9913363456726074}, {'label': 'Neutral', 'score': 0.9999338388442993}, {'label': 'Neutral', 'score': 0.9651755690574646}, {'label': 'Negative', 'score': 0.8325917720794678}, {'label': 'Neutral', 'score': 0.9997618794441223}, {'label': 'Neutral', 'score': 0.99896240234375}, {'label': 'Neutral', 'score': 0.9999618530273438}, {'label': 'Neutral', 'score': 0.9999836683273315}, {'label': 'Neutral', 'score': 0.9962345957756042}, {'label': 'Neutral', 'score': 0.9970280528068542}, {'label': 'Neutral', 'score': 0.9999910593032837}, {'label': 'Neutral', 'score': 0.9999943971633911}, {'label': 'Neutral', 'score': 0.9345419406890869}, {'label': 'Neutral', 'score': 0.9999707937240601}, {'label': 'Positive', 'score': 0.9999979734420776}, {'label': 'Positive', 'score': 0.9988322854042053}, {'label': 'Neutral', 'score': 0.9958273768424988}, {'label': 'Positive', 'score': 0.9999974966049194}, {'label': 'Neutral', 'score': 0.9829168915748596}, {'label': 'Positive', 'score': 0.9999998807907104}, {'label': 'Positive', 'score': 0.9999980926513672}, {'label': 'Positive', 'score': 0.9500020146369934}, {'label': 'Neutral', 'score': 0.9998548030853271}, {'label': 'Positive', 'score': 0.9999903440475464}, {'label': 'Neutral', 'score': 0.999987006187439}, {'label': 'Neutral', 'score': 0.9520552158355713}, {'label': 'Neutral', 'score': 0.9999947547912598}, {'label': 'Neutral', 'score': 0.5879706740379333}, {'label': 'Neutral', 'score': 0.9939091205596924}, {'label': 'Neutral', 'score': 0.9997838139533997}, {'label': 'Neutral', 'score': 0.9241145253181458}, {'label': 'Neutral', 'score': 0.9997925162315369}, {'label': 'Positive', 'score': 1.0}, {'label': 'Positive', 'score': 0.9998371601104736}, {'label': 'Positive', 'score': 0.9999178647994995}, {'label': 'Positive', 'score': 1.0}, {'label': 'Negative', 'score': 0.9949028491973877}, {'label': 'Positive', 'score': 0.9985120892524719}, {'label': 'Neutral', 'score': 0.9962331652641296}, {'label': 'Neutral', 'score': 0.999866247177124}, {'label': 'Neutral', 'score': 0.9999747276306152}, {'label': 'Neutral', 'score': 0.9964542388916016}, {'label': 'Neutral', 'score': 0.9997816681861877}, {'label': 'Neutral', 'score': 0.9993127584457397}, {'label': 'Negative', 'score': 0.9820897579193115}, {'label': 'Neutral', 'score': 0.9999866485595703}, {'label': 'Negative', 'score': 0.9357977509498596}, {'label': 'Positive', 'score': 0.9250247478485107}, {'label': 'Neutral', 'score': 0.9999765157699585}, {'label': 'Neutral', 'score': 0.8717944025993347}, {'label': 'Neutral', 'score': 0.9999616146087646}, {'label': 'Positive', 'score': 0.9999852180480957}, {'label': 'Neutral', 'score': 0.999977707862854}, {'label': 'Negative', 'score': 0.9987188577651978}, {'label': 'Positive', 'score': 0.9313153624534607}, {'label': 'Neutral', 'score': 0.9999990463256836}, {'label': 'Neutral', 'score': 0.9999957084655762}, {'label': 'Neutral', 'score': 0.9960422515869141}, {'label': 'Neutral', 'score': 0.9997168183326721}, {'label': 'Neutral', 'score': 0.9998990297317505}, {'label': 'Neutral', 'score': 0.9999997615814209}, {'label': 'Neutral', 'score': 0.9999047517776489}, {'label': 'Neutral', 'score': 0.9983153343200684}, {'label': 'Positive', 'score': 0.7272131443023682}, {'label': 'Neutral', 'score': 0.9999133348464966}, {'label': 'Neutral', 'score': 0.9998431205749512}, {'label': 'Neutral', 'score': 0.999932050704956}, {'label': 'Positive', 'score': 1.0}, {'label': 'Positive', 'score': 0.9999994039535522}, {'label': 'Neutral', 'score': 0.9996973276138306}, {'label': 'Neutral', 'score': 0.7921557426452637}, {'label': 'Negative', 'score': 0.8947012424468994}, {'label': 'Positive', 'score': 0.9572644829750061}, {'label': 'Neutral', 'score': 0.9997228980064392}, {'label': 'Negative', 'score': 0.4944697320461273}, {'label': 'Neutral', 'score': 0.5905908346176147}, {'label': 'Neutral', 'score': 0.9996577501296997}, {'label': 'Neutral', 'score': 0.9999977350234985}, {'label': 'Negative', 'score': 0.6898479461669922}, {'label': 'Neutral', 'score': 0.9211482405662537}, {'label': 'Neutral', 'score': 0.999915361404419}, {'label': 'Neutral', 'score': 0.894789457321167}, {'label': 'Positive', 'score': 1.0}, {'label': 'Neutral', 'score': 0.9665961861610413}, {'label': 'Positive', 'score': 0.6204410195350647}, {'label': 'Negative', 'score': 0.9578841328620911}, {'label': 'Neutral', 'score': 0.8272466659545898}, {'label': 'Positive', 'score': 0.9988365769386292}, {'label': 'Neutral', 'score': 0.6804512739181519}, {'label': 'Negative', 'score': 0.6346327662467957}, {'label': 'Neutral', 'score': 0.9999998807907104}, {'label': 'Neutral', 'score': 0.9999995231628418}, {'label': 'Neutral', 'score': 0.9999467134475708}, {'label': 'Neutral', 'score': 0.9999734163284302}, {'label': 'Neutral', 'score': 0.9999074935913086}, {'label': 'Neutral', 'score': 0.9983049631118774}, {'label': 'Neutral', 'score': 0.9992276430130005}, {'label': 'Positive', 'score': 1.0}, {'label': 'Positive', 'score': 0.9994615912437439}, {'label': 'Neutral', 'score': 0.9999732971191406}, {'label': 'Neutral', 'score': 0.9359991550445557}, {'label': 'Positive', 'score': 0.9868517518043518}, {'label': 'Neutral', 'score': 0.6344091296195984}, {'label': 'Neutral', 'score': 0.999819815158844}, {'label': 'Neutral', 'score': 0.9793532490730286}, {'label': 'Neutral', 'score': 0.8961595296859741}, {'label': 'Positive', 'score': 0.9999998807907104}, {'label': 'Neutral', 'score': 0.9996377229690552}, {'label': 'Neutral', 'score': 0.9999034404754639}, {'label': 'Neutral', 'score': 0.47721704840660095}, {'label': 'Positive', 'score': 0.9999911785125732}, {'label': 'Neutral', 'score': 0.9999985694885254}, {'label': 'Negative', 'score': 0.9999932050704956}, {'label': 'Neutral', 'score': 0.9999897480010986}, {'label': 'Positive', 'score': 0.999993085861206}, {'label': 'Positive', 'score': 0.9998403787612915}, {'label': 'Negative', 'score': 0.9024273157119751}, {'label': 'Positive', 'score': 0.9999995231628418}, {'label': 'Neutral', 'score': 0.9998633861541748}, {'label': 'Neutral', 'score': 0.9999992847442627}, {'label': 'Neutral', 'score': 0.9976955056190491}, {'label': 'Neutral', 'score': 0.9987321496009827}, {'label': 'Neutral', 'score': 0.9978235960006714}, {'label': 'Neutral', 'score': 0.9999978542327881}, {'label': 'Neutral', 'score': 0.9999719858169556}, {'label': 'Neutral', 'score': 0.7537757158279419}, {'label': 'Neutral', 'score': 0.9999949932098389}, {'label': 'Neutral', 'score': 0.9992401599884033}, {'label': 'Positive', 'score': 1.0}, {'label': 'Neutral', 'score': 0.9998836517333984}, {'label': 'Negative', 'score': 0.9535462856292725}, {'label': 'Neutral', 'score': 0.9999430179595947}, {'label': 'Neutral', 'score': 0.9999988079071045}, {'label': 'Neutral', 'score': 0.9999679327011108}, {'label': 'Neutral', 'score': 0.9982748031616211}, {'label': 'Negative', 'score': 0.9999949932098389}, {'label': 'Positive', 'score': 0.9999966621398926}, {'label': 'Neutral', 'score': 0.9973076581954956}, {'label': 'Positive', 'score': 0.9965972304344177}, {'label': 'Neutral', 'score': 0.9903254508972168}, {'label': 'Negative', 'score': 0.9904319643974304}, {'label': 'Neutral', 'score': 0.9998878240585327}, {'label': 'Neutral', 'score': 0.9999901056289673}, {'label': 'Neutral', 'score': 0.9905975461006165}, {'label': 'Neutral', 'score': 0.9913478493690491}, {'label': 'Neutral', 'score': 0.9966439008712769}, {'label': 'Neutral', 'score': 0.9999957084655762}, {'label': 'Positive', 'score': 0.9999449253082275}, {'label': 'Neutral', 'score': 0.9265391826629639}, {'label': 'Neutral', 'score': 0.9999940395355225}, {'label': 'Neutral', 'score': 0.9999657869338989}, {'label': 'Neutral', 'score': 0.9999954700469971}, {'label': 'Neutral', 'score': 0.9999792575836182}, {'label': 'Neutral', 'score': 0.99988853931427}, {'label': 'Neutral', 'score': 0.9993903636932373}, {'label': 'Positive', 'score': 0.9999986886978149}, {'label': 'Neutral', 'score': 0.9999041557312012}, {'label': 'Positive', 'score': 0.9999986886978149}, {'label': 'Neutral', 'score': 0.9992889165878296}, {'label': 'Neutral', 'score': 0.9999992847442627}, {'label': 'Neutral', 'score': 0.9999048709869385}, {'label': 'Positive', 'score': 1.0}, {'label': 'Neutral', 'score': 0.9998550415039062}, {'label': 'Positive', 'score': 0.9960864782333374}, {'label': 'Neutral', 'score': 0.5782120227813721}, {'label': 'Neutral', 'score': 0.9998227953910828}, {'label': 'Neutral', 'score': 0.9978596568107605}, {'label': 'Neutral', 'score': 0.9746717810630798}, {'label': 'Neutral', 'score': 0.9361963868141174}, {'label': 'Neutral', 'score': 0.9976727366447449}, {'label': 'Positive', 'score': 0.9995653033256531}, {'label': 'Neutral', 'score': 0.9999513626098633}, {'label': 'Positive', 'score': 0.9999998807907104}, {'label': 'Neutral', 'score': 0.9994982481002808}, {'label': 'Positive', 'score': 0.9999914169311523}, {'label': 'Positive', 'score': 1.0}, {'label': 'Neutral', 'score': 0.999992847442627}, {'label': 'Positive', 'score': 0.9960185885429382}, {'label': 'Neutral', 'score': 0.999626636505127}, {'label': 'Neutral', 'score': 0.9993513226509094}, {'label': 'Positive', 'score': 0.9999086856842041}, {'label': 'Neutral', 'score': 0.9999871253967285}, {'label': 'Neutral', 'score': 0.9995935559272766}, {'label': 'Neutral', 'score': 0.9999635219573975}, {'label': 'Negative', 'score': 0.6072772741317749}, {'label': 'Neutral', 'score': 0.9999985694885254}, {'label': 'Neutral', 'score': 0.999996542930603}, {'label': 'Neutral', 'score': 0.902821958065033}, {'label': 'Positive', 'score': 0.9999991655349731}, {'label': 'Neutral', 'score': 0.9999899864196777}, {'label': 'Neutral', 'score': 0.9999899864196777}, {'label': 'Positive', 'score': 0.9762614965438843}, {'label': 'Positive', 'score': 0.9999991655349731}, {'label': 'Neutral', 'score': 0.9858810901641846}, {'label': 'Neutral', 'score': 0.996682345867157}, {'label': 'Positive', 'score': 0.998981773853302}, {'label': 'Neutral', 'score': 0.9999810457229614}, {'label': 'Neutral', 'score': 0.8638982772827148}, {'label': 'Neutral', 'score': 0.9999977350234985}, {'label': 'Positive', 'score': 0.9999998807907104}, {'label': 'Neutral', 'score': 0.9997360110282898}, {'label': 'Neutral', 'score': 0.9993195533752441}, {'label': 'Positive', 'score': 1.0}, {'label': 'Positive', 'score': 0.9999980926513672}, {'label': 'Neutral', 'score': 0.9584228992462158}, {'label': 'Neutral', 'score': 0.999247670173645}, {'label': 'Negative', 'score': 0.9508345723152161}, {'label': 'Neutral', 'score': 0.8298820853233337}, {'label': 'Neutral', 'score': 0.9989596605300903}, {'label': 'Neutral', 'score': 0.9982393980026245}, {'label': 'Neutral', 'score': 0.9999986886978149}, {'label': 'Positive', 'score': 0.8521164059638977}, {'label': 'Positive', 'score': 0.9991230368614197}, {'label': 'Neutral', 'score': 0.9445597529411316}, {'label': 'Neutral', 'score': 0.867364764213562}, {'label': 'Neutral', 'score': 0.9999816417694092}, {'label': 'Neutral', 'score': 0.9999196529388428}, {'label': 'Neutral', 'score': 0.9997645020484924}, {'label': 'Neutral', 'score': 0.9997912049293518}, {'label': 'Neutral', 'score': 0.9999995231628418}, {'label': 'Neutral', 'score': 0.9999891519546509}, {'label': 'Neutral', 'score': 0.9824205636978149}, {'label': 'Neutral', 'score': 0.9999805688858032}, {'label': 'Positive', 'score': 0.9999064207077026}, {'label': 'Neutral', 'score': 0.9999970197677612}, {'label': 'Positive', 'score': 0.9999884366989136}, {'label': 'Neutral', 'score': 0.9998993873596191}, {'label': 'Neutral', 'score': 0.9996539354324341}, {'label': 'Neutral', 'score': 0.9999998807907104}, {'label': 'Neutral', 'score': 0.9999998807907104}, {'label': 'Negative', 'score': 0.7833781838417053}, {'label': 'Neutral', 'score': 0.9994266033172607}, {'label': 'Neutral', 'score': 0.9417566657066345}, {'label': 'Neutral', 'score': 0.9896210432052612}, {'label': 'Neutral', 'score': 0.998197615146637}, {'label': 'Neutral', 'score': 0.9999799728393555}, {'label': 'Neutral', 'score': 0.9994378685951233}, {'label': 'Neutral', 'score': 0.999967098236084}, {'label': 'Neutral', 'score': 0.9999892711639404}, {'label': 'Neutral', 'score': 0.999972939491272}, {'label': 'Neutral', 'score': 0.9879171252250671}, {'label': 'Neutral', 'score': 0.9999918937683105}, {'label': 'Neutral', 'score': 0.9999994039535522}, {'label': 'Positive', 'score': 0.9982795715332031}, {'label': 'Positive', 'score': 0.4495376944541931}, {'label': 'Neutral', 'score': 0.9996157884597778}, {'label': 'Neutral', 'score': 0.8155083060264587}, {'label': 'Neutral', 'score': 0.9999626874923706}, {'label': 'Negative', 'score': 0.9995139837265015}, {'label': 'Negative', 'score': 0.9998887777328491}, {'label': 'Negative', 'score': 0.9994685053825378}, {'label': 'Negative', 'score': 0.9590834379196167}, {'label': 'Neutral', 'score': 0.9336501955986023}, {'label': 'Neutral', 'score': 0.9999353885650635}, {'label': 'Neutral', 'score': 0.9999018907546997}, {'label': 'Positive', 'score': 0.9994586110115051}, {'label': 'Neutral', 'score': 0.9920977354049683}, {'label': 'Neutral', 'score': 0.9999935626983643}, {'label': 'Positive', 'score': 0.9999997615814209}, {'label': 'Neutral', 'score': 0.999956488609314}, {'label': 'Neutral', 'score': 0.9945610165596008}, {'label': 'Positive', 'score': 0.9997486472129822}, {'label': 'Positive', 'score': 0.9995474219322205}, {'label': 'Neutral', 'score': 0.9575885534286499}, {'label': 'Positive', 'score': 0.9999994039535522}, {'label': 'Neutral', 'score': 0.9947493672370911}, {'label': 'Positive', 'score': 0.9477242827415466}, {'label': 'Neutral', 'score': 0.9998694658279419}, {'label': 'Neutral', 'score': 0.9999816417694092}, {'label': 'Neutral', 'score': 0.9999887943267822}, {'label': 'Positive', 'score': 0.999843955039978}, {'label': 'Neutral', 'score': 0.9993159770965576}, {'label': 'Positive', 'score': 0.9988522529602051}, {'label': 'Neutral', 'score': 0.9993483424186707}, {'label': 'Neutral', 'score': 0.9998792409896851}, {'label': 'Neutral', 'score': 0.8106791377067566}, {'label': 'Neutral', 'score': 0.9997692704200745}, {'label': 'Neutral', 'score': 0.9980406165122986}, {'label': 'Neutral', 'score': 0.9994083642959595}, {'label': 'Neutral', 'score': 0.9999889135360718}, {'label': 'Positive', 'score': 0.8594721555709839}, {'label': 'Neutral', 'score': 0.9999978542327881}, {'label': 'Positive', 'score': 0.9803816080093384}, {'label': 'Neutral', 'score': 0.9999600648880005}, {'label': 'Positive', 'score': 0.9999839067459106}, {'label': 'Neutral', 'score': 0.9999997615814209}, {'label': 'Neutral', 'score': 0.9998044371604919}, {'label': 'Neutral', 'score': 0.99993896484375}, {'label': 'Neutral', 'score': 0.9954291582107544}, {'label': 'Neutral', 'score': 0.9999997615814209}, {'label': 'Neutral', 'score': 0.9999827146530151}, {'label': 'Neutral', 'score': 0.9999961853027344}, {'label': 'Neutral', 'score': 0.9999983310699463}, {'label': 'Positive', 'score': 0.8505930304527283}, {'label': 'Neutral', 'score': 0.999876856803894}, {'label': 'Neutral', 'score': 0.999835729598999}, {'label': 'Neutral', 'score': 0.9999816417694092}, {'label': 'Positive', 'score': 0.9999874830245972}, {'label': 'Neutral', 'score': 0.9648303985595703}, {'label': 'Neutral', 'score': 0.9992582201957703}, {'label': 'Neutral', 'score': 0.9919478297233582}, {'label': 'Positive', 'score': 0.9999854564666748}, {'label': 'Negative', 'score': 0.9768803119659424}, {'label': 'Neutral', 'score': 0.9998559951782227}, {'label': 'Neutral', 'score': 0.5142040848731995}, {'label': 'Neutral', 'score': 0.9999603033065796}, {'label': 'Neutral', 'score': 0.9996683597564697}, {'label': 'Neutral', 'score': 0.9948145747184753}, {'label': 'Neutral', 'score': 0.9999997615814209}, {'label': 'Neutral', 'score': 0.5115258097648621}, {'label': 'Neutral', 'score': 0.9086834192276001}, {'label': 'Negative', 'score': 0.9999741315841675}, {'label': 'Neutral', 'score': 0.9993005990982056}, {'label': 'Neutral', 'score': 0.9941680431365967}, {'label': 'Neutral', 'score': 0.9999650716781616}, {'label': 'Neutral', 'score': 0.9999034404754639}, {'label': 'Neutral', 'score': 0.9985744953155518}, {'label': 'Neutral', 'score': 0.9999370574951172}, {'label': 'Neutral', 'score': 0.9998000264167786}, {'label': 'Neutral', 'score': 0.9999574422836304}, {'label': 'Neutral', 'score': 0.946178674697876}, {'label': 'Neutral', 'score': 0.9998317956924438}, {'label': 'Neutral', 'score': 0.9999459981918335}, {'label': 'Negative', 'score': 0.8787816762924194}, {'label': 'Neutral', 'score': 0.9564267992973328}, {'label': 'Positive', 'score': 0.8632261157035828}, {'label': 'Neutral', 'score': 0.9997614026069641}, {'label': 'Neutral', 'score': 0.999998927116394}, {'label': 'Positive', 'score': 0.999995231628418}, {'label': 'Positive', 'score': 0.9999326467514038}, {'label': 'Neutral', 'score': 0.745300829410553}, {'label': 'Neutral', 'score': 0.9904216527938843}, {'label': 'Neutral', 'score': 0.9986530542373657}, {'label': 'Neutral', 'score': 0.9992913007736206}, {'label': 'Neutral', 'score': 0.9998823404312134}, {'label': 'Positive', 'score': 0.9989114999771118}, {'label': 'Neutral', 'score': 0.9999963045120239}, {'label': 'Neutral', 'score': 0.999983549118042}, {'label': 'Positive', 'score': 1.0}, {'label': 'Neutral', 'score': 0.9995146989822388}, {'label': 'Positive', 'score': 1.0}, {'label': 'Neutral', 'score': 0.9859528541564941}, {'label': 'Positive', 'score': 0.9999992847442627}, {'label': 'Positive', 'score': 0.9999994039535522}, {'label': 'Positive', 'score': 0.9999997615814209}, {'label': 'Positive', 'score': 0.9999998807907104}, {'label': 'Negative', 'score': 0.6991565227508545}, {'label': 'Neutral', 'score': 0.9998461008071899}, {'label': 'Positive', 'score': 0.8353419899940491}, {'label': 'Neutral', 'score': 0.998529314994812}, {'label': 'Neutral', 'score': 0.8301809430122375}, {'label': 'Neutral', 'score': 0.999988317489624}, {'label': 'Neutral', 'score': 0.9988466501235962}, {'label': 'Negative', 'score': 0.9987102746963501}, {'label': 'Neutral', 'score': 0.999819815158844}, {'label': 'Neutral', 'score': 0.9999096393585205}, {'label': 'Neutral', 'score': 0.999997615814209}, {'label': 'Positive', 'score': 1.0}, {'label': 'Neutral', 'score': 0.9999086856842041}, {'label': 'Neutral', 'score': 0.9998205304145813}, {'label': 'Positive', 'score': 0.9991244673728943}, {'label': 'Positive', 'score': 1.0}, {'label': 'Neutral', 'score': 0.9999285936355591}, {'label': 'Neutral', 'score': 0.9999817609786987}, {'label': 'Neutral', 'score': 0.9985852241516113}, {'label': 'Neutral', 'score': 0.9999915361404419}, {'label': 'Neutral', 'score': 0.9999990463256836}, {'label': 'Positive', 'score': 0.9990046620368958}, {'label': 'Neutral', 'score': 0.999081015586853}, {'label': 'Neutral', 'score': 0.8462191224098206}, {'label': 'Positive', 'score': 0.9999996423721313}, {'label': 'Neutral', 'score': 0.8808408975601196}, {'label': 'Negative', 'score': 0.9999793767929077}, {'label': 'Neutral', 'score': 0.9182963967323303}, {'label': 'Negative', 'score': 0.9588112235069275}, {'label': 'Negative', 'score': 0.9962524771690369}, {'label': 'Neutral', 'score': 0.9994458556175232}, {'label': 'Neutral', 'score': 0.9999855756759644}, {'label': 'Neutral', 'score': 0.9999642372131348}, {'label': 'Neutral', 'score': 0.9999991655349731}, {'label': 'Neutral', 'score': 0.9999953508377075}, {'label': 'Neutral', 'score': 0.9994383454322815}, {'label': 'Neutral', 'score': 0.999976634979248}, {'label': 'Positive', 'score': 0.9461005330085754}, {'label': 'Neutral', 'score': 0.9998077750205994}, {'label': 'Neutral', 'score': 0.9999401569366455}, {'label': 'Neutral', 'score': 0.9997518658638}, {'label': 'Neutral', 'score': 0.999795138835907}, {'label': 'Neutral', 'score': 0.9999910593032837}, {'label': 'Neutral', 'score': 0.9999954700469971}, {'label': 'Neutral', 'score': 0.9994595646858215}, {'label': 'Neutral', 'score': 0.9999947547912598}, {'label': 'Positive', 'score': 0.9999997615814209}, {'label': 'Positive', 'score': 0.999976396560669}, {'label': 'Positive', 'score': 0.9999858140945435}, {'label': 'Negative', 'score': 0.968549370765686}, {'label': 'Neutral', 'score': 0.9227182865142822}, {'label': 'Neutral', 'score': 0.9993146657943726}, {'label': 'Neutral', 'score': 0.9999936819076538}, {'label': 'Neutral', 'score': 0.9996546506881714}, {'label': 'Neutral', 'score': 0.9998880624771118}, {'label': 'Neutral', 'score': 0.9999419450759888}, {'label': 'Neutral', 'score': 0.9951258301734924}, {'label': 'Neutral', 'score': 0.9999815225601196}, {'label': 'Neutral', 'score': 0.9999035596847534}, {'label': 'Neutral', 'score': 0.826854407787323}, {'label': 'Neutral', 'score': 0.9981470108032227}, {'label': 'Neutral', 'score': 0.9989626407623291}, {'label': 'Neutral', 'score': 0.9997565150260925}, {'label': 'Neutral', 'score': 0.9999489784240723}, {'label': 'Negative', 'score': 0.6426494717597961}, {'label': 'Neutral', 'score': 0.9998492002487183}, {'label': 'Neutral', 'score': 0.9999821186065674}, {'label': 'Positive', 'score': 0.8201391696929932}, {'label': 'Neutral', 'score': 0.9999998807907104}, {'label': 'Neutral', 'score': 0.952097475528717}, {'label': 'Neutral', 'score': 0.8276059627532959}, {'label': 'Neutral', 'score': 0.999980092048645}, {'label': 'Neutral', 'score': 0.9998950958251953}, {'label': 'Neutral', 'score': 0.9998100399971008}, {'label': 'Neutral', 'score': 0.8269928097724915}, {'label': 'Negative', 'score': 0.840998113155365}, {'label': 'Neutral', 'score': 0.9999974966049194}, {'label': 'Neutral', 'score': 0.9970554113388062}, {'label': 'Neutral', 'score': 0.9830762147903442}, {'label': 'Neutral', 'score': 0.9999833106994629}, {'label': 'Neutral', 'score': 0.9996284246444702}, {'label': 'Neutral', 'score': 0.9999904632568359}, {'label': 'Neutral', 'score': 0.9975910186767578}, {'label': 'Neutral', 'score': 0.9999853372573853}, {'label': 'Neutral', 'score': 0.9908472299575806}, {'label': 'Neutral', 'score': 0.9994503855705261}, {'label': 'Neutral', 'score': 0.9999984502792358}, {'label': 'Neutral', 'score': 0.5655266046524048}, {'label': 'Neutral', 'score': 0.7852309942245483}, {'label': 'Neutral', 'score': 0.9999208450317383}, {'label': 'Neutral', 'score': 0.8375963568687439}, {'label': 'Neutral', 'score': 0.9999945163726807}, {'label': 'Neutral', 'score': 0.9999964237213135}, {'label': 'Negative', 'score': 0.9999833106994629}, {'label': 'Neutral', 'score': 0.9295784831047058}, {'label': 'Negative', 'score': 0.9999849796295166}, {'label': 'Negative', 'score': 0.9306841492652893}, {'label': 'Neutral', 'score': 0.9989288449287415}, {'label': 'Neutral', 'score': 0.9912011623382568}, {'label': 'Neutral', 'score': 0.9998040795326233}, {'label': 'Positive', 'score': 1.0}, {'label': 'Positive', 'score': 0.9999998807907104}, {'label': 'Neutral', 'score': 0.9999129772186279}, {'label': 'Neutral', 'score': 0.9998040795326233}, {'label': 'Negative', 'score': 0.979548454284668}, {'label': 'Neutral', 'score': 0.9999780654907227}, {'label': 'Neutral', 'score': 0.9999704360961914}, {'label': 'Positive', 'score': 1.0}, {'label': 'Positive', 'score': 0.9666446447372437}, {'label': 'Neutral', 'score': 0.9867330193519592}, {'label': 'Neutral', 'score': 0.8029434680938721}, {'label': 'Positive', 'score': 0.9996470212936401}, {'label': 'Neutral', 'score': 0.9999858140945435}, {'label': 'Neutral', 'score': 0.9999916553497314}, {'label': 'Neutral', 'score': 0.9629462361335754}, {'label': 'Positive', 'score': 0.999509334564209}, {'label': 'Neutral', 'score': 0.9998447895050049}, {'label': 'Neutral', 'score': 0.9999568462371826}, {'label': 'Neutral', 'score': 0.9995682835578918}, {'label': 'Neutral', 'score': 0.9995682835578918}, {'label': 'Neutral', 'score': 0.9905490279197693}, {'label': 'Neutral', 'score': 0.9999998807907104}, {'label': 'Positive', 'score': 0.8162732124328613}, {'label': 'Neutral', 'score': 0.9999500513076782}, {'label': 'Negative', 'score': 0.9999372959136963}, {'label': 'Neutral', 'score': 0.9999971389770508}, {'label': 'Neutral', 'score': 0.999810516834259}, {'label': 'Neutral', 'score': 0.9614825248718262}, {'label': 'Negative', 'score': 0.9976478219032288}, {'label': 'Neutral', 'score': 0.9991422891616821}, {'label': 'Positive', 'score': 0.9997523427009583}, {'label': 'Neutral', 'score': 0.9999358654022217}, {'label': 'Neutral', 'score': 0.9948830604553223}, {'label': 'Positive', 'score': 0.5786440968513489}, {'label': 'Positive', 'score': 0.897118330001831}, {'label': 'Neutral', 'score': 0.7434230446815491}, {'label': 'Negative', 'score': 0.7455688714981079}, {'label': 'Positive', 'score': 0.9999988079071045}, {'label': 'Positive', 'score': 0.9999935626983643}, {'label': 'Neutral', 'score': 0.9995909333229065}, {'label': 'Neutral', 'score': 0.9998717308044434}, {'label': 'Negative', 'score': 0.9658302068710327}, {'label': 'Positive', 'score': 0.4188108444213867}, {'label': 'Positive', 'score': 0.9999693632125854}, {'label': 'Neutral', 'score': 0.9998748302459717}, {'label': 'Neutral', 'score': 0.9998819828033447}, {'label': 'Positive', 'score': 1.0}, {'label': 'Neutral', 'score': 0.96943598985672}, {'label': 'Neutral', 'score': 0.9997848868370056}, {'label': 'Negative', 'score': 0.7975872755050659}, {'label': 'Neutral', 'score': 0.8093279600143433}, {'label': 'Neutral', 'score': 0.999384880065918}, {'label': 'Neutral', 'score': 0.9999769926071167}, {'label': 'Negative', 'score': 0.8359347581863403}, {'label': 'Positive', 'score': 0.7412998676300049}, {'label': 'Neutral', 'score': 0.9990907907485962}, {'label': 'Neutral', 'score': 0.9970357418060303}, {'label': 'Neutral', 'score': 0.986099362373352}, {'label': 'Neutral', 'score': 0.955966591835022}, {'label': 'Negative', 'score': 0.9536927342414856}, {'label': 'Neutral', 'score': 0.9904516935348511}, {'label': 'Positive', 'score': 1.0}, {'label': 'Neutral', 'score': 0.9999614953994751}, {'label': 'Positive', 'score': 0.9999678134918213}, {'label': 'Neutral', 'score': 0.9999860525131226}, {'label': 'Positive', 'score': 0.9999983310699463}, {'label': 'Negative', 'score': 0.9442447423934937}, {'label': 'Neutral', 'score': 0.9916918277740479}, {'label': 'Neutral', 'score': 0.9998592138290405}, {'label': 'Positive', 'score': 0.999567449092865}, {'label': 'Neutral', 'score': 0.5481144189834595}, {'label': 'Neutral', 'score': 0.9999991655349731}, {'label': 'Positive', 'score': 0.7196750044822693}, {'label': 'Neutral', 'score': 0.9998546838760376}, {'label': 'Neutral', 'score': 0.9877721071243286}, {'label': 'Negative', 'score': 0.9397857785224915}, {'label': 'Neutral', 'score': 0.9999358654022217}, {'label': 'Neutral', 'score': 0.999991774559021}, {'label': 'Neutral', 'score': 0.999698281288147}, {'label': 'Neutral', 'score': 0.9145592451095581}, {'label': 'Positive', 'score': 0.7623639106750488}, {'label': 'Positive', 'score': 1.0}, {'label': 'Neutral', 'score': 0.8285652995109558}, {'label': 'Neutral', 'score': 0.9999958276748657}, {'label': 'Neutral', 'score': 0.9999935626983643}, {'label': 'Neutral', 'score': 0.9932218790054321}, {'label': 'Positive', 'score': 0.9961104989051819}, {'label': 'Positive', 'score': 0.9999998807907104}, {'label': 'Neutral', 'score': 0.9999971389770508}, {'label': 'Neutral', 'score': 0.9999607801437378}, {'label': 'Neutral', 'score': 0.9997933506965637}, {'label': 'Neutral', 'score': 0.9998466968536377}, {'label': 'Neutral', 'score': 0.8888185620307922}, {'label': 'Neutral', 'score': 0.9955774545669556}, {'label': 'Negative', 'score': 0.9448899030685425}, {'label': 'Positive', 'score': 0.9988625049591064}, {'label': 'Neutral', 'score': 0.9999644756317139}, {'label': 'Neutral', 'score': 0.9869044423103333}, {'label': 'Neutral', 'score': 0.999981164932251}, {'label': 'Neutral', 'score': 0.9999781847000122}, {'label': 'Positive', 'score': 0.9961651563644409}, {'label': 'Negative', 'score': 0.9975600242614746}, {'label': 'Neutral', 'score': 0.999984622001648}, {'label': 'Positive', 'score': 0.9996637105941772}, {'label': 'Neutral', 'score': 0.777767539024353}, {'label': 'Neutral', 'score': 0.9695675373077393}, {'label': 'Neutral', 'score': 0.999953031539917}, {'label': 'Neutral', 'score': 0.9999051094055176}, {'label': 'Neutral', 'score': 0.9993236064910889}, {'label': 'Positive', 'score': 0.9987395405769348}, {'label': 'Neutral', 'score': 0.9881513118743896}, {'label': 'Neutral', 'score': 0.9999881982803345}, {'label': 'Neutral', 'score': 0.9999730587005615}, {'label': 'Negative', 'score': 0.7459707260131836}, {'label': 'Neutral', 'score': 0.9996918439865112}, {'label': 'Negative', 'score': 0.9910408854484558}, {'label': 'Positive', 'score': 0.9990124702453613}, {'label': 'Positive', 'score': 0.9999943971633911}, {'label': 'Positive', 'score': 1.0}, {'label': 'Neutral', 'score': 0.9999674558639526}, {'label': 'Positive', 'score': 0.7063494324684143}, {'label': 'Negative', 'score': 0.9396511912345886}, {'label': 'Negative', 'score': 0.969940721988678}, {'label': 'Positive', 'score': 0.9999980926513672}, {'label': 'Negative', 'score': 0.9999330043792725}, {'label': 'Neutral', 'score': 0.9999990463256836}, {'label': 'Neutral', 'score': 0.9994394183158875}, {'label': 'Neutral', 'score': 0.9999988079071045}, {'label': 'Negative', 'score': 0.9999775886535645}, {'label': 'Positive', 'score': 0.9998255372047424}, {'label': 'Neutral', 'score': 0.9785553216934204}, {'label': 'Neutral', 'score': 0.999869704246521}, {'label': 'Neutral', 'score': 0.9999995231628418}, {'label': 'Positive', 'score': 0.9877009987831116}, {'label': 'Neutral', 'score': 0.999976634979248}, {'label': 'Positive', 'score': 1.0}, {'label': 'Neutral', 'score': 0.8929704427719116}, {'label': 'Neutral', 'score': 0.9999991655349731}, {'label': 'Positive', 'score': 0.9999997615814209}, {'label': 'Negative', 'score': 0.9943720102310181}, {'label': 'Neutral', 'score': 0.9713612794876099}, {'label': 'Neutral', 'score': 0.8048830032348633}, {'label': 'Neutral', 'score': 0.9754841923713684}, {'label': 'Neutral', 'score': 0.9963082075119019}, {'label': 'Neutral', 'score': 0.9999942779541016}, {'label': 'Negative', 'score': 0.9554027318954468}, {'label': 'Positive', 'score': 0.9999531507492065}, {'label': 'Neutral', 'score': 0.9592711925506592}, {'label': 'Positive', 'score': 0.9999786615371704}, {'label': 'Neutral', 'score': 0.7093843817710876}, {'label': 'Neutral', 'score': 0.9999963045120239}, {'label': 'Neutral', 'score': 0.955291748046875}, {'label': 'Neutral', 'score': 0.9991942048072815}, {'label': 'Neutral', 'score': 0.999941349029541}, {'label': 'Neutral', 'score': 0.9999167919158936}, {'label': 'Neutral', 'score': 0.781877875328064}, {'label': 'Neutral', 'score': 0.9998917579650879}, {'label': 'Neutral', 'score': 0.990064799785614}, {'label': 'Neutral', 'score': 0.9996964931488037}, {'label': 'Negative', 'score': 0.9999772310256958}, {'label': 'Positive', 'score': 0.996508777141571}, {'label': 'Neutral', 'score': 0.9175648093223572}, {'label': 'Neutral', 'score': 0.9999371767044067}, {'label': 'Neutral', 'score': 0.9992091059684753}, {'label': 'Negative', 'score': 0.9999997615814209}, {'label': 'Neutral', 'score': 0.9607719779014587}, {'label': 'Neutral', 'score': 0.9848306179046631}, {'label': 'Neutral', 'score': 0.9999868869781494}, {'label': 'Neutral', 'score': 0.9468151330947876}, {'label': 'Neutral', 'score': 0.9999973773956299}, {'label': 'Neutral', 'score': 0.9999991655349731}, {'label': 'Neutral', 'score': 0.9984838366508484}, {'label': 'Neutral', 'score': 0.5738816857337952}, {'label': 'Neutral', 'score': 0.999967098236084}, {'label': 'Negative', 'score': 0.9998986721038818}, {'label': 'Neutral', 'score': 0.9931806325912476}, {'label': 'Neutral', 'score': 0.763950765132904}, {'label': 'Neutral', 'score': 0.9999980926513672}, {'label': 'Neutral', 'score': 0.9989243149757385}, {'label': 'Positive', 'score': 0.9999831914901733}, {'label': 'Neutral', 'score': 0.9999969005584717}, {'label': 'Neutral', 'score': 0.9018074870109558}, {'label': 'Neutral', 'score': 0.9999347925186157}, {'label': 'Neutral', 'score': 0.9995477795600891}, {'label': 'Negative', 'score': 0.727958619594574}, {'label': 'Neutral', 'score': 0.9990757703781128}, {'label': 'Neutral', 'score': 0.9997709393501282}, {'label': 'Negative', 'score': 0.9190712571144104}, {'label': 'Neutral', 'score': 0.9996662139892578}, {'label': 'Neutral', 'score': 0.9471902847290039}, {'label': 'Neutral', 'score': 0.9999485015869141}, {'label': 'Neutral', 'score': 0.9987316727638245}, {'label': 'Negative', 'score': 0.7558850049972534}, {'label': 'Neutral', 'score': 0.9991455078125}, {'label': 'Negative', 'score': 0.9392016530036926}, {'label': 'Neutral', 'score': 0.9979786276817322}, {'label': 'Neutral', 'score': 0.9995406866073608}, {'label': 'Neutral', 'score': 0.9989656209945679}, {'label': 'Neutral', 'score': 0.925087034702301}, {'label': 'Neutral', 'score': 0.9973924160003662}, {'label': 'Neutral', 'score': 0.9999165534973145}, {'label': 'Neutral', 'score': 0.9961101412773132}, {'label': 'Neutral', 'score': 0.9999865293502808}, {'label': 'Neutral', 'score': 0.9988306164741516}, {'label': 'Neutral', 'score': 0.9343588948249817}, {'label': 'Neutral', 'score': 0.9999426603317261}, {'label': 'Neutral', 'score': 0.9999514818191528}, {'label': 'Positive', 'score': 0.9999997615814209}, {'label': 'Neutral', 'score': 0.9771533012390137}, {'label': 'Positive', 'score': 0.9999998807907104}, {'label': 'Positive', 'score': 0.9429882764816284}, {'label': 'Positive', 'score': 0.9644739031791687}, {'label': 'Negative', 'score': 0.5294474363327026}, {'label': 'Neutral', 'score': 0.9995195865631104}, {'label': 'Positive', 'score': 1.0}, {'label': 'Neutral', 'score': 0.9999527931213379}, {'label': 'Positive', 'score': 0.9393373131752014}, {'label': 'Negative', 'score': 0.8752455711364746}, {'label': 'Neutral', 'score': 0.9998733997344971}, {'label': 'Negative', 'score': 0.8995320796966553}, {'label': 'Neutral', 'score': 0.8642901182174683}, {'label': 'Neutral', 'score': 0.6635964512825012}, {'label': 'Neutral', 'score': 0.9999932050704956}, {'label': 'Negative', 'score': 0.9930896162986755}, {'label': 'Neutral', 'score': 0.9999995231628418}, {'label': 'Neutral', 'score': 0.9790396094322205}, {'label': 'Neutral', 'score': 0.9999997615814209}, {'label': 'Neutral', 'score': 0.9998960494995117}, {'label': 'Positive', 'score': 0.9992644190788269}, {'label': 'Neutral', 'score': 0.9999967813491821}, {'label': 'Neutral', 'score': 0.9998979568481445}, {'label': 'Neutral', 'score': 0.9999996423721313}, {'label': 'Neutral', 'score': 0.9888491630554199}, {'label': 'Neutral', 'score': 0.9998296499252319}, {'label': 'Neutral', 'score': 0.9999997615814209}, {'label': 'Positive', 'score': 0.9999995231628418}, {'label': 'Neutral', 'score': 0.9999607801437378}, {'label': 'Neutral', 'score': 0.9999970197677612}, {'label': 'Neutral', 'score': 0.9999940395355225}, {'label': 'Neutral', 'score': 0.9999992847442627}, {'label': 'Positive', 'score': 0.9999966621398926}, {'label': 'Positive', 'score': 0.8326823115348816}, {'label': 'Positive', 'score': 1.0}, {'label': 'Neutral', 'score': 0.9999945163726807}, {'label': 'Positive', 'score': 0.9979367256164551}, {'label': 'Neutral', 'score': 0.9998337030410767}, {'label': 'Positive', 'score': 0.9999997615814209}, {'label': 'Positive', 'score': 0.9999998807907104}, {'label': 'Positive', 'score': 0.9999998807907104}, {'label': 'Neutral', 'score': 0.9981209635734558}, {'label': 'Neutral', 'score': 0.9995668530464172}, {'label': 'Positive', 'score': 0.9999996423721313}, {'label': 'Positive', 'score': 1.0}, {'label': 'Neutral', 'score': 0.9999338388442993}, {'label': 'Negative', 'score': 0.9610952138900757}, {'label': 'Positive', 'score': 0.9163321852684021}, {'label': 'Positive', 'score': 0.9982707500457764}, {'label': 'Neutral', 'score': 0.9999572038650513}, {'label': 'Neutral', 'score': 0.9999701976776123}, {'label': 'Positive', 'score': 1.0}, {'label': 'Negative', 'score': 0.9706555604934692}, {'label': 'Neutral', 'score': 0.9995954632759094}, {'label': 'Neutral', 'score': 0.9998977184295654}, {'label': 'Negative', 'score': 0.9999333620071411}, {'label': 'Neutral', 'score': 0.9839043617248535}, {'label': 'Neutral', 'score': 0.9999921321868896}, {'label': 'Neutral', 'score': 0.8764176368713379}, {'label': 'Neutral', 'score': 0.9999814033508301}, {'label': 'Neutral', 'score': 0.9954663515090942}, {'label': 'Neutral', 'score': 0.9999681711196899}, {'label': 'Positive', 'score': 0.9999982118606567}, {'label': 'Positive', 'score': 0.9994423985481262}, {'label': 'Neutral', 'score': 0.99994957447052}, {'label': 'Positive', 'score': 0.915946364402771}, {'label': 'Positive', 'score': 0.9999920129776001}, {'label': 'Neutral', 'score': 0.999947190284729}, {'label': 'Positive', 'score': 0.9999672174453735}, {'label': 'Neutral', 'score': 0.9999696016311646}, {'label': 'Negative', 'score': 0.9998352527618408}, {'label': 'Neutral', 'score': 0.999998927116394}, {'label': 'Positive', 'score': 1.0}, {'label': 'Positive', 'score': 0.9999997615814209}, {'label': 'Neutral', 'score': 0.9463761448860168}, {'label': 'Neutral', 'score': 0.9999818801879883}, {'label': 'Neutral', 'score': 0.958013653755188}, {'label': 'Negative', 'score': 0.6141203045845032}, {'label': 'Neutral', 'score': 0.8949713110923767}, {'label': 'Positive', 'score': 0.9990648627281189}, {'label': 'Neutral', 'score': 0.9982014894485474}, {'label': 'Neutral', 'score': 0.999988317489624}, {'label': 'Neutral', 'score': 0.9999598264694214}, {'label': 'Positive', 'score': 0.9994586110115051}, {'label': 'Neutral', 'score': 0.9999500513076782}, {'label': 'Neutral', 'score': 0.9999833106994629}, {'label': 'Neutral', 'score': 0.9999833106994629}, {'label': 'Neutral', 'score': 0.9999833106994629}, {'label': 'Neutral', 'score': 0.8172268271446228}, {'label': 'Negative', 'score': 0.6721404790878296}, {'label': 'Neutral', 'score': 0.9998650550842285}, {'label': 'Neutral', 'score': 0.9996488094329834}, {'label': 'Positive', 'score': 0.9999940395355225}, {'label': 'Neutral', 'score': 0.9999988079071045}, {'label': 'Neutral', 'score': 0.9999966621398926}, {'label': 'Positive', 'score': 1.0}, {'label': 'Positive', 'score': 0.9999473094940186}, {'label': 'Neutral', 'score': 0.9999790191650391}, {'label': 'Neutral', 'score': 0.9997567534446716}, {'label': 'Negative', 'score': 0.999997615814209}, {'label': 'Positive', 'score': 0.9993637204170227}, {'label': 'Neutral', 'score': 0.9999983310699463}, {'label': 'Neutral', 'score': 0.9998996257781982}, {'label': 'Positive', 'score': 0.9992902278900146}, {'label': 'Neutral', 'score': 0.9999815225601196}, {'label': 'Negative', 'score': 0.8954321146011353}, {'label': 'Neutral', 'score': 0.9920061230659485}, {'label': 'Negative', 'score': 0.9916532635688782}, {'label': 'Neutral', 'score': 0.9999631643295288}, {'label': 'Neutral', 'score': 0.9999924898147583}, {'label': 'Negative', 'score': 0.9999831914901733}, {'label': 'Positive', 'score': 0.8286932110786438}, {'label': 'Neutral', 'score': 0.9981252551078796}, {'label': 'Neutral', 'score': 0.9999513626098633}, {'label': 'Neutral', 'score': 0.9985118508338928}, {'label': 'Negative', 'score': 0.9989703893661499}, {'label': 'Neutral', 'score': 0.9998656511306763}, {'label': 'Negative', 'score': 0.9999988079071045}, {'label': 'Positive', 'score': 0.9004608988761902}, {'label': 'Negative', 'score': 0.9999958276748657}, {'label': 'Neutral', 'score': 0.9986061453819275}, {'label': 'Neutral', 'score': 0.9998795986175537}, {'label': 'Neutral', 'score': 0.9999785423278809}, {'label': 'Neutral', 'score': 0.9855116605758667}, {'label': 'Neutral', 'score': 0.9999706745147705}, {'label': 'Neutral', 'score': 0.9976060390472412}, {'label': 'Negative', 'score': 0.9636393785476685}, {'label': 'Neutral', 'score': 0.9995484948158264}, {'label': 'Neutral', 'score': 0.9393582344055176}, {'label': 'Negative', 'score': 0.9994590878486633}, {'label': 'Neutral', 'score': 0.9211598038673401}, {'label': 'Negative', 'score': 0.8629863858222961}, {'label': 'Negative', 'score': 0.9999996423721313}, {'label': 'Neutral', 'score': 0.9935755133628845}, {'label': 'Neutral', 'score': 0.9998701810836792}, {'label': 'Neutral', 'score': 0.9999006986618042}, {'label': 'Neutral', 'score': 0.9999707937240601}, {'label': 'Neutral', 'score': 0.9999992847442627}, {'label': 'Negative', 'score': 0.9999959468841553}, {'label': 'Negative', 'score': 0.9999967813491821}, {'label': 'Neutral', 'score': 0.969325065612793}, {'label': 'Negative', 'score': 0.9998182654380798}, {'label': 'Positive', 'score': 0.9930451512336731}, {'label': 'Neutral', 'score': 0.9998291730880737}, {'label': 'Neutral', 'score': 0.9998020529747009}, {'label': 'Neutral', 'score': 0.99313884973526}, {'label': 'Neutral', 'score': 0.9999556541442871}, {'label': 'Neutral', 'score': 0.94129878282547}, {'label': 'Neutral', 'score': 0.9999321699142456}, {'label': 'Neutral', 'score': 0.9998326301574707}, {'label': 'Positive', 'score': 0.9994251728057861}, {'label': 'Neutral', 'score': 0.9999867677688599}, {'label': 'Positive', 'score': 0.9999990463256836}, {'label': 'Negative', 'score': 0.9298528432846069}, {'label': 'Neutral', 'score': 0.9015005826950073}, {'label': 'Neutral', 'score': 0.999921441078186}, {'label': 'Neutral', 'score': 0.9991210103034973}, {'label': 'Neutral', 'score': 0.8152447938919067}, {'label': 'Neutral', 'score': 0.7429468631744385}, {'label': 'Neutral', 'score': 0.9983426332473755}, {'label': 'Neutral', 'score': 0.9999998807907104}, {'label': 'Neutral', 'score': 0.9999977350234985}, {'label': 'Positive', 'score': 0.9939777851104736}, {'label': 'Neutral', 'score': 0.9996002316474915}, {'label': 'Neutral', 'score': 0.9978665709495544}, {'label': 'Neutral', 'score': 0.9999113082885742}, {'label': 'Neutral', 'score': 0.9827746748924255}, {'label': 'Neutral', 'score': 0.9995675683021545}, {'label': 'Positive', 'score': 0.9999605417251587}, {'label': 'Neutral', 'score': 0.9999997615814209}, {'label': 'Neutral', 'score': 0.9372583031654358}, {'label': 'Positive', 'score': 0.9999991655349731}, {'label': 'Neutral', 'score': 0.9832393527030945}, {'label': 'Neutral', 'score': 0.9999997615814209}, {'label': 'Neutral', 'score': 0.9999395608901978}, {'label': 'Neutral', 'score': 0.9968453049659729}, {'label': 'Positive', 'score': 0.9999978542327881}, {'label': 'Negative', 'score': 0.9643207788467407}, {'label': 'Neutral', 'score': 0.9999996423721313}, {'label': 'Positive', 'score': 0.5568040609359741}, {'label': 'Neutral', 'score': 0.999846339225769}, {'label': 'Positive', 'score': 0.9253243803977966}, {'label': 'Neutral', 'score': 0.9997410178184509}, {'label': 'Neutral', 'score': 0.9965535402297974}, {'label': 'Neutral', 'score': 0.9999339580535889}, {'label': 'Neutral', 'score': 0.9493656158447266}, {'label': 'Neutral', 'score': 0.9999741315841675}, {'label': 'Neutral', 'score': 0.9996963739395142}, {'label': 'Neutral', 'score': 0.9999203681945801}, {'label': 'Negative', 'score': 0.9931308627128601}, {'label': 'Neutral', 'score': 0.9990261793136597}, {'label': 'Neutral', 'score': 0.9999784231185913}, {'label': 'Neutral', 'score': 0.9999971389770508}, {'label': 'Positive', 'score': 0.9999991655349731}, {'label': 'Neutral', 'score': 0.9997996687889099}, {'label': 'Neutral', 'score': 0.9981618523597717}, {'label': 'Neutral', 'score': 0.9994342923164368}, {'label': 'Neutral', 'score': 0.9999690055847168}, {'label': 'Neutral', 'score': 0.9960381984710693}, {'label': 'Positive', 'score': 0.9990724325180054}, {'label': 'Neutral', 'score': 0.9949923157691956}, {'label': 'Positive', 'score': 0.9999982118606567}, {'label': 'Positive', 'score': 0.9999270439147949}, {'label': 'Positive', 'score': 0.7437594532966614}, {'label': 'Neutral', 'score': 0.9996567964553833}, {'label': 'Positive', 'score': 0.9939557909965515}, {'label': 'Neutral', 'score': 0.9997902512550354}, {'label': 'Neutral', 'score': 0.9999946355819702}, {'label': 'Positive', 'score': 0.9999998807907104}, {'label': 'Neutral', 'score': 0.9984110593795776}, {'label': 'Neutral', 'score': 0.9999932050704956}, {'label': 'Neutral', 'score': 0.9985686540603638}, {'label': 'Neutral', 'score': 0.9998966455459595}, {'label': 'Neutral', 'score': 0.9999792575836182}, {'label': 'Neutral', 'score': 0.9890580773353577}, {'label': 'Neutral', 'score': 0.9943892359733582}, {'label': 'Neutral', 'score': 0.9999792575836182}, {'label': 'Neutral', 'score': 0.9999814033508301}, {'label': 'Neutral', 'score': 0.9999988079071045}, {'label': 'Neutral', 'score': 0.9995019435882568}, {'label': 'Negative', 'score': 0.9895310401916504}, {'label': 'Neutral', 'score': 0.9587979912757874}, {'label': 'Neutral', 'score': 0.9999849796295166}, {'label': 'Neutral', 'score': 0.999998927116394}, {'label': 'Positive', 'score': 0.9864014983177185}, {'label': 'Neutral', 'score': 0.9999945163726807}, {'label': 'Negative', 'score': 0.9999507665634155}, {'label': 'Neutral', 'score': 0.9999603033065796}, {'label': 'Neutral', 'score': 0.9994039535522461}, {'label': 'Neutral', 'score': 0.9998613595962524}, {'label': 'Neutral', 'score': 0.9732017517089844}, {'label': 'Neutral', 'score': 0.9999345541000366}, {'label': 'Neutral', 'score': 0.9954707622528076}, {'label': 'Neutral', 'score': 0.9999992847442627}, {'label': 'Positive', 'score': 0.9999998807907104}, {'label': 'Neutral', 'score': 0.9999772310256958}, {'label': 'Positive', 'score': 0.9971241354942322}, {'label': 'Neutral', 'score': 0.9998241066932678}, {'label': 'Neutral', 'score': 0.9740139245986938}, {'label': 'Neutral', 'score': 0.9997183680534363}, {'label': 'Neutral', 'score': 0.9999961853027344}, {'label': 'Positive', 'score': 0.9999982118606567}, {'label': 'Neutral', 'score': 0.6137815117835999}, {'label': 'Neutral', 'score': 0.9999991655349731}, {'label': 'Neutral', 'score': 0.9997050166130066}, {'label': 'Positive', 'score': 0.9975321292877197}, {'label': 'Negative', 'score': 0.8960521221160889}, {'label': 'Neutral', 'score': 0.9974710941314697}, {'label': 'Neutral', 'score': 0.9991693496704102}, {'label': 'Neutral', 'score': 0.9958804845809937}, {'label': 'Negative', 'score': 0.6401771903038025}, {'label': 'Neutral', 'score': 0.983271062374115}, {'label': 'Neutral', 'score': 0.9999386072158813}, {'label': 'Neutral', 'score': 0.9999418258666992}, {'label': 'Positive', 'score': 1.0}, {'label': 'Neutral', 'score': 0.9998006224632263}, {'label': 'Positive', 'score': 0.9517533183097839}, {'label': 'Neutral', 'score': 0.9999980926513672}, {'label': 'Positive', 'score': 0.9999990463256836}, {'label': 'Neutral', 'score': 0.999953031539917}, {'label': 'Neutral', 'score': 0.9999902248382568}, {'label': 'Neutral', 'score': 0.999964714050293}, {'label': 'Negative', 'score': 0.9993584752082825}, {'label': 'Neutral', 'score': 0.9996646642684937}, {'label': 'Positive', 'score': 0.9999951124191284}, {'label': 'Positive', 'score': 0.9999998807907104}, {'label': 'Positive', 'score': 0.9999567270278931}, {'label': 'Neutral', 'score': 0.8194600939750671}, {'label': 'Positive', 'score': 0.9991740584373474}, {'label': 'Neutral', 'score': 0.9999990463256836}, {'label': 'Neutral', 'score': 0.9991952776908875}, {'label': 'Neutral', 'score': 0.9999995231628418}, {'label': 'Negative', 'score': 0.9873366951942444}, {'label': 'Neutral', 'score': 0.9999691247940063}, {'label': 'Neutral', 'score': 0.999671459197998}, {'label': 'Positive', 'score': 0.9999995231628418}, {'label': 'Neutral', 'score': 0.9653953909873962}, {'label': 'Positive', 'score': 0.9999946355819702}, {'label': 'Positive', 'score': 0.991297721862793}, {'label': 'Neutral', 'score': 0.9977757334709167}, {'label': 'Neutral', 'score': 0.9999819993972778}, {'label': 'Positive', 'score': 0.9891930222511292}, {'label': 'Neutral', 'score': 0.9987229704856873}, {'label': 'Neutral', 'score': 0.9999878406524658}, {'label': 'Neutral', 'score': 0.9994346499443054}, {'label': 'Neutral', 'score': 0.9982277750968933}, {'label': 'Positive', 'score': 0.9999969005584717}, {'label': 'Neutral', 'score': 0.9999051094055176}, {'label': 'Neutral', 'score': 0.9998618364334106}, {'label': 'Neutral', 'score': 0.768737256526947}, {'label': 'Neutral', 'score': 0.9923229217529297}, {'label': 'Neutral', 'score': 0.99949049949646}, {'label': 'Neutral', 'score': 0.9999972581863403}, {'label': 'Positive', 'score': 0.966494619846344}, {'label': 'Neutral', 'score': 0.9999834299087524}, {'label': 'Neutral', 'score': 0.9999966621398926}, {'label': 'Neutral', 'score': 0.9986836314201355}, {'label': 'Negative', 'score': 0.9987735152244568}, {'label': 'Neutral', 'score': 0.999872088432312}, {'label': 'Neutral', 'score': 0.9987472295761108}, {'label': 'Neutral', 'score': 0.9999963045120239}, {'label': 'Positive', 'score': 0.932175874710083}, {'label': 'Neutral', 'score': 0.999968409538269}, {'label': 'Negative', 'score': 0.6174033284187317}, {'label': 'Neutral', 'score': 0.9999545812606812}, {'label': 'Neutral', 'score': 0.935904324054718}, {'label': 'Neutral', 'score': 0.9999954700469971}, {'label': 'Neutral', 'score': 0.9980431795120239}, {'label': 'Neutral', 'score': 0.9999246597290039}, {'label': 'Neutral', 'score': 0.9873263239860535}, {'label': 'Negative', 'score': 0.9999058246612549}, {'label': 'Neutral', 'score': 0.9999972581863403}, {'label': 'Positive', 'score': 0.9999887943267822}, {'label': 'Neutral', 'score': 0.9995940327644348}, {'label': 'Positive', 'score': 0.9999992847442627}, {'label': 'Negative', 'score': 0.6306356191635132}, {'label': 'Negative', 'score': 0.9999979734420776}, {'label': 'Neutral', 'score': 0.41050785779953003}, {'label': 'Negative', 'score': 0.8544207215309143}, {'label': 'Positive', 'score': 0.9999339580535889}, {'label': 'Neutral', 'score': 0.9999971389770508}, {'label': 'Negative', 'score': 0.9997203946113586}, {'label': 'Neutral', 'score': 0.9500595927238464}, {'label': 'Neutral', 'score': 0.9991735816001892}, {'label': 'Neutral', 'score': 0.9999974966049194}, {'label': 'Positive', 'score': 0.999984860420227}, {'label': 'Neutral', 'score': 0.9975824356079102}, {'label': 'Neutral', 'score': 0.9997428059577942}, {'label': 'Neutral', 'score': 0.9999856948852539}, {'label': 'Neutral', 'score': 0.9996651411056519}, {'label': 'Neutral', 'score': 0.9976853132247925}, {'label': 'Neutral', 'score': 0.9998476505279541}, {'label': 'Positive', 'score': 0.8996729254722595}, {'label': 'Neutral', 'score': 0.9999357461929321}, {'label': 'Neutral', 'score': 0.6750891804695129}, {'label': 'Neutral', 'score': 0.698692262172699}, {'label': 'Neutral', 'score': 0.9999904632568359}, {'label': 'Positive', 'score': 0.984061062335968}, {'label': 'Neutral', 'score': 0.7695098519325256}, {'label': 'Positive', 'score': 0.9999985694885254}, {'label': 'Neutral', 'score': 0.999743640422821}, {'label': 'Neutral', 'score': 0.9998633861541748}, {'label': 'Neutral', 'score': 0.9999198913574219}, {'label': 'Neutral', 'score': 0.9999984502792358}, {'label': 'Positive', 'score': 0.9999808073043823}, {'label': 'Neutral', 'score': 0.9945096373558044}, {'label': 'Negative', 'score': 0.9945194125175476}, {'label': 'Positive', 'score': 0.9999998807907104}, {'label': 'Positive', 'score': 1.0}, {'label': 'Positive', 'score': 0.9991292357444763}, {'label': 'Neutral', 'score': 0.9464436173439026}, {'label': 'Neutral', 'score': 0.9788974523544312}, {'label': 'Neutral', 'score': 0.9999982118606567}, {'label': 'Positive', 'score': 0.9999978542327881}, {'label': 'Neutral', 'score': 0.9190673232078552}, {'label': 'Positive', 'score': 0.9901251792907715}, {'label': 'Neutral', 'score': 0.36972740292549133}, {'label': 'Positive', 'score': 1.0}, {'label': 'Neutral', 'score': 0.9999371767044067}, {'label': 'Neutral', 'score': 0.9700305461883545}, {'label': 'Positive', 'score': 0.8843133449554443}, {'label': 'Neutral', 'score': 0.9498449563980103}, {'label': 'Positive', 'score': 0.9998177886009216}, {'label': 'Negative', 'score': 0.6286953687667847}, {'label': 'Neutral', 'score': 0.999983549118042}, {'label': 'Neutral', 'score': 0.8982447385787964}, {'label': 'Neutral', 'score': 0.9908884763717651}, {'label': 'Negative', 'score': 0.9765452742576599}, {'label': 'Neutral', 'score': 0.9941408038139343}, {'label': 'Neutral', 'score': 0.5381792187690735}, {'label': 'Neutral', 'score': 0.9999982118606567}, {'label': 'Neutral', 'score': 0.9999986886978149}, {'label': 'Neutral', 'score': 0.690865159034729}, {'label': 'Positive', 'score': 0.9943168759346008}, {'label': 'Neutral', 'score': 0.9998323917388916}, {'label': 'Neutral', 'score': 0.9993141889572144}, {'label': 'Neutral', 'score': 0.9997907280921936}, {'label': 'Neutral', 'score': 0.9045472145080566}, {'label': 'Neutral', 'score': 0.9999958276748657}, {'label': 'Neutral', 'score': 0.9970512390136719}, {'label': 'Neutral', 'score': 0.9999955892562866}, {'label': 'Neutral', 'score': 0.999765932559967}, {'label': 'Neutral', 'score': 0.9797016382217407}, {'label': 'Positive', 'score': 0.9999595880508423}, {'label': 'Neutral', 'score': 0.9999680519104004}, {'label': 'Negative', 'score': 0.9992590546607971}, {'label': 'Neutral', 'score': 0.9999927282333374}, {'label': 'Neutral', 'score': 0.9960236549377441}, {'label': 'Positive', 'score': 0.9995423555374146}, {'label': 'Neutral', 'score': 0.9999784231185913}, {'label': 'Negative', 'score': 0.6551478505134583}, {'label': 'Neutral', 'score': 0.9985520243644714}, {'label': 'Neutral', 'score': 0.9999887943267822}, {'label': 'Negative', 'score': 0.9978405237197876}, {'label': 'Neutral', 'score': 0.9936226010322571}, {'label': 'Neutral', 'score': 0.9994001388549805}, {'label': 'Neutral', 'score': 0.9782097339630127}, {'label': 'Neutral', 'score': 0.99413001537323}, {'label': 'Neutral', 'score': 0.9668476581573486}, {'label': 'Negative', 'score': 0.9439173936843872}, {'label': 'Neutral', 'score': 0.9994505047798157}, {'label': 'Neutral', 'score': 0.9998761415481567}, {'label': 'Neutral', 'score': 0.9978792667388916}, {'label': 'Positive', 'score': 0.9935852885246277}, {'label': 'Neutral', 'score': 0.9959346055984497}, {'label': 'Neutral', 'score': 0.9999662637710571}, {'label': 'Positive', 'score': 0.9999635219573975}, {'label': 'Positive', 'score': 0.9999990463256836}, {'label': 'Neutral', 'score': 0.9991206526756287}, {'label': 'Neutral', 'score': 0.853736937046051}, {'label': 'Negative', 'score': 0.5486510992050171}, {'label': 'Neutral', 'score': 0.999993085861206}, {'label': 'Neutral', 'score': 0.9943748712539673}, {'label': 'Positive', 'score': 0.7524808645248413}, {'label': 'Neutral', 'score': 0.9997697472572327}, {'label': 'Neutral', 'score': 0.9792941212654114}, {'label': 'Neutral', 'score': 0.9999525547027588}, {'label': 'Neutral', 'score': 0.9999487400054932}, {'label': 'Neutral', 'score': 0.5777696967124939}, {'label': 'Negative', 'score': 0.7698026299476624}, {'label': 'Neutral', 'score': 0.999997615814209}, {'label': 'Positive', 'score': 0.9999951124191284}, {'label': 'Neutral', 'score': 0.9999817609786987}, {'label': 'Neutral', 'score': 0.9999998807907104}, {'label': 'Positive', 'score': 1.0}, {'label': 'Neutral', 'score': 0.9999922513961792}, {'label': 'Positive', 'score': 0.9999840259552002}, {'label': 'Neutral', 'score': 0.9999597072601318}, {'label': 'Neutral', 'score': 0.99858558177948}, {'label': 'Neutral', 'score': 0.868435263633728}, {'label': 'Neutral', 'score': 0.9969674944877625}, {'label': 'Neutral', 'score': 0.9991857409477234}, {'label': 'Negative', 'score': 0.8912381529808044}, {'label': 'Neutral', 'score': 0.9613094329833984}, {'label': 'Neutral', 'score': 0.9999959468841553}, {'label': 'Neutral', 'score': 0.8677602410316467}, {'label': 'Positive', 'score': 0.986119270324707}, {'label': 'Neutral', 'score': 0.9999395608901978}, {'label': 'Neutral', 'score': 0.9999418258666992}, {'label': 'Neutral', 'score': 0.9746314287185669}, {'label': 'Neutral', 'score': 0.9999641180038452}, {'label': 'Neutral', 'score': 0.999976634979248}, {'label': 'Neutral', 'score': 0.9999946355819702}, {'label': 'Negative', 'score': 0.9933005571365356}, {'label': 'Neutral', 'score': 0.9999802112579346}, {'label': 'Neutral', 'score': 0.916827917098999}, {'label': 'Negative', 'score': 0.9999088048934937}, {'label': 'Negative', 'score': 0.8804401755332947}, {'label': 'Neutral', 'score': 0.9835154414176941}, {'label': 'Neutral', 'score': 0.9591895937919617}, {'label': 'Neutral', 'score': 0.9999371767044067}, {'label': 'Neutral', 'score': 0.7203191518783569}, {'label': 'Neutral', 'score': 0.9600534439086914}, {'label': 'Positive', 'score': 0.9995686411857605}, {'label': 'Neutral', 'score': 0.9999697208404541}, {'label': 'Neutral', 'score': 0.9999371767044067}, {'label': 'Neutral', 'score': 0.9987982511520386}, {'label': 'Neutral', 'score': 0.9999796152114868}, {'label': 'Neutral', 'score': 0.9999656677246094}, {'label': 'Neutral', 'score': 0.9993500113487244}, {'label': 'Neutral', 'score': 0.8049193024635315}, {'label': 'Neutral', 'score': 0.967456579208374}, {'label': 'Positive', 'score': 0.98946613073349}, {'label': 'Neutral', 'score': 0.9057319164276123}, {'label': 'Positive', 'score': 0.5333201289176941}, {'label': 'Neutral', 'score': 0.9989424347877502}, {'label': 'Negative', 'score': 0.9079089164733887}, {'label': 'Neutral', 'score': 0.999573290348053}, {'label': 'Positive', 'score': 0.8558990955352783}, {'label': 'Neutral', 'score': 0.9999703168869019}, {'label': 'Neutral', 'score': 0.9999698400497437}, {'label': 'Positive', 'score': 0.9964799284934998}, {'label': 'Neutral', 'score': 0.999721109867096}, {'label': 'Neutral', 'score': 0.9984341263771057}, {'label': 'Neutral', 'score': 0.9999948740005493}, {'label': 'Neutral', 'score': 0.996702253818512}, {'label': 'Neutral', 'score': 0.9997522234916687}, {'label': 'Neutral', 'score': 0.989952027797699}, {'label': 'Neutral', 'score': 0.9857831001281738}, {'label': 'Positive', 'score': 0.9999998807907104}, {'label': 'Neutral', 'score': 0.9992985725402832}, {'label': 'Neutral', 'score': 0.9999765157699585}, {'label': 'Neutral', 'score': 0.9985972046852112}, {'label': 'Neutral', 'score': 0.9999891519546509}, {'label': 'Neutral', 'score': 0.9995177984237671}, {'label': 'Positive', 'score': 0.7924750447273254}, {'label': 'Positive', 'score': 0.9971144199371338}, {'label': 'Positive', 'score': 1.0}, {'label': 'Neutral', 'score': 0.9997867941856384}, {'label': 'Neutral', 'score': 0.5113645792007446}, {'label': 'Neutral', 'score': 0.9998121857643127}, {'label': 'Neutral', 'score': 0.6892566680908203}, {'label': 'Neutral', 'score': 0.9991350769996643}, {'label': 'Positive', 'score': 0.9946013689041138}, {'label': 'Positive', 'score': 0.9994478821754456}, {'label': 'Neutral', 'score': 0.9479091167449951}, {'label': 'Neutral', 'score': 0.9999799728393555}, {'label': 'Neutral', 'score': 0.9999542236328125}, {'label': 'Neutral', 'score': 0.9997699856758118}, {'label': 'Positive', 'score': 0.9949237704277039}, {'label': 'Positive', 'score': 0.9998904466629028}, {'label': 'Neutral', 'score': 0.5053879618644714}, {'label': 'Neutral', 'score': 0.988535463809967}, {'label': 'Negative', 'score': 0.7427882552146912}, {'label': 'Neutral', 'score': 0.9778737425804138}, {'label': 'Neutral', 'score': 0.956865668296814}, {'label': 'Neutral', 'score': 0.8297778964042664}, {'label': 'Neutral', 'score': 0.9998749494552612}, {'label': 'Positive', 'score': 1.0}, {'label': 'Negative', 'score': 0.9406130313873291}, {'label': 'Positive', 'score': 0.9931628704071045}, {'label': 'Neutral', 'score': 0.9999755620956421}, {'label': 'Neutral', 'score': 0.9998759031295776}, {'label': 'Neutral', 'score': 0.9994489550590515}, {'label': 'Neutral', 'score': 0.9993717074394226}, {'label': 'Positive', 'score': 0.9999998807907104}, {'label': 'Positive', 'score': 0.8767400979995728}, {'label': 'Neutral', 'score': 0.9999698400497437}, {'label': 'Negative', 'score': 0.997531533241272}, {'label': 'Neutral', 'score': 0.9997143149375916}, {'label': 'Neutral', 'score': 0.999993085861206}, {'label': 'Neutral', 'score': 0.9999978542327881}, {'label': 'Neutral', 'score': 0.999994158744812}, {'label': 'Negative', 'score': 0.8968502283096313}, {'label': 'Neutral', 'score': 0.9993395209312439}, {'label': 'Neutral', 'score': 0.9999939203262329}, {'label': 'Neutral', 'score': 0.9999852180480957}, {'label': 'Neutral', 'score': 0.9997723698616028}, {'label': 'Neutral', 'score': 0.9999210834503174}, {'label': 'Negative', 'score': 0.4904789328575134}, {'label': 'Neutral', 'score': 0.9252489805221558}, {'label': 'Neutral', 'score': 0.9772561192512512}, {'label': 'Neutral', 'score': 0.9915860891342163}, {'label': 'Negative', 'score': 0.996189296245575}, {'label': 'Neutral', 'score': 0.9601641893386841}, {'label': 'Neutral', 'score': 0.9991858601570129}, {'label': 'Neutral', 'score': 0.9906147718429565}, {'label': 'Neutral', 'score': 0.9999383687973022}, {'label': 'Neutral', 'score': 0.9999737739562988}, {'label': 'Neutral', 'score': 0.9895574450492859}, {'label': 'Neutral', 'score': 0.9999710321426392}, {'label': 'Positive', 'score': 0.9996199607849121}, {'label': 'Neutral', 'score': 0.9776313900947571}, {'label': 'Neutral', 'score': 0.9995396137237549}, {'label': 'Neutral', 'score': 0.9998773336410522}, {'label': 'Neutral', 'score': 0.9998365640640259}, {'label': 'Neutral', 'score': 0.9995765089988708}, {'label': 'Neutral', 'score': 0.9917834997177124}, {'label': 'Negative', 'score': 0.9975689053535461}, {'label': 'Neutral', 'score': 0.9999994039535522}, {'label': 'Positive', 'score': 0.999977707862854}, {'label': 'Neutral', 'score': 0.9999662637710571}, {'label': 'Neutral', 'score': 0.9999085664749146}, {'label': 'Neutral', 'score': 0.9955064058303833}, {'label': 'Neutral', 'score': 0.9996341466903687}, {'label': 'Negative', 'score': 0.7581549286842346}, {'label': 'Neutral', 'score': 0.9999414682388306}, {'label': 'Negative', 'score': 0.5252584218978882}, {'label': 'Negative', 'score': 0.6994113326072693}, {'label': 'Positive', 'score': 0.9459108710289001}, {'label': 'Negative', 'score': 0.9973787069320679}, {'label': 'Neutral', 'score': 0.9999871253967285}, {'label': 'Neutral', 'score': 0.9983491897583008}, {'label': 'Neutral', 'score': 0.9999914169311523}, {'label': 'Neutral', 'score': 0.9870170950889587}, {'label': 'Negative', 'score': 0.9979410767555237}, {'label': 'Positive', 'score': 0.5933905839920044}, {'label': 'Positive', 'score': 0.6589435935020447}, {'label': 'Neutral', 'score': 0.9990021586418152}, {'label': 'Negative', 'score': 0.9997101426124573}, {'label': 'Neutral', 'score': 0.9999806880950928}, {'label': 'Neutral', 'score': 0.9984040856361389}, {'label': 'Neutral', 'score': 0.993893027305603}, {'label': 'Positive', 'score': 0.9498443007469177}, {'label': 'Neutral', 'score': 0.9747066497802734}, {'label': 'Neutral', 'score': 0.9991212487220764}, {'label': 'Neutral', 'score': 0.9526504278182983}, {'label': 'Negative', 'score': 0.9993448853492737}, {'label': 'Neutral', 'score': 0.9997010231018066}, {'label': 'Positive', 'score': 0.9957106113433838}, {'label': 'Neutral', 'score': 0.9765018820762634}, {'label': 'Neutral', 'score': 0.9999456405639648}, {'label': 'Neutral', 'score': 0.9996267557144165}, {'label': 'Neutral', 'score': 0.9971415400505066}, {'label': 'Neutral', 'score': 0.9993641972541809}, {'label': 'Neutral', 'score': 0.995570719242096}, {'label': 'Neutral', 'score': 0.9997921586036682}, {'label': 'Negative', 'score': 0.9776991605758667}, {'label': 'Neutral', 'score': 0.9929018616676331}, {'label': 'Positive', 'score': 0.9999798536300659}, {'label': 'Neutral', 'score': 0.9908561706542969}, {'label': 'Neutral', 'score': 0.9999940395355225}, {'label': 'Positive', 'score': 0.9994086027145386}, {'label': 'Positive', 'score': 0.999931812286377}, {'label': 'Neutral', 'score': 0.9989733695983887}, {'label': 'Neutral', 'score': 0.9989553689956665}, {'label': 'Neutral', 'score': 0.999946117401123}, {'label': 'Neutral', 'score': 0.9997838139533997}, {'label': 'Neutral', 'score': 0.9999872446060181}, {'label': 'Neutral', 'score': 0.9999775886535645}, {'label': 'Neutral', 'score': 0.9999946355819702}, {'label': 'Neutral', 'score': 0.9903850555419922}, {'label': 'Positive', 'score': 0.9424852728843689}, {'label': 'Neutral', 'score': 0.9999914169311523}, {'label': 'Neutral', 'score': 0.9999990463256836}, {'label': 'Neutral', 'score': 0.9996296167373657}, {'label': 'Neutral', 'score': 0.9994945526123047}, {'label': 'Neutral', 'score': 0.9999998807907104}, {'label': 'Negative', 'score': 0.9999936819076538}, {'label': 'Neutral', 'score': 0.9999325275421143}, {'label': 'Neutral', 'score': 0.998651921749115}, {'label': 'Neutral', 'score': 0.7369543313980103}, {'label': 'Positive', 'score': 0.9999610185623169}, {'label': 'Neutral', 'score': 0.9982365369796753}, {'label': 'Positive', 'score': 1.0}, {'label': 'Positive', 'score': 0.6055535674095154}, {'label': 'Neutral', 'score': 0.999983549118042}, {'label': 'Neutral', 'score': 0.9991557598114014}, {'label': 'Neutral', 'score': 0.9989458918571472}, {'label': 'Neutral', 'score': 0.9969902038574219}, {'label': 'Neutral', 'score': 0.9981316924095154}, {'label': 'Positive', 'score': 0.9999972581863403}, {'label': 'Neutral', 'score': 0.9998779296875}, {'label': 'Neutral', 'score': 0.999985933303833}, {'label': 'Neutral', 'score': 0.9997004270553589}, {'label': 'Positive', 'score': 0.9940440058708191}, {'label': 'Neutral', 'score': 0.9999830722808838}, {'label': 'Positive', 'score': 1.0}, {'label': 'Positive', 'score': 0.9985584616661072}, {'label': 'Neutral', 'score': 0.9987698197364807}, {'label': 'Neutral', 'score': 0.9999855756759644}, {'label': 'Neutral', 'score': 0.9997875094413757}, {'label': 'Neutral', 'score': 0.9999533891677856}, {'label': 'Negative', 'score': 0.9998564720153809}, {'label': 'Neutral', 'score': 0.9889184832572937}, {'label': 'Negative', 'score': 0.9844459891319275}, {'label': 'Neutral', 'score': 0.9984470009803772}, {'label': 'Neutral', 'score': 0.9951716065406799}, {'label': 'Neutral', 'score': 0.9999994039535522}, {'label': 'Neutral', 'score': 0.9999747276306152}, {'label': 'Neutral', 'score': 0.9999545812606812}, {'label': 'Neutral', 'score': 0.9995377063751221}, {'label': 'Neutral', 'score': 0.9016071557998657}, {'label': 'Positive', 'score': 0.9471268653869629}, {'label': 'Positive', 'score': 0.9620031714439392}, {'label': 'Negative', 'score': 0.9806861877441406}, {'label': 'Positive', 'score': 0.9454182386398315}, {'label': 'Positive', 'score': 0.9153392314910889}, {'label': 'Positive', 'score': 0.9996511936187744}, {'label': 'Negative', 'score': 0.7773769497871399}, {'label': 'Positive', 'score': 0.5790581703186035}, {'label': 'Positive', 'score': 0.9214025139808655}, {'label': 'Positive', 'score': 0.9993923902511597}, {'label': 'Positive', 'score': 0.9991745352745056}, {'label': 'Positive', 'score': 0.9820070862770081}, {'label': 'Neutral', 'score': 0.9999220371246338}, {'label': 'Positive', 'score': 0.9999996423721313}, {'label': 'Neutral', 'score': 0.6582576036453247}, {'label': 'Neutral', 'score': 0.9998779296875}, {'label': 'Neutral', 'score': 0.9999784231185913}, {'label': 'Neutral', 'score': 0.9998762607574463}, {'label': 'Neutral', 'score': 0.9999992847442627}, {'label': 'Neutral', 'score': 0.6525969505310059}, {'label': 'Neutral', 'score': 0.995792031288147}, {'label': 'Neutral', 'score': 0.5717764496803284}, {'label': 'Positive', 'score': 0.999948263168335}, {'label': 'Positive', 'score': 0.9999990463256836}, {'label': 'Positive', 'score': 0.9841115474700928}, {'label': 'Neutral', 'score': 0.9999784231185913}, {'label': 'Neutral', 'score': 0.9866350293159485}, {'label': 'Positive', 'score': 0.9998268485069275}, {'label': 'Neutral', 'score': 0.9999885559082031}, {'label': 'Neutral', 'score': 0.9958286881446838}, {'label': 'Neutral', 'score': 0.99998939037323}, {'label': 'Neutral', 'score': 0.9998828172683716}, {'label': 'Positive', 'score': 0.530224621295929}, {'label': 'Positive', 'score': 0.6151586771011353}, {'label': 'Negative', 'score': 0.9998596906661987}, {'label': 'Neutral', 'score': 0.7112044095993042}, {'label': 'Neutral', 'score': 0.9997244477272034}, {'label': 'Neutral', 'score': 0.9954054355621338}, {'label': 'Neutral', 'score': 0.9985843896865845}, {'label': 'Negative', 'score': 0.9999899864196777}, {'label': 'Negative', 'score': 0.99997878074646}, {'label': 'Positive', 'score': 0.9999992847442627}, {'label': 'Neutral', 'score': 0.9987311959266663}, {'label': 'Neutral', 'score': 0.999991774559021}, {'label': 'Neutral', 'score': 0.9988614320755005}, {'label': 'Neutral', 'score': 0.9999958276748657}, {'label': 'Neutral', 'score': 0.9905535578727722}, {'label': 'Neutral', 'score': 0.7404066920280457}, {'label': 'Neutral', 'score': 0.9984745383262634}, {'label': 'Neutral', 'score': 0.4936789870262146}, {'label': 'Positive', 'score': 0.9999984502792358}, {'label': 'Positive', 'score': 0.9999974966049194}, {'label': 'Positive', 'score': 0.9996933937072754}, {'label': 'Positive', 'score': 0.9999988079071045}, {'label': 'Positive', 'score': 0.9999994039535522}, {'label': 'Neutral', 'score': 0.9999997615814209}, {'label': 'Neutral', 'score': 0.9998815059661865}, {'label': 'Positive', 'score': 0.6296126246452332}, {'label': 'Neutral', 'score': 0.9999984502792358}, {'label': 'Positive', 'score': 0.9992757439613342}, {'label': 'Neutral', 'score': 0.9826671481132507}, {'label': 'Neutral', 'score': 0.99996018409729}, {'label': 'Neutral', 'score': 0.9941249489784241}, {'label': 'Neutral', 'score': 0.9999974966049194}, {'label': 'Neutral', 'score': 0.9999929666519165}, {'label': 'Positive', 'score': 0.9999979734420776}, {'label': 'Neutral', 'score': 0.999995231628418}, {'label': 'Neutral', 'score': 0.9999712705612183}, {'label': 'Neutral', 'score': 0.9999052286148071}, {'label': 'Neutral', 'score': 0.999977707862854}, {'label': 'Neutral', 'score': 0.9976081848144531}, {'label': 'Positive', 'score': 0.9992087483406067}, {'label': 'Neutral', 'score': 0.9992431402206421}, {'label': 'Neutral', 'score': 0.9999434947967529}, {'label': 'Positive', 'score': 0.9710511565208435}, {'label': 'Neutral', 'score': 0.9732851982116699}, {'label': 'Neutral', 'score': 0.997116208076477}, {'label': 'Positive', 'score': 0.999707043170929}, {'label': 'Neutral', 'score': 0.9997797608375549}, {'label': 'Neutral', 'score': 0.9991728663444519}, {'label': 'Neutral', 'score': 0.9992071986198425}, {'label': 'Negative', 'score': 0.9871808886528015}, {'label': 'Neutral', 'score': 0.9999961853027344}, {'label': 'Negative', 'score': 0.8202301859855652}, {'label': 'Neutral', 'score': 0.999861478805542}, {'label': 'Neutral', 'score': 0.9995757937431335}, {'label': 'Neutral', 'score': 0.998794436454773}, {'label': 'Negative', 'score': 0.9999716281890869}, {'label': 'Neutral', 'score': 0.9993699193000793}, {'label': 'Neutral', 'score': 0.9998520612716675}, {'label': 'Neutral', 'score': 0.9997509121894836}, {'label': 'Neutral', 'score': 0.9999934434890747}, {'label': 'Neutral', 'score': 0.99036705493927}, {'label': 'Negative', 'score': 0.9470312595367432}, {'label': 'Neutral', 'score': 0.990815281867981}, {'label': 'Neutral', 'score': 0.9999691247940063}, {'label': 'Neutral', 'score': 0.9999959468841553}, {'label': 'Positive', 'score': 0.9998313188552856}, {'label': 'Neutral', 'score': 0.9995742440223694}, {'label': 'Neutral', 'score': 0.9995067119598389}, {'label': 'Neutral', 'score': 0.9997250437736511}, {'label': 'Neutral', 'score': 0.9997889399528503}, {'label': 'Neutral', 'score': 0.9982600808143616}, {'label': 'Positive', 'score': 0.7968950271606445}, {'label': 'Neutral', 'score': 0.9999688863754272}, {'label': 'Neutral', 'score': 0.9998438358306885}, {'label': 'Neutral', 'score': 0.9999830722808838}, {'label': 'Neutral', 'score': 0.9999992847442627}, {'label': 'Neutral', 'score': 0.996299684047699}, {'label': 'Neutral', 'score': 0.9999985694885254}, {'label': 'Neutral', 'score': 0.9985058307647705}, {'label': 'Positive', 'score': 0.5959255695343018}, {'label': 'Neutral', 'score': 0.9955139756202698}, {'label': 'Neutral', 'score': 0.9981069564819336}, {'label': 'Neutral', 'score': 0.9999934434890747}, {'label': 'Neutral', 'score': 0.9999709129333496}, {'label': 'Neutral', 'score': 0.9999035596847534}, {'label': 'Positive', 'score': 1.0}, {'label': 'Positive', 'score': 0.999914288520813}, {'label': 'Positive', 'score': 0.999804675579071}, {'label': 'Positive', 'score': 0.9984315037727356}, {'label': 'Neutral', 'score': 0.9980985522270203}, {'label': 'Neutral', 'score': 0.9999260902404785}, {'label': 'Neutral', 'score': 0.9330596327781677}, {'label': 'Neutral', 'score': 0.9929816722869873}, {'label': 'Neutral', 'score': 0.9999871253967285}, {'label': 'Neutral', 'score': 0.9999675750732422}, {'label': 'Neutral', 'score': 0.9999872446060181}, {'label': 'Neutral', 'score': 0.9549803137779236}, {'label': 'Positive', 'score': 0.9975724816322327}, {'label': 'Neutral', 'score': 0.9999717473983765}, {'label': 'Neutral', 'score': 0.9999971389770508}, {'label': 'Negative', 'score': 0.9999951124191284}, {'label': 'Neutral', 'score': 0.9999895095825195}, {'label': 'Neutral', 'score': 0.9999994039535522}, {'label': 'Neutral', 'score': 0.999990701675415}, {'label': 'Neutral', 'score': 0.9999208450317383}, {'label': 'Neutral', 'score': 0.9998480081558228}, {'label': 'Negative', 'score': 0.9335163831710815}, {'label': 'Neutral', 'score': 0.9971573352813721}, {'label': 'Neutral', 'score': 0.9998846054077148}, {'label': 'Neutral', 'score': 0.9999991655349731}, {'label': 'Positive', 'score': 0.9878397583961487}, {'label': 'Neutral', 'score': 0.9999765157699585}, {'label': 'Neutral', 'score': 0.9999991655349731}, {'label': 'Neutral', 'score': 0.9999929666519165}, {'label': 'Neutral', 'score': 0.9999890327453613}, {'label': 'Neutral', 'score': 0.9893256425857544}, {'label': 'Neutral', 'score': 0.9998257756233215}, {'label': 'Negative', 'score': 0.9937090873718262}, {'label': 'Neutral', 'score': 0.9991663694381714}, {'label': 'Positive', 'score': 0.999915361404419}, {'label': 'Neutral', 'score': 0.9998074173927307}, {'label': 'Neutral', 'score': 0.9999805688858032}, {'label': 'Positive', 'score': 0.9979677796363831}, {'label': 'Negative', 'score': 0.9980575442314148}, {'label': 'Neutral', 'score': 0.9987651109695435}, {'label': 'Neutral', 'score': 0.999974250793457}, {'label': 'Neutral', 'score': 0.7323215007781982}, {'label': 'Neutral', 'score': 0.7617700099945068}, {'label': 'Neutral', 'score': 0.9779986143112183}, {'label': 'Neutral', 'score': 0.9999992847442627}, {'label': 'Neutral', 'score': 0.9919611811637878}, {'label': 'Neutral', 'score': 0.9892661571502686}, {'label': 'Neutral', 'score': 0.9713352918624878}, {'label': 'Positive', 'score': 0.9999915361404419}, {'label': 'Neutral', 'score': 0.9995226860046387}, {'label': 'Positive', 'score': 1.0}, {'label': 'Positive', 'score': 0.9769963622093201}, {'label': 'Neutral', 'score': 0.9772577881813049}, {'label': 'Negative', 'score': 0.9534203410148621}, {'label': 'Neutral', 'score': 0.999997615814209}, {'label': 'Neutral', 'score': 0.9987186193466187}, {'label': 'Neutral', 'score': 0.9999524354934692}, {'label': 'Positive', 'score': 0.9060951471328735}, {'label': 'Neutral', 'score': 0.9993717074394226}, {'label': 'Neutral', 'score': 0.9969026446342468}, {'label': 'Neutral', 'score': 0.9999873638153076}, {'label': 'Neutral', 'score': 0.9993811845779419}, {'label': 'Neutral', 'score': 0.9993347525596619}, {'label': 'Neutral', 'score': 0.9997674822807312}, {'label': 'Neutral', 'score': 0.9914728403091431}, {'label': 'Neutral', 'score': 0.9744714498519897}, {'label': 'Neutral', 'score': 0.9026697874069214}, {'label': 'Neutral', 'score': 0.9999442100524902}, {'label': 'Neutral', 'score': 0.999932050704956}, {'label': 'Positive', 'score': 1.0}, {'label': 'Neutral', 'score': 0.9982038736343384}, {'label': 'Neutral', 'score': 0.9923851490020752}, {'label': 'Neutral', 'score': 0.998487114906311}, {'label': 'Neutral', 'score': 0.9675382375717163}, {'label': 'Neutral', 'score': 0.8407669067382812}, {'label': 'Neutral', 'score': 0.990051805973053}, {'label': 'Neutral', 'score': 0.995597779750824}, {'label': 'Neutral', 'score': 0.9622617363929749}, {'label': 'Neutral', 'score': 0.9999942779541016}, {'label': 'Neutral', 'score': 0.9159184694290161}, {'label': 'Neutral', 'score': 0.9941321015357971}, {'label': 'Neutral', 'score': 0.9118947386741638}, {'label': 'Positive', 'score': 0.9933542013168335}, {'label': 'Neutral', 'score': 0.9845250248908997}, {'label': 'Positive', 'score': 0.9999997615814209}, {'label': 'Negative', 'score': 0.6446912288665771}, {'label': 'Neutral', 'score': 0.9999698400497437}, {'label': 'Positive', 'score': 1.0}, {'label': 'Neutral', 'score': 0.9997686743736267}, {'label': 'Positive', 'score': 0.9999998807907104}, {'label': 'Neutral', 'score': 0.9533463716506958}, {'label': 'Neutral', 'score': 0.6376296877861023}, {'label': 'Neutral', 'score': 0.9842161536216736}, {'label': 'Neutral', 'score': 0.9730085134506226}, {'label': 'Neutral', 'score': 0.9968340992927551}, {'label': 'Neutral', 'score': 0.9950289130210876}, {'label': 'Neutral', 'score': 0.9997699856758118}, {'label': 'Neutral', 'score': 0.9999395608901978}, {'label': 'Neutral', 'score': 0.9699602127075195}, {'label': 'Positive', 'score': 0.980201005935669}, {'label': 'Neutral', 'score': 0.9971070885658264}, {'label': 'Neutral', 'score': 0.9754003882408142}, {'label': 'Neutral', 'score': 0.9582749009132385}, {'label': 'Neutral', 'score': 0.9996920824050903}, {'label': 'Neutral', 'score': 0.9996925592422485}, {'label': 'Neutral', 'score': 0.9891291856765747}, {'label': 'Neutral', 'score': 0.9984795451164246}, {'label': 'Positive', 'score': 0.9817296862602234}, {'label': 'Neutral', 'score': 0.998089611530304}, {'label': 'Neutral', 'score': 0.9415534734725952}, {'label': 'Neutral', 'score': 0.9984069466590881}, {'label': 'Neutral', 'score': 0.9993707537651062}, {'label': 'Positive', 'score': 0.9999994039535522}, {'label': 'Neutral', 'score': 0.9941282272338867}, {'label': 'Positive', 'score': 1.0}, {'label': 'Neutral', 'score': 0.993419349193573}, {'label': 'Positive', 'score': 0.8001253604888916}, {'label': 'Neutral', 'score': 0.9975435137748718}, {'label': 'Neutral', 'score': 0.9997250437736511}, {'label': 'Negative', 'score': 0.7454106211662292}, {'label': 'Neutral', 'score': 0.999674916267395}, {'label': 'Positive', 'score': 0.9993841648101807}, {'label': 'Neutral', 'score': 0.999994158744812}, {'label': 'Neutral', 'score': 0.9999635219573975}, {'label': 'Neutral', 'score': 0.9997555613517761}, {'label': 'Positive', 'score': 0.9995355606079102}, {'label': 'Neutral', 'score': 0.999506950378418}, {'label': 'Neutral', 'score': 0.9983887672424316}, {'label': 'Positive', 'score': 0.732755184173584}, {'label': 'Neutral', 'score': 0.9997068047523499}, {'label': 'Neutral', 'score': 0.8201963901519775}, {'label': 'Positive', 'score': 0.9987305998802185}, {'label': 'Neutral', 'score': 0.9994138479232788}, {'label': 'Neutral', 'score': 0.999992847442627}, {'label': 'Negative', 'score': 0.9392249584197998}, {'label': 'Neutral', 'score': 0.9993950128555298}, {'label': 'Neutral', 'score': 0.9999672174453735}, {'label': 'Negative', 'score': 0.6974515914916992}, {'label': 'Neutral', 'score': 0.5872727632522583}, {'label': 'Neutral', 'score': 0.9997250437736511}, {'label': 'Neutral', 'score': 0.9999833106994629}, {'label': 'Neutral', 'score': 0.9976751208305359}, {'label': 'Neutral', 'score': 0.9999736547470093}, {'label': 'Neutral', 'score': 0.9999405145645142}, {'label': 'Neutral', 'score': 0.9992897510528564}, {'label': 'Neutral', 'score': 0.9902481436729431}, {'label': 'Positive', 'score': 0.9999967813491821}, {'label': 'Neutral', 'score': 0.9999939203262329}, {'label': 'Positive', 'score': 0.9255625009536743}, {'label': 'Neutral', 'score': 0.9999735355377197}, {'label': 'Neutral', 'score': 0.9999746084213257}, {'label': 'Neutral', 'score': 0.9999979734420776}, {'label': 'Positive', 'score': 0.999997615814209}, {'label': 'Positive', 'score': 0.9863429665565491}, {'label': 'Neutral', 'score': 0.9999810457229614}, {'label': 'Positive', 'score': 0.9999830722808838}, {'label': 'Neutral', 'score': 0.9989109039306641}, {'label': 'Neutral', 'score': 0.999705970287323}, {'label': 'Neutral', 'score': 0.9993385672569275}, {'label': 'Neutral', 'score': 0.9999045133590698}, {'label': 'Neutral', 'score': 0.7660013437271118}, {'label': 'Neutral', 'score': 0.9990793466567993}, {'label': 'Positive', 'score': 0.9999991655349731}, {'label': 'Neutral', 'score': 0.9971126317977905}, {'label': 'Negative', 'score': 0.998857855796814}, {'label': 'Neutral', 'score': 0.9977318644523621}, {'label': 'Neutral', 'score': 0.999729573726654}, {'label': 'Neutral', 'score': 0.9973964691162109}, {'label': 'Positive', 'score': 0.9999970197677612}, {'label': 'Neutral', 'score': 0.9914698004722595}, {'label': 'Neutral', 'score': 0.9999985694885254}, {'label': 'Neutral', 'score': 0.999980092048645}, {'label': 'Neutral', 'score': 0.9999963045120239}, {'label': 'Neutral', 'score': 0.9999904632568359}, {'label': 'Neutral', 'score': 0.9998397827148438}, {'label': 'Neutral', 'score': 0.942773163318634}, {'label': 'Positive', 'score': 0.913610577583313}, {'label': 'Neutral', 'score': 0.9962859153747559}, {'label': 'Negative', 'score': 0.9987545013427734}, {'label': 'Neutral', 'score': 0.7480854988098145}, {'label': 'Neutral', 'score': 0.9999861717224121}, {'label': 'Positive', 'score': 0.9999957084655762}, {'label': 'Positive', 'score': 1.0}, {'label': 'Positive', 'score': 0.9998863935470581}, {'label': 'Neutral', 'score': 0.9999774694442749}, {'label': 'Neutral', 'score': 0.9626162648200989}, {'label': 'Neutral', 'score': 0.834799587726593}, {'label': 'Neutral', 'score': 0.9991911053657532}, {'label': 'Neutral', 'score': 0.9999052286148071}, {'label': 'Neutral', 'score': 0.9992699027061462}, {'label': 'Positive', 'score': 0.9995587468147278}, {'label': 'Positive', 'score': 0.9997928738594055}, {'label': 'Positive', 'score': 0.9999994039535522}, {'label': 'Neutral', 'score': 0.9999997615814209}, {'label': 'Positive', 'score': 0.9982178807258606}, {'label': 'Positive', 'score': 0.9999985694885254}, {'label': 'Negative', 'score': 0.9983481168746948}, {'label': 'Neutral', 'score': 0.739830493927002}, {'label': 'Neutral', 'score': 0.9999998807907104}, {'label': 'Negative', 'score': 0.9932663440704346}, {'label': 'Neutral', 'score': 0.9946503043174744}, {'label': 'Neutral', 'score': 0.9954689741134644}, {'label': 'Positive', 'score': 0.9030700922012329}, {'label': 'Neutral', 'score': 0.999596893787384}, {'label': 'Neutral', 'score': 0.999971866607666}, {'label': 'Neutral', 'score': 0.9968279004096985}, {'label': 'Neutral', 'score': 0.9997971653938293}, {'label': 'Neutral', 'score': 0.9984471201896667}, {'label': 'Negative', 'score': 0.5958452820777893}, {'label': 'Neutral', 'score': 0.9999350309371948}, {'label': 'Negative', 'score': 0.8573877215385437}, {'label': 'Neutral', 'score': 0.9994117021560669}, {'label': 'Neutral', 'score': 0.9912993311882019}, {'label': 'Neutral', 'score': 0.9997766613960266}, {'label': 'Neutral', 'score': 0.9973446726799011}, {'label': 'Neutral', 'score': 0.597820520401001}, {'label': 'Neutral', 'score': 0.955349862575531}, {'label': 'Neutral', 'score': 0.9996716976165771}, {'label': 'Neutral', 'score': 0.9998242259025574}, {'label': 'Positive', 'score': 0.9926974177360535}, {'label': 'Positive', 'score': 0.9999996423721313}, {'label': 'Positive', 'score': 0.9999997615814209}, {'label': 'Neutral', 'score': 0.9999551773071289}, {'label': 'Neutral', 'score': 0.9971076846122742}, {'label': 'Neutral', 'score': 0.9999532699584961}, {'label': 'Neutral', 'score': 0.9999772310256958}, {'label': 'Neutral', 'score': 0.9954419136047363}, {'label': 'Neutral', 'score': 0.9933578372001648}, {'label': 'Neutral', 'score': 0.9999963045120239}, {'label': 'Neutral', 'score': 0.9999438524246216}, {'label': 'Neutral', 'score': 0.9885919690132141}, {'label': 'Neutral', 'score': 0.9998365640640259}, {'label': 'Neutral', 'score': 0.9991238713264465}, {'label': 'Neutral', 'score': 0.9999827146530151}, {'label': 'Neutral', 'score': 0.999966025352478}, {'label': 'Neutral', 'score': 0.9999518394470215}, {'label': 'Neutral', 'score': 0.9987010955810547}, {'label': 'Positive', 'score': 0.9915338158607483}, {'label': 'Neutral', 'score': 0.9999887943267822}, {'label': 'Neutral', 'score': 0.9998862743377686}, {'label': 'Neutral', 'score': 0.8710454106330872}, {'label': 'Neutral', 'score': 0.9999773502349854}, {'label': 'Positive', 'score': 1.0}, {'label': 'Neutral', 'score': 0.9931220412254333}, {'label': 'Neutral', 'score': 0.9999829530715942}, {'label': 'Neutral', 'score': 0.9999915361404419}, {'label': 'Neutral', 'score': 0.9999918937683105}, {'label': 'Neutral', 'score': 0.9993113279342651}, {'label': 'Neutral', 'score': 0.9998631477355957}, {'label': 'Positive', 'score': 0.9998354911804199}, {'label': 'Negative', 'score': 0.9998169541358948}, {'label': 'Neutral', 'score': 0.9997937083244324}, {'label': 'Neutral', 'score': 0.9999189376831055}, {'label': 'Positive', 'score': 0.7263674139976501}, {'label': 'Negative', 'score': 0.9999817609786987}, {'label': 'Neutral', 'score': 0.9976456761360168}, {'label': 'Neutral', 'score': 0.9907076358795166}, {'label': 'Negative', 'score': 0.680552065372467}, {'label': 'Neutral', 'score': 0.9998371601104736}, {'label': 'Neutral', 'score': 0.9925986528396606}, {'label': 'Neutral', 'score': 0.9999998807907104}, {'label': 'Neutral', 'score': 0.9982101917266846}, {'label': 'Neutral', 'score': 0.9999878406524658}, {'label': 'Positive', 'score': 0.9999998807907104}, {'label': 'Positive', 'score': 0.9999382495880127}, {'label': 'Neutral', 'score': 0.9999992847442627}, {'label': 'Neutral', 'score': 0.999992847442627}, {'label': 'Neutral', 'score': 0.9998935461044312}, {'label': 'Neutral', 'score': 0.5767720937728882}, {'label': 'Positive', 'score': 0.9999996423721313}, {'label': 'Neutral', 'score': 0.9999864101409912}, {'label': 'Neutral', 'score': 0.9999295473098755}, {'label': 'Neutral', 'score': 0.9985809326171875}, {'label': 'Neutral', 'score': 0.758901834487915}, {'label': 'Neutral', 'score': 0.9999566078186035}, {'label': 'Neutral', 'score': 0.999983549118042}, {'label': 'Neutral', 'score': 0.9983421564102173}, {'label': 'Neutral', 'score': 0.7408278584480286}, {'label': 'Neutral', 'score': 0.9999852180480957}, {'label': 'Positive', 'score': 0.8958844542503357}, {'label': 'Neutral', 'score': 0.9999604225158691}, {'label': 'Neutral', 'score': 0.9996416568756104}, {'label': 'Positive', 'score': 0.999977707862854}, {'label': 'Positive', 'score': 0.9999996423721313}, {'label': 'Neutral', 'score': 0.9999619722366333}, {'label': 'Positive', 'score': 0.999996542930603}, {'label': 'Neutral', 'score': 0.9999814033508301}, {'label': 'Neutral', 'score': 0.993445634841919}, {'label': 'Positive', 'score': 0.9909709692001343}, {'label': 'Neutral', 'score': 0.857417106628418}, {'label': 'Neutral', 'score': 0.940346896648407}, {'label': 'Neutral', 'score': 0.9339520335197449}, {'label': 'Neutral', 'score': 0.9998434782028198}, {'label': 'Neutral', 'score': 0.9999693632125854}, {'label': 'Neutral', 'score': 0.8653167486190796}, {'label': 'Neutral', 'score': 0.9997672438621521}, {'label': 'Negative', 'score': 0.9989204406738281}, {'label': 'Neutral', 'score': 0.9999910593032837}, {'label': 'Neutral', 'score': 0.9999986886978149}, {'label': 'Neutral', 'score': 0.9999697208404541}, {'label': 'Neutral', 'score': 0.8274593949317932}, {'label': 'Positive', 'score': 0.9961507320404053}, {'label': 'Neutral', 'score': 0.8693617582321167}, {'label': 'Neutral', 'score': 0.9998403787612915}, {'label': 'Neutral', 'score': 0.9999964237213135}, {'label': 'Neutral', 'score': 0.9999991655349731}, {'label': 'Neutral', 'score': 0.9999650716781616}, {'label': 'Neutral', 'score': 0.999845027923584}, {'label': 'Neutral', 'score': 0.9998250603675842}, {'label': 'Neutral', 'score': 0.999998927116394}, {'label': 'Neutral', 'score': 0.9999803304672241}, {'label': 'Neutral', 'score': 0.9500489234924316}, {'label': 'Neutral', 'score': 0.528814971446991}, {'label': 'Neutral', 'score': 0.987151026725769}, {'label': 'Neutral', 'score': 0.9988180994987488}, {'label': 'Negative', 'score': 0.8051137328147888}, {'label': 'Neutral', 'score': 0.9999980926513672}, {'label': 'Positive', 'score': 0.9991794228553772}, {'label': 'Neutral', 'score': 0.6355538368225098}, {'label': 'Positive', 'score': 0.9999922513961792}, {'label': 'Neutral', 'score': 0.9999996423721313}, {'label': 'Neutral', 'score': 0.9996954202651978}, {'label': 'Neutral', 'score': 0.9999914169311523}, {'label': 'Neutral', 'score': 0.9931582808494568}, {'label': 'Neutral', 'score': 0.999535083770752}, {'label': 'Positive', 'score': 0.9999984502792358}, {'label': 'Neutral', 'score': 0.9996291399002075}, {'label': 'Neutral', 'score': 0.9999996423721313}, {'label': 'Neutral', 'score': 0.999786913394928}, {'label': 'Neutral', 'score': 0.9993554949760437}, {'label': 'Neutral', 'score': 0.9994828701019287}, {'label': 'Negative', 'score': 0.9979514479637146}, {'label': 'Positive', 'score': 0.9999861717224121}, {'label': 'Neutral', 'score': 0.9994589686393738}, {'label': 'Positive', 'score': 0.9999961853027344}, {'label': 'Neutral', 'score': 0.9999626874923706}, {'label': 'Neutral', 'score': 0.9956358075141907}, {'label': 'Neutral', 'score': 0.9994251728057861}, {'label': 'Neutral', 'score': 0.6556186676025391}, {'label': 'Negative', 'score': 0.5309192538261414}, {'label': 'Positive', 'score': 0.9999948740005493}, {'label': 'Positive', 'score': 0.9999996423721313}, {'label': 'Neutral', 'score': 0.9997729659080505}, {'label': 'Neutral', 'score': 0.9725765585899353}, {'label': 'Neutral', 'score': 0.9998655319213867}, {'label': 'Neutral', 'score': 0.999998927116394}, {'label': 'Neutral', 'score': 0.9999992847442627}, {'label': 'Neutral', 'score': 0.9999991655349731}, {'label': 'Neutral', 'score': 0.9999755620956421}, {'label': 'Neutral', 'score': 0.9103976488113403}, {'label': 'Neutral', 'score': 0.999721109867096}, {'label': 'Neutral', 'score': 0.9667240977287292}, {'label': 'Neutral', 'score': 0.9980161190032959}, {'label': 'Neutral', 'score': 0.9999616146087646}, {'label': 'Negative', 'score': 0.9999951124191284}, {'label': 'Positive', 'score': 0.9999786615371704}, {'label': 'Neutral', 'score': 0.9707578420639038}, {'label': 'Positive', 'score': 0.9998912811279297}, {'label': 'Neutral', 'score': 0.9967501163482666}, {'label': 'Neutral', 'score': 0.9830870628356934}, {'label': 'Neutral', 'score': 0.9999992847442627}, {'label': 'Neutral', 'score': 0.9466564655303955}, {'label': 'Neutral', 'score': 0.9740380048751831}, {'label': 'Neutral', 'score': 0.9999977350234985}, {'label': 'Neutral', 'score': 0.9998884201049805}, {'label': 'Neutral', 'score': 0.9995457530021667}, {'label': 'Negative', 'score': 0.9987356066703796}, {'label': 'Neutral', 'score': 0.9182761907577515}, {'label': 'Negative', 'score': 0.9991713762283325}, {'label': 'Neutral', 'score': 0.9995155334472656}, {'label': 'Negative', 'score': 0.9996621608734131}, {'label': 'Neutral', 'score': 0.9995823502540588}, {'label': 'Negative', 'score': 0.4889727830886841}, {'label': 'Positive', 'score': 0.99997878074646}, {'label': 'Neutral', 'score': 0.9846236109733582}, {'label': 'Positive', 'score': 0.9999922513961792}, {'label': 'Neutral', 'score': 0.9608511328697205}, {'label': 'Neutral', 'score': 0.991118848323822}, {'label': 'Neutral', 'score': 0.9999901056289673}, {'label': 'Neutral', 'score': 0.9976896047592163}, {'label': 'Positive', 'score': 0.7565286755561829}, {'label': 'Neutral', 'score': 0.9481299519538879}, {'label': 'Neutral', 'score': 0.9999535083770752}, {'label': 'Neutral', 'score': 0.9999991655349731}, {'label': 'Neutral', 'score': 0.9999657869338989}, {'label': 'Positive', 'score': 0.9921270608901978}, {'label': 'Neutral', 'score': 0.9981679916381836}, {'label': 'Neutral', 'score': 0.9989771842956543}, {'label': 'Neutral', 'score': 0.999658465385437}, {'label': 'Neutral', 'score': 0.9617546796798706}, {'label': 'Positive', 'score': 0.9855542182922363}, {'label': 'Neutral', 'score': 0.9998942613601685}, {'label': 'Neutral', 'score': 0.9892065525054932}, {'label': 'Neutral', 'score': 0.9969497323036194}, {'label': 'Neutral', 'score': 0.9999990463256836}, {'label': 'Neutral', 'score': 0.9999921321868896}, {'label': 'Neutral', 'score': 0.7467054128646851}, {'label': 'Neutral', 'score': 0.9877132177352905}, {'label': 'Neutral', 'score': 0.9422412514686584}, {'label': 'Neutral', 'score': 0.9999970197677612}, {'label': 'Neutral', 'score': 0.9967317581176758}, {'label': 'Negative', 'score': 0.9722906947135925}, {'label': 'Positive', 'score': 0.5637718439102173}, {'label': 'Neutral', 'score': 0.999993085861206}, {'label': 'Neutral', 'score': 0.9985319375991821}, {'label': 'Positive', 'score': 0.9999978542327881}, {'label': 'Neutral', 'score': 0.5572785139083862}, {'label': 'Neutral', 'score': 0.9576942920684814}, {'label': 'Neutral', 'score': 0.9979901313781738}, {'label': 'Neutral', 'score': 0.9997473359107971}, {'label': 'Neutral', 'score': 0.9999736547470093}, {'label': 'Positive', 'score': 0.9996284246444702}, {'label': 'Neutral', 'score': 0.9985693693161011}, {'label': 'Neutral', 'score': 0.9999991655349731}, {'label': 'Neutral', 'score': 0.9999954700469971}, {'label': 'Positive', 'score': 0.7977272868156433}, {'label': 'Negative', 'score': 0.7387212514877319}, {'label': 'Positive', 'score': 0.9997811913490295}, {'label': 'Neutral', 'score': 0.9997734427452087}, {'label': 'Positive', 'score': 1.0}, {'label': 'Neutral', 'score': 0.9999935626983643}, {'label': 'Positive', 'score': 0.9012280106544495}, {'label': 'Positive', 'score': 0.9999921321868896}, {'label': 'Neutral', 'score': 0.9999998807907104}, {'label': 'Positive', 'score': 0.8065925240516663}, {'label': 'Neutral', 'score': 0.9997140765190125}, {'label': 'Positive', 'score': 0.9942037463188171}, {'label': 'Neutral', 'score': 0.9861457943916321}, {'label': 'Neutral', 'score': 0.999998927116394}, {'label': 'Neutral', 'score': 0.9553295373916626}, {'label': 'Neutral', 'score': 0.9997809529304504}, {'label': 'Neutral', 'score': 0.9999510049819946}, {'label': 'Neutral', 'score': 0.9999781847000122}, {'label': 'Neutral', 'score': 0.998213529586792}, {'label': 'Positive', 'score': 1.0}, {'label': 'Negative', 'score': 0.7917150259017944}, {'label': 'Neutral', 'score': 0.9998655319213867}, {'label': 'Neutral', 'score': 0.9999977350234985}, {'label': 'Positive', 'score': 0.9892968535423279}, {'label': 'Neutral', 'score': 0.9999856948852539}, {'label': 'Neutral', 'score': 0.9994574189186096}, {'label': 'Negative', 'score': 0.9153544306755066}, {'label': 'Neutral', 'score': 0.9989515542984009}, {'label': 'Neutral', 'score': 0.9923589825630188}, {'label': 'Neutral', 'score': 0.9999504089355469}, {'label': 'Neutral', 'score': 0.9748817682266235}, {'label': 'Neutral', 'score': 0.9999635219573975}, {'label': 'Neutral', 'score': 0.9999997615814209}, {'label': 'Positive', 'score': 0.9968146681785583}, {'label': 'Neutral', 'score': 0.9998365640640259}, {'label': 'Neutral', 'score': 0.999991774559021}, {'label': 'Neutral', 'score': 0.9999972581863403}, {'label': 'Neutral', 'score': 0.999907374382019}, {'label': 'Neutral', 'score': 0.9994658827781677}, {'label': 'Positive', 'score': 0.7930342555046082}, {'label': 'Positive', 'score': 1.0}, {'label': 'Neutral', 'score': 0.9999328851699829}, {'label': 'Positive', 'score': 0.9999417066574097}, {'label': 'Neutral', 'score': 0.9999299049377441}, {'label': 'Neutral', 'score': 0.9999465942382812}, {'label': 'Neutral', 'score': 0.9053997993469238}, {'label': 'Positive', 'score': 0.9115869402885437}, {'label': 'Neutral', 'score': 0.8795179128646851}, {'label': 'Neutral', 'score': 0.9944391250610352}, {'label': 'Neutral', 'score': 0.9999924898147583}, {'label': 'Neutral', 'score': 0.9999942779541016}, {'label': 'Positive', 'score': 0.9420397877693176}, {'label': 'Neutral', 'score': 0.9998733997344971}, {'label': 'Positive', 'score': 0.9999998807907104}, {'label': 'Neutral', 'score': 0.9999552965164185}, {'label': 'Neutral', 'score': 0.9999995231628418}, {'label': 'Negative', 'score': 0.9994912147521973}, {'label': 'Neutral', 'score': 0.9999938011169434}, {'label': 'Positive', 'score': 0.9999779462814331}, {'label': 'Neutral', 'score': 0.9997952580451965}, {'label': 'Neutral', 'score': 0.999992847442627}, {'label': 'Neutral', 'score': 0.9999920129776001}, {'label': 'Neutral', 'score': 0.999649167060852}, {'label': 'Neutral', 'score': 0.9997627139091492}, {'label': 'Neutral', 'score': 0.5018290877342224}, {'label': 'Neutral', 'score': 0.999951958656311}, {'label': 'Neutral', 'score': 0.9999439716339111}, {'label': 'Neutral', 'score': 0.9998751878738403}, {'label': 'Positive', 'score': 0.988881528377533}, {'label': 'Neutral', 'score': 0.9999864101409912}, {'label': 'Neutral', 'score': 0.9998136162757874}, {'label': 'Neutral', 'score': 0.9999934434890747}, {'label': 'Neutral', 'score': 0.9993556141853333}, {'label': 'Neutral', 'score': 0.9997850060462952}, {'label': 'Neutral', 'score': 0.9839514493942261}, {'label': 'Neutral', 'score': 0.9998317956924438}, {'label': 'Neutral', 'score': 0.9599106311798096}, {'label': 'Neutral', 'score': 0.5858519673347473}, {'label': 'Neutral', 'score': 0.9999420642852783}, {'label': 'Neutral', 'score': 0.999935507774353}, {'label': 'Positive', 'score': 0.8827958703041077}, {'label': 'Positive', 'score': 1.0}, {'label': 'Neutral', 'score': 0.9999945163726807}, {'label': 'Neutral', 'score': 0.9999814033508301}, {'label': 'Positive', 'score': 0.6931936144828796}, {'label': 'Neutral', 'score': 0.9787130355834961}, {'label': 'Neutral', 'score': 0.7014332413673401}, {'label': 'Neutral', 'score': 0.9999969005584717}, {'label': 'Positive', 'score': 0.990875244140625}, {'label': 'Neutral', 'score': 0.9977928400039673}, {'label': 'Positive', 'score': 1.0}, {'label': 'Neutral', 'score': 0.9965665340423584}, {'label': 'Neutral', 'score': 0.9992324113845825}, {'label': 'Neutral', 'score': 0.9999997615814209}, {'label': 'Neutral', 'score': 0.9997208714485168}, {'label': 'Neutral', 'score': 0.9990875720977783}, {'label': 'Negative', 'score': 0.8004390001296997}, {'label': 'Negative', 'score': 0.9873110055923462}, {'label': 'Neutral', 'score': 0.9995225667953491}, {'label': 'Positive', 'score': 0.9960891008377075}, {'label': 'Neutral', 'score': 0.9972450733184814}, {'label': 'Negative', 'score': 0.9736717939376831}, {'label': 'Positive', 'score': 0.9895347952842712}, {'label': 'Positive', 'score': 0.999985933303833}, {'label': 'Neutral', 'score': 0.9990336894989014}, {'label': 'Neutral', 'score': 0.9301940202713013}, {'label': 'Neutral', 'score': 0.9790923595428467}, {'label': 'Neutral', 'score': 0.9999946355819702}, {'label': 'Neutral', 'score': 0.9999217987060547}, {'label': 'Neutral', 'score': 0.9999767541885376}, {'label': 'Neutral', 'score': 0.999994158744812}, {'label': 'Neutral', 'score': 0.9911671280860901}, {'label': 'Neutral', 'score': 0.9998660087585449}, {'label': 'Neutral', 'score': 0.9740421772003174}, {'label': 'Neutral', 'score': 0.9999750852584839}, {'label': 'Neutral', 'score': 0.999974250793457}, {'label': 'Neutral', 'score': 0.9288746118545532}, {'label': 'Neutral', 'score': 0.9979894161224365}, {'label': 'Positive', 'score': 0.9999682903289795}, {'label': 'Neutral', 'score': 0.9792917370796204}, {'label': 'Neutral', 'score': 0.9998928308486938}, {'label': 'Neutral', 'score': 0.9998325109481812}, {'label': 'Positive', 'score': 0.9754204154014587}, {'label': 'Neutral', 'score': 0.507762610912323}, {'label': 'Positive', 'score': 0.7379105091094971}, {'label': 'Neutral', 'score': 0.9932378530502319}, {'label': 'Neutral', 'score': 0.9986165761947632}, {'label': 'Positive', 'score': 0.9999992847442627}, {'label': 'Negative', 'score': 0.9999961853027344}, {'label': 'Positive', 'score': 0.999815046787262}, {'label': 'Neutral', 'score': 0.9999985694885254}, {'label': 'Neutral', 'score': 0.9999945163726807}, {'label': 'Neutral', 'score': 0.9651545286178589}, {'label': 'Positive', 'score': 0.9932312965393066}, {'label': 'Neutral', 'score': 0.9939934611320496}, {'label': 'Neutral', 'score': 0.7597413659095764}, {'label': 'Neutral', 'score': 0.9999707937240601}, {'label': 'Positive', 'score': 0.9999990463256836}, {'label': 'Neutral', 'score': 0.9998323917388916}, {'label': 'Positive', 'score': 0.9999990463256836}, {'label': 'Neutral', 'score': 0.9997755885124207}, {'label': 'Neutral', 'score': 0.9973359704017639}, {'label': 'Neutral', 'score': 0.9990812540054321}, {'label': 'Positive', 'score': 0.9822726249694824}, {'label': 'Neutral', 'score': 0.999338686466217}, {'label': 'Neutral', 'score': 0.8538506627082825}, {'label': 'Positive', 'score': 0.9740841388702393}, {'label': 'Positive', 'score': 0.9999808073043823}, {'label': 'Neutral', 'score': 0.9540662169456482}, {'label': 'Neutral', 'score': 0.9995397329330444}, {'label': 'Neutral', 'score': 0.9999312162399292}, {'label': 'Neutral', 'score': 0.9998351335525513}, {'label': 'Neutral', 'score': 0.9999982118606567}, {'label': 'Neutral', 'score': 0.9946693778038025}, {'label': 'Neutral', 'score': 0.9369825720787048}, {'label': 'Neutral', 'score': 0.9983319640159607}, {'label': 'Neutral', 'score': 0.9999508857727051}, {'label': 'Neutral', 'score': 0.9999305009841919}, {'label': 'Neutral', 'score': 0.9999798536300659}, {'label': 'Neutral', 'score': 0.9941393136978149}, {'label': 'Neutral', 'score': 0.928978681564331}, {'label': 'Positive', 'score': 1.0}, {'label': 'Negative', 'score': 0.6008922457695007}, {'label': 'Neutral', 'score': 0.9920650124549866}, {'label': 'Neutral', 'score': 0.9999138116836548}, {'label': 'Neutral', 'score': 0.9999997615814209}, {'label': 'Neutral', 'score': 0.9247277975082397}, {'label': 'Neutral', 'score': 0.6464774012565613}, {'label': 'Neutral', 'score': 0.9999586343765259}, {'label': 'Neutral', 'score': 0.9998959302902222}, {'label': 'Neutral', 'score': 0.9789422750473022}, {'label': 'Negative', 'score': 0.8872197866439819}, {'label': 'Neutral', 'score': 0.9995736479759216}, {'label': 'Neutral', 'score': 0.984050452709198}, {'label': 'Neutral', 'score': 0.9969033598899841}, {'label': 'Neutral', 'score': 0.9999988079071045}, {'label': 'Neutral', 'score': 0.9881882071495056}, {'label': 'Neutral', 'score': 0.99982750415802}, {'label': 'Negative', 'score': 0.9999943971633911}, {'label': 'Neutral', 'score': 0.9999781847000122}, {'label': 'Neutral', 'score': 0.9911410808563232}, {'label': 'Positive', 'score': 0.9996798038482666}, {'label': 'Neutral', 'score': 0.9995070695877075}, {'label': 'Positive', 'score': 0.7887549996376038}, {'label': 'Positive', 'score': 1.0}, {'label': 'Positive', 'score': 0.9999178647994995}, {'label': 'Neutral', 'score': 0.6078817248344421}, {'label': 'Neutral', 'score': 0.9999872446060181}, {'label': 'Positive', 'score': 1.0}, {'label': 'Neutral', 'score': 0.9973992109298706}, {'label': 'Positive', 'score': 0.9999773502349854}, {'label': 'Neutral', 'score': 0.999990701675415}, {'label': 'Neutral', 'score': 0.9944973587989807}, {'label': 'Neutral', 'score': 0.6340587735176086}, {'label': 'Positive', 'score': 0.999772846698761}, {'label': 'Neutral', 'score': 0.9999626874923706}, {'label': 'Negative', 'score': 0.9956791996955872}, {'label': 'Neutral', 'score': 0.9997673630714417}, {'label': 'Neutral', 'score': 0.9999024868011475}, {'label': 'Neutral', 'score': 0.9951076507568359}, {'label': 'Neutral', 'score': 0.9999974966049194}, {'label': 'Neutral', 'score': 0.999988317489624}, {'label': 'Neutral', 'score': 0.9997915625572205}, {'label': 'Neutral', 'score': 0.9980258941650391}, {'label': 'Negative', 'score': 0.9490911960601807}, {'label': 'Neutral', 'score': 0.9721207618713379}, {'label': 'Neutral', 'score': 0.8530285954475403}, {'label': 'Positive', 'score': 0.9999594688415527}, {'label': 'Neutral', 'score': 0.5024026036262512}, {'label': 'Neutral', 'score': 0.9965259432792664}, {'label': 'Neutral', 'score': 0.4729759693145752}, {'label': 'Positive', 'score': 1.0}, {'label': 'Neutral', 'score': 0.9419427514076233}, {'label': 'Positive', 'score': 0.9999927282333374}, {'label': 'Neutral', 'score': 0.9999995231628418}, {'label': 'Neutral', 'score': 0.9999581575393677}, {'label': 'Negative', 'score': 0.9723936915397644}, {'label': 'Neutral', 'score': 0.9998797178268433}, {'label': 'Positive', 'score': 0.5004651546478271}, {'label': 'Neutral', 'score': 0.7603768110275269}, {'label': 'Neutral', 'score': 0.5445145964622498}, {'label': 'Neutral', 'score': 0.9987672567367554}, {'label': 'Neutral', 'score': 0.9998366832733154}, {'label': 'Positive', 'score': 0.930348813533783}, {'label': 'Positive', 'score': 0.9998525381088257}, {'label': 'Positive', 'score': 1.0}, {'label': 'Negative', 'score': 0.9981966614723206}, {'label': 'Neutral', 'score': 0.999998927116394}, {'label': 'Positive', 'score': 0.9995793700218201}, {'label': 'Neutral', 'score': 0.9995245933532715}, {'label': 'Positive', 'score': 0.9999946355819702}, {'label': 'Neutral', 'score': 0.6644225120544434}, {'label': 'Negative', 'score': 0.3776264786720276}, {'label': 'Neutral', 'score': 0.9905869364738464}, {'label': 'Negative', 'score': 0.9999949932098389}, {'label': 'Neutral', 'score': 0.9999151229858398}, {'label': 'Neutral', 'score': 0.9913018941879272}, {'label': 'Neutral', 'score': 0.9999958276748657}, {'label': 'Neutral', 'score': 0.9999938011169434}, {'label': 'Neutral', 'score': 0.9999762773513794}, {'label': 'Neutral', 'score': 0.999932050704956}, {'label': 'Neutral', 'score': 0.9998495578765869}, {'label': 'Positive', 'score': 0.9997435212135315}, {'label': 'Neutral', 'score': 0.9973394274711609}, {'label': 'Neutral', 'score': 0.9709177613258362}, {'label': 'Neutral', 'score': 0.9999850988388062}, {'label': 'Neutral', 'score': 0.9999922513961792}, {'label': 'Neutral', 'score': 0.9999034404754639}, {'label': 'Neutral', 'score': 0.7467705607414246}, {'label': 'Positive', 'score': 0.8427234292030334}, {'label': 'Neutral', 'score': 0.9022032022476196}, {'label': 'Neutral', 'score': 0.9999980926513672}, {'label': 'Neutral', 'score': 0.9998613595962524}, {'label': 'Neutral', 'score': 0.9983161687850952}, {'label': 'Neutral', 'score': 0.9994773268699646}, {'label': 'Neutral', 'score': 0.9998407363891602}, {'label': 'Neutral', 'score': 0.9999603033065796}, {'label': 'Neutral', 'score': 0.9999959468841553}, {'label': 'Positive', 'score': 0.9678546190261841}, {'label': 'Positive', 'score': 0.9999995231628418}, {'label': 'Neutral', 'score': 0.970048725605011}, {'label': 'Neutral', 'score': 0.9999278783798218}, {'label': 'Neutral', 'score': 0.9993723034858704}, {'label': 'Neutral', 'score': 0.9999479055404663}, {'label': 'Neutral', 'score': 0.9998925924301147}, {'label': 'Neutral', 'score': 0.9997945427894592}, {'label': 'Positive', 'score': 0.9999415874481201}, {'label': 'Neutral', 'score': 0.9999408721923828}, {'label': 'Neutral', 'score': 0.9999891519546509}, {'label': 'Negative', 'score': 0.930237352848053}, {'label': 'Neutral', 'score': 0.6655434966087341}, {'label': 'Neutral', 'score': 0.999049723148346}, {'label': 'Positive', 'score': 0.9999806880950928}, {'label': 'Neutral', 'score': 0.9999488592147827}, {'label': 'Positive', 'score': 0.9999996423721313}, {'label': 'Positive', 'score': 0.9909417033195496}, {'label': 'Neutral', 'score': 0.999997615814209}, {'label': 'Positive', 'score': 0.8872608542442322}, {'label': 'Neutral', 'score': 0.9874902367591858}, {'label': 'Neutral', 'score': 0.9999996423721313}, {'label': 'Positive', 'score': 0.9876775145530701}, {'label': 'Neutral', 'score': 0.9999368190765381}, {'label': 'Neutral', 'score': 0.9999629259109497}, {'label': 'Neutral', 'score': 0.9997125267982483}, {'label': 'Neutral', 'score': 0.9768320918083191}, {'label': 'Neutral', 'score': 0.999996542930603}, {'label': 'Positive', 'score': 0.9999998807907104}, {'label': 'Neutral', 'score': 0.9999990463256836}, {'label': 'Neutral', 'score': 0.9999476671218872}, {'label': 'Neutral', 'score': 0.9999945163726807}, {'label': 'Negative', 'score': 0.9871436953544617}, {'label': 'Neutral', 'score': 0.9994103908538818}, {'label': 'Neutral', 'score': 0.9951670169830322}, {'label': 'Neutral', 'score': 0.9996097683906555}, {'label': 'Positive', 'score': 0.9998929500579834}, {'label': 'Neutral', 'score': 0.9903925657272339}, {'label': 'Positive', 'score': 0.999997615814209}, {'label': 'Neutral', 'score': 0.9979434609413147}, {'label': 'Neutral', 'score': 0.9998295307159424}, {'label': 'Positive', 'score': 1.0}, {'label': 'Neutral', 'score': 0.9999392032623291}, {'label': 'Neutral', 'score': 0.999811589717865}, {'label': 'Negative', 'score': 0.9997285008430481}, {'label': 'Positive', 'score': 0.954478919506073}, {'label': 'Neutral', 'score': 0.9999953508377075}, {'label': 'Neutral', 'score': 0.9760160446166992}, {'label': 'Neutral', 'score': 0.9999344348907471}, {'label': 'Neutral', 'score': 0.9999731779098511}, {'label': 'Neutral', 'score': 0.9999134540557861}, {'label': 'Neutral', 'score': 0.9986396431922913}, {'label': 'Positive', 'score': 0.9988810420036316}, {'label': 'Neutral', 'score': 0.9997438788414001}, {'label': 'Neutral', 'score': 0.9999980926513672}, {'label': 'Neutral', 'score': 0.9999927282333374}, {'label': 'Positive', 'score': 0.9999462366104126}, {'label': 'Neutral', 'score': 0.9999725818634033}, {'label': 'Neutral', 'score': 0.9999748468399048}, {'label': 'Neutral', 'score': 0.9987307190895081}, {'label': 'Negative', 'score': 0.9984065890312195}, {'label': 'Neutral', 'score': 0.9999896287918091}, {'label': 'Neutral', 'score': 0.9999967813491821}, {'label': 'Neutral', 'score': 0.9405825734138489}, {'label': 'Positive', 'score': 0.9999791383743286}, {'label': 'Neutral', 'score': 0.9937101602554321}, {'label': 'Negative', 'score': 0.9465401768684387}, {'label': 'Neutral', 'score': 0.9996738433837891}, {'label': 'Neutral', 'score': 0.9995226860046387}, {'label': 'Neutral', 'score': 0.9999451637268066}, {'label': 'Neutral', 'score': 0.999974250793457}, {'label': 'Positive', 'score': 0.9889938235282898}, {'label': 'Neutral', 'score': 0.9998538494110107}, {'label': 'Neutral', 'score': 0.999893069267273}, {'label': 'Neutral', 'score': 0.9976310729980469}, {'label': 'Neutral', 'score': 0.9999748468399048}, {'label': 'Negative', 'score': 0.673185408115387}, {'label': 'Neutral', 'score': 0.9996178150177002}, {'label': 'Positive', 'score': 0.9546199440956116}, {'label': 'Neutral', 'score': 0.9999948740005493}, {'label': 'Neutral', 'score': 0.9995926022529602}, {'label': 'Neutral', 'score': 0.9999983310699463}, {'label': 'Positive', 'score': 0.9972147345542908}, {'label': 'Neutral', 'score': 0.9999977350234985}, {'label': 'Neutral', 'score': 0.999975323677063}, {'label': 'Positive', 'score': 1.0}, {'label': 'Positive', 'score': 0.942886233329773}, {'label': 'Neutral', 'score': 0.9999960660934448}, {'label': 'Positive', 'score': 0.8644370436668396}, {'label': 'Neutral', 'score': 0.9999874830245972}, {'label': 'Negative', 'score': 0.9413689970970154}, {'label': 'Neutral', 'score': 0.750746488571167}, {'label': 'Neutral', 'score': 0.9963751435279846}, {'label': 'Neutral', 'score': 0.9999790191650391}, {'label': 'Neutral', 'score': 0.9995861649513245}, {'label': 'Neutral', 'score': 0.9999732971191406}, {'label': 'Neutral', 'score': 0.8784577250480652}, {'label': 'Neutral', 'score': 0.9999955892562866}, {'label': 'Neutral', 'score': 0.9999254941940308}, {'label': 'Neutral', 'score': 0.9999942779541016}, {'label': 'Positive', 'score': 0.9998873472213745}, {'label': 'Neutral', 'score': 0.9629983305931091}, {'label': 'Neutral', 'score': 0.979669451713562}, {'label': 'Neutral', 'score': 0.9999063014984131}, {'label': 'Neutral', 'score': 0.9476138949394226}, {'label': 'Positive', 'score': 0.8981074094772339}, {'label': 'Positive', 'score': 0.9999817609786987}, {'label': 'Positive', 'score': 0.9995737671852112}, {'label': 'Neutral', 'score': 0.9999845027923584}, {'label': 'Neutral', 'score': 0.9999923706054688}, {'label': 'Neutral', 'score': 0.9999734163284302}, {'label': 'Neutral', 'score': 0.9999104738235474}, {'label': 'Neutral', 'score': 0.9989467263221741}, {'label': 'Neutral', 'score': 0.9999674558639526}, {'label': 'Neutral', 'score': 0.7492079734802246}, {'label': 'Neutral', 'score': 0.9983042478561401}, {'label': 'Positive', 'score': 0.9961973428726196}, {'label': 'Neutral', 'score': 0.9999954700469971}, {'label': 'Neutral', 'score': 0.9999940395355225}, {'label': 'Positive', 'score': 0.9997443556785583}, {'label': 'Positive', 'score': 1.0}, {'label': 'Positive', 'score': 0.9998832941055298}, {'label': 'Negative', 'score': 0.9919256567955017}, {'label': 'Neutral', 'score': 0.9999771118164062}, {'label': 'Neutral', 'score': 0.989254355430603}, {'label': 'Neutral', 'score': 0.9967980980873108}, {'label': 'Neutral', 'score': 0.9998883008956909}, {'label': 'Neutral', 'score': 0.9610121846199036}, {'label': 'Neutral', 'score': 0.9924778342247009}, {'label': 'Neutral', 'score': 0.9994943141937256}, {'label': 'Neutral', 'score': 0.9834771752357483}, {'label': 'Neutral', 'score': 0.9999731779098511}, {'label': 'Neutral', 'score': 0.9723169207572937}, {'label': 'Neutral', 'score': 0.999980092048645}, {'label': 'Neutral', 'score': 0.9998693466186523}, {'label': 'Neutral', 'score': 0.9999254941940308}, {'label': 'Positive', 'score': 0.9994679093360901}, {'label': 'Neutral', 'score': 0.998381495475769}, {'label': 'Neutral', 'score': 0.6356588006019592}, {'label': 'Neutral', 'score': 0.9823858141899109}, {'label': 'Neutral', 'score': 0.8883710503578186}, {'label': 'Neutral', 'score': 0.9999951124191284}, {'label': 'Neutral', 'score': 0.9990670084953308}, {'label': 'Negative', 'score': 0.9923678040504456}, {'label': 'Positive', 'score': 0.9143244028091431}, {'label': 'Neutral', 'score': 0.9995556473731995}, {'label': 'Neutral', 'score': 0.9999291896820068}, {'label': 'Neutral', 'score': 0.9999282360076904}, {'label': 'Neutral', 'score': 0.999439537525177}, {'label': 'Neutral', 'score': 0.9757959246635437}, {'label': 'Neutral', 'score': 0.9924443364143372}, {'label': 'Positive', 'score': 0.9111360311508179}, {'label': 'Positive', 'score': 0.9999998807907104}, {'label': 'Neutral', 'score': 0.9531384706497192}, {'label': 'Neutral', 'score': 0.9999328851699829}, {'label': 'Neutral', 'score': 0.9999964237213135}, {'label': 'Positive', 'score': 0.9805787205696106}, {'label': 'Neutral', 'score': 0.9999762773513794}, {'label': 'Neutral', 'score': 0.9995682835578918}, {'label': 'Negative', 'score': 0.9989672899246216}, {'label': 'Neutral', 'score': 0.9999978542327881}, {'label': 'Negative', 'score': 0.9721482396125793}, {'label': 'Neutral', 'score': 0.999974250793457}, {'label': 'Positive', 'score': 0.99998939037323}, {'label': 'Neutral', 'score': 0.9975883960723877}, {'label': 'Neutral', 'score': 0.9989810585975647}, {'label': 'Neutral', 'score': 0.9999692440032959}, {'label': 'Neutral', 'score': 0.9998003840446472}, {'label': 'Positive', 'score': 0.9999998807907104}, {'label': 'Positive', 'score': 0.9002047777175903}, {'label': 'Neutral', 'score': 0.9999583959579468}, {'label': 'Neutral', 'score': 0.9990757703781128}, {'label': 'Neutral', 'score': 0.9998231530189514}, {'label': 'Neutral', 'score': 0.9995627999305725}, {'label': 'Positive', 'score': 0.9321643114089966}, {'label': 'Neutral', 'score': 0.9998470544815063}, {'label': 'Neutral', 'score': 0.9999938011169434}, {'label': 'Neutral', 'score': 0.999996542930603}, {'label': 'Neutral', 'score': 0.5397711992263794}, {'label': 'Neutral', 'score': 0.9749343395233154}, {'label': 'Neutral', 'score': 0.9999877214431763}, {'label': 'Neutral', 'score': 0.9999934434890747}, {'label': 'Neutral', 'score': 0.9723747372627258}, {'label': 'Neutral', 'score': 0.9999654293060303}, {'label': 'Positive', 'score': 0.9999998807907104}, {'label': 'Neutral', 'score': 0.999997615814209}, {'label': 'Neutral', 'score': 0.9999334812164307}, {'label': 'Neutral', 'score': 0.9923222661018372}, {'label': 'Neutral', 'score': 0.9948051571846008}, {'label': 'Neutral', 'score': 0.9998536109924316}, {'label': 'Positive', 'score': 0.9996476173400879}, {'label': 'Neutral', 'score': 0.9999957084655762}, {'label': 'Neutral', 'score': 0.999886155128479}, {'label': 'Positive', 'score': 0.9999992847442627}, {'label': 'Neutral', 'score': 0.9989596605300903}, {'label': 'Neutral', 'score': 0.5152188539505005}, {'label': 'Neutral', 'score': 0.998683750629425}, {'label': 'Neutral', 'score': 0.9998403787612915}, {'label': 'Neutral', 'score': 0.9982523322105408}, {'label': 'Positive', 'score': 0.9983362555503845}, {'label': 'Positive', 'score': 0.9999996423721313}, {'label': 'Neutral', 'score': 0.9998169541358948}, {'label': 'Negative', 'score': 0.9186328649520874}, {'label': 'Neutral', 'score': 0.9999938011169434}, {'label': 'Neutral', 'score': 0.999440610408783}, {'label': 'Positive', 'score': 1.0}, {'label': 'Negative', 'score': 0.9975280165672302}, {'label': 'Positive', 'score': 0.9999492168426514}, {'label': 'Neutral', 'score': 0.9998449087142944}, {'label': 'Negative', 'score': 0.9817055463790894}, {'label': 'Neutral', 'score': 0.9934669137001038}, {'label': 'Positive', 'score': 1.0}, {'label': 'Negative', 'score': 0.9639647006988525}, {'label': 'Neutral', 'score': 0.997071385383606}, {'label': 'Neutral', 'score': 0.9999855756759644}, {'label': 'Neutral', 'score': 0.998925507068634}, {'label': 'Neutral', 'score': 0.9997434020042419}, {'label': 'Neutral', 'score': 0.9997660517692566}, {'label': 'Neutral', 'score': 0.9992594122886658}, {'label': 'Positive', 'score': 0.9736180305480957}, {'label': 'Neutral', 'score': 0.7541971206665039}, {'label': 'Neutral', 'score': 0.999993085861206}, {'label': 'Positive', 'score': 1.0}, {'label': 'Neutral', 'score': 0.9999810457229614}, {'label': 'Neutral', 'score': 0.9996020197868347}, {'label': 'Neutral', 'score': 0.998046875}, {'label': 'Neutral', 'score': 0.893667459487915}, {'label': 'Negative', 'score': 0.9907106757164001}, {'label': 'Neutral', 'score': 0.9989383816719055}, {'label': 'Neutral', 'score': 0.9975298047065735}, {'label': 'Neutral', 'score': 0.9853481650352478}, {'label': 'Neutral', 'score': 0.9993077516555786}, {'label': 'Neutral', 'score': 0.99992835521698}, {'label': 'Neutral', 'score': 0.9999979734420776}, {'label': 'Neutral', 'score': 0.9546920657157898}, {'label': 'Neutral', 'score': 0.9999992847442627}, {'label': 'Neutral', 'score': 0.9985213875770569}, {'label': 'Neutral', 'score': 0.8895968198776245}, {'label': 'Neutral', 'score': 0.951449453830719}, {'label': 'Neutral', 'score': 0.9999988079071045}, {'label': 'Neutral', 'score': 0.9999810457229614}, {'label': 'Neutral', 'score': 0.9999969005584717}, {'label': 'Neutral', 'score': 0.9959433674812317}, {'label': 'Neutral', 'score': 0.9999120235443115}, {'label': 'Neutral', 'score': 0.9999337196350098}, {'label': 'Neutral', 'score': 0.8734031915664673}, {'label': 'Neutral', 'score': 0.9945927262306213}, {'label': 'Neutral', 'score': 0.9999790191650391}, {'label': 'Neutral', 'score': 0.9999247789382935}, {'label': 'Neutral', 'score': 0.9999282360076904}, {'label': 'Neutral', 'score': 0.9998237490653992}, {'label': 'Neutral', 'score': 0.9998482465744019}, {'label': 'Neutral', 'score': 0.9999990463256836}, {'label': 'Negative', 'score': 0.9999822378158569}, {'label': 'Positive', 'score': 0.991655707359314}, {'label': 'Negative', 'score': 0.999263346195221}, {'label': 'Neutral', 'score': 0.9913729429244995}, {'label': 'Neutral', 'score': 0.9983160495758057}, {'label': 'Neutral', 'score': 0.9995658993721008}, {'label': 'Neutral', 'score': 0.985714852809906}, {'label': 'Neutral', 'score': 0.9999105930328369}, {'label': 'Positive', 'score': 0.991070032119751}, {'label': 'Negative', 'score': 0.6200429201126099}, {'label': 'Negative', 'score': 0.89918053150177}, {'label': 'Positive', 'score': 0.9999433755874634}, {'label': 'Neutral', 'score': 0.9949541687965393}, {'label': 'Neutral', 'score': 0.9997705817222595}, {'label': 'Neutral', 'score': 0.9999746084213257}, {'label': 'Positive', 'score': 0.9770968556404114}, {'label': 'Neutral', 'score': 0.9697792530059814}, {'label': 'Positive', 'score': 0.9798974394798279}, {'label': 'Positive', 'score': 0.9968056678771973}, {'label': 'Neutral', 'score': 0.996614396572113}, {'label': 'Negative', 'score': 0.974898636341095}, {'label': 'Neutral', 'score': 0.9863408803939819}, {'label': 'Neutral', 'score': 0.9995949864387512}, {'label': 'Neutral', 'score': 0.9996296167373657}, {'label': 'Neutral', 'score': 0.9730935096740723}, {'label': 'Neutral', 'score': 0.9946001768112183}, {'label': 'Negative', 'score': 0.9318287968635559}, {'label': 'Neutral', 'score': 0.9720850586891174}, {'label': 'Neutral', 'score': 0.9999994039535522}, {'label': 'Positive', 'score': 0.9999210834503174}, {'label': 'Negative', 'score': 0.6450425982475281}, {'label': 'Neutral', 'score': 0.9905709028244019}, {'label': 'Negative', 'score': 0.6599417328834534}, {'label': 'Neutral', 'score': 0.9999880790710449}, {'label': 'Neutral', 'score': 0.9995204210281372}, {'label': 'Neutral', 'score': 0.9999682903289795}, {'label': 'Negative', 'score': 0.9740238785743713}, {'label': 'Neutral', 'score': 0.9998158812522888}, {'label': 'Neutral', 'score': 0.9999947547912598}, {'label': 'Neutral', 'score': 0.9999614953994751}, {'label': 'Neutral', 'score': 0.9987545013427734}, {'label': 'Positive', 'score': 0.7662680149078369}, {'label': 'Neutral', 'score': 0.9999663829803467}, {'label': 'Neutral', 'score': 0.9999960660934448}, {'label': 'Neutral', 'score': 0.9983670115470886}, {'label': 'Neutral', 'score': 0.9999886751174927}, {'label': 'Neutral', 'score': 0.995860755443573}, {'label': 'Neutral', 'score': 0.9999202489852905}, {'label': 'Positive', 'score': 0.9904778003692627}, {'label': 'Neutral', 'score': 0.9889941811561584}, {'label': 'Neutral', 'score': 0.9999954700469971}, {'label': 'Neutral', 'score': 0.9997350573539734}, {'label': 'Neutral', 'score': 0.9999945163726807}, {'label': 'Neutral', 'score': 0.9599462151527405}, {'label': 'Neutral', 'score': 0.9999611377716064}, {'label': 'Neutral', 'score': 0.9999586343765259}, {'label': 'Neutral', 'score': 0.9993911981582642}, {'label': 'Neutral', 'score': 0.9974604845046997}, {'label': 'Positive', 'score': 0.9999994039535522}, {'label': 'Neutral', 'score': 0.9998447895050049}, {'label': 'Neutral', 'score': 0.883364737033844}, {'label': 'Neutral', 'score': 0.9993724226951599}, {'label': 'Positive', 'score': 0.9999991655349731}, {'label': 'Neutral', 'score': 0.9999483823776245}, {'label': 'Positive', 'score': 0.8998720049858093}, {'label': 'Neutral', 'score': 0.9998722076416016}, {'label': 'Neutral', 'score': 0.990053653717041}, {'label': 'Positive', 'score': 0.7196781039237976}, {'label': 'Negative', 'score': 0.9998791217803955}, {'label': 'Neutral', 'score': 0.9999310970306396}, {'label': 'Neutral', 'score': 0.999869704246521}, {'label': 'Neutral', 'score': 0.984423816204071}, {'label': 'Neutral', 'score': 0.9997796416282654}, {'label': 'Neutral', 'score': 0.9994569420814514}, {'label': 'Neutral', 'score': 0.999818742275238}, {'label': 'Neutral', 'score': 0.9999406337738037}, {'label': 'Neutral', 'score': 0.9970529079437256}, {'label': 'Neutral', 'score': 0.9999819993972778}, {'label': 'Positive', 'score': 0.999221682548523}, {'label': 'Neutral', 'score': 0.978729248046875}, {'label': 'Neutral', 'score': 0.9999974966049194}, {'label': 'Neutral', 'score': 0.9965818524360657}, {'label': 'Neutral', 'score': 0.9993220567703247}, {'label': 'Neutral', 'score': 0.9999364614486694}, {'label': 'Neutral', 'score': 0.9997643828392029}, {'label': 'Negative', 'score': 0.9999992847442627}, {'label': 'Neutral', 'score': 0.9998975992202759}, {'label': 'Neutral', 'score': 0.9997325539588928}, {'label': 'Positive', 'score': 0.8059561848640442}, {'label': 'Neutral', 'score': 0.9978806972503662}, {'label': 'Neutral', 'score': 0.999390721321106}, {'label': 'Neutral', 'score': 0.9999327659606934}, {'label': 'Neutral', 'score': 0.996807873249054}, {'label': 'Negative', 'score': 0.9981456995010376}, {'label': 'Negative', 'score': 0.9916713237762451}, {'label': 'Positive', 'score': 0.991782546043396}, {'label': 'Neutral', 'score': 0.9963776469230652}, {'label': 'Negative', 'score': 0.70896977186203}, {'label': 'Neutral', 'score': 0.9803178310394287}, {'label': 'Negative', 'score': 0.8689213991165161}, {'label': 'Neutral', 'score': 0.9976043105125427}, {'label': 'Neutral', 'score': 0.999996542930603}, {'label': 'Neutral', 'score': 0.999996542930603}, {'label': 'Neutral', 'score': 0.9846795201301575}, {'label': 'Positive', 'score': 0.9992846846580505}, {'label': 'Neutral', 'score': 0.9717934131622314}, {'label': 'Positive', 'score': 0.5518928170204163}, {'label': 'Positive', 'score': 0.8596847653388977}, {'label': 'Neutral', 'score': 0.9999150037765503}, {'label': 'Positive', 'score': 0.9999998807907104}, {'label': 'Neutral', 'score': 0.9999213218688965}, {'label': 'Neutral', 'score': 0.9997510313987732}, {'label': 'Neutral', 'score': 0.9998910427093506}, {'label': 'Neutral', 'score': 0.9990893602371216}, {'label': 'Neutral', 'score': 0.9997684359550476}, {'label': 'Neutral', 'score': 0.9999884366989136}, {'label': 'Positive', 'score': 0.9999798536300659}, {'label': 'Neutral', 'score': 0.7406298518180847}, {'label': 'Neutral', 'score': 0.9992793202400208}, {'label': 'Positive', 'score': 0.8892315626144409}, {'label': 'Neutral', 'score': 0.9999839067459106}, {'label': 'Negative', 'score': 0.5524188280105591}, {'label': 'Neutral', 'score': 0.9235748648643494}, {'label': 'Neutral', 'score': 0.9999288320541382}, {'label': 'Positive', 'score': 0.9993705153465271}, {'label': 'Neutral', 'score': 0.6601788997650146}, {'label': 'Negative', 'score': 0.9021852016448975}, {'label': 'Negative', 'score': 0.9987389445304871}, {'label': 'Neutral', 'score': 0.9948397278785706}, {'label': 'Neutral', 'score': 0.9983409643173218}, {'label': 'Neutral', 'score': 0.9716488718986511}, {'label': 'Neutral', 'score': 0.9999617338180542}, {'label': 'Positive', 'score': 0.9635804891586304}, {'label': 'Positive', 'score': 0.9980820417404175}, {'label': 'Negative', 'score': 0.9916832447052002}, {'label': 'Negative', 'score': 0.9572667479515076}, {'label': 'Neutral', 'score': 0.9887797832489014}, {'label': 'Negative', 'score': 0.9900802969932556}, {'label': 'Negative', 'score': 0.9999927282333374}, {'label': 'Neutral', 'score': 0.9999814033508301}, {'label': 'Neutral', 'score': 0.9228703379631042}, {'label': 'Neutral', 'score': 0.9999825954437256}, {'label': 'Neutral', 'score': 0.999818742275238}, {'label': 'Positive', 'score': 0.9944341778755188}, {'label': 'Neutral', 'score': 0.9999350309371948}, {'label': 'Neutral', 'score': 0.9998786449432373}, {'label': 'Neutral', 'score': 0.9999778270721436}, {'label': 'Neutral', 'score': 0.9999809265136719}, {'label': 'Neutral', 'score': 0.999895453453064}, {'label': 'Neutral', 'score': 0.9997783303260803}, {'label': 'Neutral', 'score': 0.9934625625610352}, {'label': 'Positive', 'score': 0.7986727952957153}, {'label': 'Neutral', 'score': 0.9999997615814209}, {'label': 'Positive', 'score': 1.0}, {'label': 'Positive', 'score': 0.8691240549087524}, {'label': 'Neutral', 'score': 0.9999768733978271}, {'label': 'Negative', 'score': 0.9999868869781494}, {'label': 'Neutral', 'score': 0.9999347925186157}, {'label': 'Positive', 'score': 0.9999932050704956}, {'label': 'Neutral', 'score': 0.9939408302307129}, {'label': 'Positive', 'score': 0.9995362758636475}, {'label': 'Neutral', 'score': 0.999976396560669}, {'label': 'Neutral', 'score': 0.9999948740005493}, {'label': 'Negative', 'score': 0.9995225667953491}, {'label': 'Neutral', 'score': 0.9999865293502808}, {'label': 'Neutral', 'score': 0.9999945163726807}, {'label': 'Neutral', 'score': 0.9503960609436035}, {'label': 'Neutral', 'score': 0.9999043941497803}, {'label': 'Negative', 'score': 0.9803655743598938}, {'label': 'Negative', 'score': 0.9904507994651794}, {'label': 'Neutral', 'score': 0.9999974966049194}, {'label': 'Neutral', 'score': 0.999998927116394}, {'label': 'Neutral', 'score': 0.9999991655349731}, {'label': 'Neutral', 'score': 0.9996380805969238}, {'label': 'Negative', 'score': 0.9726554751396179}, {'label': 'Neutral', 'score': 0.9999856948852539}, {'label': 'Positive', 'score': 0.9998877048492432}, {'label': 'Neutral', 'score': 0.9996787309646606}, {'label': 'Neutral', 'score': 0.9999874830245972}, {'label': 'Negative', 'score': 0.99994957447052}, {'label': 'Neutral', 'score': 0.999966025352478}, {'label': 'Neutral', 'score': 0.9213569760322571}, {'label': 'Positive', 'score': 0.9999982118606567}, {'label': 'Neutral', 'score': 0.9999130964279175}, {'label': 'Neutral', 'score': 0.9857584238052368}, {'label': 'Neutral', 'score': 0.9999946355819702}, {'label': 'Neutral', 'score': 0.999846339225769}, {'label': 'Neutral', 'score': 0.9999792575836182}, {'label': 'Positive', 'score': 0.954700231552124}, {'label': 'Neutral', 'score': 0.9776450395584106}, {'label': 'Neutral', 'score': 0.9999964237213135}, {'label': 'Neutral', 'score': 0.9998225569725037}, {'label': 'Neutral', 'score': 0.9681681990623474}, {'label': 'Neutral', 'score': 0.9966334700584412}, {'label': 'Neutral', 'score': 0.993983805179596}, {'label': 'Neutral', 'score': 0.9983159303665161}, {'label': 'Neutral', 'score': 0.9994996786117554}, {'label': 'Neutral', 'score': 0.9997081160545349}, {'label': 'Positive', 'score': 0.5716273188591003}, {'label': 'Neutral', 'score': 0.999991774559021}, {'label': 'Neutral', 'score': 0.9999840259552002}, {'label': 'Negative', 'score': 0.7033520936965942}, {'label': 'Neutral', 'score': 0.9996743202209473}, {'label': 'Neutral', 'score': 0.9996832609176636}, {'label': 'Neutral', 'score': 0.9123407006263733}, {'label': 'Positive', 'score': 0.9963781237602234}, {'label': 'Positive', 'score': 0.9999998807907104}, {'label': 'Negative', 'score': 0.9993403553962708}, {'label': 'Neutral', 'score': 0.9998712539672852}, {'label': 'Neutral', 'score': 0.9986451268196106}, {'label': 'Positive', 'score': 0.9996451139450073}, {'label': 'Neutral', 'score': 0.9575719237327576}, {'label': 'Positive', 'score': 1.0}, {'label': 'Positive', 'score': 1.0}, {'label': 'Neutral', 'score': 0.9999065399169922}, {'label': 'Neutral', 'score': 0.9972987771034241}, {'label': 'Neutral', 'score': 0.9997217059135437}, {'label': 'Positive', 'score': 0.9999998807907104}, {'label': 'Neutral', 'score': 0.948361873626709}, {'label': 'Neutral', 'score': 0.9981744289398193}, {'label': 'Neutral', 'score': 0.999991774559021}, {'label': 'Neutral', 'score': 0.9900617599487305}, {'label': 'Neutral', 'score': 0.9999903440475464}, {'label': 'Neutral', 'score': 0.9999964237213135}, {'label': 'Neutral', 'score': 0.9964048862457275}, {'label': 'Neutral', 'score': 0.9993948936462402}, {'label': 'Negative', 'score': 0.7873727679252625}, {'label': 'Neutral', 'score': 0.9966739416122437}, {'label': 'Neutral', 'score': 0.9995768666267395}, {'label': 'Neutral', 'score': 0.9167971014976501}, {'label': 'Neutral', 'score': 0.9692201614379883}, {'label': 'Neutral', 'score': 0.6344533562660217}, {'label': 'Neutral', 'score': 0.9997960925102234}, {'label': 'Neutral', 'score': 0.9999865293502808}, {'label': 'Neutral', 'score': 0.9995624423027039}, {'label': 'Neutral', 'score': 0.9999996423721313}, {'label': 'Neutral', 'score': 0.9992800354957581}, {'label': 'Neutral', 'score': 0.8894863724708557}, {'label': 'Neutral', 'score': 0.999902606010437}, {'label': 'Neutral', 'score': 0.999911904335022}, {'label': 'Negative', 'score': 0.9500182271003723}, {'label': 'Positive', 'score': 0.9999310970306396}, {'label': 'Neutral', 'score': 0.9974921941757202}, {'label': 'Positive', 'score': 0.999808132648468}, {'label': 'Neutral', 'score': 0.9825050234794617}, {'label': 'Neutral', 'score': 0.9790544509887695}, {'label': 'Positive', 'score': 0.9999998807907104}, {'label': 'Negative', 'score': 0.7163769602775574}, {'label': 'Neutral', 'score': 0.9954591989517212}, {'label': 'Neutral', 'score': 0.9999088048934937}, {'label': 'Neutral', 'score': 0.9999966621398926}, {'label': 'Neutral', 'score': 0.9999934434890747}, {'label': 'Neutral', 'score': 0.9996091723442078}, {'label': 'Neutral', 'score': 0.999990701675415}, {'label': 'Positive', 'score': 0.999815046787262}, {'label': 'Neutral', 'score': 0.9999984502792358}, {'label': 'Positive', 'score': 0.9425272941589355}, {'label': 'Neutral', 'score': 0.9991945624351501}, {'label': 'Neutral', 'score': 0.9999102354049683}, {'label': 'Neutral', 'score': 0.9999276399612427}, {'label': 'Neutral', 'score': 0.9998612403869629}, {'label': 'Positive', 'score': 0.9997380375862122}, {'label': 'Neutral', 'score': 0.9906009435653687}, {'label': 'Positive', 'score': 0.9684974551200867}, {'label': 'Positive', 'score': 0.9557023048400879}, {'label': 'Neutral', 'score': 0.9999986886978149}, {'label': 'Neutral', 'score': 0.9988387227058411}, {'label': 'Neutral', 'score': 0.999997615814209}, {'label': 'Neutral', 'score': 0.999467670917511}, {'label': 'Neutral', 'score': 0.9989587068557739}, {'label': 'Positive', 'score': 0.9885276556015015}, {'label': 'Negative', 'score': 0.9966956377029419}, {'label': 'Negative', 'score': 0.9994989633560181}, {'label': 'Negative', 'score': 0.9086357355117798}, {'label': 'Positive', 'score': 0.5900073051452637}, {'label': 'Positive', 'score': 0.8183253407478333}, {'label': 'Neutral', 'score': 0.9992988109588623}, {'label': 'Negative', 'score': 0.9999696016311646}, {'label': 'Positive', 'score': 0.9999966621398926}, {'label': 'Neutral', 'score': 0.9983281493186951}, {'label': 'Neutral', 'score': 0.998604953289032}, {'label': 'Neutral', 'score': 0.6976330876350403}, {'label': 'Neutral', 'score': 0.999987006187439}, {'label': 'Neutral', 'score': 0.9998817443847656}, {'label': 'Neutral', 'score': 0.9999905824661255}, {'label': 'Neutral', 'score': 0.9064579010009766}, {'label': 'Neutral', 'score': 0.9999301433563232}, {'label': 'Neutral', 'score': 0.7180447578430176}, {'label': 'Neutral', 'score': 0.9999302625656128}, {'label': 'Neutral', 'score': 0.9982976317405701}, {'label': 'Neutral', 'score': 0.9968410730361938}, {'label': 'Positive', 'score': 0.9878944754600525}, {'label': 'Neutral', 'score': 0.9997976422309875}, {'label': 'Neutral', 'score': 0.9972013235092163}, {'label': 'Neutral', 'score': 0.9999756813049316}, {'label': 'Neutral', 'score': 0.9975355863571167}, {'label': 'Neutral', 'score': 0.9999558925628662}, {'label': 'Positive', 'score': 0.9697797894477844}, {'label': 'Positive', 'score': 0.9999531507492065}, {'label': 'Neutral', 'score': 0.9899203777313232}, {'label': 'Neutral', 'score': 0.9520290493965149}, {'label': 'Neutral', 'score': 0.999984622001648}, {'label': 'Negative', 'score': 0.9930254220962524}, {'label': 'Neutral', 'score': 0.9934960603713989}, {'label': 'Neutral', 'score': 0.9999531507492065}, {'label': 'Neutral', 'score': 0.9687759876251221}, {'label': 'Positive', 'score': 1.0}, {'label': 'Positive', 'score': 0.9977020621299744}, {'label': 'Neutral', 'score': 0.9998890161514282}, {'label': 'Neutral', 'score': 0.9933951497077942}, {'label': 'Neutral', 'score': 0.999955415725708}, {'label': 'Neutral', 'score': 0.9858469367027283}, {'label': 'Neutral', 'score': 0.9266319274902344}, {'label': 'Neutral', 'score': 0.9934148788452148}, {'label': 'Neutral', 'score': 0.9998893737792969}, {'label': 'Neutral', 'score': 0.9997017979621887}, {'label': 'Neutral', 'score': 0.9948537945747375}, {'label': 'Neutral', 'score': 0.9998893737792969}, {'label': 'Neutral', 'score': 0.6256853938102722}, {'label': 'Positive', 'score': 0.9999483823776245}, {'label': 'Neutral', 'score': 0.9962730407714844}, {'label': 'Neutral', 'score': 0.999530553817749}, {'label': 'Neutral', 'score': 0.9844104051589966}, {'label': 'Neutral', 'score': 0.999915599822998}, {'label': 'Positive', 'score': 0.6017328500747681}, {'label': 'Neutral', 'score': 0.999932050704956}, {'label': 'Neutral', 'score': 0.999933123588562}, {'label': 'Neutral', 'score': 0.697899341583252}, {'label': 'Neutral', 'score': 0.9999902248382568}, {'label': 'Positive', 'score': 0.9999796152114868}, {'label': 'Negative', 'score': 0.6562708020210266}, {'label': 'Neutral', 'score': 0.9999706745147705}, {'label': 'Neutral', 'score': 0.9742060899734497}, {'label': 'Neutral', 'score': 0.9995850920677185}, {'label': 'Neutral', 'score': 0.9685505032539368}, {'label': 'Neutral', 'score': 0.9999662637710571}, {'label': 'Negative', 'score': 0.9864646196365356}, {'label': 'Neutral', 'score': 0.999975323677063}, {'label': 'Neutral', 'score': 0.9989442229270935}, {'label': 'Neutral', 'score': 0.999439537525177}, {'label': 'Neutral', 'score': 0.9817426204681396}, {'label': 'Neutral', 'score': 0.9530755877494812}, {'label': 'Neutral', 'score': 0.8730912208557129}, {'label': 'Neutral', 'score': 0.9997498393058777}, {'label': 'Neutral', 'score': 0.999998927116394}, {'label': 'Neutral', 'score': 0.5192191004753113}, {'label': 'Neutral', 'score': 0.9998986721038818}, {'label': 'Negative', 'score': 0.9993671774864197}, {'label': 'Negative', 'score': 0.9992178678512573}, {'label': 'Neutral', 'score': 0.9990618824958801}, {'label': 'Neutral', 'score': 0.9999984502792358}, {'label': 'Neutral', 'score': 0.999886155128479}, {'label': 'Neutral', 'score': 0.9991389513015747}, {'label': 'Neutral', 'score': 0.9994125366210938}, {'label': 'Neutral', 'score': 0.9999895095825195}, {'label': 'Neutral', 'score': 0.989535391330719}, {'label': 'Neutral', 'score': 0.9990230798721313}, {'label': 'Neutral', 'score': 0.999992847442627}, {'label': 'Positive', 'score': 0.9999605417251587}, {'label': 'Negative', 'score': 0.9950029253959656}, {'label': 'Neutral', 'score': 0.999026894569397}, {'label': 'Neutral', 'score': 0.9978131055831909}, {'label': 'Neutral', 'score': 0.999768078327179}, {'label': 'Neutral', 'score': 0.9868466258049011}, {'label': 'Neutral', 'score': 0.9999651908874512}, {'label': 'Neutral', 'score': 0.9999891519546509}, {'label': 'Negative', 'score': 0.9997401833534241}, {'label': 'Positive', 'score': 0.9998181462287903}, {'label': 'Neutral', 'score': 0.9999563694000244}, {'label': 'Neutral', 'score': 0.9999479055404663}, {'label': 'Positive', 'score': 1.0}, {'label': 'Neutral', 'score': 0.9957334399223328}, {'label': 'Neutral', 'score': 0.9999030828475952}, {'label': 'Positive', 'score': 0.6358306407928467}, {'label': 'Neutral', 'score': 0.6819884181022644}, {'label': 'Neutral', 'score': 0.9992619156837463}, {'label': 'Neutral', 'score': 0.9667131304740906}, {'label': 'Neutral', 'score': 0.9968205690383911}, {'label': 'Negative', 'score': 0.9991803765296936}, {'label': 'Neutral', 'score': 0.9997602105140686}, {'label': 'Negative', 'score': 0.9999428987503052}, {'label': 'Neutral', 'score': 0.9987706542015076}, {'label': 'Neutral', 'score': 0.9999998807907104}, {'label': 'Neutral', 'score': 0.9996107220649719}, {'label': 'Negative', 'score': 0.9997215867042542}, {'label': 'Positive', 'score': 0.9991157650947571}, {'label': 'Neutral', 'score': 0.9965289235115051}, {'label': 'Neutral', 'score': 0.9999691247940063}, {'label': 'Neutral', 'score': 0.9985474944114685}, {'label': 'Neutral', 'score': 0.918984055519104}, {'label': 'Neutral', 'score': 0.9818347692489624}, {'label': 'Negative', 'score': 0.9990046620368958}, {'label': 'Positive', 'score': 0.9999997615814209}, {'label': 'Neutral', 'score': 0.99998939037323}, {'label': 'Neutral', 'score': 0.9953895807266235}, {'label': 'Neutral', 'score': 0.9998705387115479}, {'label': 'Positive', 'score': 0.9999990463256836}, {'label': 'Neutral', 'score': 0.9999743700027466}, {'label': 'Negative', 'score': 0.8324872851371765}, {'label': 'Neutral', 'score': 0.9520076513290405}, {'label': 'Negative', 'score': 0.8437544703483582}, {'label': 'Positive', 'score': 0.742904782295227}, {'label': 'Negative', 'score': 0.8559651374816895}, {'label': 'Positive', 'score': 0.9767444133758545}, {'label': 'Positive', 'score': 0.9795265793800354}, {'label': 'Neutral', 'score': 0.9996906518936157}, {'label': 'Neutral', 'score': 0.9999977350234985}, {'label': 'Neutral', 'score': 0.999977707862854}, {'label': 'Neutral', 'score': 0.9946258664131165}, {'label': 'Neutral', 'score': 0.9607332944869995}, {'label': 'Neutral', 'score': 0.9999979734420776}, {'label': 'Negative', 'score': 0.6804901957511902}, {'label': 'Neutral', 'score': 0.9998194575309753}, {'label': 'Neutral', 'score': 0.9999866485595703}, {'label': 'Neutral', 'score': 0.9985608458518982}, {'label': 'Neutral', 'score': 0.9999938011169434}, {'label': 'Neutral', 'score': 0.9999648332595825}, {'label': 'Neutral', 'score': 0.9945089221000671}, {'label': 'Neutral', 'score': 0.9998169541358948}, {'label': 'Neutral', 'score': 0.9993892908096313}, {'label': 'Positive', 'score': 0.9998236298561096}, {'label': 'Neutral', 'score': 0.9800265431404114}, {'label': 'Neutral', 'score': 0.999969482421875}, {'label': 'Neutral', 'score': 0.9984650611877441}, {'label': 'Neutral', 'score': 0.9999904632568359}, {'label': 'Neutral', 'score': 0.9991326928138733}, {'label': 'Neutral', 'score': 0.9949204325675964}, {'label': 'Neutral', 'score': 0.9999990463256836}, {'label': 'Neutral', 'score': 0.9999903440475464}, {'label': 'Positive', 'score': 0.9999997615814209}, {'label': 'Positive', 'score': 1.0}, {'label': 'Neutral', 'score': 0.9999710321426392}, {'label': 'Neutral', 'score': 0.9999147653579712}, {'label': 'Neutral', 'score': 0.999808132648468}, {'label': 'Negative', 'score': 0.514569878578186}, {'label': 'Neutral', 'score': 0.9999581575393677}, {'label': 'Neutral', 'score': 0.9979106783866882}, {'label': 'Neutral', 'score': 0.9988083839416504}, {'label': 'Negative', 'score': 0.8996526002883911}, {'label': 'Neutral', 'score': 0.9924271106719971}, {'label': 'Negative', 'score': 0.9999656677246094}, {'label': 'Neutral', 'score': 0.9997881054878235}, {'label': 'Positive', 'score': 0.9999998807907104}, {'label': 'Neutral', 'score': 0.9999873638153076}, {'label': 'Neutral', 'score': 0.9999959468841553}, {'label': 'Negative', 'score': 0.9938166737556458}, {'label': 'Neutral', 'score': 0.999756395816803}, {'label': 'Neutral', 'score': 0.999974250793457}, {'label': 'Positive', 'score': 1.0}, {'label': 'Neutral', 'score': 0.6705727577209473}, {'label': 'Negative', 'score': 0.9999148845672607}, {'label': 'Neutral', 'score': 0.9991790652275085}, {'label': 'Neutral', 'score': 0.9999862909317017}, {'label': 'Positive', 'score': 0.9999260902404785}, {'label': 'Neutral', 'score': 0.7289360165596008}, {'label': 'Positive', 'score': 0.9999490976333618}, {'label': 'Positive', 'score': 0.999998927116394}, {'label': 'Positive', 'score': 0.7211681604385376}, {'label': 'Positive', 'score': 0.9488266706466675}, {'label': 'Positive', 'score': 0.956048846244812}, {'label': 'Neutral', 'score': 0.9998562335968018}, {'label': 'Neutral', 'score': 0.9992819428443909}, {'label': 'Negative', 'score': 0.6698815226554871}, {'label': 'Neutral', 'score': 0.593960702419281}, {'label': 'Neutral', 'score': 0.9999065399169922}, {'label': 'Neutral', 'score': 0.6345230340957642}, {'label': 'Neutral', 'score': 0.8174201846122742}, {'label': 'Neutral', 'score': 0.9854966998100281}, {'label': 'Neutral', 'score': 0.9998301267623901}, {'label': 'Neutral', 'score': 0.9875576496124268}, {'label': 'Neutral', 'score': 0.9999158382415771}, {'label': 'Neutral', 'score': 0.9999704360961914}, {'label': 'Neutral', 'score': 0.9999945163726807}, {'label': 'Neutral', 'score': 0.9999638795852661}, {'label': 'Neutral', 'score': 0.9999793767929077}, {'label': 'Neutral', 'score': 0.9992879033088684}, {'label': 'Neutral', 'score': 0.9994663596153259}, {'label': 'Negative', 'score': 0.9761658310890198}, {'label': 'Neutral', 'score': 0.9999759197235107}, {'label': 'Neutral', 'score': 0.9995967745780945}, {'label': 'Neutral', 'score': 0.600045382976532}, {'label': 'Neutral', 'score': 0.9993786811828613}, {'label': 'Neutral', 'score': 0.9999799728393555}, {'label': 'Positive', 'score': 0.9966704249382019}, {'label': 'Neutral', 'score': 0.9986497759819031}, {'label': 'Neutral', 'score': 0.9999868869781494}, {'label': 'Neutral', 'score': 0.9872487187385559}, {'label': 'Positive', 'score': 0.9995612502098083}, {'label': 'Neutral', 'score': 0.9989097118377686}, {'label': 'Neutral', 'score': 0.9840694069862366}, {'label': 'Neutral', 'score': 0.6709080934524536}, {'label': 'Positive', 'score': 1.0}, {'label': 'Neutral', 'score': 0.9901571273803711}, {'label': 'Positive', 'score': 0.9992954730987549}, {'label': 'Neutral', 'score': 0.8764524459838867}, {'label': 'Positive', 'score': 1.0}, {'label': 'Neutral', 'score': 0.9999969005584717}, {'label': 'Neutral', 'score': 0.9160352945327759}, {'label': 'Neutral', 'score': 0.9999140501022339}, {'label': 'Neutral', 'score': 0.9999911785125732}, {'label': 'Positive', 'score': 0.7622398138046265}, {'label': 'Neutral', 'score': 0.9731853008270264}, {'label': 'Positive', 'score': 0.9999624490737915}, {'label': 'Positive', 'score': 1.0}, {'label': 'Neutral', 'score': 0.8948346972465515}, {'label': 'Neutral', 'score': 0.9999423027038574}, {'label': 'Neutral', 'score': 0.9997220635414124}, {'label': 'Neutral', 'score': 0.999996542930603}, {'label': 'Negative', 'score': 0.9929967522621155}, {'label': 'Negative', 'score': 0.9014610648155212}, {'label': 'Neutral', 'score': 0.968360185623169}, {'label': 'Neutral', 'score': 0.9999970197677612}, {'label': 'Neutral', 'score': 0.9999943971633911}, {'label': 'Neutral', 'score': 0.9999560117721558}, {'label': 'Neutral', 'score': 0.9999016523361206}, {'label': 'Neutral', 'score': 0.9988558292388916}, {'label': 'Negative', 'score': 0.8304330110549927}, {'label': 'Negative', 'score': 0.9755743741989136}, {'label': 'Neutral', 'score': 0.9999966621398926}, {'label': 'Neutral', 'score': 0.9999160766601562}, {'label': 'Neutral', 'score': 0.9999337196350098}, {'label': 'Neutral', 'score': 0.9999953508377075}, {'label': 'Neutral', 'score': 0.9997186064720154}, {'label': 'Neutral', 'score': 0.9999926090240479}, {'label': 'Neutral', 'score': 0.93989098072052}, {'label': 'Neutral', 'score': 0.9981714487075806}, {'label': 'Negative', 'score': 0.9985966086387634}, {'label': 'Neutral', 'score': 0.9999213218688965}, {'label': 'Neutral', 'score': 0.9999964237213135}, {'label': 'Neutral', 'score': 0.999992847442627}, {'label': 'Neutral', 'score': 0.9997126460075378}, {'label': 'Neutral', 'score': 0.9865627884864807}, {'label': 'Neutral', 'score': 0.9998345375061035}, {'label': 'Positive', 'score': 1.0}, {'label': 'Neutral', 'score': 0.9990260601043701}, {'label': 'Neutral', 'score': 0.9984927177429199}, {'label': 'Positive', 'score': 0.9999997615814209}, {'label': 'Neutral', 'score': 0.9999994039535522}, {'label': 'Neutral', 'score': 0.9999046325683594}, {'label': 'Neutral', 'score': 0.8821008801460266}, {'label': 'Positive', 'score': 0.9859973192214966}, {'label': 'Neutral', 'score': 0.9277671575546265}, {'label': 'Positive', 'score': 0.9942613840103149}, {'label': 'Neutral', 'score': 0.9999856948852539}, {'label': 'Neutral', 'score': 0.9999945163726807}, {'label': 'Neutral', 'score': 0.9793961048126221}, {'label': 'Neutral', 'score': 0.9381022453308105}, {'label': 'Neutral', 'score': 0.9997546076774597}, {'label': 'Neutral', 'score': 0.9999780654907227}, {'label': 'Positive', 'score': 0.9999998807907104}, {'label': 'Negative', 'score': 0.5904142260551453}, {'label': 'Neutral', 'score': 0.9999266862869263}, {'label': 'Neutral', 'score': 0.999039351940155}, {'label': 'Neutral', 'score': 0.9716611504554749}, {'label': 'Negative', 'score': 0.9997872710227966}, {'label': 'Negative', 'score': 0.9999651908874512}, {'label': 'Positive', 'score': 0.874893069267273}, {'label': 'Neutral', 'score': 0.9999915361404419}, {'label': 'Neutral', 'score': 0.99993896484375}, {'label': 'Neutral', 'score': 0.9999841451644897}, {'label': 'Neutral', 'score': 0.9999991655349731}, {'label': 'Positive', 'score': 0.9999165534973145}, {'label': 'Positive', 'score': 0.9998276233673096}, {'label': 'Neutral', 'score': 0.9987140893936157}, {'label': 'Neutral', 'score': 0.9994109869003296}, {'label': 'Negative', 'score': 0.9984575510025024}, {'label': 'Positive', 'score': 0.999782383441925}, {'label': 'Neutral', 'score': 0.9643340706825256}, {'label': 'Positive', 'score': 0.9944076538085938}, {'label': 'Neutral', 'score': 0.9942799806594849}, {'label': 'Neutral', 'score': 0.9993398785591125}, {'label': 'Neutral', 'score': 0.9997801184654236}, {'label': 'Neutral', 'score': 0.9999539852142334}, {'label': 'Neutral', 'score': 0.9999722242355347}, {'label': 'Neutral', 'score': 0.9999896287918091}, {'label': 'Neutral', 'score': 0.9997523427009583}, {'label': 'Neutral', 'score': 0.9999982118606567}, {'label': 'Positive', 'score': 0.9999997615814209}, {'label': 'Positive', 'score': 0.9999985694885254}, {'label': 'Neutral', 'score': 0.9983691573143005}, {'label': 'Positive', 'score': 0.993313729763031}, {'label': 'Neutral', 'score': 0.9986739158630371}, {'label': 'Positive', 'score': 0.9999864101409912}, {'label': 'Positive', 'score': 0.9999982118606567}, {'label': 'Neutral', 'score': 0.9737873077392578}, {'label': 'Positive', 'score': 0.999951958656311}, {'label': 'Positive', 'score': 0.9999992847442627}, {'label': 'Neutral', 'score': 0.98997962474823}, {'label': 'Positive', 'score': 1.0}, {'label': 'Positive', 'score': 0.9997530579566956}, {'label': 'Positive', 'score': 0.9999899864196777}, {'label': 'Neutral', 'score': 0.9999145269393921}, {'label': 'Neutral', 'score': 0.9999889135360718}, {'label': 'Positive', 'score': 0.9797622561454773}, {'label': 'Positive', 'score': 0.9999998807907104}, {'label': 'Neutral', 'score': 0.8180631995201111}, {'label': 'Positive', 'score': 0.9999998807907104}, {'label': 'Positive', 'score': 0.9985175728797913}, {'label': 'Positive', 'score': 0.9999998807907104}, {'label': 'Neutral', 'score': 0.998237133026123}, {'label': 'Neutral', 'score': 0.9998193383216858}, {'label': 'Positive', 'score': 0.9999184608459473}, {'label': 'Negative', 'score': 0.9775657653808594}, {'label': 'Neutral', 'score': 0.9999828338623047}, {'label': 'Neutral', 'score': 0.9999790191650391}, {'label': 'Positive', 'score': 0.9998654127120972}, {'label': 'Neutral', 'score': 0.9999872446060181}, {'label': 'Neutral', 'score': 0.9992355108261108}, {'label': 'Neutral', 'score': 0.9999716281890869}, {'label': 'Neutral', 'score': 0.9872692823410034}, {'label': 'Neutral', 'score': 0.9989375472068787}, {'label': 'Neutral', 'score': 0.9985201954841614}, {'label': 'Positive', 'score': 0.99813312292099}, {'label': 'Negative', 'score': 0.5993222594261169}, {'label': 'Negative', 'score': 0.9999958276748657}, {'label': 'Positive', 'score': 0.9998786449432373}, {'label': 'Neutral', 'score': 0.9999127388000488}, {'label': 'Neutral', 'score': 0.9999992847442627}, {'label': 'Neutral', 'score': 0.9999563694000244}, {'label': 'Neutral', 'score': 0.8573863506317139}, {'label': 'Neutral', 'score': 0.9999631643295288}, {'label': 'Neutral', 'score': 0.8396280407905579}, {'label': 'Negative', 'score': 0.9999860525131226}, {'label': 'Negative', 'score': 0.5743072628974915}, {'label': 'Neutral', 'score': 0.6941552758216858}, {'label': 'Neutral', 'score': 0.9999861717224121}, {'label': 'Neutral', 'score': 0.9999620914459229}, {'label': 'Neutral', 'score': 0.998670220375061}, {'label': 'Positive', 'score': 0.9994413256645203}, {'label': 'Neutral', 'score': 0.99901282787323}, {'label': 'Neutral', 'score': 0.78438401222229}, {'label': 'Neutral', 'score': 0.9998633861541748}, {'label': 'Negative', 'score': 0.9860425591468811}, {'label': 'Negative', 'score': 0.9999873638153076}, {'label': 'Neutral', 'score': 0.9996034502983093}, {'label': 'Positive', 'score': 0.9147610664367676}, {'label': 'Negative', 'score': 0.9999903440475464}, {'label': 'Neutral', 'score': 0.9998894929885864}, {'label': 'Neutral', 'score': 0.9999512434005737}, {'label': 'Neutral', 'score': 0.9997144341468811}, {'label': 'Neutral', 'score': 0.9999282360076904}, {'label': 'Neutral', 'score': 0.999988317489624}, {'label': 'Neutral', 'score': 0.9878752827644348}, {'label': 'Neutral', 'score': 0.9998893737792969}, {'label': 'Neutral', 'score': 0.9298084378242493}, {'label': 'Neutral', 'score': 0.9999654293060303}, {'label': 'Neutral', 'score': 0.9969802498817444}, {'label': 'Neutral', 'score': 0.9999986886978149}, {'label': 'Neutral', 'score': 0.9999276399612427}, {'label': 'Negative', 'score': 0.9999899864196777}, {'label': 'Neutral', 'score': 0.9999933242797852}, {'label': 'Positive', 'score': 0.5333267450332642}, {'label': 'Neutral', 'score': 0.9999768733978271}, {'label': 'Neutral', 'score': 0.9932820796966553}, {'label': 'Positive', 'score': 0.9999977350234985}, {'label': 'Positive', 'score': 0.9992120265960693}, {'label': 'Neutral', 'score': 0.999966025352478}, {'label': 'Negative', 'score': 0.9999982118606567}, {'label': 'Negative', 'score': 0.9999806880950928}, {'label': 'Neutral', 'score': 0.8309803605079651}, {'label': 'Negative', 'score': 0.9999688863754272}, {'label': 'Neutral', 'score': 0.9559011459350586}, {'label': 'Neutral', 'score': 0.9999756813049316}, {'label': 'Negative', 'score': 0.999997615814209}, {'label': 'Neutral', 'score': 0.999964714050293}, {'label': 'Neutral', 'score': 0.9999958276748657}, {'label': 'Neutral', 'score': 0.9993284940719604}, {'label': 'Negative', 'score': 0.7598789930343628}, {'label': 'Neutral', 'score': 0.8010358810424805}, {'label': 'Neutral', 'score': 0.9999661445617676}, {'label': 'Positive', 'score': 0.9998766183853149}, {'label': 'Neutral', 'score': 0.9999885559082031}, {'label': 'Neutral', 'score': 0.9999152421951294}, {'label': 'Neutral', 'score': 0.9985020160675049}, {'label': 'Positive', 'score': 0.9725522994995117}, {'label': 'Neutral', 'score': 0.9992145299911499}, {'label': 'Positive', 'score': 0.9999991655349731}, {'label': 'Negative', 'score': 0.9999871253967285}, {'label': 'Negative', 'score': 0.9999586343765259}, {'label': 'Neutral', 'score': 0.9871701002120972}, {'label': 'Neutral', 'score': 0.9976361989974976}, {'label': 'Neutral', 'score': 0.9999773502349854}, {'label': 'Neutral', 'score': 0.9998315572738647}, {'label': 'Negative', 'score': 0.8338910341262817}, {'label': 'Positive', 'score': 0.905973494052887}, {'label': 'Neutral', 'score': 0.9372354745864868}, {'label': 'Neutral', 'score': 0.9841641783714294}, {'label': 'Negative', 'score': 0.9999376535415649}, {'label': 'Neutral', 'score': 0.9936689734458923}, {'label': 'Negative', 'score': 0.9998857975006104}, {'label': 'Neutral', 'score': 0.998201847076416}, {'label': 'Neutral', 'score': 0.9546679258346558}, {'label': 'Neutral', 'score': 0.9999878406524658}, {'label': 'Neutral', 'score': 0.9980880618095398}, {'label': 'Neutral', 'score': 0.9997923970222473}, {'label': 'Positive', 'score': 0.9946250319480896}, {'label': 'Negative', 'score': 0.9999812841415405}, {'label': 'Neutral', 'score': 0.9998444318771362}, {'label': 'Neutral', 'score': 0.9998148083686829}, {'label': 'Negative', 'score': 0.999974250793457}, {'label': 'Neutral', 'score': 0.9999392032623291}, {'label': 'Neutral', 'score': 0.9971056580543518}, {'label': 'Negative', 'score': 0.9998555183410645}, {'label': 'Negative', 'score': 0.9991845488548279}, {'label': 'Neutral', 'score': 0.988766610622406}, {'label': 'Neutral', 'score': 0.9983329176902771}, {'label': 'Positive', 'score': 0.9999994039535522}, {'label': 'Neutral', 'score': 0.9999058246612549}, {'label': 'Negative', 'score': 0.9943443536758423}, {'label': 'Neutral', 'score': 0.9828929305076599}, {'label': 'Negative', 'score': 0.9999676942825317}, {'label': 'Negative', 'score': 0.977777898311615}, {'label': 'Neutral', 'score': 0.8848398923873901}, {'label': 'Neutral', 'score': 0.9999866485595703}, {'label': 'Negative', 'score': 0.9999741315841675}, {'label': 'Neutral', 'score': 0.9999904632568359}, {'label': 'Negative', 'score': 0.8443642258644104}, {'label': 'Neutral', 'score': 0.9908879995346069}, {'label': 'Neutral', 'score': 0.9984045624732971}, {'label': 'Neutral', 'score': 0.99819415807724}, {'label': 'Neutral', 'score': 0.9999874830245972}, {'label': 'Neutral', 'score': 0.832426905632019}, {'label': 'Neutral', 'score': 0.9992226362228394}, {'label': 'Positive', 'score': 0.9999973773956299}, {'label': 'Negative', 'score': 0.9682756662368774}, {'label': 'Neutral', 'score': 0.998695433139801}, {'label': 'Neutral', 'score': 0.764667809009552}, {'label': 'Positive', 'score': 0.9640837907791138}, {'label': 'Neutral', 'score': 0.9810073971748352}, {'label': 'Neutral', 'score': 0.9999641180038452}, {'label': 'Neutral', 'score': 0.9838535785675049}, {'label': 'Negative', 'score': 0.9975317716598511}, {'label': 'Neutral', 'score': 0.9999629259109497}, {'label': 'Neutral', 'score': 0.9635154008865356}, {'label': 'Negative', 'score': 0.8125790953636169}, {'label': 'Neutral', 'score': 0.9999775886535645}, {'label': 'Neutral', 'score': 0.9943073391914368}, {'label': 'Neutral', 'score': 0.5192609429359436}, {'label': 'Neutral', 'score': 0.9974483251571655}, {'label': 'Positive', 'score': 0.9999967813491821}, {'label': 'Neutral', 'score': 0.9999959468841553}, {'label': 'Neutral', 'score': 0.9999721050262451}, {'label': 'Positive', 'score': 0.9998655319213867}, {'label': 'Negative', 'score': 0.9427009224891663}, {'label': 'Neutral', 'score': 0.9983534812927246}, {'label': 'Neutral', 'score': 0.9959853291511536}, {'label': 'Neutral', 'score': 0.9887288808822632}, {'label': 'Neutral', 'score': 0.8935966491699219}, {'label': 'Negative', 'score': 0.999995231628418}, {'label': 'Neutral', 'score': 0.9999767541885376}, {'label': 'Positive', 'score': 0.9999995231628418}, {'label': 'Neutral', 'score': 0.9784911870956421}, {'label': 'Neutral', 'score': 0.9978702068328857}, {'label': 'Negative', 'score': 0.9999986886978149}, {'label': 'Negative', 'score': 0.641880989074707}, {'label': 'Neutral', 'score': 0.9998495578765869}, {'label': 'Neutral', 'score': 0.9998725652694702}, {'label': 'Neutral', 'score': 0.9999785423278809}, {'label': 'Neutral', 'score': 0.6617089509963989}, {'label': 'Neutral', 'score': 0.5541012287139893}, {'label': 'Positive', 'score': 0.9734345078468323}, {'label': 'Neutral', 'score': 0.9998496770858765}, {'label': 'Neutral', 'score': 0.9940709471702576}, {'label': 'Negative', 'score': 0.9998934268951416}, {'label': 'Neutral', 'score': 0.6147695779800415}, {'label': 'Neutral', 'score': 0.9947957396507263}, {'label': 'Neutral', 'score': 0.999984622001648}, {'label': 'Negative', 'score': 0.989189624786377}, {'label': 'Negative', 'score': 0.9834110140800476}, {'label': 'Neutral', 'score': 0.9371646642684937}, {'label': 'Neutral', 'score': 0.9970099925994873}, {'label': 'Neutral', 'score': 0.9264268279075623}, {'label': 'Negative', 'score': 0.968917965888977}, {'label': 'Negative', 'score': 0.9981403350830078}, {'label': 'Positive', 'score': 0.669946551322937}, {'label': 'Neutral', 'score': 0.9999558925628662}, {'label': 'Neutral', 'score': 0.998688280582428}, {'label': 'Neutral', 'score': 0.9999505281448364}, {'label': 'Neutral', 'score': 0.9998608827590942}, {'label': 'Neutral', 'score': 0.9999932050704956}, {'label': 'Neutral', 'score': 0.9986625909805298}, {'label': 'Neutral', 'score': 0.9980036616325378}, {'label': 'Neutral', 'score': 0.998752236366272}, {'label': 'Neutral', 'score': 0.9998947381973267}, {'label': 'Neutral', 'score': 0.9996870756149292}, {'label': 'Neutral', 'score': 0.9990097284317017}, {'label': 'Neutral', 'score': 0.9994377493858337}, {'label': 'Neutral', 'score': 0.9998747110366821}, {'label': 'Neutral', 'score': 0.9805760979652405}, {'label': 'Neutral', 'score': 0.9117602109909058}, {'label': 'Negative', 'score': 0.8667261600494385}, {'label': 'Neutral', 'score': 0.7901257872581482}, {'label': 'Positive', 'score': 0.9999070167541504}, {'label': 'Neutral', 'score': 0.9806147217750549}, {'label': 'Neutral', 'score': 0.9998337030410767}, {'label': 'Neutral', 'score': 0.9999761581420898}, {'label': 'Neutral', 'score': 0.9977118968963623}, {'label': 'Positive', 'score': 0.9974644184112549}, {'label': 'Neutral', 'score': 0.9996411800384521}, {'label': 'Neutral', 'score': 0.9964184761047363}, {'label': 'Neutral', 'score': 0.9998025298118591}, {'label': 'Neutral', 'score': 0.9969741106033325}, {'label': 'Neutral', 'score': 0.999922513961792}, {'label': 'Negative', 'score': 0.9996829032897949}, {'label': 'Neutral', 'score': 0.9996229410171509}, {'label': 'Negative', 'score': 0.83350670337677}, {'label': 'Neutral', 'score': 0.9999740123748779}, {'label': 'Neutral', 'score': 0.9999916553497314}, {'label': 'Negative', 'score': 0.9527953863143921}, {'label': 'Neutral', 'score': 0.9999959468841553}, {'label': 'Neutral', 'score': 0.9994358420372009}, {'label': 'Neutral', 'score': 0.9541298151016235}, {'label': 'Neutral', 'score': 0.9999942779541016}, {'label': 'Negative', 'score': 0.9837055206298828}, {'label': 'Neutral', 'score': 0.9977580904960632}, {'label': 'Negative', 'score': 0.9753892421722412}, {'label': 'Neutral', 'score': 0.9983600974082947}, {'label': 'Negative', 'score': 0.516343355178833}, {'label': 'Neutral', 'score': 0.9994049072265625}, {'label': 'Negative', 'score': 0.9980490207672119}, {'label': 'Positive', 'score': 0.8545497059822083}, {'label': 'Neutral', 'score': 0.9999921321868896}, {'label': 'Neutral', 'score': 0.6190817952156067}, {'label': 'Neutral', 'score': 0.9999356269836426}, {'label': 'Neutral', 'score': 0.9998929500579834}, {'label': 'Neutral', 'score': 0.9999595880508423}, {'label': 'Negative', 'score': 0.5805419087409973}, {'label': 'Neutral', 'score': 0.64275723695755}, {'label': 'Neutral', 'score': 0.9519923329353333}, {'label': 'Neutral', 'score': 0.999996542930603}, {'label': 'Positive', 'score': 0.9999996423721313}, {'label': 'Neutral', 'score': 0.9998855590820312}, {'label': 'Neutral', 'score': 0.9998425245285034}, {'label': 'Negative', 'score': 0.9010364413261414}, {'label': 'Neutral', 'score': 0.9429820775985718}, {'label': 'Neutral', 'score': 0.9996122717857361}, {'label': 'Negative', 'score': 0.8388009667396545}, {'label': 'Positive', 'score': 0.9996395111083984}, {'label': 'Negative', 'score': 0.9994675517082214}, {'label': 'Neutral', 'score': 0.9998747110366821}, {'label': 'Negative', 'score': 0.9910383224487305}, {'label': 'Neutral', 'score': 0.9998742341995239}, {'label': 'Neutral', 'score': 0.9999450445175171}, {'label': 'Neutral', 'score': 0.9998220801353455}, {'label': 'Neutral', 'score': 0.9998113512992859}, {'label': 'Neutral', 'score': 0.9993698000907898}, {'label': 'Neutral', 'score': 0.9996122717857361}, {'label': 'Neutral', 'score': 0.9982006549835205}, {'label': 'Neutral', 'score': 0.9946388602256775}, {'label': 'Positive', 'score': 0.6208736896514893}, {'label': 'Neutral', 'score': 0.9948024749755859}, {'label': 'Negative', 'score': 0.5753449201583862}, {'label': 'Neutral', 'score': 0.9999159574508667}, {'label': 'Neutral', 'score': 0.9995157718658447}, {'label': 'Neutral', 'score': 0.9998332262039185}, {'label': 'Positive', 'score': 0.8687697649002075}, {'label': 'Neutral', 'score': 0.848853588104248}, {'label': 'Neutral', 'score': 0.9993056058883667}, {'label': 'Neutral', 'score': 0.9998583793640137}, {'label': 'Neutral', 'score': 0.9999901056289673}, {'label': 'Neutral', 'score': 0.9999871253967285}, {'label': 'Neutral', 'score': 0.9998288154602051}, {'label': 'Neutral', 'score': 0.9331487417221069}, {'label': 'Positive', 'score': 0.9999939203262329}, {'label': 'Positive', 'score': 0.999997615814209}, {'label': 'Negative', 'score': 0.9995589852333069}, {'label': 'Positive', 'score': 0.8685190081596375}, {'label': 'Neutral', 'score': 0.9542647004127502}, {'label': 'Neutral', 'score': 0.9388257265090942}, {'label': 'Positive', 'score': 0.8516963124275208}, {'label': 'Neutral', 'score': 0.9992145299911499}, {'label': 'Neutral', 'score': 0.9705312252044678}, {'label': 'Neutral', 'score': 0.9999890327453613}, {'label': 'Neutral', 'score': 0.9996367692947388}, {'label': 'Positive', 'score': 0.9999998807907104}, {'label': 'Neutral', 'score': 0.9994553923606873}, {'label': 'Neutral', 'score': 0.6420415639877319}, {'label': 'Neutral', 'score': 0.9999974966049194}, {'label': 'Neutral', 'score': 0.9972373247146606}, {'label': 'Neutral', 'score': 0.9999908208847046}, {'label': 'Neutral', 'score': 0.9999600648880005}, {'label': 'Neutral', 'score': 0.8569409847259521}, {'label': 'Neutral', 'score': 0.9998455047607422}, {'label': 'Positive', 'score': 0.7254384160041809}, {'label': 'Neutral', 'score': 0.9835929870605469}, {'label': 'Neutral', 'score': 0.9999645948410034}, {'label': 'Neutral', 'score': 0.9999452829360962}, {'label': 'Neutral', 'score': 0.9999842643737793}, {'label': 'Neutral', 'score': 0.9765337109565735}, {'label': 'Neutral', 'score': 0.9994640946388245}, {'label': 'Neutral', 'score': 0.9999986886978149}, {'label': 'Neutral', 'score': 0.9976031184196472}, {'label': 'Neutral', 'score': 0.9999899864196777}, {'label': 'Neutral', 'score': 0.8684988617897034}, {'label': 'Neutral', 'score': 0.9999926090240479}, {'label': 'Neutral', 'score': 0.9999933242797852}, {'label': 'Neutral', 'score': 0.9999479055404663}, {'label': 'Neutral', 'score': 0.9999247789382935}, {'label': 'Neutral', 'score': 0.9999732971191406}, {'label': 'Positive', 'score': 0.9999854564666748}, {'label': 'Neutral', 'score': 0.999987006187439}, {'label': 'Neutral', 'score': 0.9991342425346375}, {'label': 'Neutral', 'score': 0.9927263259887695}, {'label': 'Neutral', 'score': 0.9849607348442078}, {'label': 'Neutral', 'score': 0.9420667290687561}, {'label': 'Neutral', 'score': 0.9926424622535706}, {'label': 'Neutral', 'score': 0.9999904632568359}, {'label': 'Neutral', 'score': 0.7117713093757629}, {'label': 'Negative', 'score': 0.9985595345497131}, {'label': 'Neutral', 'score': 0.9975705742835999}, {'label': 'Neutral', 'score': 0.9999884366989136}, {'label': 'Neutral', 'score': 0.9998618364334106}, {'label': 'Neutral', 'score': 0.9987843632698059}, {'label': 'Neutral', 'score': 0.9979957342147827}, {'label': 'Neutral', 'score': 0.9999661445617676}, {'label': 'Positive', 'score': 0.5624279379844666}, {'label': 'Neutral', 'score': 0.5910055637359619}, {'label': 'Neutral', 'score': 0.9936863780021667}, {'label': 'Neutral', 'score': 0.9996252059936523}, {'label': 'Neutral', 'score': 0.8997326493263245}, {'label': 'Positive', 'score': 0.8902390003204346}, {'label': 'Negative', 'score': 0.9735914468765259}, {'label': 'Neutral', 'score': 0.8747126460075378}, {'label': 'Neutral', 'score': 0.9998486042022705}, {'label': 'Neutral', 'score': 0.9999257326126099}, {'label': 'Neutral', 'score': 0.9997801184654236}, {'label': 'Negative', 'score': 0.5623710751533508}, {'label': 'Positive', 'score': 0.9995912909507751}, {'label': 'Negative', 'score': 0.7909441590309143}, {'label': 'Neutral', 'score': 0.9998716115951538}, {'label': 'Negative', 'score': 0.9436233639717102}, {'label': 'Neutral', 'score': 0.9919537901878357}, {'label': 'Negative', 'score': 0.7825839519500732}, {'label': 'Neutral', 'score': 0.9984185695648193}, {'label': 'Negative', 'score': 0.8792172074317932}, {'label': 'Neutral', 'score': 0.9418972730636597}, {'label': 'Neutral', 'score': 0.9997894167900085}, {'label': 'Negative', 'score': 0.9862577319145203}, {'label': 'Neutral', 'score': 0.9996121525764465}, {'label': 'Negative', 'score': 0.9999803304672241}, {'label': 'Neutral', 'score': 0.9995356798171997}, {'label': 'Neutral', 'score': 0.9990781545639038}, {'label': 'Neutral', 'score': 0.9991017580032349}, {'label': 'Neutral', 'score': 0.999935507774353}, {'label': 'Neutral', 'score': 0.9999985694885254}, {'label': 'Neutral', 'score': 0.9972583055496216}, {'label': 'Neutral', 'score': 0.9998852014541626}, {'label': 'Neutral', 'score': 0.9915801882743835}, {'label': 'Positive', 'score': 0.7636978626251221}, {'label': 'Neutral', 'score': 0.8415405750274658}, {'label': 'Neutral', 'score': 0.9776405692100525}, {'label': 'Neutral', 'score': 0.9999464750289917}, {'label': 'Neutral', 'score': 0.9999173879623413}, {'label': 'Neutral', 'score': 0.9996699094772339}, {'label': 'Neutral', 'score': 0.6315181851387024}, {'label': 'Neutral', 'score': 0.9996005892753601}, {'label': 'Neutral', 'score': 0.9996160268783569}, {'label': 'Neutral', 'score': 0.9968478083610535}, {'label': 'Positive', 'score': 0.9699760675430298}, {'label': 'Neutral', 'score': 0.9985862970352173}, {'label': 'Neutral', 'score': 0.9998461008071899}, {'label': 'Negative', 'score': 0.8884624242782593}, {'label': 'Positive', 'score': 0.9361809492111206}, {'label': 'Neutral', 'score': 0.9999293088912964}, {'label': 'Negative', 'score': 0.9265480041503906}, {'label': 'Neutral', 'score': 0.9998904466629028}, {'label': 'Neutral', 'score': 0.999238133430481}, {'label': 'Neutral', 'score': 0.9999399185180664}, {'label': 'Neutral', 'score': 0.9998574256896973}, {'label': 'Neutral', 'score': 0.9999555349349976}, {'label': 'Neutral', 'score': 0.9999890327453613}, {'label': 'Neutral', 'score': 0.9959563612937927}, {'label': 'Neutral', 'score': 0.9999319314956665}, {'label': 'Positive', 'score': 0.842084527015686}, {'label': 'Neutral', 'score': 0.9989176988601685}, {'label': 'Negative', 'score': 0.6713520884513855}, {'label': 'Neutral', 'score': 0.7031362652778625}, {'label': 'Neutral', 'score': 0.9988653659820557}, {'label': 'Neutral', 'score': 0.9999687671661377}, {'label': 'Neutral', 'score': 0.999990701675415}, {'label': 'Neutral', 'score': 0.9992114305496216}, {'label': 'Neutral', 'score': 0.9145936369895935}, {'label': 'Neutral', 'score': 0.9999632835388184}, {'label': 'Neutral', 'score': 0.9999760389328003}, {'label': 'Positive', 'score': 0.9999939203262329}, {'label': 'Neutral', 'score': 0.9999501705169678}, {'label': 'Positive', 'score': 0.9840653538703918}, {'label': 'Positive', 'score': 0.9999951124191284}, {'label': 'Neutral', 'score': 0.9923264980316162}, {'label': 'Neutral', 'score': 0.9997238516807556}, {'label': 'Neutral', 'score': 0.9995471835136414}, {'label': 'Negative', 'score': 0.9071052074432373}, {'label': 'Negative', 'score': 0.9957402944564819}, {'label': 'Neutral', 'score': 0.9999264478683472}, {'label': 'Neutral', 'score': 0.9834681749343872}, {'label': 'Negative', 'score': 0.9805280566215515}, {'label': 'Neutral', 'score': 0.9239838123321533}, {'label': 'Neutral', 'score': 0.9969812035560608}, {'label': 'Neutral', 'score': 0.9998229146003723}, {'label': 'Positive', 'score': 0.7756744623184204}, {'label': 'Neutral', 'score': 0.9999735355377197}, {'label': 'Neutral', 'score': 0.7213033437728882}, {'label': 'Neutral', 'score': 0.7527768611907959}, {'label': 'Neutral', 'score': 0.9962561130523682}, {'label': 'Negative', 'score': 0.7721807956695557}, {'label': 'Neutral', 'score': 0.9799269437789917}, {'label': 'Neutral', 'score': 0.9973989725112915}, {'label': 'Neutral', 'score': 0.8709508776664734}, {'label': 'Positive', 'score': 0.9999113082885742}, {'label': 'Positive', 'score': 0.9935498833656311}, {'label': 'Positive', 'score': 0.8947702646255493}, {'label': 'Neutral', 'score': 0.9999823570251465}, {'label': 'Neutral', 'score': 0.99982750415802}, {'label': 'Neutral', 'score': 0.9999808073043823}, {'label': 'Neutral', 'score': 0.9987001419067383}, {'label': 'Neutral', 'score': 0.9544729590415955}, {'label': 'Neutral', 'score': 0.9999504089355469}, {'label': 'Neutral', 'score': 0.996782660484314}, {'label': 'Neutral', 'score': 0.9993934631347656}, {'label': 'Neutral', 'score': 0.9984416365623474}, {'label': 'Negative', 'score': 0.9996194839477539}, {'label': 'Neutral', 'score': 0.9927719235420227}, {'label': 'Neutral', 'score': 0.9999854564666748}, {'label': 'Neutral', 'score': 0.9792101979255676}, {'label': 'Neutral', 'score': 0.9999414682388306}, {'label': 'Neutral', 'score': 0.996545135974884}, {'label': 'Neutral', 'score': 0.9999617338180542}, {'label': 'Neutral', 'score': 0.9942653775215149}, {'label': 'Neutral', 'score': 0.999970555305481}, {'label': 'Positive', 'score': 0.9935086965560913}, {'label': 'Neutral', 'score': 0.999997615814209}, {'label': 'Positive', 'score': 0.9998538494110107}, {'label': 'Neutral', 'score': 0.9936566948890686}, {'label': 'Neutral', 'score': 0.720301628112793}, {'label': 'Neutral', 'score': 0.9924341440200806}, {'label': 'Neutral', 'score': 0.9997513890266418}, {'label': 'Neutral', 'score': 0.9936966300010681}, {'label': 'Neutral', 'score': 0.9967817068099976}, {'label': 'Neutral', 'score': 0.77475506067276}, {'label': 'Negative', 'score': 0.9824607968330383}, {'label': 'Neutral', 'score': 0.9995359182357788}, {'label': 'Neutral', 'score': 0.9996987581253052}, {'label': 'Neutral', 'score': 0.9959434866905212}, {'label': 'Positive', 'score': 0.8817204236984253}, {'label': 'Neutral', 'score': 0.9996483325958252}, {'label': 'Neutral', 'score': 0.9999023675918579}, {'label': 'Positive', 'score': 0.9821297526359558}, {'label': 'Neutral', 'score': 0.9998737573623657}, {'label': 'Negative', 'score': 0.9729846119880676}, {'label': 'Neutral', 'score': 0.9998119473457336}, {'label': 'Neutral', 'score': 0.99991774559021}, {'label': 'Negative', 'score': 0.9999369382858276}, {'label': 'Neutral', 'score': 0.9998444318771362}, {'label': 'Negative', 'score': 0.8635914921760559}, {'label': 'Neutral', 'score': 0.999915599822998}, {'label': 'Neutral', 'score': 0.9999964237213135}, {'label': 'Neutral', 'score': 0.9999624490737915}, {'label': 'Neutral', 'score': 0.9998418092727661}, {'label': 'Neutral', 'score': 0.9940425753593445}, {'label': 'Positive', 'score': 0.9278398156166077}, {'label': 'Neutral', 'score': 0.9997468590736389}, {'label': 'Positive', 'score': 0.9999964237213135}, {'label': 'Neutral', 'score': 0.9904526472091675}, {'label': 'Neutral', 'score': 0.9977790713310242}, {'label': 'Neutral', 'score': 0.7643052935600281}, {'label': 'Negative', 'score': 0.9975723624229431}, {'label': 'Positive', 'score': 0.9999544620513916}, {'label': 'Neutral', 'score': 0.9995365142822266}, {'label': 'Positive', 'score': 0.9648882150650024}, {'label': 'Neutral', 'score': 0.9999074935913086}, {'label': 'Neutral', 'score': 0.8564314246177673}, {'label': 'Neutral', 'score': 0.9113779664039612}, {'label': 'Neutral', 'score': 0.9999845027923584}, {'label': 'Positive', 'score': 0.9999938011169434}, {'label': 'Neutral', 'score': 0.9992334842681885}, {'label': 'Neutral', 'score': 0.9997323155403137}, {'label': 'Neutral', 'score': 0.9998862743377686}, {'label': 'Neutral', 'score': 0.9999744892120361}, {'label': 'Positive', 'score': 0.6115607619285583}, {'label': 'Neutral', 'score': 0.9999154806137085}, {'label': 'Positive', 'score': 0.9989364743232727}, {'label': 'Neutral', 'score': 0.9994495511054993}, {'label': 'Positive', 'score': 0.6526626944541931}, {'label': 'Neutral', 'score': 0.9999994039535522}, {'label': 'Positive', 'score': 0.9999996423721313}, {'label': 'Neutral', 'score': 0.9999922513961792}, {'label': 'Neutral', 'score': 0.9330443739891052}, {'label': 'Positive', 'score': 0.9660179615020752}, {'label': 'Positive', 'score': 0.999131977558136}, {'label': 'Negative', 'score': 0.9077710509300232}, {'label': 'Neutral', 'score': 0.9467192888259888}, {'label': 'Neutral', 'score': 0.9855718612670898}, {'label': 'Neutral', 'score': 0.5269877314567566}, {'label': 'Negative', 'score': 0.999872088432312}, {'label': 'Negative', 'score': 0.9999967813491821}, {'label': 'Negative', 'score': 0.9999972581863403}, {'label': 'Neutral', 'score': 0.9964639544487}, {'label': 'Neutral', 'score': 0.9734881520271301}, {'label': 'Neutral', 'score': 0.9998959302902222}, {'label': 'Negative', 'score': 0.999822199344635}, {'label': 'Neutral', 'score': 0.582595705986023}, {'label': 'Negative', 'score': 0.8958842754364014}, {'label': 'Neutral', 'score': 0.9973345994949341}, {'label': 'Neutral', 'score': 0.9514786601066589}, {'label': 'Positive', 'score': 0.9999990463256836}, {'label': 'Negative', 'score': 0.9709088802337646}, {'label': 'Neutral', 'score': 0.6680924892425537}, {'label': 'Neutral', 'score': 0.9998175501823425}, {'label': 'Neutral', 'score': 0.9938144683837891}, {'label': 'Negative', 'score': 0.8317280411720276}, {'label': 'Neutral', 'score': 0.9999779462814331}, {'label': 'Neutral', 'score': 0.9095655083656311}, {'label': 'Neutral', 'score': 0.9914194345474243}, {'label': 'Negative', 'score': 0.9999158382415771}, {'label': 'Neutral', 'score': 0.9941549897193909}, {'label': 'Neutral', 'score': 0.9999125003814697}, {'label': 'Negative', 'score': 0.5506463050842285}, {'label': 'Neutral', 'score': 0.999954104423523}, {'label': 'Negative', 'score': 0.9999990463256836}, {'label': 'Neutral', 'score': 0.9998871088027954}, {'label': 'Neutral', 'score': 0.9910705089569092}, {'label': 'Neutral', 'score': 0.9997252821922302}, {'label': 'Neutral', 'score': 0.999230146408081}, {'label': 'Neutral', 'score': 0.9999512434005737}, {'label': 'Negative', 'score': 0.9999977350234985}, {'label': 'Neutral', 'score': 0.999288022518158}, {'label': 'Neutral', 'score': 0.9998482465744019}, {'label': 'Negative', 'score': 0.9803224205970764}, {'label': 'Negative', 'score': 0.5257753729820251}, {'label': 'Neutral', 'score': 0.9994698166847229}, {'label': 'Neutral', 'score': 0.9999690055847168}, {'label': 'Neutral', 'score': 0.999990701675415}, {'label': 'Neutral', 'score': 0.9587765336036682}, {'label': 'Positive', 'score': 1.0}, {'label': 'Negative', 'score': 0.8848298192024231}, {'label': 'Neutral', 'score': 0.959162712097168}, {'label': 'Neutral', 'score': 0.9944019913673401}, {'label': 'Positive', 'score': 0.9740840196609497}, {'label': 'Neutral', 'score': 0.9472360610961914}, {'label': 'Positive', 'score': 0.9999992847442627}, {'label': 'Neutral', 'score': 0.9986369013786316}, {'label': 'Neutral', 'score': 0.9989995360374451}, {'label': 'Neutral', 'score': 0.69472736120224}, {'label': 'Neutral', 'score': 0.9997524619102478}, {'label': 'Negative', 'score': 0.999997615814209}, {'label': 'Neutral', 'score': 0.9999072551727295}, {'label': 'Positive', 'score': 0.9980168342590332}, {'label': 'Positive', 'score': 0.9999997615814209}, {'label': 'Neutral', 'score': 0.9999548196792603}, {'label': 'Neutral', 'score': 0.9997908473014832}, {'label': 'Neutral', 'score': 0.9999945163726807}, {'label': 'Neutral', 'score': 0.8504358530044556}, {'label': 'Neutral', 'score': 0.9993752837181091}, {'label': 'Neutral', 'score': 0.9980379939079285}, {'label': 'Neutral', 'score': 0.9944778680801392}, {'label': 'Neutral', 'score': 0.9999405145645142}, {'label': 'Neutral', 'score': 0.9349055290222168}, {'label': 'Neutral', 'score': 0.9999921321868896}, {'label': 'Neutral', 'score': 0.9998261332511902}, {'label': 'Positive', 'score': 0.9999994039535522}, {'label': 'Negative', 'score': 0.9772570133209229}, {'label': 'Negative', 'score': 0.9999916553497314}, {'label': 'Negative', 'score': 0.9998548030853271}, {'label': 'Neutral', 'score': 0.9999721050262451}, {'label': 'Positive', 'score': 0.9699298739433289}, {'label': 'Neutral', 'score': 0.9999967813491821}, {'label': 'Neutral', 'score': 0.9999396800994873}, {'label': 'Neutral', 'score': 0.9998836517333984}, {'label': 'Neutral', 'score': 0.9943071007728577}, {'label': 'Neutral', 'score': 0.9995183944702148}, {'label': 'Positive', 'score': 0.9998383522033691}, {'label': 'Positive', 'score': 0.9996063113212585}, {'label': 'Positive', 'score': 0.9886168837547302}, {'label': 'Neutral', 'score': 0.9999133348464966}, {'label': 'Neutral', 'score': 0.925715982913971}, {'label': 'Negative', 'score': 0.9999350309371948}, {'label': 'Neutral', 'score': 0.957564651966095}, {'label': 'Neutral', 'score': 0.9961865544319153}, {'label': 'Neutral', 'score': 0.9999446868896484}, {'label': 'Neutral', 'score': 0.9994539618492126}, {'label': 'Neutral', 'score': 0.9995961785316467}, {'label': 'Neutral', 'score': 0.9000228643417358}, {'label': 'Negative', 'score': 0.8074394464492798}, {'label': 'Neutral', 'score': 0.9999697208404541}, {'label': 'Neutral', 'score': 0.9999951124191284}, {'label': 'Negative', 'score': 0.522828996181488}, {'label': 'Neutral', 'score': 0.9527129530906677}, {'label': 'Neutral', 'score': 0.9983794689178467}, {'label': 'Positive', 'score': 0.6219910979270935}, {'label': 'Neutral', 'score': 0.9999431371688843}, {'label': 'Negative', 'score': 0.7257192730903625}, {'label': 'Neutral', 'score': 0.9234090447425842}, {'label': 'Neutral', 'score': 0.9311705231666565}, {'label': 'Neutral', 'score': 0.9628115296363831}, {'label': 'Positive', 'score': 0.9917707443237305}, {'label': 'Positive', 'score': 0.9814864993095398}, {'label': 'Neutral', 'score': 0.9990153312683105}, {'label': 'Neutral', 'score': 0.9972763657569885}, {'label': 'Neutral', 'score': 0.9945915341377258}, {'label': 'Neutral', 'score': 0.9989874958992004}, {'label': 'Neutral', 'score': 0.8785582780838013}, {'label': 'Neutral', 'score': 0.9984050393104553}, {'label': 'Negative', 'score': 0.9998356103897095}, {'label': 'Neutral', 'score': 0.9998277425765991}, {'label': 'Neutral', 'score': 0.9999873638153076}, {'label': 'Negative', 'score': 0.7609447240829468}, {'label': 'Neutral', 'score': 0.9958189129829407}, {'label': 'Negative', 'score': 0.7617138028144836}, {'label': 'Negative', 'score': 0.9999958276748657}, {'label': 'Negative', 'score': 0.99972003698349}, {'label': 'Positive', 'score': 0.9999825954437256}, {'label': 'Positive', 'score': 0.9963865280151367}, {'label': 'Neutral', 'score': 0.9825747609138489}, {'label': 'Neutral', 'score': 0.9999903440475464}, {'label': 'Neutral', 'score': 0.9839251041412354}, {'label': 'Neutral', 'score': 0.9999879598617554}, {'label': 'Neutral', 'score': 0.9998372793197632}, {'label': 'Neutral', 'score': 0.9994567036628723}, {'label': 'Positive', 'score': 0.9999996423721313}, {'label': 'Negative', 'score': 0.8046830296516418}, {'label': 'Positive', 'score': 0.5084644556045532}, {'label': 'Positive', 'score': 0.9999955892562866}, {'label': 'Neutral', 'score': 0.9983513355255127}, {'label': 'Neutral', 'score': 0.9548895359039307}, {'label': 'Neutral', 'score': 0.9999537467956543}, {'label': 'Positive', 'score': 0.999997615814209}, {'label': 'Neutral', 'score': 0.9999842643737793}, {'label': 'Neutral', 'score': 0.9995995163917542}, {'label': 'Neutral', 'score': 0.9891396164894104}, {'label': 'Neutral', 'score': 0.9651704430580139}, {'label': 'Positive', 'score': 0.753583550453186}, {'label': 'Neutral', 'score': 0.9991148114204407}, {'label': 'Neutral', 'score': 0.998995840549469}, {'label': 'Negative', 'score': 0.9999281167984009}, {'label': 'Neutral', 'score': 0.9996165037155151}, {'label': 'Positive', 'score': 0.9996949434280396}, {'label': 'Neutral', 'score': 0.9999734163284302}, {'label': 'Neutral', 'score': 0.9999487400054932}, {'label': 'Neutral', 'score': 0.9999889135360718}, {'label': 'Neutral', 'score': 0.9995613694190979}, {'label': 'Neutral', 'score': 0.999954104423523}, {'label': 'Neutral', 'score': 0.9997155070304871}, {'label': 'Negative', 'score': 0.993224561214447}, {'label': 'Neutral', 'score': 0.9924773573875427}, {'label': 'Neutral', 'score': 0.9995309114456177}, {'label': 'Neutral', 'score': 0.8149179220199585}, {'label': 'Neutral', 'score': 0.8656660914421082}, {'label': 'Neutral', 'score': 0.999944806098938}, {'label': 'Positive', 'score': 0.9999951124191284}, {'label': 'Neutral', 'score': 0.9976218342781067}, {'label': 'Positive', 'score': 1.0}, {'label': 'Neutral', 'score': 0.9943384528160095}, {'label': 'Neutral', 'score': 0.9999709129333496}, {'label': 'Neutral', 'score': 0.9993033409118652}, {'label': 'Neutral', 'score': 0.9979244470596313}, {'label': 'Neutral', 'score': 0.9993128776550293}, {'label': 'Neutral', 'score': 0.9172633290290833}, {'label': 'Neutral', 'score': 0.9791461825370789}, {'label': 'Negative', 'score': 0.7540556192398071}, {'label': 'Neutral', 'score': 0.8949372172355652}, {'label': 'Neutral', 'score': 0.9996856451034546}, {'label': 'Neutral', 'score': 0.9970111846923828}, {'label': 'Negative', 'score': 0.5964770317077637}, {'label': 'Negative', 'score': 0.9710908532142639}, {'label': 'Positive', 'score': 0.9840025305747986}, {'label': 'Positive', 'score': 0.9999996423721313}, {'label': 'Positive', 'score': 0.9973369240760803}, {'label': 'Negative', 'score': 0.9995139837265015}, {'label': 'Neutral', 'score': 0.9999463558197021}, {'label': 'Neutral', 'score': 0.9997933506965637}, {'label': 'Neutral', 'score': 0.9890257716178894}, {'label': 'Neutral', 'score': 0.9998412132263184}, {'label': 'Neutral', 'score': 0.9999043941497803}, {'label': 'Positive', 'score': 0.9822713136672974}, {'label': 'Neutral', 'score': 0.9999834299087524}, {'label': 'Neutral', 'score': 0.9986836314201355}, {'label': 'Neutral', 'score': 0.9999898672103882}, {'label': 'Positive', 'score': 0.9681543111801147}, {'label': 'Positive', 'score': 0.6535459160804749}, {'label': 'Positive', 'score': 0.9996321201324463}, {'label': 'Positive', 'score': 0.9882086515426636}, {'label': 'Neutral', 'score': 0.9995743632316589}, {'label': 'Neutral', 'score': 0.9999681711196899}, {'label': 'Positive', 'score': 0.9999864101409912}, {'label': 'Neutral', 'score': 0.8020757436752319}, {'label': 'Positive', 'score': 0.9999994039535522}, {'label': 'Neutral', 'score': 0.9999074935913086}, {'label': 'Negative', 'score': 0.999292254447937}, {'label': 'Neutral', 'score': 0.9999265670776367}, {'label': 'Neutral', 'score': 0.9989874958992004}, {'label': 'Neutral', 'score': 0.9679213166236877}, {'label': 'Neutral', 'score': 0.9998393058776855}, {'label': 'Positive', 'score': 0.9997575879096985}, {'label': 'Neutral', 'score': 0.9853947162628174}, {'label': 'Positive', 'score': 0.9999932050704956}, {'label': 'Positive', 'score': 0.9999948740005493}, {'label': 'Neutral', 'score': 0.9825436472892761}, {'label': 'Neutral', 'score': 0.9995629191398621}, {'label': 'Positive', 'score': 0.7546585202217102}, {'label': 'Neutral', 'score': 0.9998212456703186}, {'label': 'Neutral', 'score': 0.9999055862426758}, {'label': 'Positive', 'score': 0.9999994039535522}, {'label': 'Positive', 'score': 0.9999974966049194}, {'label': 'Neutral', 'score': 0.9994938373565674}, {'label': 'Neutral', 'score': 0.9998007416725159}, {'label': 'Neutral', 'score': 0.9997079968452454}, {'label': 'Positive', 'score': 0.999861478805542}, {'label': 'Positive', 'score': 0.99886155128479}, {'label': 'Positive', 'score': 0.9999572038650513}, {'label': 'Positive', 'score': 0.9999997615814209}, {'label': 'Neutral', 'score': 0.99601149559021}, {'label': 'Neutral', 'score': 0.999981164932251}, {'label': 'Negative', 'score': 0.4707968831062317}, {'label': 'Negative', 'score': 0.998991072177887}, {'label': 'Neutral', 'score': 0.9934207797050476}, {'label': 'Neutral', 'score': 0.9993116855621338}, {'label': 'Neutral', 'score': 0.999828577041626}, {'label': 'Negative', 'score': 0.9995569586753845}, {'label': 'Neutral', 'score': 0.999954342842102}, {'label': 'Negative', 'score': 0.9176374077796936}, {'label': 'Neutral', 'score': 0.9975312948226929}, {'label': 'Neutral', 'score': 0.7681083679199219}, {'label': 'Negative', 'score': 0.8202545046806335}, {'label': 'Negative', 'score': 0.9999973773956299}, {'label': 'Negative', 'score': 0.7131553292274475}, {'label': 'Neutral', 'score': 0.9998369216918945}, {'label': 'Neutral', 'score': 0.9970129728317261}, {'label': 'Negative', 'score': 0.6326784491539001}, {'label': 'Neutral', 'score': 0.9998688697814941}, {'label': 'Neutral', 'score': 0.7943318486213684}, {'label': 'Neutral', 'score': 0.9998949766159058}, {'label': 'Neutral', 'score': 0.9980376362800598}, {'label': 'Neutral', 'score': 0.9999620914459229}, {'label': 'Neutral', 'score': 0.8505521416664124}, {'label': 'Positive', 'score': 0.9998249411582947}, {'label': 'Neutral', 'score': 0.9988172054290771}, {'label': 'Positive', 'score': 0.9999995231628418}, {'label': 'Positive', 'score': 0.8309012055397034}, {'label': 'Negative', 'score': 0.9908507466316223}, {'label': 'Positive', 'score': 0.996147871017456}, {'label': 'Positive', 'score': 0.9998666048049927}, {'label': 'Positive', 'score': 0.9998536109924316}, {'label': 'Negative', 'score': 0.9833073616027832}, {'label': 'Neutral', 'score': 0.9505511522293091}, {'label': 'Negative', 'score': 0.5196881294250488}, {'label': 'Negative', 'score': 0.8175247311592102}, {'label': 'Neutral', 'score': 0.9584997892379761}, {'label': 'Neutral', 'score': 0.9998698234558105}, {'label': 'Neutral', 'score': 0.9999580383300781}, {'label': 'Neutral', 'score': 0.9633542895317078}, {'label': 'Neutral', 'score': 0.999955415725708}, {'label': 'Negative', 'score': 0.8119064569473267}, {'label': 'Neutral', 'score': 0.984279215335846}, {'label': 'Neutral', 'score': 0.9985904097557068}, {'label': 'Neutral', 'score': 0.9997368454933167}, {'label': 'Neutral', 'score': 0.9997500777244568}, {'label': 'Neutral', 'score': 0.8941317200660706}, {'label': 'Neutral', 'score': 0.9995055198669434}, {'label': 'Negative', 'score': 0.9998840093612671}, {'label': 'Positive', 'score': 0.9995904564857483}, {'label': 'Positive', 'score': 0.9999831914901733}, {'label': 'Positive', 'score': 0.9999998807907104}, {'label': 'Positive', 'score': 0.9648646712303162}, {'label': 'Neutral', 'score': 0.9896843433380127}, {'label': 'Neutral', 'score': 0.999925971031189}, {'label': 'Neutral', 'score': 0.9997381567955017}, {'label': 'Neutral', 'score': 0.9994122982025146}, {'label': 'Positive', 'score': 0.6206311583518982}, {'label': 'Neutral', 'score': 0.9971444010734558}, {'label': 'Neutral', 'score': 0.9999769926071167}, {'label': 'Neutral', 'score': 0.9999638795852661}, {'label': 'Positive', 'score': 0.9999983310699463}, {'label': 'Neutral', 'score': 0.99542635679245}, {'label': 'Negative', 'score': 0.5615716576576233}, {'label': 'Neutral', 'score': 0.9748396277427673}, {'label': 'Negative', 'score': 0.8703525066375732}, {'label': 'Negative', 'score': 0.9908457398414612}, {'label': 'Neutral', 'score': 0.9999663829803467}, {'label': 'Positive', 'score': 0.9989425539970398}, {'label': 'Negative', 'score': 0.999997615814209}, {'label': 'Neutral', 'score': 0.8726443648338318}, {'label': 'Neutral', 'score': 0.9999905824661255}, {'label': 'Neutral', 'score': 0.9991018772125244}, {'label': 'Neutral', 'score': 0.9998045563697815}, {'label': 'Neutral', 'score': 0.9999902248382568}, {'label': 'Positive', 'score': 0.9808278679847717}, {'label': 'Neutral', 'score': 0.9999253749847412}, {'label': 'Neutral', 'score': 0.9998694658279419}, {'label': 'Neutral', 'score': 0.9999934434890747}, {'label': 'Neutral', 'score': 0.9593400955200195}, {'label': 'Negative', 'score': 0.9998644590377808}, {'label': 'Neutral', 'score': 0.991454005241394}, {'label': 'Neutral', 'score': 0.968041718006134}, {'label': 'Positive', 'score': 0.9337337613105774}, {'label': 'Neutral', 'score': 0.958938479423523}, {'label': 'Neutral', 'score': 0.8465672731399536}, {'label': 'Positive', 'score': 0.9999932050704956}, {'label': 'Neutral', 'score': 0.6303494572639465}, {'label': 'Neutral', 'score': 0.9999492168426514}, {'label': 'Neutral', 'score': 0.9997512698173523}, {'label': 'Neutral', 'score': 0.6329954266548157}, {'label': 'Neutral', 'score': 0.9999370574951172}, {'label': 'Negative', 'score': 0.9997560381889343}, {'label': 'Negative', 'score': 0.9860951900482178}, {'label': 'Neutral', 'score': 0.9995253086090088}, {'label': 'Neutral', 'score': 0.9999064207077026}, {'label': 'Neutral', 'score': 0.8361273407936096}, {'label': 'Negative', 'score': 0.6299771070480347}, {'label': 'Positive', 'score': 0.9439404606819153}, {'label': 'Neutral', 'score': 0.9942399263381958}, {'label': 'Neutral', 'score': 0.9832790493965149}, {'label': 'Neutral', 'score': 0.999990701675415}, {'label': 'Positive', 'score': 0.999308705329895}, {'label': 'Negative', 'score': 0.9496292471885681}, {'label': 'Neutral', 'score': 0.9995417594909668}, {'label': 'Neutral', 'score': 0.9995805621147156}, {'label': 'Negative', 'score': 0.9248681664466858}, {'label': 'Neutral', 'score': 0.7721965909004211}, {'label': 'Negative', 'score': 0.9628989100456238}, {'label': 'Negative', 'score': 0.9924120306968689}, {'label': 'Neutral', 'score': 0.9999781847000122}, {'label': 'Positive', 'score': 0.9999958276748657}, {'label': 'Negative', 'score': 0.9938714504241943}, {'label': 'Positive', 'score': 0.9881817698478699}, {'label': 'Negative', 'score': 0.9839571714401245}, {'label': 'Negative', 'score': 0.9119596481323242}, {'label': 'Neutral', 'score': 0.9988118410110474}, {'label': 'Neutral', 'score': 0.5670521259307861}, {'label': 'Neutral', 'score': 0.9991170763969421}, {'label': 'Neutral', 'score': 0.9997822642326355}, {'label': 'Neutral', 'score': 0.9942018389701843}, {'label': 'Neutral', 'score': 0.790102481842041}, {'label': 'Neutral', 'score': 0.6298001408576965}, {'label': 'Negative', 'score': 0.960090160369873}, {'label': 'Neutral', 'score': 0.9958369731903076}, {'label': 'Neutral', 'score': 0.9998736381530762}, {'label': 'Neutral', 'score': 0.7195937037467957}, {'label': 'Neutral', 'score': 0.978513240814209}, {'label': 'Negative', 'score': 0.9999589920043945}, {'label': 'Negative', 'score': 0.9279144406318665}, {'label': 'Neutral', 'score': 0.9996719360351562}, {'label': 'Neutral', 'score': 0.9999337196350098}, {'label': 'Positive', 'score': 0.9999569654464722}]\n"
          ]
        }
      ]
    },
    {
      "cell_type": "code",
      "source": [
        "labels = list(map(lambda x : 0 if x['label'] == \"Neutral\" else (1 if x['label'] == \"Positive\" else -1), results))\n",
        "df['Predicted'] = labels\n",
        "df"
      ],
      "metadata": {
        "colab": {
          "base_uri": "https://localhost:8080/",
          "height": 424
        },
        "id": "ratqYtXvoAb3",
        "outputId": "3bb4e511-f9a2-4d4b-966c-d882a9c4ac21"
      },
      "execution_count": 30,
      "outputs": [
        {
          "output_type": "execute_result",
          "data": {
            "text/plain": [
              "                                                   Text  Sentiment    Labels  \\\n",
              "0     Kickers on my watchlist XIDE TIT SOQ PNK CPW B...          1  positive   \n",
              "1     user: AAP MOVIE. 55% return for the FEA/GEED i...          1  positive   \n",
              "2     user I'd be afraid to short AMZN - they are lo...          1  positive   \n",
              "3                                     MNTA Over 12.00            1  positive   \n",
              "4                                      OI  Over 21.37            1  positive   \n",
              "...                                                 ...        ...       ...   \n",
              "5786  Industry body CII said #discoms are likely to ...         -1  negative   \n",
              "5787  #Gold prices slip below Rs 46,000 as #investor...         -1  negative   \n",
              "5788  Workers at Bajaj Auto have agreed to a 10% wag...          1  positive   \n",
              "5789  #Sharemarket LIVE: Sensex off day’s high, up 6...          1  positive   \n",
              "5790  #Sensex, #Nifty climb off day's highs, still u...          1  positive   \n",
              "\n",
              "      Predicted  \n",
              "0             0  \n",
              "1             0  \n",
              "2             0  \n",
              "3             0  \n",
              "4             0  \n",
              "...         ...  \n",
              "5786         -1  \n",
              "5787         -1  \n",
              "5788          0  \n",
              "5789          0  \n",
              "5790          1  \n",
              "\n",
              "[5791 rows x 4 columns]"
            ],
            "text/html": [
              "\n",
              "  <div id=\"df-6ecfc603-42f4-4721-ac32-b48bc4be2333\">\n",
              "    <div class=\"colab-df-container\">\n",
              "      <div>\n",
              "<style scoped>\n",
              "    .dataframe tbody tr th:only-of-type {\n",
              "        vertical-align: middle;\n",
              "    }\n",
              "\n",
              "    .dataframe tbody tr th {\n",
              "        vertical-align: top;\n",
              "    }\n",
              "\n",
              "    .dataframe thead th {\n",
              "        text-align: right;\n",
              "    }\n",
              "</style>\n",
              "<table border=\"1\" class=\"dataframe\">\n",
              "  <thead>\n",
              "    <tr style=\"text-align: right;\">\n",
              "      <th></th>\n",
              "      <th>Text</th>\n",
              "      <th>Sentiment</th>\n",
              "      <th>Labels</th>\n",
              "      <th>Predicted</th>\n",
              "    </tr>\n",
              "  </thead>\n",
              "  <tbody>\n",
              "    <tr>\n",
              "      <th>0</th>\n",
              "      <td>Kickers on my watchlist XIDE TIT SOQ PNK CPW B...</td>\n",
              "      <td>1</td>\n",
              "      <td>positive</td>\n",
              "      <td>0</td>\n",
              "    </tr>\n",
              "    <tr>\n",
              "      <th>1</th>\n",
              "      <td>user: AAP MOVIE. 55% return for the FEA/GEED i...</td>\n",
              "      <td>1</td>\n",
              "      <td>positive</td>\n",
              "      <td>0</td>\n",
              "    </tr>\n",
              "    <tr>\n",
              "      <th>2</th>\n",
              "      <td>user I'd be afraid to short AMZN - they are lo...</td>\n",
              "      <td>1</td>\n",
              "      <td>positive</td>\n",
              "      <td>0</td>\n",
              "    </tr>\n",
              "    <tr>\n",
              "      <th>3</th>\n",
              "      <td>MNTA Over 12.00</td>\n",
              "      <td>1</td>\n",
              "      <td>positive</td>\n",
              "      <td>0</td>\n",
              "    </tr>\n",
              "    <tr>\n",
              "      <th>4</th>\n",
              "      <td>OI  Over 21.37</td>\n",
              "      <td>1</td>\n",
              "      <td>positive</td>\n",
              "      <td>0</td>\n",
              "    </tr>\n",
              "    <tr>\n",
              "      <th>...</th>\n",
              "      <td>...</td>\n",
              "      <td>...</td>\n",
              "      <td>...</td>\n",
              "      <td>...</td>\n",
              "    </tr>\n",
              "    <tr>\n",
              "      <th>5786</th>\n",
              "      <td>Industry body CII said #discoms are likely to ...</td>\n",
              "      <td>-1</td>\n",
              "      <td>negative</td>\n",
              "      <td>-1</td>\n",
              "    </tr>\n",
              "    <tr>\n",
              "      <th>5787</th>\n",
              "      <td>#Gold prices slip below Rs 46,000 as #investor...</td>\n",
              "      <td>-1</td>\n",
              "      <td>negative</td>\n",
              "      <td>-1</td>\n",
              "    </tr>\n",
              "    <tr>\n",
              "      <th>5788</th>\n",
              "      <td>Workers at Bajaj Auto have agreed to a 10% wag...</td>\n",
              "      <td>1</td>\n",
              "      <td>positive</td>\n",
              "      <td>0</td>\n",
              "    </tr>\n",
              "    <tr>\n",
              "      <th>5789</th>\n",
              "      <td>#Sharemarket LIVE: Sensex off day’s high, up 6...</td>\n",
              "      <td>1</td>\n",
              "      <td>positive</td>\n",
              "      <td>0</td>\n",
              "    </tr>\n",
              "    <tr>\n",
              "      <th>5790</th>\n",
              "      <td>#Sensex, #Nifty climb off day's highs, still u...</td>\n",
              "      <td>1</td>\n",
              "      <td>positive</td>\n",
              "      <td>1</td>\n",
              "    </tr>\n",
              "  </tbody>\n",
              "</table>\n",
              "<p>5791 rows × 4 columns</p>\n",
              "</div>\n",
              "      <button class=\"colab-df-convert\" onclick=\"convertToInteractive('df-6ecfc603-42f4-4721-ac32-b48bc4be2333')\"\n",
              "              title=\"Convert this dataframe to an interactive table.\"\n",
              "              style=\"display:none;\">\n",
              "        \n",
              "  <svg xmlns=\"http://www.w3.org/2000/svg\" height=\"24px\"viewBox=\"0 0 24 24\"\n",
              "       width=\"24px\">\n",
              "    <path d=\"M0 0h24v24H0V0z\" fill=\"none\"/>\n",
              "    <path d=\"M18.56 5.44l.94 2.06.94-2.06 2.06-.94-2.06-.94-.94-2.06-.94 2.06-2.06.94zm-11 1L8.5 8.5l.94-2.06 2.06-.94-2.06-.94L8.5 2.5l-.94 2.06-2.06.94zm10 10l.94 2.06.94-2.06 2.06-.94-2.06-.94-.94-2.06-.94 2.06-2.06.94z\"/><path d=\"M17.41 7.96l-1.37-1.37c-.4-.4-.92-.59-1.43-.59-.52 0-1.04.2-1.43.59L10.3 9.45l-7.72 7.72c-.78.78-.78 2.05 0 2.83L4 21.41c.39.39.9.59 1.41.59.51 0 1.02-.2 1.41-.59l7.78-7.78 2.81-2.81c.8-.78.8-2.07 0-2.86zM5.41 20L4 18.59l7.72-7.72 1.47 1.35L5.41 20z\"/>\n",
              "  </svg>\n",
              "      </button>\n",
              "      \n",
              "  <style>\n",
              "    .colab-df-container {\n",
              "      display:flex;\n",
              "      flex-wrap:wrap;\n",
              "      gap: 12px;\n",
              "    }\n",
              "\n",
              "    .colab-df-convert {\n",
              "      background-color: #E8F0FE;\n",
              "      border: none;\n",
              "      border-radius: 50%;\n",
              "      cursor: pointer;\n",
              "      display: none;\n",
              "      fill: #1967D2;\n",
              "      height: 32px;\n",
              "      padding: 0 0 0 0;\n",
              "      width: 32px;\n",
              "    }\n",
              "\n",
              "    .colab-df-convert:hover {\n",
              "      background-color: #E2EBFA;\n",
              "      box-shadow: 0px 1px 2px rgba(60, 64, 67, 0.3), 0px 1px 3px 1px rgba(60, 64, 67, 0.15);\n",
              "      fill: #174EA6;\n",
              "    }\n",
              "\n",
              "    [theme=dark] .colab-df-convert {\n",
              "      background-color: #3B4455;\n",
              "      fill: #D2E3FC;\n",
              "    }\n",
              "\n",
              "    [theme=dark] .colab-df-convert:hover {\n",
              "      background-color: #434B5C;\n",
              "      box-shadow: 0px 1px 3px 1px rgba(0, 0, 0, 0.15);\n",
              "      filter: drop-shadow(0px 1px 2px rgba(0, 0, 0, 0.3));\n",
              "      fill: #FFFFFF;\n",
              "    }\n",
              "  </style>\n",
              "\n",
              "      <script>\n",
              "        const buttonEl =\n",
              "          document.querySelector('#df-6ecfc603-42f4-4721-ac32-b48bc4be2333 button.colab-df-convert');\n",
              "        buttonEl.style.display =\n",
              "          google.colab.kernel.accessAllowed ? 'block' : 'none';\n",
              "\n",
              "        async function convertToInteractive(key) {\n",
              "          const element = document.querySelector('#df-6ecfc603-42f4-4721-ac32-b48bc4be2333');\n",
              "          const dataTable =\n",
              "            await google.colab.kernel.invokeFunction('convertToInteractive',\n",
              "                                                     [key], {});\n",
              "          if (!dataTable) return;\n",
              "\n",
              "          const docLinkHtml = 'Like what you see? Visit the ' +\n",
              "            '<a target=\"_blank\" href=https://colab.research.google.com/notebooks/data_table.ipynb>data table notebook</a>'\n",
              "            + ' to learn more about interactive tables.';\n",
              "          element.innerHTML = '';\n",
              "          dataTable['output_type'] = 'display_data';\n",
              "          await google.colab.output.renderOutput(dataTable, element);\n",
              "          const docLink = document.createElement('div');\n",
              "          docLink.innerHTML = docLinkHtml;\n",
              "          element.appendChild(docLink);\n",
              "        }\n",
              "      </script>\n",
              "    </div>\n",
              "  </div>\n",
              "  "
            ]
          },
          "metadata": {},
          "execution_count": 30
        }
      ]
    },
    {
      "cell_type": "markdown",
      "source": [
        "# True positive rate\n",
        "$precision = \\frac{num\\ of\\ true\\ positives}{num\\ of\\ true\\ positives\\ +\\ num\\ of\\ false\\ positives}$\n",
        "\n",
        "We'll first take a look at precision - which is defined by the formula above"
      ],
      "metadata": {
        "id": "zJDBWz0SnF_g"
      }
    },
    {
      "cell_type": "code",
      "source": [
        "true_positives = df[(df['Sentiment'] == 1) & (df['Predicted'] == 1)]\n",
        "precision = true_positives.count() / df[df['Predicted'] == 1].count()\n",
        "print(precision)"
      ],
      "metadata": {
        "colab": {
          "base_uri": "https://localhost:8080/"
        },
        "id": "WjHTk7cMnDDA",
        "outputId": "bdf8c63f-0345-4826-8a4d-e556a55d5b4a"
      },
      "execution_count": 32,
      "outputs": [
        {
          "output_type": "stream",
          "name": "stdout",
          "text": [
            "Text         0.874262\n",
            "Sentiment    0.874262\n",
            "Labels       0.874262\n",
            "Predicted    0.874262\n",
            "dtype: float64\n"
          ]
        }
      ]
    },
    {
      "cell_type": "markdown",
      "source": [
        "Next, let's look at recall - which is defined by the following formula:\n",
        "\n",
        "$recall = \\frac{number\\ of\\ true\\ positives}{number\\ of\\ true\\ positives\\ +\\ number\\ of\\ false\\ negatives}$"
      ],
      "metadata": {
        "id": "Fq0887-9q30X"
      }
    },
    {
      "cell_type": "code",
      "source": [
        "false_negatives = df[(df['Sentiment'] == 1) & (df['Predicted'] != 1)]\n",
        "recall = true_positives.count() / (true_positives.count() + false_negatives.count())\n",
        "print(recall)"
      ],
      "metadata": {
        "colab": {
          "base_uri": "https://localhost:8080/"
        },
        "id": "6YpgbRUflxrF",
        "outputId": "c8014582-0c6d-406a-963e-503bc166e8cf"
      },
      "execution_count": 33,
      "outputs": [
        {
          "output_type": "stream",
          "name": "stdout",
          "text": [
            "Text         0.28114\n",
            "Sentiment    0.28114\n",
            "Labels       0.28114\n",
            "Predicted    0.28114\n",
            "dtype: float64\n"
          ]
        }
      ]
    },
    {
      "cell_type": "markdown",
      "source": [
        "# Conclusion\n",
        "\n",
        "Let's look at the overall accuracy of the model to gain some insights into its performance."
      ],
      "metadata": {
        "id": "4uEVIFKbtXhu"
      }
    },
    {
      "cell_type": "code",
      "source": [
        "accuracy = df[df['Sentiment'] == df['Predicted']].count()\n",
        "print(accuracy / df.shape[0]) "
      ],
      "metadata": {
        "colab": {
          "base_uri": "https://localhost:8080/"
        },
        "id": "QGN8X73bro04",
        "outputId": "a3229c57-fe3d-451b-9ea7-3418bd9bb0aa"
      },
      "execution_count": 36,
      "outputs": [
        {
          "output_type": "stream",
          "name": "stdout",
          "text": [
            "Text         0.25436\n",
            "Sentiment    0.25436\n",
            "Labels       0.25436\n",
            "Predicted    0.25436\n",
            "dtype: float64\n"
          ]
        }
      ]
    },
    {
      "cell_type": "code",
      "source": [
        "-"
      ],
      "metadata": {
        "id": "CBLboamGtlve"
      },
      "execution_count": null,
      "outputs": []
    }
  ]
}